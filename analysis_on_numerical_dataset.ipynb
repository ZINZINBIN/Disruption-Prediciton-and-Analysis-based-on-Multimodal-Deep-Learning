{
 "cells": [
  {
   "cell_type": "code",
   "execution_count": 1,
   "metadata": {},
   "outputs": [
    {
     "name": "stderr",
     "output_type": "stream",
     "text": [
      "/home/jinsukim/miniconda3/envs/research-env/lib/python3.9/site-packages/tqdm/auto.py:22: TqdmWarning: IProgress not found. Please update jupyter and ipywidgets. See https://ipywidgets.readthedocs.io/en/stable/user_install.html\n",
      "  from .autonotebook import tqdm as notebook_tqdm\n"
     ]
    }
   ],
   "source": [
    "import torch\n",
    "import pandas as pd\n",
    "import numpy as np\n",
    "import matplotlib.pyplot as plt\n",
    "from torch.utils.data import DataLoader"
   ]
  },
  {
   "cell_type": "code",
   "execution_count": 2,
   "metadata": {},
   "outputs": [
    {
     "data": {
      "text/html": [
       "<div>\n",
       "<style scoped>\n",
       "    .dataframe tbody tr th:only-of-type {\n",
       "        vertical-align: middle;\n",
       "    }\n",
       "\n",
       "    .dataframe tbody tr th {\n",
       "        vertical-align: top;\n",
       "    }\n",
       "\n",
       "    .dataframe thead th {\n",
       "        text-align: right;\n",
       "    }\n",
       "</style>\n",
       "<table border=\"1\" class=\"dataframe\">\n",
       "  <thead>\n",
       "    <tr style=\"text-align: right;\">\n",
       "      <th></th>\n",
       "      <th>Unnamed: 0</th>\n",
       "      <th>\\q95</th>\n",
       "      <th>time</th>\n",
       "      <th>\\ipmhd</th>\n",
       "      <th>\\kappa</th>\n",
       "      <th>\\tritop</th>\n",
       "      <th>\\tribot</th>\n",
       "      <th>\\betap</th>\n",
       "      <th>\\betan</th>\n",
       "      <th>\\li</th>\n",
       "      <th>...</th>\n",
       "      <th>\\TS_EDGE9:EDGE9_NE</th>\n",
       "      <th>\\TS_EDGE10:EDGE10_NE</th>\n",
       "      <th>\\TS_EDGE11:EDGE11_NE</th>\n",
       "      <th>\\TS_EDGE12:EDGE12_NE</th>\n",
       "      <th>\\TS_EDGE13:EDGE13_NE</th>\n",
       "      <th>\\TS_EDGE14:EDGE14_NE</th>\n",
       "      <th>\\TS_EDGE15:EDGE15_NE</th>\n",
       "      <th>\\TS_EDGE16:EDGE16_NE</th>\n",
       "      <th>\\TS_EDGE17:EDGE17_NE</th>\n",
       "      <th>shot</th>\n",
       "    </tr>\n",
       "  </thead>\n",
       "  <tbody>\n",
       "    <tr>\n",
       "      <th>0</th>\n",
       "      <td>0</td>\n",
       "      <td>9.503320</td>\n",
       "      <td>0.15</td>\n",
       "      <td>-97237.617188</td>\n",
       "      <td>1.021017</td>\n",
       "      <td>-0.001387</td>\n",
       "      <td>0.017653</td>\n",
       "      <td>-0.863323</td>\n",
       "      <td>-0.248114</td>\n",
       "      <td>14.589464</td>\n",
       "      <td>...</td>\n",
       "      <td>1.149400e+19</td>\n",
       "      <td>0.0</td>\n",
       "      <td>0.0</td>\n",
       "      <td>0.0</td>\n",
       "      <td>0.0</td>\n",
       "      <td>0.0</td>\n",
       "      <td>0.0</td>\n",
       "      <td>NaN</td>\n",
       "      <td>NaN</td>\n",
       "      <td>13074</td>\n",
       "    </tr>\n",
       "    <tr>\n",
       "      <th>1</th>\n",
       "      <td>1</td>\n",
       "      <td>9.745522</td>\n",
       "      <td>0.20</td>\n",
       "      <td>-123203.875000</td>\n",
       "      <td>1.064507</td>\n",
       "      <td>-0.023950</td>\n",
       "      <td>0.042690</td>\n",
       "      <td>-0.465635</td>\n",
       "      <td>-0.017974</td>\n",
       "      <td>12.083524</td>\n",
       "      <td>...</td>\n",
       "      <td>1.287133e+19</td>\n",
       "      <td>0.0</td>\n",
       "      <td>0.0</td>\n",
       "      <td>0.0</td>\n",
       "      <td>0.0</td>\n",
       "      <td>0.0</td>\n",
       "      <td>0.0</td>\n",
       "      <td>NaN</td>\n",
       "      <td>NaN</td>\n",
       "      <td>13074</td>\n",
       "    </tr>\n",
       "    <tr>\n",
       "      <th>2</th>\n",
       "      <td>2</td>\n",
       "      <td>9.987725</td>\n",
       "      <td>0.25</td>\n",
       "      <td>-149170.156250</td>\n",
       "      <td>1.107996</td>\n",
       "      <td>-0.046512</td>\n",
       "      <td>0.067726</td>\n",
       "      <td>-0.067947</td>\n",
       "      <td>0.212166</td>\n",
       "      <td>9.577585</td>\n",
       "      <td>...</td>\n",
       "      <td>1.389168e+19</td>\n",
       "      <td>0.0</td>\n",
       "      <td>0.0</td>\n",
       "      <td>0.0</td>\n",
       "      <td>0.0</td>\n",
       "      <td>0.0</td>\n",
       "      <td>0.0</td>\n",
       "      <td>NaN</td>\n",
       "      <td>NaN</td>\n",
       "      <td>13074</td>\n",
       "    </tr>\n",
       "    <tr>\n",
       "      <th>3</th>\n",
       "      <td>3</td>\n",
       "      <td>10.229928</td>\n",
       "      <td>0.30</td>\n",
       "      <td>-175136.406250</td>\n",
       "      <td>1.151485</td>\n",
       "      <td>-0.069075</td>\n",
       "      <td>0.092763</td>\n",
       "      <td>0.329740</td>\n",
       "      <td>0.442306</td>\n",
       "      <td>7.071646</td>\n",
       "      <td>...</td>\n",
       "      <td>1.494251e+19</td>\n",
       "      <td>0.0</td>\n",
       "      <td>0.0</td>\n",
       "      <td>0.0</td>\n",
       "      <td>0.0</td>\n",
       "      <td>0.0</td>\n",
       "      <td>0.0</td>\n",
       "      <td>NaN</td>\n",
       "      <td>NaN</td>\n",
       "      <td>13074</td>\n",
       "    </tr>\n",
       "    <tr>\n",
       "      <th>4</th>\n",
       "      <td>4</td>\n",
       "      <td>10.472131</td>\n",
       "      <td>0.35</td>\n",
       "      <td>-201102.687500</td>\n",
       "      <td>1.194974</td>\n",
       "      <td>-0.091638</td>\n",
       "      <td>0.117800</td>\n",
       "      <td>0.727428</td>\n",
       "      <td>0.672446</td>\n",
       "      <td>4.565707</td>\n",
       "      <td>...</td>\n",
       "      <td>1.766279e+19</td>\n",
       "      <td>0.0</td>\n",
       "      <td>0.0</td>\n",
       "      <td>0.0</td>\n",
       "      <td>0.0</td>\n",
       "      <td>0.0</td>\n",
       "      <td>0.0</td>\n",
       "      <td>NaN</td>\n",
       "      <td>NaN</td>\n",
       "      <td>13074</td>\n",
       "    </tr>\n",
       "  </tbody>\n",
       "</table>\n",
       "<p>5 rows × 83 columns</p>\n",
       "</div>"
      ],
      "text/plain": [
       "   Unnamed: 0       \\q95  time         \\ipmhd    \\kappa   \\tritop   \\tribot  \\\n",
       "0           0   9.503320  0.15  -97237.617188  1.021017 -0.001387  0.017653   \n",
       "1           1   9.745522  0.20 -123203.875000  1.064507 -0.023950  0.042690   \n",
       "2           2   9.987725  0.25 -149170.156250  1.107996 -0.046512  0.067726   \n",
       "3           3  10.229928  0.30 -175136.406250  1.151485 -0.069075  0.092763   \n",
       "4           4  10.472131  0.35 -201102.687500  1.194974 -0.091638  0.117800   \n",
       "\n",
       "     \\betap    \\betan        \\li  ...  \\TS_EDGE9:EDGE9_NE  \\\n",
       "0 -0.863323 -0.248114  14.589464  ...        1.149400e+19   \n",
       "1 -0.465635 -0.017974  12.083524  ...        1.287133e+19   \n",
       "2 -0.067947  0.212166   9.577585  ...        1.389168e+19   \n",
       "3  0.329740  0.442306   7.071646  ...        1.494251e+19   \n",
       "4  0.727428  0.672446   4.565707  ...        1.766279e+19   \n",
       "\n",
       "   \\TS_EDGE10:EDGE10_NE  \\TS_EDGE11:EDGE11_NE  \\TS_EDGE12:EDGE12_NE  \\\n",
       "0                   0.0                   0.0                   0.0   \n",
       "1                   0.0                   0.0                   0.0   \n",
       "2                   0.0                   0.0                   0.0   \n",
       "3                   0.0                   0.0                   0.0   \n",
       "4                   0.0                   0.0                   0.0   \n",
       "\n",
       "   \\TS_EDGE13:EDGE13_NE  \\TS_EDGE14:EDGE14_NE  \\TS_EDGE15:EDGE15_NE  \\\n",
       "0                   0.0                   0.0                   0.0   \n",
       "1                   0.0                   0.0                   0.0   \n",
       "2                   0.0                   0.0                   0.0   \n",
       "3                   0.0                   0.0                   0.0   \n",
       "4                   0.0                   0.0                   0.0   \n",
       "\n",
       "   \\TS_EDGE16:EDGE16_NE  \\TS_EDGE17:EDGE17_NE   shot  \n",
       "0                   NaN                   NaN  13074  \n",
       "1                   NaN                   NaN  13074  \n",
       "2                   NaN                   NaN  13074  \n",
       "3                   NaN                   NaN  13074  \n",
       "4                   NaN                   NaN  13074  \n",
       "\n",
       "[5 rows x 83 columns]"
      ]
     },
     "execution_count": 2,
     "metadata": {},
     "output_type": "execute_result"
    }
   ],
   "source": [
    "df = pd.read_csv(\"./dataset/KSTAR_Disruption_ts_data.csv\")\n",
    "df.head()"
   ]
  },
  {
   "cell_type": "code",
   "execution_count": 3,
   "metadata": {},
   "outputs": [],
   "source": [
    "shot_list = np.unique(df.shot.values).tolist()\n",
    "shot = shot_list[-100]\n",
    "df_shot = df[df.shot == shot]"
   ]
  },
  {
   "cell_type": "code",
   "execution_count": 4,
   "metadata": {},
   "outputs": [
    {
     "data": {
      "text/html": [
       "<div>\n",
       "<style scoped>\n",
       "    .dataframe tbody tr th:only-of-type {\n",
       "        vertical-align: middle;\n",
       "    }\n",
       "\n",
       "    .dataframe tbody tr th {\n",
       "        vertical-align: top;\n",
       "    }\n",
       "\n",
       "    .dataframe thead th {\n",
       "        text-align: right;\n",
       "    }\n",
       "</style>\n",
       "<table border=\"1\" class=\"dataframe\">\n",
       "  <thead>\n",
       "    <tr style=\"text-align: right;\">\n",
       "      <th></th>\n",
       "      <th>Unnamed: 0</th>\n",
       "      <th>\\q95</th>\n",
       "      <th>time</th>\n",
       "      <th>\\ipmhd</th>\n",
       "      <th>\\kappa</th>\n",
       "      <th>\\tritop</th>\n",
       "      <th>\\tribot</th>\n",
       "      <th>\\betap</th>\n",
       "      <th>\\betan</th>\n",
       "      <th>\\li</th>\n",
       "      <th>...</th>\n",
       "      <th>\\TS_EDGE9:EDGE9_NE</th>\n",
       "      <th>\\TS_EDGE10:EDGE10_NE</th>\n",
       "      <th>\\TS_EDGE11:EDGE11_NE</th>\n",
       "      <th>\\TS_EDGE12:EDGE12_NE</th>\n",
       "      <th>\\TS_EDGE13:EDGE13_NE</th>\n",
       "      <th>\\TS_EDGE14:EDGE14_NE</th>\n",
       "      <th>\\TS_EDGE15:EDGE15_NE</th>\n",
       "      <th>\\TS_EDGE16:EDGE16_NE</th>\n",
       "      <th>\\TS_EDGE17:EDGE17_NE</th>\n",
       "      <th>shot</th>\n",
       "    </tr>\n",
       "  </thead>\n",
       "  <tbody>\n",
       "    <tr>\n",
       "      <th>137560</th>\n",
       "      <td>2197</td>\n",
       "      <td>622.626648</td>\n",
       "      <td>0.360000</td>\n",
       "      <td>-217551.093750</td>\n",
       "      <td>1.101307</td>\n",
       "      <td>0.020508</td>\n",
       "      <td>0.020508</td>\n",
       "      <td>0.989680</td>\n",
       "      <td>0.909285</td>\n",
       "      <td>0.417497</td>\n",
       "      <td>...</td>\n",
       "      <td>6.268559e+17</td>\n",
       "      <td>4.325701e+17</td>\n",
       "      <td>0.0</td>\n",
       "      <td>0.0</td>\n",
       "      <td>2.686741e+17</td>\n",
       "      <td>NaN</td>\n",
       "      <td>NaN</td>\n",
       "      <td>NaN</td>\n",
       "      <td>NaN</td>\n",
       "      <td>21231</td>\n",
       "    </tr>\n",
       "    <tr>\n",
       "      <th>137561</th>\n",
       "      <td>2198</td>\n",
       "      <td>482.355713</td>\n",
       "      <td>0.410000</td>\n",
       "      <td>-240739.546875</td>\n",
       "      <td>1.131800</td>\n",
       "      <td>0.039247</td>\n",
       "      <td>0.039247</td>\n",
       "      <td>0.964488</td>\n",
       "      <td>0.927428</td>\n",
       "      <td>0.442281</td>\n",
       "      <td>...</td>\n",
       "      <td>3.441471e+17</td>\n",
       "      <td>2.591170e+17</td>\n",
       "      <td>0.0</td>\n",
       "      <td>0.0</td>\n",
       "      <td>1.014380e+19</td>\n",
       "      <td>NaN</td>\n",
       "      <td>NaN</td>\n",
       "      <td>NaN</td>\n",
       "      <td>NaN</td>\n",
       "      <td>21231</td>\n",
       "    </tr>\n",
       "    <tr>\n",
       "      <th>137562</th>\n",
       "      <td>2199</td>\n",
       "      <td>342.084869</td>\n",
       "      <td>0.460000</td>\n",
       "      <td>-263928.000000</td>\n",
       "      <td>1.162293</td>\n",
       "      <td>0.057985</td>\n",
       "      <td>0.057985</td>\n",
       "      <td>0.939295</td>\n",
       "      <td>0.945570</td>\n",
       "      <td>0.467065</td>\n",
       "      <td>...</td>\n",
       "      <td>1.941061e+17</td>\n",
       "      <td>4.311611e+17</td>\n",
       "      <td>0.0</td>\n",
       "      <td>0.0</td>\n",
       "      <td>1.305075e+19</td>\n",
       "      <td>NaN</td>\n",
       "      <td>NaN</td>\n",
       "      <td>NaN</td>\n",
       "      <td>NaN</td>\n",
       "      <td>21231</td>\n",
       "    </tr>\n",
       "    <tr>\n",
       "      <th>137563</th>\n",
       "      <td>2200</td>\n",
       "      <td>201.813980</td>\n",
       "      <td>0.510000</td>\n",
       "      <td>-287116.437500</td>\n",
       "      <td>1.192786</td>\n",
       "      <td>0.076724</td>\n",
       "      <td>0.076724</td>\n",
       "      <td>0.914102</td>\n",
       "      <td>0.963713</td>\n",
       "      <td>0.491848</td>\n",
       "      <td>...</td>\n",
       "      <td>4.043010e+17</td>\n",
       "      <td>1.179193e+17</td>\n",
       "      <td>0.0</td>\n",
       "      <td>0.0</td>\n",
       "      <td>1.629494e+19</td>\n",
       "      <td>NaN</td>\n",
       "      <td>NaN</td>\n",
       "      <td>NaN</td>\n",
       "      <td>NaN</td>\n",
       "      <td>21231</td>\n",
       "    </tr>\n",
       "    <tr>\n",
       "      <th>137564</th>\n",
       "      <td>2201</td>\n",
       "      <td>61.543068</td>\n",
       "      <td>0.560000</td>\n",
       "      <td>-310304.875000</td>\n",
       "      <td>1.223279</td>\n",
       "      <td>0.095463</td>\n",
       "      <td>0.095463</td>\n",
       "      <td>0.888910</td>\n",
       "      <td>0.981856</td>\n",
       "      <td>0.516632</td>\n",
       "      <td>...</td>\n",
       "      <td>1.155697e+18</td>\n",
       "      <td>6.981225e+16</td>\n",
       "      <td>0.0</td>\n",
       "      <td>0.0</td>\n",
       "      <td>1.950370e+18</td>\n",
       "      <td>NaN</td>\n",
       "      <td>NaN</td>\n",
       "      <td>NaN</td>\n",
       "      <td>NaN</td>\n",
       "      <td>21231</td>\n",
       "    </tr>\n",
       "    <tr>\n",
       "      <th>...</th>\n",
       "      <td>...</td>\n",
       "      <td>...</td>\n",
       "      <td>...</td>\n",
       "      <td>...</td>\n",
       "      <td>...</td>\n",
       "      <td>...</td>\n",
       "      <td>...</td>\n",
       "      <td>...</td>\n",
       "      <td>...</td>\n",
       "      <td>...</td>\n",
       "      <td>...</td>\n",
       "      <td>...</td>\n",
       "      <td>...</td>\n",
       "      <td>...</td>\n",
       "      <td>...</td>\n",
       "      <td>...</td>\n",
       "      <td>...</td>\n",
       "      <td>...</td>\n",
       "      <td>...</td>\n",
       "      <td>...</td>\n",
       "      <td>...</td>\n",
       "    </tr>\n",
       "    <tr>\n",
       "      <th>137712</th>\n",
       "      <td>2349</td>\n",
       "      <td>5.716003</td>\n",
       "      <td>7.959998</td>\n",
       "      <td>-483839.093750</td>\n",
       "      <td>2.039504</td>\n",
       "      <td>0.693356</td>\n",
       "      <td>0.188766</td>\n",
       "      <td>1.047032</td>\n",
       "      <td>1.052390</td>\n",
       "      <td>1.073518</td>\n",
       "      <td>...</td>\n",
       "      <td>7.143154e+17</td>\n",
       "      <td>6.174477e+17</td>\n",
       "      <td>0.0</td>\n",
       "      <td>0.0</td>\n",
       "      <td>7.846299e+17</td>\n",
       "      <td>NaN</td>\n",
       "      <td>NaN</td>\n",
       "      <td>NaN</td>\n",
       "      <td>NaN</td>\n",
       "      <td>21231</td>\n",
       "    </tr>\n",
       "    <tr>\n",
       "      <th>137713</th>\n",
       "      <td>2350</td>\n",
       "      <td>5.716003</td>\n",
       "      <td>8.009997</td>\n",
       "      <td>-483839.093750</td>\n",
       "      <td>2.039504</td>\n",
       "      <td>0.693356</td>\n",
       "      <td>0.188766</td>\n",
       "      <td>1.047032</td>\n",
       "      <td>1.052390</td>\n",
       "      <td>1.073518</td>\n",
       "      <td>...</td>\n",
       "      <td>7.143154e+17</td>\n",
       "      <td>6.174477e+17</td>\n",
       "      <td>0.0</td>\n",
       "      <td>0.0</td>\n",
       "      <td>7.846299e+17</td>\n",
       "      <td>NaN</td>\n",
       "      <td>NaN</td>\n",
       "      <td>NaN</td>\n",
       "      <td>NaN</td>\n",
       "      <td>21231</td>\n",
       "    </tr>\n",
       "    <tr>\n",
       "      <th>137714</th>\n",
       "      <td>2351</td>\n",
       "      <td>5.716003</td>\n",
       "      <td>8.059998</td>\n",
       "      <td>-483839.093750</td>\n",
       "      <td>2.039504</td>\n",
       "      <td>0.693356</td>\n",
       "      <td>0.188766</td>\n",
       "      <td>1.047032</td>\n",
       "      <td>1.052390</td>\n",
       "      <td>1.073518</td>\n",
       "      <td>...</td>\n",
       "      <td>7.143154e+17</td>\n",
       "      <td>6.174477e+17</td>\n",
       "      <td>0.0</td>\n",
       "      <td>0.0</td>\n",
       "      <td>7.846299e+17</td>\n",
       "      <td>NaN</td>\n",
       "      <td>NaN</td>\n",
       "      <td>NaN</td>\n",
       "      <td>NaN</td>\n",
       "      <td>21231</td>\n",
       "    </tr>\n",
       "    <tr>\n",
       "      <th>137715</th>\n",
       "      <td>2352</td>\n",
       "      <td>5.716003</td>\n",
       "      <td>8.109997</td>\n",
       "      <td>-483839.093750</td>\n",
       "      <td>2.039504</td>\n",
       "      <td>0.693356</td>\n",
       "      <td>0.188766</td>\n",
       "      <td>1.047032</td>\n",
       "      <td>1.052390</td>\n",
       "      <td>1.073518</td>\n",
       "      <td>...</td>\n",
       "      <td>7.143154e+17</td>\n",
       "      <td>6.174477e+17</td>\n",
       "      <td>0.0</td>\n",
       "      <td>0.0</td>\n",
       "      <td>7.846299e+17</td>\n",
       "      <td>NaN</td>\n",
       "      <td>NaN</td>\n",
       "      <td>NaN</td>\n",
       "      <td>NaN</td>\n",
       "      <td>21231</td>\n",
       "    </tr>\n",
       "    <tr>\n",
       "      <th>137716</th>\n",
       "      <td>2353</td>\n",
       "      <td>5.716003</td>\n",
       "      <td>8.159997</td>\n",
       "      <td>-483839.093750</td>\n",
       "      <td>2.039504</td>\n",
       "      <td>0.693356</td>\n",
       "      <td>0.188766</td>\n",
       "      <td>1.047032</td>\n",
       "      <td>1.052390</td>\n",
       "      <td>1.073518</td>\n",
       "      <td>...</td>\n",
       "      <td>7.143154e+17</td>\n",
       "      <td>6.174477e+17</td>\n",
       "      <td>0.0</td>\n",
       "      <td>0.0</td>\n",
       "      <td>7.846299e+17</td>\n",
       "      <td>NaN</td>\n",
       "      <td>NaN</td>\n",
       "      <td>NaN</td>\n",
       "      <td>NaN</td>\n",
       "      <td>21231</td>\n",
       "    </tr>\n",
       "  </tbody>\n",
       "</table>\n",
       "<p>157 rows × 83 columns</p>\n",
       "</div>"
      ],
      "text/plain": [
       "        Unnamed: 0        \\q95      time         \\ipmhd    \\kappa   \\tritop  \\\n",
       "137560        2197  622.626648  0.360000 -217551.093750  1.101307  0.020508   \n",
       "137561        2198  482.355713  0.410000 -240739.546875  1.131800  0.039247   \n",
       "137562        2199  342.084869  0.460000 -263928.000000  1.162293  0.057985   \n",
       "137563        2200  201.813980  0.510000 -287116.437500  1.192786  0.076724   \n",
       "137564        2201   61.543068  0.560000 -310304.875000  1.223279  0.095463   \n",
       "...            ...         ...       ...            ...       ...       ...   \n",
       "137712        2349    5.716003  7.959998 -483839.093750  2.039504  0.693356   \n",
       "137713        2350    5.716003  8.009997 -483839.093750  2.039504  0.693356   \n",
       "137714        2351    5.716003  8.059998 -483839.093750  2.039504  0.693356   \n",
       "137715        2352    5.716003  8.109997 -483839.093750  2.039504  0.693356   \n",
       "137716        2353    5.716003  8.159997 -483839.093750  2.039504  0.693356   \n",
       "\n",
       "         \\tribot    \\betap    \\betan       \\li  ...  \\TS_EDGE9:EDGE9_NE  \\\n",
       "137560  0.020508  0.989680  0.909285  0.417497  ...        6.268559e+17   \n",
       "137561  0.039247  0.964488  0.927428  0.442281  ...        3.441471e+17   \n",
       "137562  0.057985  0.939295  0.945570  0.467065  ...        1.941061e+17   \n",
       "137563  0.076724  0.914102  0.963713  0.491848  ...        4.043010e+17   \n",
       "137564  0.095463  0.888910  0.981856  0.516632  ...        1.155697e+18   \n",
       "...          ...       ...       ...       ...  ...                 ...   \n",
       "137712  0.188766  1.047032  1.052390  1.073518  ...        7.143154e+17   \n",
       "137713  0.188766  1.047032  1.052390  1.073518  ...        7.143154e+17   \n",
       "137714  0.188766  1.047032  1.052390  1.073518  ...        7.143154e+17   \n",
       "137715  0.188766  1.047032  1.052390  1.073518  ...        7.143154e+17   \n",
       "137716  0.188766  1.047032  1.052390  1.073518  ...        7.143154e+17   \n",
       "\n",
       "        \\TS_EDGE10:EDGE10_NE  \\TS_EDGE11:EDGE11_NE  \\TS_EDGE12:EDGE12_NE  \\\n",
       "137560          4.325701e+17                   0.0                   0.0   \n",
       "137561          2.591170e+17                   0.0                   0.0   \n",
       "137562          4.311611e+17                   0.0                   0.0   \n",
       "137563          1.179193e+17                   0.0                   0.0   \n",
       "137564          6.981225e+16                   0.0                   0.0   \n",
       "...                      ...                   ...                   ...   \n",
       "137712          6.174477e+17                   0.0                   0.0   \n",
       "137713          6.174477e+17                   0.0                   0.0   \n",
       "137714          6.174477e+17                   0.0                   0.0   \n",
       "137715          6.174477e+17                   0.0                   0.0   \n",
       "137716          6.174477e+17                   0.0                   0.0   \n",
       "\n",
       "        \\TS_EDGE13:EDGE13_NE  \\TS_EDGE14:EDGE14_NE  \\TS_EDGE15:EDGE15_NE  \\\n",
       "137560          2.686741e+17                   NaN                   NaN   \n",
       "137561          1.014380e+19                   NaN                   NaN   \n",
       "137562          1.305075e+19                   NaN                   NaN   \n",
       "137563          1.629494e+19                   NaN                   NaN   \n",
       "137564          1.950370e+18                   NaN                   NaN   \n",
       "...                      ...                   ...                   ...   \n",
       "137712          7.846299e+17                   NaN                   NaN   \n",
       "137713          7.846299e+17                   NaN                   NaN   \n",
       "137714          7.846299e+17                   NaN                   NaN   \n",
       "137715          7.846299e+17                   NaN                   NaN   \n",
       "137716          7.846299e+17                   NaN                   NaN   \n",
       "\n",
       "        \\TS_EDGE16:EDGE16_NE  \\TS_EDGE17:EDGE17_NE   shot  \n",
       "137560                   NaN                   NaN  21231  \n",
       "137561                   NaN                   NaN  21231  \n",
       "137562                   NaN                   NaN  21231  \n",
       "137563                   NaN                   NaN  21231  \n",
       "137564                   NaN                   NaN  21231  \n",
       "...                      ...                   ...    ...  \n",
       "137712                   NaN                   NaN  21231  \n",
       "137713                   NaN                   NaN  21231  \n",
       "137714                   NaN                   NaN  21231  \n",
       "137715                   NaN                   NaN  21231  \n",
       "137716                   NaN                   NaN  21231  \n",
       "\n",
       "[157 rows x 83 columns]"
      ]
     },
     "execution_count": 4,
     "metadata": {},
     "output_type": "execute_result"
    }
   ],
   "source": [
    "df_shot"
   ]
  },
  {
   "cell_type": "code",
   "execution_count": 5,
   "metadata": {},
   "outputs": [],
   "source": [
    "kstar_shot_list = pd.read_csv('./dataset/KSTAR_Disruption_Shot_List.csv', encoding = \"euc-kr\")\n",
    "video_shot_list = np.unique(kstar_shot_list.shot.values).tolist()"
   ]
  },
  {
   "cell_type": "code",
   "execution_count": 6,
   "metadata": {},
   "outputs": [],
   "source": [
    "kstar_shot_list\n",
    "\n",
    "tTQend = kstar_shot_list[kstar_shot_list.shot == shot].tTQend.values\n",
    "tftsrt = kstar_shot_list[kstar_shot_list.shot == shot].tftsrt.values\n",
    "tipminf = kstar_shot_list[kstar_shot_list.shot == shot].tipminf.values"
   ]
  },
  {
   "cell_type": "code",
   "execution_count": 7,
   "metadata": {},
   "outputs": [
    {
     "name": "stdout",
     "output_type": "stream",
     "text": [
      "numerical variables :  969\n",
      "video shot list :  1096\n"
     ]
    }
   ],
   "source": [
    "print(\"numerical variables : \", len(shot_list))\n",
    "print(\"video shot list : \", len(video_shot_list))"
   ]
  },
  {
   "cell_type": "code",
   "execution_count": 8,
   "metadata": {},
   "outputs": [],
   "source": [
    "df_shot = df_shot.dropna(axis = 1)"
   ]
  },
  {
   "cell_type": "code",
   "execution_count": 9,
   "metadata": {},
   "outputs": [],
   "source": [
    "t = df_shot.time\n",
    "ip = df_shot['\\\\ipmhd']\n",
    "kappa = df_shot['\\\\kappa']\n",
    "betap = df_shot['\\\\betap']\n",
    "betan = df_shot['\\\\betan']\n",
    "li = df_shot['\\\\li']\n",
    "Bc = df_shot['\\\\bcentr']\n",
    "q95 = df_shot['\\\\q95']\n",
    "tritop = df_shot['\\\\tritop']\n",
    "tribot = df_shot['\\\\tribot']\n",
    "W_tot = df_shot['\\\\WTOT_DLM03']"
   ]
  },
  {
   "cell_type": "code",
   "execution_count": 10,
   "metadata": {},
   "outputs": [
    {
     "data": {
      "image/png": "[encoded data removed]",
      "text/plain": [
       "<Figure size 432x288 with 1 Axes>"
      ]
     },
     "metadata": {
      "needs_background": "light"
     },
     "output_type": "display_data"
    }
   ],
   "source": [
    "import matplotlib.pyplot as plt\n",
    "\n",
    "plt.plot(t, -ip, 'b', label = 'plasma current')\n",
    "plt.axvline(x = tftsrt, ymin = 0,  color = \"blue\", linestyle = \"dashed\", label = \"burn-up\")\n",
    "plt.axvline(x = tipminf, ymin = 0, color = \"green\", linestyle = \"dashed\", label = \"current quench\")\n",
    "plt.axvline(x = tTQend, ymin = 0, color = \"black\", linestyle = \"dashed\", label = \"thermal quench\")\n",
    "plt.xlabel('time(s)')\n",
    "plt.ylabel('current')\n",
    "plt.legend()\n",
    "plt.show()"
   ]
  },
  {
   "cell_type": "code",
   "execution_count": 11,
   "metadata": {},
   "outputs": [
    {
     "data": {
      "image/png": "[encoded data removed]",
      "text/plain": [
       "<Figure size 432x288 with 1 Axes>"
      ]
     },
     "metadata": {
      "needs_background": "light"
     },
     "output_type": "display_data"
    }
   ],
   "source": [
    "import matplotlib.pyplot as plt\n",
    "\n",
    "plt.plot(t, betap, label = 'plasma beta')\n",
    "plt.axvline(x = tftsrt, ymin = 0,  color = \"blue\", linestyle = \"dashed\", label = \"burn-up\")\n",
    "plt.axvline(x = tipminf, ymin = 0, color = \"green\", linestyle = \"dashed\", label = \"current quench\")\n",
    "plt.axvline(x = tTQend, ymin = 0, color = \"black\", linestyle = \"dashed\", label = \"thermal quench\")\n",
    "plt.xlabel('time(s)')\n",
    "plt.ylabel('beta p')\n",
    "plt.legend()\n",
    "plt.show()"
   ]
  },
  {
   "cell_type": "code",
   "execution_count": 12,
   "metadata": {},
   "outputs": [
    {
     "data": {
      "image/png": "[encoded data removed]",
      "text/plain": [
       "<Figure size 432x288 with 1 Axes>"
      ]
     },
     "metadata": {
      "needs_background": "light"
     },
     "output_type": "display_data"
    }
   ],
   "source": [
    "plt.plot(t, betan, label = 'plasma beta normalized')\n",
    "plt.axvline(x = tftsrt, ymin = 0,  color = \"blue\", linestyle = \"dashed\", label = \"burn-up\")\n",
    "plt.axvline(x = tipminf, ymin = 0, color = \"green\", linestyle = \"dashed\", label = \"current quench\")\n",
    "plt.axvline(x = tTQend, ymin = 0, color = \"black\", linestyle = \"dashed\", label = \"thermal quench\")\n",
    "plt.xlabel('time(s)')\n",
    "plt.ylabel('beta n')\n",
    "plt.legend()\n",
    "plt.show()"
   ]
  },
  {
   "cell_type": "code",
   "execution_count": 13,
   "metadata": {},
   "outputs": [
    {
     "data": {
      "image/png": "[encoded data removed]",
      "text/plain": [
       "<Figure size 432x288 with 1 Axes>"
      ]
     },
     "metadata": {
      "needs_background": "light"
     },
     "output_type": "display_data"
    }
   ],
   "source": [
    "plt.plot(t, q95, label = 'safety-factor')\n",
    "plt.axvline(x = tftsrt, ymin = 0,  color = \"blue\", linestyle = \"dashed\", label = \"burn-up\")\n",
    "plt.axvline(x = tipminf, ymin = 0, color = \"green\", linestyle = \"dashed\", label = \"current quench\")\n",
    "plt.axvline(x = tTQend, ymin = 0, color = \"black\", linestyle = \"dashed\", label = \"thermal quench\")\n",
    "plt.xlabel('time(s)')\n",
    "plt.ylabel('beta p')\n",
    "plt.legend()\n",
    "plt.show()"
   ]
  },
  {
   "cell_type": "code",
   "execution_count": 14,
   "metadata": {},
   "outputs": [
    {
     "data": {
      "image/png": "[encoded data removed]",
      "text/plain": [
       "<Figure size 432x288 with 1 Axes>"
      ]
     },
     "metadata": {
      "needs_background": "light"
     },
     "output_type": "display_data"
    }
   ],
   "source": [
    "plt.plot(t, kappa, label = 'kappa')\n",
    "plt.axvline(x = tftsrt, ymin = 0,  color = \"blue\", linestyle = \"dashed\", label = \"burn-up\")\n",
    "plt.axvline(x = tipminf, ymin = 0, color = \"green\", linestyle = \"dashed\", label = \"current quench\")\n",
    "plt.axvline(x = tTQend, ymin = 0, color = \"black\", linestyle = \"dashed\", label = \"thermal quench\")\n",
    "plt.xlabel('time(s)')\n",
    "plt.ylabel('kappa')\n",
    "plt.legend()\n",
    "plt.show()"
   ]
  },
  {
   "cell_type": "code",
   "execution_count": 15,
   "metadata": {},
   "outputs": [
    {
     "data": {
      "image/png": "[encoded data removed]",
      "text/plain": [
       "<Figure size 432x288 with 1 Axes>"
      ]
     },
     "metadata": {
      "needs_background": "light"
     },
     "output_type": "display_data"
    }
   ],
   "source": [
    "plt.plot(t, li, label = 'line density')\n",
    "plt.axvline(x = tftsrt, ymin = 0,  color = \"blue\", linestyle = \"dashed\", label = \"burn-up\")\n",
    "plt.axvline(x = tipminf, ymin = 0, color = \"green\", linestyle = \"dashed\", label = \"current quench\")\n",
    "plt.axvline(x = tTQend, ymin = 0, color = \"black\", linestyle = \"dashed\", label = \"thermal quench\")\n",
    "plt.xlabel('time(s)')\n",
    "plt.ylabel('line density')\n",
    "plt.legend()\n",
    "plt.show()"
   ]
  },
  {
   "cell_type": "code",
   "execution_count": 16,
   "metadata": {},
   "outputs": [
    {
     "data": {
      "image/png": "[encoded data removed]",
      "text/plain": [
       "<Figure size 432x288 with 1 Axes>"
      ]
     },
     "metadata": {
      "needs_background": "light"
     },
     "output_type": "display_data"
    }
   ],
   "source": [
    "plt.plot(t, -Bc, label = 'B-field center')\n",
    "plt.axvline(x = tftsrt, ymin = 0,  color = \"blue\", linestyle = \"dashed\", label = \"burn-up\")\n",
    "plt.axvline(x = tipminf, ymin = 0, color = \"green\", linestyle = \"dashed\", label = \"current quench\")\n",
    "plt.axvline(x = tTQend, ymin = 0, color = \"black\", linestyle = \"dashed\", label = \"thermal quench\")\n",
    "plt.xlabel('time(s)')\n",
    "plt.ylabel('B-field')\n",
    "plt.legend()\n",
    "plt.show()"
   ]
  },
  {
   "cell_type": "code",
   "execution_count": 17,
   "metadata": {},
   "outputs": [
    {
     "data": {
      "image/png": "[encoded data removed]",
      "text/plain": [
       "<Figure size 432x288 with 1 Axes>"
      ]
     },
     "metadata": {
      "needs_background": "light"
     },
     "output_type": "display_data"
    }
   ],
   "source": [
    "plt.plot(t, tritop, label = 'tritop')\n",
    "plt.axvline(x = tftsrt, ymin = 0,  color = \"blue\", linestyle = \"dashed\", label = \"burn-up\")\n",
    "plt.axvline(x = tipminf, ymin = 0, color = \"green\", linestyle = \"dashed\", label = \"current quench\")\n",
    "plt.axvline(x = tTQend, ymin = 0, color = \"black\", linestyle = \"dashed\", label = \"thermal quench\")\n",
    "plt.xlabel('time(s)')\n",
    "plt.ylabel('tritop')\n",
    "plt.legend()\n",
    "plt.show()"
   ]
  },
  {
   "cell_type": "code",
   "execution_count": 18,
   "metadata": {},
   "outputs": [
    {
     "data": {
      "image/png": "[encoded data removed]",
      "text/plain": [
       "<Figure size 432x288 with 1 Axes>"
      ]
     },
     "metadata": {
      "needs_background": "light"
     },
     "output_type": "display_data"
    }
   ],
   "source": [
    "plt.plot(t, tribot, label = 'tribot')\n",
    "plt.axvline(x = tftsrt, ymin = 0,  color = \"blue\", linestyle = \"dashed\", label = \"burn-up\")\n",
    "plt.axvline(x = tipminf, ymin = 0, color = \"green\", linestyle = \"dashed\", label = \"current quench\")\n",
    "plt.axvline(x = tTQend, ymin = 0, color = \"black\", linestyle = \"dashed\", label = \"thermal quench\")\n",
    "plt.xlabel('time(s)')\n",
    "plt.ylabel('tribot')\n",
    "plt.legend()\n",
    "plt.show()"
   ]
  },
  {
   "cell_type": "code",
   "execution_count": 19,
   "metadata": {},
   "outputs": [
    {
     "data": {
      "image/png": "[encoded data removed]",
      "text/plain": [
       "<Figure size 432x288 with 1 Axes>"
      ]
     },
     "metadata": {
      "needs_background": "light"
     },
     "output_type": "display_data"
    }
   ],
   "source": [
    "plt.plot(t, W_tot, label = 'W_tot')\n",
    "plt.axvline(x = tftsrt, ymin = 0,  color = \"blue\", linestyle = \"dashed\", label = \"burn-up\")\n",
    "plt.axvline(x = tipminf, ymin = 0, color = \"green\", linestyle = \"dashed\", label = \"current quench\")\n",
    "plt.axvline(x = tTQend, ymin = 0, color = \"black\", linestyle = \"dashed\", label = \"thermal quench\")\n",
    "plt.xlabel('time(s)')\n",
    "plt.ylabel('W_tot')\n",
    "plt.legend()\n",
    "plt.show()"
   ]
  },
  {
   "cell_type": "code",
   "execution_count": 74,
   "metadata": {},
   "outputs": [
    {
     "data": {
      "image/png": "[encoded data removed]",
      "text/plain": [
       "<Figure size 432x288 with 1 Axes>"
      ]
     },
     "metadata": {
      "needs_background": "light"
     },
     "output_type": "display_data"
    }
   ],
   "source": [
    "plt.plot(t[28:56], W_tot[28:56], label = 'W_tot')\n",
    "plt.axvline(x = tftsrt, ymin = 0,  color = \"blue\", linestyle = \"dashed\", label = \"burn-up\")\n",
    "plt.axvline(x = tipminf, ymin = 0, color = \"green\", linestyle = \"dashed\", label = \"current quench\")\n",
    "plt.axvline(x = tTQend, ymin = 0, color = \"black\", linestyle = \"dashed\", label = \"thermal quench\")\n",
    "plt.xlabel('time(s)')\n",
    "plt.ylabel('W_tot')\n",
    "plt.legend()\n",
    "plt.show()"
   ]
  },
  {
   "cell_type": "code",
   "execution_count": 20,
   "metadata": {},
   "outputs": [],
   "source": [
    "ts_te_core_cols = df_shot.columns.tolist()[18:32]\n",
    "ts_te_edge_cols = df_shot.columns.tolist()[32:44]\n",
    "ts_ne_core_cols = df_shot.columns.tolist()[44:58]\n",
    "ts_ne_edge_cols = df_shot.columns.tolist()[58:68]"
   ]
  },
  {
   "cell_type": "code",
   "execution_count": 21,
   "metadata": {},
   "outputs": [
    {
     "data": {
      "image/png": "[encoded data removed]",
      "text/plain": [
       "<Figure size 432x288 with 1 Axes>"
      ]
     },
     "metadata": {
      "needs_background": "light"
     },
     "output_type": "display_data"
    }
   ],
   "source": [
    "te_core = df_shot[ts_te_core_cols[-1]]\n",
    "plt.plot(t, te_core, label = 'electron Temperature')\n",
    "plt.axvline(x = tftsrt, ymin = 0,  color = \"blue\", linestyle = \"dashed\", label = \"burn-up\")\n",
    "plt.axvline(x = tipminf, ymin = 0, color = \"green\", linestyle = \"dashed\", label = \"current quench\")\n",
    "plt.axvline(x = tTQend, ymin = 0, color = \"black\", linestyle = \"dashed\", label = \"thermal quench\")\n",
    "plt.xlabel('time(s)')\n",
    "plt.ylabel('Te(eV)')\n",
    "plt.legend()\n",
    "plt.show()"
   ]
  },
  {
   "cell_type": "code",
   "execution_count": 167,
   "metadata": {},
   "outputs": [
    {
     "name": "stderr",
     "output_type": "stream",
     "text": [
      "100%|██████████| 52/52 [00:00<00:00, 195.22it/s]\n",
      "100%|██████████| 13/13 [00:00<00:00, 179.18it/s]\n",
      "100%|██████████| 17/17 [00:00<00:00, 239.56it/s]\n"
     ]
    },
    {
     "name": "stdout",
     "output_type": "stream",
     "text": [
      "sample_data :  torch.Size([128, 21, 9])\n",
      "sample_target :  torch.Size([128])\n"
     ]
    }
   ],
   "source": [
    "import numpy as np\n",
    "import torch\n",
    "import torch.nn as nn\n",
    "\n",
    "df = pd.read_csv(\"./dataset/KSTAR_Disruption_ts_data_extend.csv\").reset_index()\n",
    "\n",
    "# nan interpolation\n",
    "df.interpolate(method = 'linear', limit_direction = 'forward')\n",
    "\n",
    "# columns for use\n",
    "ts_cols = [\n",
    "    '\\\\q95', '\\\\ipmhd', '\\\\kappa', \n",
    "    '\\\\tritop', '\\\\tribot','\\\\betap','\\\\betan',\n",
    "    '\\\\li', '\\\\WTOT_DLM03'\n",
    "]\n",
    "\n",
    "# float type\n",
    "for col in ts_cols:\n",
    "    df[col] = df[col].astype(np.float32)\n",
    "\n",
    "# train / valid / test data split\n",
    "from sklearn.model_selection import train_test_split\n",
    "shot_list = np.unique(df.shot.values)\n",
    "\n",
    "shot_train, shot_test = train_test_split(shot_list, test_size = 0.2, random_state = 42)\n",
    "shot_train, shot_valid = train_test_split(shot_train, test_size = 0.2, random_state = 42)\n",
    "\n",
    "df_train = pd.DataFrame()\n",
    "df_valid = pd.DataFrame()\n",
    "df_test = pd.DataFrame()\n",
    "\n",
    "for shot in shot_train:\n",
    "    df_train = pd.concat([df_train, df[df.shot == shot]], axis = 0)\n",
    "\n",
    "for shot in shot_valid:\n",
    "    df_valid = pd.concat([df_valid, df[df.shot == shot]], axis = 0)\n",
    "\n",
    "for shot in shot_test:\n",
    "    df_test = pd.concat([df_test, df[df.shot == shot]], axis = 0)\n",
    "\n",
    "from sklearn.preprocessing import RobustScaler, MinMaxScaler, StandardScaler\n",
    "scaler = RobustScaler()\n",
    "df_train[ts_cols] = scaler.fit_transform(df_train[ts_cols].values)\n",
    "df_valid[ts_cols] = scaler.transform(df_valid[ts_cols].values)\n",
    "df_test[ts_cols] = scaler.transform(df_test[ts_cols].values)\n",
    "\n",
    "# disruption info\n",
    "kstar_shot_list = pd.read_csv('./dataset/KSTAR_Disruption_Shot_List_extend.csv', encoding = \"euc-kr\")\n",
    "\n",
    "# shot list\n",
    "shot_list = np.unique(df.shot.values).tolist()\n",
    "\n",
    "from typing import Optional, List\n",
    "from tqdm.auto import tqdm\n",
    "\n",
    "class CustomDataset(torch.utils.data.Dataset):\n",
    "    def __init__(self, ts_data : pd.DataFrame, disrupt_data : pd.DataFrame, seq_len : int, cols : List, dist:int, dt : float):\n",
    "        self.ts_data = ts_data\n",
    "        self.disrupt_data = disrupt_data\n",
    "        self.seq_len = seq_len\n",
    "        self.dt = dt\n",
    "        self.cols = cols\n",
    "        self.dist = dist # distance\n",
    "\n",
    "        self.indices = []\n",
    "        self.labels = []\n",
    "        self.n_classes = 2\n",
    "        self._generate_index()\n",
    "\n",
    "    def _generate_index(self):\n",
    "        shot_list = np.unique(self.ts_data.shot.values).tolist()\n",
    "        df_disruption = self.disrupt_data\n",
    "\n",
    "        for shot in tqdm(shot_list):\n",
    "            tTQend = df_disruption[df_disruption.shot == shot].tTQend.values[0]\n",
    "            tftsrt = df_disruption[df_disruption.shot == shot].tftsrt.values[0]\n",
    "            tipminf = df_disruption[df_disruption.shot == shot].tipminf.values[0]\n",
    "\n",
    "            t_disrupt = tipminf\n",
    "\n",
    "            df_shot = self.ts_data[self.ts_data.shot == shot]\n",
    "            indices = []\n",
    "            labels = []\n",
    "\n",
    "            idx = int(tftsrt * self.dt)\n",
    "            idx_last = len(df_shot.index) - self.seq_len - self.dist\n",
    "\n",
    "            while(idx < idx_last):\n",
    "                row = df_shot.iloc[idx]\n",
    "                t = row['time']\n",
    "\n",
    "                if idx_last - idx - self.seq_len - self.dist < 0:\n",
    "                    break\n",
    "\n",
    "                if t >= tftsrt and t < t_disrupt - self.dt * (self.seq_len + self.dist):\n",
    "                    indx = df_shot.index.values[idx]\n",
    "                    indices.append(indx)\n",
    "                    labels.append(0)\n",
    "                    idx += self.seq_len\n",
    "\n",
    "                elif t > t_disrupt - self.dt * (self.seq_len + self.dist) and t <= t_disrupt:\n",
    "                    indx = df_shot.index.values[idx]\n",
    "                    indices.append(indx)\n",
    "                    labels.append(1)\n",
    "                    idx += self.seq_len\n",
    "                \n",
    "                elif t < tftsrt:\n",
    "                    idx += self.seq_len\n",
    "                \n",
    "                elif t > t_disrupt:\n",
    "                    break\n",
    "\n",
    "            self.indices.extend(indices)\n",
    "            self.labels.extend(labels)\n",
    "\n",
    "    def __getitem__(self, idx:int):\n",
    "        indx = self.indices[idx]\n",
    "        label = self.labels[idx]\n",
    "        label = np.array(label)\n",
    "        label = torch.from_numpy(label)\n",
    "        data = self.ts_data[self.cols].loc[indx:indx+self.seq_len - 1].values\n",
    "        data = torch.from_numpy(data).float()\n",
    "        return data, label\n",
    "\n",
    "    def __len__(self):\n",
    "        return len(self.indices)\n",
    "\n",
    "    def get_num_per_cls(self):\n",
    "        classes = np.unique(self.labels)\n",
    "        self.num_per_cls_dict = dict()\n",
    "\n",
    "        for cls in classes:\n",
    "            num = np.sum(np.where(self.labels == cls, 1, 0))\n",
    "            self.num_per_cls_dict[cls] = num\n",
    "         \n",
    "    def get_cls_num_list(self):\n",
    "        cls_num_list = []\n",
    "        for i in range(self.n_classes):\n",
    "            cls_num_list.append(self.num_per_cls_dict[i])\n",
    "        return cls_num_list\n",
    "\n",
    "from sklearn.model_selection import train_test_split\n",
    "ts_train = df_train\n",
    "ts_valid = df_valid\n",
    "ts_test = df_test\n",
    "seq_len = 21\n",
    "cols = ts_cols\n",
    "\n",
    "train_data = CustomDataset(ts_train, kstar_shot_list, seq_len = seq_len, cols = ts_cols, dist = 0, dt = 1.0 / 210 * 4)\n",
    "valid_data = CustomDataset(ts_valid, kstar_shot_list, seq_len = seq_len, cols = ts_cols, dist = 0, dt = 1.0 / 210 * 4)\n",
    "test_data = CustomDataset(ts_test, kstar_shot_list, seq_len = seq_len, cols = ts_cols, dist = 0, dt = 1.0 / 210 * 4)\n",
    "\n",
    "from torch.utils.data import DataLoader\n",
    "from src.utils.sampler import ImbalancedDatasetSampler\n",
    "\n",
    "batch_size = 128\n",
    "sampler = ImbalancedDatasetSampler(train_data)\n",
    "train_loader = DataLoader(train_data, batch_size = batch_size, num_workers = 4, sampler = sampler)\n",
    "valid_loader = DataLoader(valid_data, batch_size = batch_size, num_workers = 4, shuffle = True)\n",
    "test_loader = DataLoader(test_data, batch_size = batch_size, num_workers = 4, shuffle = True)\n",
    "\n",
    "sample_data, sample_target = next(iter(train_loader))\n",
    "print(\"sample_data : \", sample_data.size())\n",
    "print(\"sample_target : \", sample_target.size())"
   ]
  },
  {
   "cell_type": "code",
   "execution_count": 168,
   "metadata": {},
   "outputs": [
    {
     "data": {
      "image/png": "[encoded data removed]",
      "text/plain": [
       "<Figure size 432x288 with 1 Axes>"
      ]
     },
     "metadata": {
      "needs_background": "light"
     },
     "output_type": "display_data"
    }
   ],
   "source": [
    "import matplotlib.pyplot as plt\n",
    "plt.plot(sample_data[0,:,0].numpy(), label = 'col : 0')\n",
    "plt.plot(sample_data[0,:,1].numpy(), label = 'col : 1')\n",
    "plt.plot(sample_data[0,:,2].numpy(), label = 'col : 2')\n",
    "plt.plot(sample_data[0,:,3].numpy(), label = 'col : 3')\n",
    "plt.plot(sample_data[0,:,4].numpy(), label = 'col : 4')\n",
    "plt.plot(sample_data[0,:,5].numpy(), label = 'col : 5')\n",
    "plt.plot(sample_data[0,:,6].numpy(), label = 'col : 6')\n",
    "plt.plot(sample_data[0,:,7].numpy(), label = 'col : 7')\n",
    "plt.plot(sample_data[0,:,8].numpy(), label = 'col : 8')\n",
    "plt.legend()\n",
    "plt.show()"
   ]
  },
  {
   "cell_type": "code",
   "execution_count": 128,
   "metadata": {},
   "outputs": [
    {
     "name": "stdout",
     "output_type": "stream",
     "text": [
      "disruptive :  51\n",
      "non-disruptive :  1345\n"
     ]
    },
    {
     "name": "stderr",
     "output_type": "stream",
     "text": [
      "/home/jinsukim/miniconda3/envs/research-env/lib/python3.9/site-packages/seaborn/_decorators.py:36: FutureWarning: Pass the following variable as a keyword arg: x. From version 0.12, the only valid positional argument will be `data`, and passing other arguments without an explicit keyword will result in an error or misinterpretation.\n",
      "  warnings.warn(\n"
     ]
    },
    {
     "data": {
      "image/png": "[encoded data removed]",
      "text/plain": [
       "<Figure size 432x288 with 1 Axes>"
      ]
     },
     "metadata": {
      "needs_background": "light"
     },
     "output_type": "display_data"
    }
   ],
   "source": [
    "import seaborn as sns\n",
    "sns.countplot(train_data.labels)\n",
    "print(\"disruptive : \", np.sum(train_data.labels))\n",
    "print(\"non-disruptive : \", len(train_data.labels) - np.sum(train_data.labels))"
   ]
  },
  {
   "cell_type": "code",
   "execution_count": 170,
   "metadata": {},
   "outputs": [
    {
     "name": "stderr",
     "output_type": "stream",
     "text": [
      "training process:   2%|▏         | 1/64 [00:01<01:44,  1.66s/it]"
     ]
    },
    {
     "name": "stdout",
     "output_type": "stream",
     "text": [
      "epoch : 1, train loss : 4.496, valid loss : 1.151, train acc : 0.856, valid acc : 0.025, train f1 : 0.856, valid f1 : 0.032\n"
     ]
    },
    {
     "name": "stderr",
     "output_type": "stream",
     "text": [
      "training process:  14%|█▍        | 9/64 [00:13<01:25,  1.55s/it]"
     ]
    },
    {
     "name": "stdout",
     "output_type": "stream",
     "text": [
      "epoch : 9, train loss : 0.007, valid loss : 1.017, train acc : 1.000, valid acc : 0.859, train f1 : 1.000, valid f1 : 0.564\n"
     ]
    },
    {
     "name": "stderr",
     "output_type": "stream",
     "text": [
      "training process:  27%|██▋       | 17/64 [00:26<01:12,  1.55s/it]"
     ]
    },
    {
     "name": "stdout",
     "output_type": "stream",
     "text": [
      "epoch : 17, train loss : 0.002, valid loss : 1.140, train acc : 1.000, valid acc : 0.994, train f1 : 1.000, valid f1 : 0.933\n"
     ]
    },
    {
     "name": "stderr",
     "output_type": "stream",
     "text": [
      "training process:  39%|███▉      | 25/64 [00:38<01:00,  1.54s/it]"
     ]
    },
    {
     "name": "stdout",
     "output_type": "stream",
     "text": [
      "epoch : 25, train loss : 0.001, valid loss : 2.109, train acc : 0.999, valid acc : 0.990, train f1 : 0.999, valid f1 : 0.878\n"
     ]
    },
    {
     "name": "stderr",
     "output_type": "stream",
     "text": [
      "training process:  52%|█████▏    | 33/64 [00:50<00:46,  1.50s/it]"
     ]
    },
    {
     "name": "stdout",
     "output_type": "stream",
     "text": [
      "epoch : 33, train loss : 0.011, valid loss : 0.940, train acc : 0.997, valid acc : 0.990, train f1 : 0.997, valid f1 : 0.897\n"
     ]
    },
    {
     "name": "stderr",
     "output_type": "stream",
     "text": [
      "training process:  64%|██████▍   | 41/64 [01:02<00:35,  1.54s/it]"
     ]
    },
    {
     "name": "stdout",
     "output_type": "stream",
     "text": [
      "epoch : 41, train loss : 0.000, valid loss : 1.221, train acc : 1.000, valid acc : 0.994, train f1 : 1.000, valid f1 : 0.933\n"
     ]
    },
    {
     "name": "stderr",
     "output_type": "stream",
     "text": [
      "training process:  77%|███████▋  | 49/64 [01:14<00:22,  1.52s/it]"
     ]
    },
    {
     "name": "stdout",
     "output_type": "stream",
     "text": [
      "epoch : 49, train loss : 0.000, valid loss : 1.144, train acc : 1.000, valid acc : 0.892, train f1 : 1.000, valid f1 : 0.881\n"
     ]
    },
    {
     "name": "stderr",
     "output_type": "stream",
     "text": [
      "training process:  89%|████████▉ | 57/64 [01:27<00:10,  1.48s/it]"
     ]
    },
    {
     "name": "stdout",
     "output_type": "stream",
     "text": [
      "epoch : 57, train loss : 0.000, valid loss : 0.625, train acc : 1.000, valid acc : 0.994, train f1 : 1.000, valid f1 : 0.942\n"
     ]
    },
    {
     "name": "stderr",
     "output_type": "stream",
     "text": [
      "training process: 100%|██████████| 64/64 [01:38<00:00,  1.53s/it]"
     ]
    },
    {
     "name": "stdout",
     "output_type": "stream",
     "text": [
      "training process finished, best loss : 0.801 and best acc : 0.998, best f1 : 0.979, best epoch : 60\n"
     ]
    },
    {
     "name": "stderr",
     "output_type": "stream",
     "text": [
      "\n"
     ]
    }
   ],
   "source": [
    "import torch\n",
    "import torch.nn as nn\n",
    "import numpy as np\n",
    "from torch.autograd import Variable\n",
    "from torch.nn import functional as F\n",
    "from typing import List, Optional, Union, Tuple\n",
    "\n",
    "class ConvLSTM(nn.Module):\n",
    "    def __init__(\n",
    "        self, \n",
    "        seq_len : int = 21, \n",
    "        col_dim : int = 10, \n",
    "        conv_dim : int = 32, \n",
    "        conv_kernel : int = 3,\n",
    "        conv_stride : int = 1, \n",
    "        conv_padding : int = 1,\n",
    "        lstm_dim : int = 64, \n",
    "        n_classes : int = 2, \n",
    "        mlp_dim : int = 64,\n",
    "        ):\n",
    "        \n",
    "        super(ConvLSTM, self).__init__()\n",
    "        self.col_dim = col_dim\n",
    "        self.seq_len = seq_len\n",
    "        self.lstm_dim = lstm_dim\n",
    "\n",
    "        # spatio-conv encoder : analyze spatio-effect between variables\n",
    "        self.conv = nn.Sequential(\n",
    "            nn.Conv1d(in_channels = col_dim, out_channels = conv_dim, kernel_size = conv_kernel, stride = conv_stride, padding = conv_padding),\n",
    "            nn.BatchNorm1d(conv_dim), \n",
    "            nn.ReLU(),\n",
    "            nn.Conv1d(in_channels = conv_dim, out_channels = conv_dim, kernel_size = conv_kernel, stride = conv_stride, padding = conv_padding),\n",
    "            nn.BatchNorm1d(conv_dim), \n",
    "            nn.ReLU(),\n",
    "        )\n",
    "\n",
    "        lstm_input_dim = self.compute_conv1d_output_dim(self.compute_conv1d_output_dim(seq_len, conv_kernel, conv_stride, conv_padding, 1), conv_kernel, conv_stride, conv_padding, 1)\n",
    "\n",
    "        # temporl - lstm\n",
    "        self.lstm = nn.LSTM(lstm_input_dim, lstm_dim, bidirectional = True, batch_first = False)\n",
    "        self.w_s1 = nn.Linear(lstm_dim * 2, lstm_dim)\n",
    "        self.w_s2 = nn.Linear(lstm_dim, lstm_dim)\n",
    "\n",
    "        self.classifier = nn.Sequential(\n",
    "            nn.Linear(lstm_dim * 2, mlp_dim),\n",
    "            nn.BatchNorm1d(mlp_dim),\n",
    "            nn.ReLU(),\n",
    "            nn.Linear(mlp_dim, mlp_dim),\n",
    "            nn.BatchNorm1d(mlp_dim),\n",
    "            nn.ReLU(),\n",
    "            nn.Linear(mlp_dim, n_classes)\n",
    "        )\n",
    "    \n",
    "    def compute_conv1d_output_dim(self, input_dim : int, kernel_size : int = 3, stride : int = 1, padding : int = 1, dilation : int = 1):\n",
    "        return int((input_dim + 2 * padding - dilation * (kernel_size - 1) - 1) / stride + 1)\n",
    "\n",
    "    def attention(self, lstm_output : torch.Tensor)->torch.Tensor:\n",
    "        attn_weight_matrix = self.w_s2(torch.tanh(self.w_s1(lstm_output)))\n",
    "        attn_weight_matrix = F.softmax(attn_weight_matrix, dim = 2)\n",
    "        return attn_weight_matrix\n",
    "\n",
    "    def forward(self, x : torch.Tensor)->torch.Tensor:\n",
    "        # x : (batch, seq_len, col_dim)\n",
    "        x_conv = self.conv(x.permute(0,2,1))\n",
    "        h_0 = Variable(torch.zeros(2, x.size()[0], self.lstm_dim)).to(x.device)\n",
    "        c_0 = Variable(torch.zeros(2, x.size()[0], self.lstm_dim)).to(x.device)\n",
    "\n",
    "        lstm_output, (h_n,c_n) = self.lstm(x_conv.permute(1,0,2), (h_0, c_0))\n",
    "        lstm_output = lstm_output.permute(1,0,2)\n",
    "        att = self.attention(lstm_output)\n",
    "        hidden = torch.bmm(att.permute(0,2,1), lstm_output).mean(dim = 1)\n",
    "        hidden = hidden.view(hidden.size()[0], -1)\n",
    "        output = self.classifier(hidden)\n",
    "        return output\n",
    "\n",
    "seq_len = seq_len\n",
    "col_len = len(cols)\n",
    "batch_size = batch_size\n",
    "device = torch.device(\"cuda\" if torch.cuda.is_available() else \"cpu\")\n",
    "\n",
    "model = ConvLSTM(\n",
    "    seq_len = seq_len,\n",
    "    col_dim = col_len,\n",
    ")\n",
    "\n",
    "import torch\n",
    "import torch.nn\n",
    "import numpy as np\n",
    "import seaborn as sns\n",
    "import matplotlib.pyplot as plt\n",
    "from sklearn.metrics import confusion_matrix, classification_report, f1_score\n",
    "\n",
    "def train_per_epoch(\n",
    "    data_loader : torch.utils.data.DataLoader,\n",
    "    model : torch.nn.Module,\n",
    "    optimizer : torch.optim.Optimizer,\n",
    "    scheduler : Optional[torch.optim.lr_scheduler._LRScheduler],\n",
    "    loss_fn : torch.nn.Module,\n",
    "    device : str = \"cpu\",\n",
    "    max_norm_grad : Optional[float] = None\n",
    "    ):\n",
    "\n",
    "    model.train()\n",
    "    model.to(device)\n",
    "\n",
    "    train_loss = 0\n",
    "    train_acc = 0\n",
    "\n",
    "    total_pred = np.array([])\n",
    "    total_label = np.array([])\n",
    "\n",
    "    for batch_idx, (data, target) in enumerate(data_loader):\n",
    "        optimizer.zero_grad()\n",
    "        data = data.to(device)\n",
    "        target = target.to(device)\n",
    "        output = model(data)\n",
    "        loss = loss_fn(output, target)\n",
    "        loss.backward()\n",
    "\n",
    "        # use gradient clipping\n",
    "        if max_norm_grad:\n",
    "            torch.nn.utils.clip_grad_norm_(model.parameters(), max_norm_grad)\n",
    "\n",
    "        optimizer.step()\n",
    "\n",
    "        train_loss += loss.item()\n",
    "\n",
    "        pred = torch.nn.functional.softmax(output, dim = 1).max(1, keepdim = True)[1]\n",
    "        train_acc += pred.eq(target.view_as(pred)).sum().item() / data.size(0) \n",
    "    \n",
    "        total_pred = np.concatenate((total_pred, pred.cpu().numpy().reshape(-1,)))\n",
    "        total_label = np.concatenate((total_label, target.cpu().numpy().reshape(-1,)))\n",
    "        \n",
    "    if scheduler:\n",
    "        scheduler.step()\n",
    "\n",
    "    train_loss /= (batch_idx + 1)\n",
    "    train_acc /= (batch_idx + 1)\n",
    "\n",
    "    train_f1 = f1_score(total_label, total_pred, average = \"macro\")\n",
    "\n",
    "    return train_loss, train_acc, train_f1\n",
    "\n",
    "def valid_per_epoch(\n",
    "    data_loader : torch.utils.data.DataLoader,\n",
    "    model : torch.nn.Module,\n",
    "    optimizer : torch.optim.Optimizer,\n",
    "    loss_fn : torch.nn.Module,\n",
    "    device : str = \"cpu\",\n",
    "    ):\n",
    "\n",
    "    model.eval()\n",
    "    model.to(device)\n",
    "\n",
    "    valid_loss = 0\n",
    "    valid_acc = 0\n",
    "\n",
    "    total_pred = np.array([])\n",
    "    total_label = np.array([])\n",
    "\n",
    "    for batch_idx, (data, target) in enumerate(data_loader):\n",
    "        with torch.no_grad():\n",
    "            optimizer.zero_grad()\n",
    "            data = data.to(device)\n",
    "            target = target.to(device)\n",
    "            output = model(data)\n",
    "            loss = loss_fn(output, target)\n",
    "            valid_loss += loss.item()\n",
    "\n",
    "            pred = torch.nn.functional.softmax(output, dim = 1).max(1, keepdim = True)[1]\n",
    "            valid_acc += pred.eq(target.view_as(pred)).sum().item() / data.size(0) \n",
    "        \n",
    "            total_pred = np.concatenate((total_pred, pred.cpu().numpy().reshape(-1,)))\n",
    "            total_label = np.concatenate((total_label, target.cpu().numpy().reshape(-1,)))\n",
    "\n",
    "    valid_loss /= (batch_idx + 1)\n",
    "    valid_acc /= (batch_idx + 1)\n",
    "\n",
    "    valid_f1 = f1_score(total_label, total_pred, average = \"macro\")\n",
    "\n",
    "    return valid_loss, valid_acc, valid_f1\n",
    "\n",
    "\n",
    "def train(\n",
    "    train_loader : torch.utils.data.DataLoader, \n",
    "    valid_loader : Optional[torch.utils.data.DataLoader],\n",
    "    model : torch.nn.Module,\n",
    "    optimizer : torch.optim.Optimizer,\n",
    "    scheduler : Optional[torch.optim.lr_scheduler._LRScheduler],\n",
    "    loss_fn = None,\n",
    "    device : str = \"cpu\",\n",
    "    num_epoch : int = 64,\n",
    "    verbose : Optional[int] = 8,\n",
    "    save_best_dir : str = \"./weights/best.pt\",\n",
    "    save_last_dir : str = \"./weights/last.pt\",\n",
    "    max_norm_grad : Optional[float] = None,\n",
    "    criteria : str = \"f1_score\"\n",
    "    ):\n",
    "\n",
    "    train_loss_list = []\n",
    "    valid_loss_list = []\n",
    "    \n",
    "    train_acc_list = []\n",
    "    valid_acc_list = []\n",
    "\n",
    "    train_f1_list = []\n",
    "    valid_f1_list = []\n",
    "\n",
    "    best_acc = 0\n",
    "    best_epoch = 0\n",
    "    best_f1 = 0\n",
    "    best_loss = torch.inf\n",
    "\n",
    "    if loss_fn is None:\n",
    "        loss_fn = torch.nn.CrossEntropyLoss(reduction = 'mean')\n",
    "\n",
    "    for epoch in tqdm(range(num_epoch), desc = \"training process\"):\n",
    "\n",
    "        # training\n",
    "        train_loss, train_acc, train_f1 = train_per_epoch(\n",
    "            train_loader, \n",
    "            model,\n",
    "            optimizer,\n",
    "            scheduler,\n",
    "            loss_fn,\n",
    "            device,\n",
    "            max_norm_grad\n",
    "        )\n",
    "\n",
    "        train_loss_list.append(train_loss)\n",
    "        train_acc_list.append(train_acc)\n",
    "        train_f1_list.append(train_f1)\n",
    "\n",
    "        # validation\n",
    "        valid_loss, valid_acc, valid_f1 = valid_per_epoch(\n",
    "            valid_loader, \n",
    "            model,\n",
    "            optimizer,\n",
    "            loss_fn,\n",
    "            device \n",
    "        )\n",
    "        \n",
    "        valid_loss_list.append(valid_loss)\n",
    "        valid_acc_list.append(valid_acc)\n",
    "        valid_f1_list.append(valid_f1)\n",
    "\n",
    "        if verbose:\n",
    "            if epoch % verbose == 0:\n",
    "                print(\"epoch : {}, train loss : {:.3f}, valid loss : {:.3f}, train acc : {:.3f}, valid acc : {:.3f}, train f1 : {:.3f}, valid f1 : {:.3f}\".format(\n",
    "                    epoch+1, train_loss, valid_loss, train_acc, valid_acc, train_f1, valid_f1\n",
    "                ))\n",
    "\n",
    "        # save the best parameters\n",
    "        if criteria == \"acc\" and best_acc < valid_acc:\n",
    "            best_acc = valid_acc\n",
    "            best_f1 = valid_f1\n",
    "            best_loss = valid_loss\n",
    "            best_epoch  = epoch\n",
    "            torch.save(model.state_dict(), save_best_dir)\n",
    "\n",
    "        elif criteria == \"f1_score\" and best_f1 < valid_f1:\n",
    "            best_acc = valid_acc\n",
    "            best_f1 = valid_f1\n",
    "            best_loss = valid_loss\n",
    "            best_epoch  = epoch\n",
    "            torch.save(model.state_dict(), save_best_dir)\n",
    "\n",
    "        elif criteria == \"loss\" and best_loss > valid_loss:\n",
    "            best_acc = valid_acc\n",
    "            best_f1 = valid_f1\n",
    "            best_loss = valid_loss\n",
    "            best_epoch  = epoch\n",
    "            torch.save(model.state_dict(), save_best_dir)\n",
    "\n",
    "        # save the last parameters\n",
    "        torch.save(model.state_dict(), save_last_dir)\n",
    "\n",
    "    print(\"training process finished, best loss : {:.3f} and best acc : {:.3f}, best f1 : {:.3f}, best epoch : {}\".format(\n",
    "        best_loss, best_acc, best_f1, best_epoch\n",
    "    ))\n",
    "\n",
    "    return  train_loss_list, train_acc_list, train_f1_list,  valid_loss_list,  valid_acc_list, valid_f1_list\n",
    "\n",
    "\n",
    "device = torch.device(\"cuda\" if torch.cuda.is_available() else \"cpu\")\n",
    "lr = 1e-3\n",
    "\n",
    "from src.loss import FocalLoss\n",
    "train_data.get_num_per_cls()\n",
    "cls_num_list = train_data.get_cls_num_list()\n",
    "per_cls_weights = 1.0 / np.array(cls_num_list)\n",
    "per_cls_weights = per_cls_weights / np.sum(per_cls_weights)\n",
    "per_cls_weights = torch.FloatTensor(per_cls_weights)\n",
    "loss_fn = FocalLoss(per_cls_weights, gamma = 2)\n",
    "\n",
    "num_epoch = 64\n",
    "verbose = 8\n",
    "save_best_dir = \"./weights/ts_conv_lstm_best.pt\"\n",
    "save_last_dir = \"./weights/ts_conv_lstm_last.pt\"\n",
    "max_norm_grad = 1.0\n",
    "criteria = \"f1_score\"\n",
    "optimizer = torch.optim.AdamW(model.parameters(), lr = lr)\n",
    "\n",
    "model.to(device)\n",
    "\n",
    "train_loss, train_acc, train_f1, valid_loss, valid_acc, valid_f1 = train(\n",
    "    train_loader,\n",
    "    valid_loader,\n",
    "    model,\n",
    "    optimizer,\n",
    "    None,\n",
    "    loss_fn,\n",
    "    device,\n",
    "    num_epoch,\n",
    "    verbose,\n",
    "    save_best_dir,\n",
    "    save_last_dir,\n",
    "    max_norm_grad,\n",
    "    criteria\n",
    ")"
   ]
  },
  {
   "cell_type": "code",
   "execution_count": 171,
   "metadata": {},
   "outputs": [
    {
     "name": "stdout",
     "output_type": "stream",
     "text": [
      "----------------------------------------------------------------------------------\n",
      "           Layer (type)               Input Shape         Param #     Tr. Param #\n",
      "==================================================================================\n",
      "               Linear-1                [2, 21, 9]             160             160\n",
      "   PositionalEncoding-2               [21, 2, 16]               0               0\n",
      "   TransformerEncoder-3     [21, 2, 16], [21, 21]         139,840         139,840\n",
      "               Linear-4                   [2, 16]           2,176           2,176\n",
      "          BatchNorm1d-5                  [2, 128]             256             256\n",
      "                 GELU-6                  [2, 128]               0               0\n",
      "               Linear-7                  [2, 128]             258             258\n",
      "==================================================================================\n",
      "Total params: 142,690\n",
      "Trainable params: 142,690\n",
      "Non-trainable params: 0\n",
      "Batch size: 2\n",
      "----------------------------------------------------------------------------------\n"
     ]
    }
   ],
   "source": [
    "from typing import Optional, List, Tuple\n",
    "import torch\n",
    "import torch.nn as nn\n",
    "import torch.nn.functional as F\n",
    "import math\n",
    "import numpy as np\n",
    "from pytorch_model_summary import summary\n",
    "\n",
    "class PositionalEncoding(nn.Module):\n",
    "    def __init__(self, d_model : int, max_len : int = 128):\n",
    "        super(PositionalEncoding, self).__init__()\n",
    "        self.d_model = d_model\n",
    "        self.max_len = max_len\n",
    "\n",
    "        pe = torch.zeros(max_len, d_model).float()\n",
    "        position = torch.arange(0, max_len).float().unsqueeze(1) # (max_len, 1)\n",
    "        div_term = (torch.arange(0, d_model, 2).float() * -(math.log(10000.0) / d_model)).exp() # (d_model // 2, )\n",
    "\n",
    "        pe[:,0::2] = torch.sin(position * div_term)\n",
    "\n",
    "        if d_model % 2 != 0:\n",
    "            pe[:,1::2] = torch.cos(position * div_term)[:,0:-1]\n",
    "        else:\n",
    "            pe[:,1::2] = torch.cos(position * div_term)\n",
    "\n",
    "        pe = pe.unsqueeze(0).transpose(0,1) # shape : (max_len, 1, d_model)\n",
    "\n",
    "        self.register_buffer('pe', pe)\n",
    "\n",
    "    def forward(self, x:torch.Tensor)->torch.Tensor:\n",
    "        # x : (seq_len, batch_size, n_features)\n",
    "        return x + self.pe[:x.size(0), :, :]\n",
    "\n",
    "class GELU(nn.Module):\n",
    "    def forward(self, x):\n",
    "        return 0.5 * x * (1 + torch.tanh(math.sqrt(2 / math.pi) * (x + 0.044715 * torch.pow(x, 3))))\n",
    "\n",
    "class TStransformer(nn.Module):\n",
    "    def __init__(self, n_features : int = 11, feature_dims : int = 256, max_len : int = 128, n_layers : int = 1, n_heads : int = 8, dim_feedforward : int = 1024, dropout : float = 0.1, cls_dims : int = 128, n_classes : int = 2):\n",
    "        super(TStransformer, self).__init__()\n",
    "        self.src_mask = None\n",
    "        self.n_features = n_features\n",
    "        self.max_len = max_len\n",
    "        self.encoder_input_layer = nn.Linear(in_features = n_features, out_features = feature_dims)\n",
    "        self.pos_enc = PositionalEncoding(d_model = feature_dims, max_len = max_len)\n",
    "        self.encoder = nn.TransformerEncoderLayer(\n",
    "            d_model = feature_dims, \n",
    "            nhead = n_heads, \n",
    "            dropout = dropout,\n",
    "            dim_feedforward = dim_feedforward,\n",
    "            activation = GELU()\n",
    "        )\n",
    "        self.transformer_encoder = nn.TransformerEncoder(self.encoder, num_layers=n_layers)\n",
    "        self.classifier = nn.Sequential(\n",
    "            nn.Linear(feature_dims, cls_dims),\n",
    "            nn.BatchNorm1d(cls_dims),\n",
    "            GELU(),\n",
    "            nn.Linear(cls_dims, n_classes)\n",
    "        )\n",
    "\n",
    "\n",
    "    def forward(self, x : torch.Tensor)->torch.Tensor:\n",
    "        x = self.encoder_input_layer(x)\n",
    "        x = x.permute(1,0,2)\n",
    "        if self.src_mask is None or self.src_mask.size(0) != len(x):\n",
    "            device = x.device\n",
    "            mask = self._generate_square_subsequent_mask(len(x)).to(device)\n",
    "            self.src_mask = mask\n",
    "        \n",
    "        x = self.pos_enc(x)\n",
    "        x = self.transformer_encoder(x, self.src_mask.to(x.device)).permute(1,0,2).mean(dim = 1) # (seq_len, batch, feature_dims)\n",
    "        x = self.classifier(x)\n",
    "        return x\n",
    "\n",
    "    def _generate_square_subsequent_mask(self, size : int)->torch.Tensor:\n",
    "        mask = (torch.triu(torch.ones(size,size))==1).transpose(0,1)\n",
    "        mask = mask.float().masked_fill(mask == 0, float('-inf')).masked_fill(mask == 1, float(0.0))\n",
    "        return mask\n",
    "\n",
    "    def summary(self)->None:\n",
    "        sample_x = torch.zeros((2, self.max_len, self.n_features))\n",
    "        summary(self, sample_x, batch_size = 2, show_input = True, print_summary=True)\n",
    "\n",
    "model = TStransformer(\n",
    "    n_features=len(ts_cols),\n",
    "    feature_dims = 16,\n",
    "    max_len = seq_len, \n",
    "    n_layers = 4,\n",
    "    n_heads = 4, \n",
    "    dim_feedforward = 1024,\n",
    "    dropout = 0.5, \n",
    "    cls_dims = 128, \n",
    "    n_classes  = 2\n",
    ")\n",
    "\n",
    "model.summary()"
   ]
  },
  {
   "cell_type": "code",
   "execution_count": 172,
   "metadata": {},
   "outputs": [
    {
     "name": "stderr",
     "output_type": "stream",
     "text": [
      "training process:   2%|▏         | 1/64 [00:01<01:58,  1.87s/it]"
     ]
    },
    {
     "name": "stdout",
     "output_type": "stream",
     "text": [
      "epoch : 1, train loss : 9.407, valid loss : 1.140, train acc : 0.698, valid acc : 0.584, train f1 : 0.697, valid f1 : 0.425\n"
     ]
    },
    {
     "name": "stderr",
     "output_type": "stream",
     "text": [
      "training process:  14%|█▍        | 9/64 [00:16<01:38,  1.79s/it]"
     ]
    },
    {
     "name": "stdout",
     "output_type": "stream",
     "text": [
      "epoch : 9, train loss : 0.887, valid loss : 1.617, train acc : 0.901, valid acc : 0.975, train f1 : 0.901, valid f1 : 0.767\n"
     ]
    },
    {
     "name": "stderr",
     "output_type": "stream",
     "text": [
      "training process:  27%|██▋       | 17/64 [00:29<01:20,  1.71s/it]"
     ]
    },
    {
     "name": "stdout",
     "output_type": "stream",
     "text": [
      "epoch : 17, train loss : 0.224, valid loss : 3.459, train acc : 0.977, valid acc : 0.986, train f1 : 0.977, valid f1 : 0.811\n"
     ]
    },
    {
     "name": "stderr",
     "output_type": "stream",
     "text": [
      "training process:  39%|███▉      | 25/64 [00:43<01:07,  1.72s/it]"
     ]
    },
    {
     "name": "stdout",
     "output_type": "stream",
     "text": [
      "epoch : 25, train loss : 0.149, valid loss : 3.163, train acc : 0.977, valid acc : 0.992, train f1 : 0.977, valid f1 : 0.914\n"
     ]
    },
    {
     "name": "stderr",
     "output_type": "stream",
     "text": [
      "training process:  52%|█████▏    | 33/64 [00:56<00:51,  1.67s/it]"
     ]
    },
    {
     "name": "stdout",
     "output_type": "stream",
     "text": [
      "epoch : 33, train loss : 0.137, valid loss : 6.000, train acc : 0.991, valid acc : 0.994, train f1 : 0.991, valid f1 : 0.933\n"
     ]
    },
    {
     "name": "stderr",
     "output_type": "stream",
     "text": [
      "training process:  64%|██████▍   | 41/64 [01:10<00:39,  1.74s/it]"
     ]
    },
    {
     "name": "stdout",
     "output_type": "stream",
     "text": [
      "epoch : 41, train loss : 0.170, valid loss : 9.022, train acc : 0.990, valid acc : 0.988, train f1 : 0.990, valid f1 : 0.846\n"
     ]
    },
    {
     "name": "stderr",
     "output_type": "stream",
     "text": [
      "training process:  77%|███████▋  | 49/64 [01:24<00:26,  1.79s/it]"
     ]
    },
    {
     "name": "stdout",
     "output_type": "stream",
     "text": [
      "epoch : 49, train loss : 0.202, valid loss : 8.505, train acc : 0.994, valid acc : 0.992, train f1 : 0.994, valid f1 : 0.906\n"
     ]
    },
    {
     "name": "stderr",
     "output_type": "stream",
     "text": [
      "training process:  89%|████████▉ | 57/64 [01:38<00:12,  1.72s/it]"
     ]
    },
    {
     "name": "stdout",
     "output_type": "stream",
     "text": [
      "epoch : 57, train loss : 0.028, valid loss : 8.156, train acc : 0.997, valid acc : 0.990, train f1 : 0.997, valid f1 : 0.878\n"
     ]
    },
    {
     "name": "stderr",
     "output_type": "stream",
     "text": [
      "training process: 100%|██████████| 64/64 [01:49<00:00,  1.72s/it]"
     ]
    },
    {
     "name": "stdout",
     "output_type": "stream",
     "text": [
      "training process finished, best loss : 6.000 and best acc : 0.994, best f1 : 0.933, best epoch : 32\n"
     ]
    },
    {
     "name": "stderr",
     "output_type": "stream",
     "text": [
      "\n"
     ]
    }
   ],
   "source": [
    "device = torch.device(\"cuda\" if torch.cuda.is_available() else \"cpu\")\n",
    "lr = 1e-3\n",
    "loss_fn = FocalLoss(per_cls_weights, gamma = 2)\n",
    "num_epoch = 64\n",
    "verbose = 8\n",
    "save_best_dir = \"./weights/ts_transformer_best.pt\"\n",
    "save_last_dir = \"./weights/ts_transformer_last.pt\"\n",
    "max_norm_grad = 1.0\n",
    "criteria = \"f1_score\"\n",
    "optimizer = torch.optim.AdamW(model.parameters(), lr = lr)\n",
    "\n",
    "model.to(device)\n",
    "\n",
    "train_loss, train_acc, train_f1, valid_loss, valid_acc, valid_f1 = train(\n",
    "    train_loader,\n",
    "    valid_loader,\n",
    "    model,\n",
    "    optimizer,\n",
    "    None,\n",
    "    loss_fn,\n",
    "    device,\n",
    "    num_epoch,\n",
    "    verbose,\n",
    "    save_best_dir,\n",
    "    save_last_dir,\n",
    "    max_norm_grad,\n",
    "    criteria\n",
    ")"
   ]
  }
 ],
 "metadata": {
  "kernelspec": {
   "display_name": "Python 3.9.7 ('research-env': conda)",
   "language": "python",
   "name": "python3"
  },
  "language_info": {
   "codemirror_mode": {
    "name": "ipython",
    "version": 3
   },
   "file_extension": ".py",
   "mimetype": "text/x-python",
   "name": "python",
   "nbconvert_exporter": "python",
   "pygments_lexer": "ipython3",
   "version": "3.9.7"
  },
  "orig_nbformat": 4,
  "vscode": {
   "interpreter": {
    "hash": "13691d44a992e9eda53412410cd635bb66f9b6a1d0122e1b07e8626f6211bdec"
   }
  }
 },
 "nbformat": 4,
 "nbformat_minor": 2
}
