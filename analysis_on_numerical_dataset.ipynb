{
 "cells": [
  {
   "cell_type": "code",
   "execution_count": 44,
   "metadata": {},
   "outputs": [],
   "source": [
    "import torch\n",
    "import pandas as pd\n",
    "import numpy as np\n",
    "import matplotlib.pyplot as plt\n",
    "from src.config import Config"
   ]
  },
  {
   "cell_type": "code",
   "execution_count": null,
   "metadata": {},
   "outputs": [],
   "source": [
    "df = pd.read_csv(\"./dataset/KSTAR_Disruption_ts_data.csv\")"
   ]
  },
  {
   "cell_type": "code",
   "execution_count": 74,
   "metadata": {},
   "outputs": [],
   "source": [
    "df_extend = pd.read_csv(\"./dataset/KSTAR_Disruption_ts_data_extend.csv\")"
   ]
  },
  {
   "cell_type": "code",
   "execution_count": null,
   "metadata": {},
   "outputs": [],
   "source": [
    "df_disrupt = pd.read_csv(\"./dataset/KSTAR_Disruption_Shot_List.csv\", encoding = \"euc-kr\")"
   ]
  },
  {
   "cell_type": "code",
   "execution_count": 63,
   "metadata": {},
   "outputs": [
    {
     "data": {
      "text/html": [
       "<div>\n",
       "<style scoped>\n",
       "    .dataframe tbody tr th:only-of-type {\n",
       "        vertical-align: middle;\n",
       "    }\n",
       "\n",
       "    .dataframe tbody tr th {\n",
       "        vertical-align: top;\n",
       "    }\n",
       "\n",
       "    .dataframe thead th {\n",
       "        text-align: right;\n",
       "    }\n",
       "</style>\n",
       "<table border=\"1\" class=\"dataframe\">\n",
       "  <thead>\n",
       "    <tr style=\"text-align: right;\">\n",
       "      <th></th>\n",
       "      <th>\\q95</th>\n",
       "      <th>\\ipmhd</th>\n",
       "      <th>\\kappa</th>\n",
       "      <th>\\tritop</th>\n",
       "      <th>\\tribot</th>\n",
       "      <th>\\betap</th>\n",
       "      <th>\\betan</th>\n",
       "      <th>\\li</th>\n",
       "      <th>\\WTOT_DLM03</th>\n",
       "      <th>\\ne_inter01</th>\n",
       "    </tr>\n",
       "  </thead>\n",
       "  <tbody>\n",
       "    <tr>\n",
       "      <th>count</th>\n",
       "      <td>162209.000000</td>\n",
       "      <td>162209.000000</td>\n",
       "      <td>162209.000000</td>\n",
       "      <td>162209.000000</td>\n",
       "      <td>162209.000000</td>\n",
       "      <td>162209.000000</td>\n",
       "      <td>162209.000000</td>\n",
       "      <td>162209.000000</td>\n",
       "      <td>157004.000000</td>\n",
       "      <td>156762.000000</td>\n",
       "    </tr>\n",
       "    <tr>\n",
       "      <th>mean</th>\n",
       "      <td>6.180254</td>\n",
       "      <td>-502736.592535</td>\n",
       "      <td>1.660534</td>\n",
       "      <td>0.374214</td>\n",
       "      <td>0.645031</td>\n",
       "      <td>1.138076</td>\n",
       "      <td>1.307191</td>\n",
       "      <td>1.426084</td>\n",
       "      <td>170.351617</td>\n",
       "      <td>5.687079</td>\n",
       "    </tr>\n",
       "    <tr>\n",
       "      <th>std</th>\n",
       "      <td>13.176609</td>\n",
       "      <td>101165.962627</td>\n",
       "      <td>0.166392</td>\n",
       "      <td>0.174847</td>\n",
       "      <td>0.242654</td>\n",
       "      <td>7.352577</td>\n",
       "      <td>5.137580</td>\n",
       "      <td>24.207936</td>\n",
       "      <td>165.675998</td>\n",
       "      <td>16.471526</td>\n",
       "    </tr>\n",
       "    <tr>\n",
       "      <th>min</th>\n",
       "      <td>0.353544</td>\n",
       "      <td>-981561.125000</td>\n",
       "      <td>0.733197</td>\n",
       "      <td>-0.631636</td>\n",
       "      <td>-0.702209</td>\n",
       "      <td>-1523.972778</td>\n",
       "      <td>-1231.031128</td>\n",
       "      <td>0.081532</td>\n",
       "      <td>-884.889832</td>\n",
       "      <td>-147.045563</td>\n",
       "    </tr>\n",
       "    <tr>\n",
       "      <th>25%</th>\n",
       "      <td>4.473763</td>\n",
       "      <td>-555050.250000</td>\n",
       "      <td>1.614300</td>\n",
       "      <td>0.278204</td>\n",
       "      <td>0.557425</td>\n",
       "      <td>0.743523</td>\n",
       "      <td>0.896452</td>\n",
       "      <td>0.951865</td>\n",
       "      <td>86.955021</td>\n",
       "      <td>2.085016</td>\n",
       "    </tr>\n",
       "    <tr>\n",
       "      <th>50%</th>\n",
       "      <td>5.167495</td>\n",
       "      <td>-490556.062500</td>\n",
       "      <td>1.705674</td>\n",
       "      <td>0.356362</td>\n",
       "      <td>0.735089</td>\n",
       "      <td>1.158235</td>\n",
       "      <td>1.427461</td>\n",
       "      <td>1.045377</td>\n",
       "      <td>172.015015</td>\n",
       "      <td>4.444994</td>\n",
       "    </tr>\n",
       "    <tr>\n",
       "      <th>75%</th>\n",
       "      <td>6.376876</td>\n",
       "      <td>-461266.906250</td>\n",
       "      <td>1.765383</td>\n",
       "      <td>0.444265</td>\n",
       "      <td>0.826086</td>\n",
       "      <td>1.679252</td>\n",
       "      <td>1.773190</td>\n",
       "      <td>1.263255</td>\n",
       "      <td>264.135788</td>\n",
       "      <td>7.704017</td>\n",
       "    </tr>\n",
       "    <tr>\n",
       "      <th>max</th>\n",
       "      <td>1973.444702</td>\n",
       "      <td>-90612.476562</td>\n",
       "      <td>2.196418</td>\n",
       "      <td>0.977277</td>\n",
       "      <td>0.997593</td>\n",
       "      <td>29.288258</td>\n",
       "      <td>20.521006</td>\n",
       "      <td>3990.430908</td>\n",
       "      <td>913.081360</td>\n",
       "      <td>158.136719</td>\n",
       "    </tr>\n",
       "  </tbody>\n",
       "</table>\n",
       "</div>"
      ],
      "text/plain": [
       "                \\q95         \\ipmhd         \\kappa        \\tritop  \\\n",
       "count  162209.000000  162209.000000  162209.000000  162209.000000   \n",
       "mean        6.180254 -502736.592535       1.660534       0.374214   \n",
       "std        13.176609  101165.962627       0.166392       0.174847   \n",
       "min         0.353544 -981561.125000       0.733197      -0.631636   \n",
       "25%         4.473763 -555050.250000       1.614300       0.278204   \n",
       "50%         5.167495 -490556.062500       1.705674       0.356362   \n",
       "75%         6.376876 -461266.906250       1.765383       0.444265   \n",
       "max      1973.444702  -90612.476562       2.196418       0.977277   \n",
       "\n",
       "             \\tribot         \\betap         \\betan            \\li  \\\n",
       "count  162209.000000  162209.000000  162209.000000  162209.000000   \n",
       "mean        0.645031       1.138076       1.307191       1.426084   \n",
       "std         0.242654       7.352577       5.137580      24.207936   \n",
       "min        -0.702209   -1523.972778   -1231.031128       0.081532   \n",
       "25%         0.557425       0.743523       0.896452       0.951865   \n",
       "50%         0.735089       1.158235       1.427461       1.045377   \n",
       "75%         0.826086       1.679252       1.773190       1.263255   \n",
       "max         0.997593      29.288258      20.521006    3990.430908   \n",
       "\n",
       "         \\WTOT_DLM03    \\ne_inter01  \n",
       "count  157004.000000  156762.000000  \n",
       "mean      170.351617       5.687079  \n",
       "std       165.675998      16.471526  \n",
       "min      -884.889832    -147.045563  \n",
       "25%        86.955021       2.085016  \n",
       "50%       172.015015       4.444994  \n",
       "75%       264.135788       7.704017  \n",
       "max       913.081360     158.136719  "
      ]
     },
     "execution_count": 63,
     "metadata": {},
     "output_type": "execute_result"
    }
   ],
   "source": [
    "config = Config()\n",
    "df[config.DEFAULT_0D_COLS].describe()"
   ]
  },
  {
   "cell_type": "code",
   "execution_count": 99,
   "metadata": {},
   "outputs": [
    {
     "data": {
      "text/html": [
       "<div>\n",
       "<style scoped>\n",
       "    .dataframe tbody tr th:only-of-type {\n",
       "        vertical-align: middle;\n",
       "    }\n",
       "\n",
       "    .dataframe tbody tr th {\n",
       "        vertical-align: top;\n",
       "    }\n",
       "\n",
       "    .dataframe thead th {\n",
       "        text-align: right;\n",
       "    }\n",
       "</style>\n",
       "<table border=\"1\" class=\"dataframe\">\n",
       "  <thead>\n",
       "    <tr style=\"text-align: right;\">\n",
       "      <th></th>\n",
       "      <th>\\q95</th>\n",
       "      <th>\\ipmhd</th>\n",
       "      <th>\\kappa</th>\n",
       "      <th>\\tritop</th>\n",
       "      <th>\\tribot</th>\n",
       "      <th>\\betap</th>\n",
       "      <th>\\betan</th>\n",
       "      <th>\\li</th>\n",
       "      <th>\\WTOT_DLM03</th>\n",
       "      <th>\\ne_inter01</th>\n",
       "    </tr>\n",
       "  </thead>\n",
       "  <tbody>\n",
       "    <tr>\n",
       "      <th>count</th>\n",
       "      <td>384222.000000</td>\n",
       "      <td>384222.000000</td>\n",
       "      <td>384222.000000</td>\n",
       "      <td>384222.000000</td>\n",
       "      <td>384222.000000</td>\n",
       "      <td>384222.000000</td>\n",
       "      <td>384222.000000</td>\n",
       "      <td>384222.000000</td>\n",
       "      <td>384222.000000</td>\n",
       "      <td>384222.000000</td>\n",
       "    </tr>\n",
       "    <tr>\n",
       "      <th>mean</th>\n",
       "      <td>5.416761</td>\n",
       "      <td>493457.243563</td>\n",
       "      <td>1.658859</td>\n",
       "      <td>0.359502</td>\n",
       "      <td>0.649516</td>\n",
       "      <td>1.128335</td>\n",
       "      <td>1.323952</td>\n",
       "      <td>1.113861</td>\n",
       "      <td>189.583887</td>\n",
       "      <td>8.040476</td>\n",
       "    </tr>\n",
       "    <tr>\n",
       "      <th>std</th>\n",
       "      <td>2.645876</td>\n",
       "      <td>122575.842464</td>\n",
       "      <td>0.154963</td>\n",
       "      <td>0.171254</td>\n",
       "      <td>0.235544</td>\n",
       "      <td>0.571841</td>\n",
       "      <td>0.657430</td>\n",
       "      <td>0.342583</td>\n",
       "      <td>123.593837</td>\n",
       "      <td>12.786798</td>\n",
       "    </tr>\n",
       "    <tr>\n",
       "      <th>min</th>\n",
       "      <td>-16.374122</td>\n",
       "      <td>14.590723</td>\n",
       "      <td>-0.048202</td>\n",
       "      <td>-0.969409</td>\n",
       "      <td>-1.254587</td>\n",
       "      <td>0.000000</td>\n",
       "      <td>0.000000</td>\n",
       "      <td>-8.796540</td>\n",
       "      <td>0.000000</td>\n",
       "      <td>0.000000</td>\n",
       "    </tr>\n",
       "    <tr>\n",
       "      <th>25%</th>\n",
       "      <td>4.461235</td>\n",
       "      <td>462857.516187</td>\n",
       "      <td>1.609032</td>\n",
       "      <td>0.267016</td>\n",
       "      <td>0.596596</td>\n",
       "      <td>0.692660</td>\n",
       "      <td>0.802653</td>\n",
       "      <td>0.958687</td>\n",
       "      <td>96.334417</td>\n",
       "      <td>2.453739</td>\n",
       "    </tr>\n",
       "    <tr>\n",
       "      <th>50%</th>\n",
       "      <td>5.117193</td>\n",
       "      <td>491120.542580</td>\n",
       "      <td>1.694742</td>\n",
       "      <td>0.344484</td>\n",
       "      <td>0.730692</td>\n",
       "      <td>1.121820</td>\n",
       "      <td>1.394756</td>\n",
       "      <td>1.058469</td>\n",
       "      <td>177.171692</td>\n",
       "      <td>4.576937</td>\n",
       "    </tr>\n",
       "    <tr>\n",
       "      <th>75%</th>\n",
       "      <td>5.929296</td>\n",
       "      <td>554900.040384</td>\n",
       "      <td>1.752754</td>\n",
       "      <td>0.433838</td>\n",
       "      <td>0.822524</td>\n",
       "      <td>1.520958</td>\n",
       "      <td>1.778921</td>\n",
       "      <td>1.261903</td>\n",
       "      <td>264.395036</td>\n",
       "      <td>7.864605</td>\n",
       "    </tr>\n",
       "    <tr>\n",
       "      <th>max</th>\n",
       "      <td>119.321524</td>\n",
       "      <td>981561.125000</td>\n",
       "      <td>2.525622</td>\n",
       "      <td>0.946824</td>\n",
       "      <td>1.784719</td>\n",
       "      <td>4.558985</td>\n",
       "      <td>7.466848</td>\n",
       "      <td>23.452430</td>\n",
       "      <td>912.314621</td>\n",
       "      <td>158.115233</td>\n",
       "    </tr>\n",
       "  </tbody>\n",
       "</table>\n",
       "</div>"
      ],
      "text/plain": [
       "                \\q95         \\ipmhd         \\kappa        \\tritop  \\\n",
       "count  384222.000000  384222.000000  384222.000000  384222.000000   \n",
       "mean        5.416761  493457.243563       1.658859       0.359502   \n",
       "std         2.645876  122575.842464       0.154963       0.171254   \n",
       "min       -16.374122      14.590723      -0.048202      -0.969409   \n",
       "25%         4.461235  462857.516187       1.609032       0.267016   \n",
       "50%         5.117193  491120.542580       1.694742       0.344484   \n",
       "75%         5.929296  554900.040384       1.752754       0.433838   \n",
       "max       119.321524  981561.125000       2.525622       0.946824   \n",
       "\n",
       "             \\tribot         \\betap         \\betan            \\li  \\\n",
       "count  384222.000000  384222.000000  384222.000000  384222.000000   \n",
       "mean        0.649516       1.128335       1.323952       1.113861   \n",
       "std         0.235544       0.571841       0.657430       0.342583   \n",
       "min        -1.254587       0.000000       0.000000      -8.796540   \n",
       "25%         0.596596       0.692660       0.802653       0.958687   \n",
       "50%         0.730692       1.121820       1.394756       1.058469   \n",
       "75%         0.822524       1.520958       1.778921       1.261903   \n",
       "max         1.784719       4.558985       7.466848      23.452430   \n",
       "\n",
       "         \\WTOT_DLM03    \\ne_inter01  \n",
       "count  384222.000000  384222.000000  \n",
       "mean      189.583887       8.040476  \n",
       "std       123.593837      12.786798  \n",
       "min         0.000000       0.000000  \n",
       "25%        96.334417       2.453739  \n",
       "50%       177.171692       4.576937  \n",
       "75%       264.395036       7.864605  \n",
       "max       912.314621     158.115233  "
      ]
     },
     "execution_count": 99,
     "metadata": {},
     "output_type": "execute_result"
    }
   ],
   "source": [
    "df_extend[config.DEFAULT_0D_COLS].describe()"
   ]
  },
  {
   "cell_type": "code",
   "execution_count": 76,
   "metadata": {},
   "outputs": [
    {
     "data": {
      "text/html": [
       "<div>\n",
       "<style scoped>\n",
       "    .dataframe tbody tr th:only-of-type {\n",
       "        vertical-align: middle;\n",
       "    }\n",
       "\n",
       "    .dataframe tbody tr th {\n",
       "        vertical-align: top;\n",
       "    }\n",
       "\n",
       "    .dataframe thead th {\n",
       "        text-align: right;\n",
       "    }\n",
       "</style>\n",
       "<table border=\"1\" class=\"dataframe\">\n",
       "  <thead>\n",
       "    <tr style=\"text-align: right;\">\n",
       "      <th></th>\n",
       "      <th>\\TS_NE_CORE_AVG</th>\n",
       "      <th>\\TS_NE_EDGE_AVG</th>\n",
       "      <th>\\TS_TE_CORE_AVG</th>\n",
       "      <th>\\TS_TE_EDGE_AVG</th>\n",
       "    </tr>\n",
       "  </thead>\n",
       "  <tbody>\n",
       "    <tr>\n",
       "      <th>count</th>\n",
       "      <td>384222.000000</td>\n",
       "      <td>384222.000000</td>\n",
       "      <td>384222.000000</td>\n",
       "      <td>384222.000000</td>\n",
       "    </tr>\n",
       "    <tr>\n",
       "      <th>mean</th>\n",
       "      <td>1.660596</td>\n",
       "      <td>11.341168</td>\n",
       "      <td>1.763073</td>\n",
       "      <td>0.976633</td>\n",
       "    </tr>\n",
       "    <tr>\n",
       "      <th>std</th>\n",
       "      <td>1.798283</td>\n",
       "      <td>317.384019</td>\n",
       "      <td>0.902946</td>\n",
       "      <td>0.618894</td>\n",
       "    </tr>\n",
       "    <tr>\n",
       "      <th>min</th>\n",
       "      <td>-14.027820</td>\n",
       "      <td>-233.096622</td>\n",
       "      <td>-10.121358</td>\n",
       "      <td>-8.302827</td>\n",
       "    </tr>\n",
       "    <tr>\n",
       "      <th>25%</th>\n",
       "      <td>0.448130</td>\n",
       "      <td>0.348704</td>\n",
       "      <td>1.179235</td>\n",
       "      <td>0.493548</td>\n",
       "    </tr>\n",
       "    <tr>\n",
       "      <th>50%</th>\n",
       "      <td>1.460398</td>\n",
       "      <td>0.591299</td>\n",
       "      <td>1.724637</td>\n",
       "      <td>1.016331</td>\n",
       "    </tr>\n",
       "    <tr>\n",
       "      <th>75%</th>\n",
       "      <td>2.587427</td>\n",
       "      <td>1.106034</td>\n",
       "      <td>2.238724</td>\n",
       "      <td>1.398167</td>\n",
       "    </tr>\n",
       "    <tr>\n",
       "      <th>max</th>\n",
       "      <td>95.331563</td>\n",
       "      <td>22686.592346</td>\n",
       "      <td>19.120225</td>\n",
       "      <td>10.591555</td>\n",
       "    </tr>\n",
       "  </tbody>\n",
       "</table>\n",
       "</div>"
      ],
      "text/plain": [
       "       \\TS_NE_CORE_AVG  \\TS_NE_EDGE_AVG  \\TS_TE_CORE_AVG  \\TS_TE_EDGE_AVG\n",
       "count    384222.000000    384222.000000    384222.000000    384222.000000\n",
       "mean          1.660596        11.341168         1.763073         0.976633\n",
       "std           1.798283       317.384019         0.902946         0.618894\n",
       "min         -14.027820      -233.096622       -10.121358        -8.302827\n",
       "25%           0.448130         0.348704         1.179235         0.493548\n",
       "50%           1.460398         0.591299         1.724637         1.016331\n",
       "75%           2.587427         1.106034         2.238724         1.398167\n",
       "max          95.331563     22686.592346        19.120225        10.591555"
      ]
     },
     "execution_count": 76,
     "metadata": {},
     "output_type": "execute_result"
    }
   ],
   "source": [
    "df_extend[config.TS_AVG_COLS].describe()"
   ]
  },
  {
   "cell_type": "code",
   "execution_count": 78,
   "metadata": {},
   "outputs": [
    {
     "data": {
      "text/plain": [
       "93050    18441\n",
       "Name: shot, dtype: int64"
      ]
     },
     "execution_count": 78,
     "metadata": {},
     "output_type": "execute_result"
    }
   ],
   "source": [
    "df[df['\\\\WTOT_DLM03'] == df['\\\\WTOT_DLM03'].min()].shot"
   ]
  },
  {
   "cell_type": "code",
   "execution_count": 79,
   "metadata": {},
   "outputs": [
    {
     "data": {
      "text/plain": [
       "264701    19154\n",
       "Name: shot, dtype: int64"
      ]
     },
     "execution_count": 79,
     "metadata": {},
     "output_type": "execute_result"
    }
   ],
   "source": [
    "df_extend[df_extend['\\\\WTOT_DLM03'] == df_extend['\\\\WTOT_DLM03'].min()].shot"
   ]
  },
  {
   "cell_type": "code",
   "execution_count": 80,
   "metadata": {},
   "outputs": [
    {
     "data": {
      "text/plain": [
       "126389    20682\n",
       "Name: shot, dtype: int64"
      ]
     },
     "execution_count": 80,
     "metadata": {},
     "output_type": "execute_result"
    }
   ],
   "source": [
    "df[df['\\\\betap'] == df['\\\\betap'].min()].shot"
   ]
  },
  {
   "cell_type": "code",
   "execution_count": 81,
   "metadata": {},
   "outputs": [
    {
     "data": {
      "text/plain": [
       "7244    13520\n",
       "Name: shot, dtype: int64"
      ]
     },
     "execution_count": 81,
     "metadata": {},
     "output_type": "execute_result"
    }
   ],
   "source": [
    "df_extend[df_extend['\\\\betap'] == df_extend['\\\\betap'].min()].shot"
   ]
  },
  {
   "cell_type": "code",
   "execution_count": 102,
   "metadata": {},
   "outputs": [],
   "source": [
    "# negative value removal\n",
    "if '\\\\ipmhd' in config.DEFAULT_0D_COLS:\n",
    "    df_extend['\\\\ipmhd'] = df_extend['\\\\ipmhd'].abs().values\n",
    "    \n",
    "if '\\\\betap' in config.DEFAULT_0D_COLS:\n",
    "    df_extend['\\\\betap'] = df_extend['\\\\betap'].apply(lambda x : x if x > 0 else 0)\n",
    "\n",
    "if '\\\\betan' in config.DEFAULT_0D_COLS:\n",
    "    df_extend['\\\\betan'] = df_extend['\\\\betan'].apply(lambda x : x if x > 0 else 0)\n",
    "    \n",
    "if '\\\\WTOT_DLM03' in config.DEFAULT_0D_COLS:\n",
    "    df_extend['\\\\WTOT_DLM03'] = df_extend['\\\\WTOT_DLM03'].apply(lambda x : x if x > 0 else 0)\n",
    "    \n",
    "if '\\\\ne_inter01' in config.DEFAULT_0D_COLS:\n",
    "    df_extend['\\\\ne_inter01'] = df_extend['\\\\ne_inter01'].apply(lambda x : x if x > 0 else 0)\n",
    "    \n",
    "if '\\\\li' in config.DEFAULT_0D_COLS:\n",
    "    df_extend['\\\\li'] = df_extend['\\\\li'].apply(lambda x : x if x > 0 else 0)"
   ]
  },
  {
   "cell_type": "code",
   "execution_count": 92,
   "metadata": {},
   "outputs": [
    {
     "data": {
      "text/plain": [
       "[<matplotlib.lines.Line2D at 0x7f9a35aed3d0>]"
      ]
     },
     "execution_count": 92,
     "metadata": {},
     "output_type": "execute_result"
    },
    {
     "data": {
      "image/png": "[encoded data removed]",
      "text/plain": [
       "<Figure size 432x288 with 1 Axes>"
      ]
     },
     "metadata": {
      "needs_background": "light"
     },
     "output_type": "display_data"
    }
   ],
   "source": [
    "import matplotlib.pyplot as plt\n",
    "plt.plot(df[df.shot == 14003]['time'], df[df.shot == 14003]['\\\\WTOT_DLM03'])"
   ]
  },
  {
   "cell_type": "code",
   "execution_count": 93,
   "metadata": {},
   "outputs": [
    {
     "data": {
      "text/plain": [
       "[<matplotlib.lines.Line2D at 0x7f9a3668cbb0>]"
      ]
     },
     "execution_count": 93,
     "metadata": {},
     "output_type": "execute_result"
    },
    {
     "data": {
      "image/png": "[encoded data removed]",
      "text/plain": [
       "<Figure size 432x288 with 1 Axes>"
      ]
     },
     "metadata": {
      "needs_background": "light"
     },
     "output_type": "display_data"
    }
   ],
   "source": [
    "import matplotlib.pyplot as plt\n",
    "plt.plot(df_extend[df_extend.shot == 19154]['time'], df_extend[df_extend.shot == 19154]['\\\\WTOT_DLM03'])"
   ]
  },
  {
   "cell_type": "code",
   "execution_count": 100,
   "metadata": {},
   "outputs": [
    {
     "data": {
      "text/plain": [
       "16786    13706\n",
       "Name: shot, dtype: int64"
      ]
     },
     "execution_count": 100,
     "metadata": {},
     "output_type": "execute_result"
    }
   ],
   "source": [
    "df_extend[df_extend['\\\\li'] == df_extend['\\\\li'].min()].shot"
   ]
  },
  {
   "cell_type": "code",
   "execution_count": 103,
   "metadata": {},
   "outputs": [
    {
     "data": {
      "text/plain": [
       "[<matplotlib.lines.Line2D at 0x7f9a36467370>]"
      ]
     },
     "execution_count": 103,
     "metadata": {},
     "output_type": "execute_result"
    },
    {
     "data": {
      "image/png": "[encoded data removed]",
      "text/plain": [
       "<Figure size 432x288 with 1 Axes>"
      ]
     },
     "metadata": {
      "needs_background": "light"
     },
     "output_type": "display_data"
    }
   ],
   "source": [
    "plt.plot(df_extend[df_extend.shot == 13706]['time'], df_extend[df_extend.shot == 13706]['\\\\li'])"
   ]
  },
  {
   "cell_type": "code",
   "execution_count": 94,
   "metadata": {},
   "outputs": [
    {
     "data": {
      "text/plain": [
       "array([], dtype=int64)"
      ]
     },
     "execution_count": 94,
     "metadata": {},
     "output_type": "execute_result"
    }
   ],
   "source": [
    "np.unique(df_extend[df_extend['\\\\WTOT_DLM03'] < 0].shot)"
   ]
  },
  {
   "cell_type": "code",
   "execution_count": 95,
   "metadata": {},
   "outputs": [
    {
     "data": {
      "text/plain": [
       "[<matplotlib.lines.Line2D at 0x7f9a366392e0>]"
      ]
     },
     "execution_count": 95,
     "metadata": {},
     "output_type": "execute_result"
    },
    {
     "data": {
      "image/png": "[encoded data removed]",
      "text/plain": [
       "<Figure size 432x288 with 1 Axes>"
      ]
     },
     "metadata": {
      "needs_background": "light"
     },
     "output_type": "display_data"
    }
   ],
   "source": [
    "shot = 21650\n",
    "plt.plot(df_extend[df_extend.shot == shot]['time'], df_extend[df_extend.shot == shot]['\\\\WTOT_DLM03'])"
   ]
  },
  {
   "cell_type": "code",
   "execution_count": 96,
   "metadata": {},
   "outputs": [
    {
     "data": {
      "text/plain": [
       "14558    -13.450731\n",
       "14559     -4.093238\n",
       "14560      4.263850\n",
       "14561     15.507334\n",
       "14562     20.342239\n",
       "            ...    \n",
       "14850    140.656860\n",
       "14851    140.368607\n",
       "14852    139.525970\n",
       "14853    145.202301\n",
       "14854    139.120102\n",
       "Name: \\WTOT_DLM03, Length: 297, dtype: float64"
      ]
     },
     "execution_count": 96,
     "metadata": {},
     "output_type": "execute_result"
    }
   ],
   "source": [
    "df[df.shot == 14003]['\\\\WTOT_DLM03']"
   ]
  },
  {
   "cell_type": "code",
   "execution_count": 97,
   "metadata": {},
   "outputs": [
    {
     "data": {
      "text/plain": [
       "[<matplotlib.lines.Line2D at 0x7f9a36599760>]"
      ]
     },
     "execution_count": 97,
     "metadata": {},
     "output_type": "execute_result"
    },
    {
     "data": {
      "image/png": "[encoded data removed]",
      "text/plain": [
       "<Figure size 432x288 with 1 Axes>"
      ]
     },
     "metadata": {
      "needs_background": "light"
     },
     "output_type": "display_data"
    }
   ],
   "source": [
    "import matplotlib.pyplot as plt\n",
    "plt.plot(df[df.shot == 13520]['\\\\betap'])"
   ]
  },
  {
   "cell_type": "code",
   "execution_count": 98,
   "metadata": {},
   "outputs": [
    {
     "data": {
      "text/plain": [
       "[<matplotlib.lines.Line2D at 0x7f9a36578ac0>]"
      ]
     },
     "execution_count": 98,
     "metadata": {},
     "output_type": "execute_result"
    },
    {
     "data": {
      "image/png": "[encoded data removed]",
      "text/plain": [
       "<Figure size 432x288 with 1 Axes>"
      ]
     },
     "metadata": {
      "needs_background": "light"
     },
     "output_type": "display_data"
    }
   ],
   "source": [
    "plt.plot(df_extend[df_extend.shot == 13520]['\\\\betap'])"
   ]
  },
  {
   "cell_type": "code",
   "execution_count": 3,
   "metadata": {},
   "outputs": [],
   "source": [
    "shot_list = np.unique(df.shot.values).tolist()\n",
    "shot = shot_list[-100]\n",
    "df_shot = df[df.shot == shot]"
   ]
  },
  {
   "cell_type": "code",
   "execution_count": 4,
   "metadata": {},
   "outputs": [
    {
     "data": {
      "text/html": [
       "<div>\n",
       "<style scoped>\n",
       "    .dataframe tbody tr th:only-of-type {\n",
       "        vertical-align: middle;\n",
       "    }\n",
       "\n",
       "    .dataframe tbody tr th {\n",
       "        vertical-align: top;\n",
       "    }\n",
       "\n",
       "    .dataframe thead th {\n",
       "        text-align: right;\n",
       "    }\n",
       "</style>\n",
       "<table border=\"1\" class=\"dataframe\">\n",
       "  <thead>\n",
       "    <tr style=\"text-align: right;\">\n",
       "      <th></th>\n",
       "      <th>time</th>\n",
       "      <th>shot</th>\n",
       "      <th>\\q95</th>\n",
       "      <th>\\ipmhd</th>\n",
       "      <th>\\kappa</th>\n",
       "      <th>\\tritop</th>\n",
       "      <th>\\tribot</th>\n",
       "      <th>\\betap</th>\n",
       "      <th>\\betan</th>\n",
       "      <th>\\li</th>\n",
       "      <th>...</th>\n",
       "      <th>\\TS_EDGE11:EDGE11_NE</th>\n",
       "      <th>\\TS_EDGE12:EDGE12_NE</th>\n",
       "      <th>\\TS_EDGE13:EDGE13_NE</th>\n",
       "      <th>\\TS_EDGE14:EDGE14_NE</th>\n",
       "      <th>\\TS_EDGE15:EDGE15_NE</th>\n",
       "      <th>\\TS_NE_CORE_AVG</th>\n",
       "      <th>\\TS_NE_EDGE_AVG</th>\n",
       "      <th>\\TS_TE_CORE_AVG</th>\n",
       "      <th>\\TS_TE_EDGE_AVG</th>\n",
       "      <th>frame_idx</th>\n",
       "    </tr>\n",
       "  </thead>\n",
       "  <tbody>\n",
       "    <tr>\n",
       "      <th>377466</th>\n",
       "      <td>0.000000</td>\n",
       "      <td>21230</td>\n",
       "      <td>7.572676</td>\n",
       "      <td>467387.964844</td>\n",
       "      <td>1.340801</td>\n",
       "      <td>-0.210000</td>\n",
       "      <td>-0.210000</td>\n",
       "      <td>-0.029966</td>\n",
       "      <td>-0.390041</td>\n",
       "      <td>0.642715</td>\n",
       "      <td>...</td>\n",
       "      <td>0.0</td>\n",
       "      <td>0.0</td>\n",
       "      <td>0.0</td>\n",
       "      <td>0.0</td>\n",
       "      <td>0.0</td>\n",
       "      <td>0.425084</td>\n",
       "      <td>0.635837</td>\n",
       "      <td>6.540309</td>\n",
       "      <td>0.498035</td>\n",
       "      <td>0</td>\n",
       "    </tr>\n",
       "    <tr>\n",
       "      <th>377467</th>\n",
       "      <td>0.019048</td>\n",
       "      <td>21230</td>\n",
       "      <td>7.502187</td>\n",
       "      <td>467387.964844</td>\n",
       "      <td>1.340801</td>\n",
       "      <td>-0.199630</td>\n",
       "      <td>-0.199630</td>\n",
       "      <td>0.000372</td>\n",
       "      <td>-0.343860</td>\n",
       "      <td>0.642715</td>\n",
       "      <td>...</td>\n",
       "      <td>0.0</td>\n",
       "      <td>0.0</td>\n",
       "      <td>0.0</td>\n",
       "      <td>0.0</td>\n",
       "      <td>0.0</td>\n",
       "      <td>0.418127</td>\n",
       "      <td>0.607872</td>\n",
       "      <td>6.398234</td>\n",
       "      <td>0.494540</td>\n",
       "      <td>4</td>\n",
       "    </tr>\n",
       "    <tr>\n",
       "      <th>377468</th>\n",
       "      <td>0.038095</td>\n",
       "      <td>21230</td>\n",
       "      <td>7.431697</td>\n",
       "      <td>467387.964844</td>\n",
       "      <td>1.340801</td>\n",
       "      <td>-0.189260</td>\n",
       "      <td>-0.189260</td>\n",
       "      <td>0.030710</td>\n",
       "      <td>-0.297678</td>\n",
       "      <td>0.642715</td>\n",
       "      <td>...</td>\n",
       "      <td>0.0</td>\n",
       "      <td>0.0</td>\n",
       "      <td>0.0</td>\n",
       "      <td>0.0</td>\n",
       "      <td>0.0</td>\n",
       "      <td>0.411171</td>\n",
       "      <td>0.579907</td>\n",
       "      <td>6.256160</td>\n",
       "      <td>0.491044</td>\n",
       "      <td>8</td>\n",
       "    </tr>\n",
       "    <tr>\n",
       "      <th>377469</th>\n",
       "      <td>0.057143</td>\n",
       "      <td>21230</td>\n",
       "      <td>7.361208</td>\n",
       "      <td>467387.964844</td>\n",
       "      <td>1.340801</td>\n",
       "      <td>-0.178891</td>\n",
       "      <td>-0.178891</td>\n",
       "      <td>0.061048</td>\n",
       "      <td>-0.251497</td>\n",
       "      <td>0.642715</td>\n",
       "      <td>...</td>\n",
       "      <td>0.0</td>\n",
       "      <td>0.0</td>\n",
       "      <td>0.0</td>\n",
       "      <td>0.0</td>\n",
       "      <td>0.0</td>\n",
       "      <td>0.404215</td>\n",
       "      <td>0.551942</td>\n",
       "      <td>6.114085</td>\n",
       "      <td>0.487548</td>\n",
       "      <td>12</td>\n",
       "    </tr>\n",
       "    <tr>\n",
       "      <th>377470</th>\n",
       "      <td>0.076190</td>\n",
       "      <td>21230</td>\n",
       "      <td>7.290718</td>\n",
       "      <td>467387.964844</td>\n",
       "      <td>1.340801</td>\n",
       "      <td>-0.168521</td>\n",
       "      <td>-0.168521</td>\n",
       "      <td>0.091386</td>\n",
       "      <td>-0.205315</td>\n",
       "      <td>0.642715</td>\n",
       "      <td>...</td>\n",
       "      <td>0.0</td>\n",
       "      <td>0.0</td>\n",
       "      <td>0.0</td>\n",
       "      <td>0.0</td>\n",
       "      <td>0.0</td>\n",
       "      <td>0.397258</td>\n",
       "      <td>0.523977</td>\n",
       "      <td>5.972010</td>\n",
       "      <td>0.484053</td>\n",
       "      <td>16</td>\n",
       "    </tr>\n",
       "    <tr>\n",
       "      <th>...</th>\n",
       "      <td>...</td>\n",
       "      <td>...</td>\n",
       "      <td>...</td>\n",
       "      <td>...</td>\n",
       "      <td>...</td>\n",
       "      <td>...</td>\n",
       "      <td>...</td>\n",
       "      <td>...</td>\n",
       "      <td>...</td>\n",
       "      <td>...</td>\n",
       "      <td>...</td>\n",
       "      <td>...</td>\n",
       "      <td>...</td>\n",
       "      <td>...</td>\n",
       "      <td>...</td>\n",
       "      <td>...</td>\n",
       "      <td>...</td>\n",
       "      <td>...</td>\n",
       "      <td>...</td>\n",
       "      <td>...</td>\n",
       "      <td>...</td>\n",
       "    </tr>\n",
       "    <tr>\n",
       "      <th>377825</th>\n",
       "      <td>6.838095</td>\n",
       "      <td>21230</td>\n",
       "      <td>4.049520</td>\n",
       "      <td>480594.687500</td>\n",
       "      <td>1.780513</td>\n",
       "      <td>0.731087</td>\n",
       "      <td>0.011081</td>\n",
       "      <td>0.867326</td>\n",
       "      <td>1.115683</td>\n",
       "      <td>1.087158</td>\n",
       "      <td>...</td>\n",
       "      <td>0.0</td>\n",
       "      <td>0.0</td>\n",
       "      <td>0.0</td>\n",
       "      <td>0.0</td>\n",
       "      <td>0.0</td>\n",
       "      <td>0.650979</td>\n",
       "      <td>0.079700</td>\n",
       "      <td>2.269500</td>\n",
       "      <td>0.758642</td>\n",
       "      <td>1436</td>\n",
       "    </tr>\n",
       "    <tr>\n",
       "      <th>377826</th>\n",
       "      <td>6.857143</td>\n",
       "      <td>21230</td>\n",
       "      <td>4.049520</td>\n",
       "      <td>480594.687500</td>\n",
       "      <td>1.780513</td>\n",
       "      <td>0.731087</td>\n",
       "      <td>0.011081</td>\n",
       "      <td>0.867326</td>\n",
       "      <td>1.115683</td>\n",
       "      <td>1.087158</td>\n",
       "      <td>...</td>\n",
       "      <td>0.0</td>\n",
       "      <td>0.0</td>\n",
       "      <td>0.0</td>\n",
       "      <td>0.0</td>\n",
       "      <td>0.0</td>\n",
       "      <td>0.650979</td>\n",
       "      <td>0.079700</td>\n",
       "      <td>2.269500</td>\n",
       "      <td>0.758642</td>\n",
       "      <td>1440</td>\n",
       "    </tr>\n",
       "    <tr>\n",
       "      <th>377827</th>\n",
       "      <td>6.876190</td>\n",
       "      <td>21230</td>\n",
       "      <td>4.049520</td>\n",
       "      <td>480594.687500</td>\n",
       "      <td>1.780513</td>\n",
       "      <td>0.731087</td>\n",
       "      <td>0.011081</td>\n",
       "      <td>0.867326</td>\n",
       "      <td>1.115683</td>\n",
       "      <td>1.087158</td>\n",
       "      <td>...</td>\n",
       "      <td>0.0</td>\n",
       "      <td>0.0</td>\n",
       "      <td>0.0</td>\n",
       "      <td>0.0</td>\n",
       "      <td>0.0</td>\n",
       "      <td>0.650979</td>\n",
       "      <td>0.079700</td>\n",
       "      <td>2.269500</td>\n",
       "      <td>0.758642</td>\n",
       "      <td>1444</td>\n",
       "    </tr>\n",
       "    <tr>\n",
       "      <th>377828</th>\n",
       "      <td>6.895238</td>\n",
       "      <td>21230</td>\n",
       "      <td>4.049520</td>\n",
       "      <td>480594.687500</td>\n",
       "      <td>1.780513</td>\n",
       "      <td>0.731087</td>\n",
       "      <td>0.011081</td>\n",
       "      <td>0.867326</td>\n",
       "      <td>1.115683</td>\n",
       "      <td>1.087158</td>\n",
       "      <td>...</td>\n",
       "      <td>0.0</td>\n",
       "      <td>0.0</td>\n",
       "      <td>0.0</td>\n",
       "      <td>0.0</td>\n",
       "      <td>0.0</td>\n",
       "      <td>0.650979</td>\n",
       "      <td>0.079700</td>\n",
       "      <td>2.269500</td>\n",
       "      <td>0.758642</td>\n",
       "      <td>1448</td>\n",
       "    </tr>\n",
       "    <tr>\n",
       "      <th>377829</th>\n",
       "      <td>6.914286</td>\n",
       "      <td>21230</td>\n",
       "      <td>4.049520</td>\n",
       "      <td>480594.687500</td>\n",
       "      <td>1.780513</td>\n",
       "      <td>0.731087</td>\n",
       "      <td>0.011081</td>\n",
       "      <td>0.867326</td>\n",
       "      <td>1.115683</td>\n",
       "      <td>1.087158</td>\n",
       "      <td>...</td>\n",
       "      <td>0.0</td>\n",
       "      <td>0.0</td>\n",
       "      <td>0.0</td>\n",
       "      <td>0.0</td>\n",
       "      <td>0.0</td>\n",
       "      <td>0.650979</td>\n",
       "      <td>0.079700</td>\n",
       "      <td>2.269500</td>\n",
       "      <td>0.758642</td>\n",
       "      <td>1452</td>\n",
       "    </tr>\n",
       "  </tbody>\n",
       "</table>\n",
       "<p>364 rows × 83 columns</p>\n",
       "</div>"
      ],
      "text/plain": [
       "            time   shot      \\q95         \\ipmhd    \\kappa   \\tritop  \\\n",
       "377466  0.000000  21230  7.572676  467387.964844  1.340801 -0.210000   \n",
       "377467  0.019048  21230  7.502187  467387.964844  1.340801 -0.199630   \n",
       "377468  0.038095  21230  7.431697  467387.964844  1.340801 -0.189260   \n",
       "377469  0.057143  21230  7.361208  467387.964844  1.340801 -0.178891   \n",
       "377470  0.076190  21230  7.290718  467387.964844  1.340801 -0.168521   \n",
       "...          ...    ...       ...            ...       ...       ...   \n",
       "377825  6.838095  21230  4.049520  480594.687500  1.780513  0.731087   \n",
       "377826  6.857143  21230  4.049520  480594.687500  1.780513  0.731087   \n",
       "377827  6.876190  21230  4.049520  480594.687500  1.780513  0.731087   \n",
       "377828  6.895238  21230  4.049520  480594.687500  1.780513  0.731087   \n",
       "377829  6.914286  21230  4.049520  480594.687500  1.780513  0.731087   \n",
       "\n",
       "         \\tribot    \\betap    \\betan       \\li  ...  \\TS_EDGE11:EDGE11_NE  \\\n",
       "377466 -0.210000 -0.029966 -0.390041  0.642715  ...                   0.0   \n",
       "377467 -0.199630  0.000372 -0.343860  0.642715  ...                   0.0   \n",
       "377468 -0.189260  0.030710 -0.297678  0.642715  ...                   0.0   \n",
       "377469 -0.178891  0.061048 -0.251497  0.642715  ...                   0.0   \n",
       "377470 -0.168521  0.091386 -0.205315  0.642715  ...                   0.0   \n",
       "...          ...       ...       ...       ...  ...                   ...   \n",
       "377825  0.011081  0.867326  1.115683  1.087158  ...                   0.0   \n",
       "377826  0.011081  0.867326  1.115683  1.087158  ...                   0.0   \n",
       "377827  0.011081  0.867326  1.115683  1.087158  ...                   0.0   \n",
       "377828  0.011081  0.867326  1.115683  1.087158  ...                   0.0   \n",
       "377829  0.011081  0.867326  1.115683  1.087158  ...                   0.0   \n",
       "\n",
       "        \\TS_EDGE12:EDGE12_NE  \\TS_EDGE13:EDGE13_NE  \\TS_EDGE14:EDGE14_NE  \\\n",
       "377466                   0.0                   0.0                   0.0   \n",
       "377467                   0.0                   0.0                   0.0   \n",
       "377468                   0.0                   0.0                   0.0   \n",
       "377469                   0.0                   0.0                   0.0   \n",
       "377470                   0.0                   0.0                   0.0   \n",
       "...                      ...                   ...                   ...   \n",
       "377825                   0.0                   0.0                   0.0   \n",
       "377826                   0.0                   0.0                   0.0   \n",
       "377827                   0.0                   0.0                   0.0   \n",
       "377828                   0.0                   0.0                   0.0   \n",
       "377829                   0.0                   0.0                   0.0   \n",
       "\n",
       "        \\TS_EDGE15:EDGE15_NE  \\TS_NE_CORE_AVG  \\TS_NE_EDGE_AVG  \\\n",
       "377466                   0.0         0.425084         0.635837   \n",
       "377467                   0.0         0.418127         0.607872   \n",
       "377468                   0.0         0.411171         0.579907   \n",
       "377469                   0.0         0.404215         0.551942   \n",
       "377470                   0.0         0.397258         0.523977   \n",
       "...                      ...              ...              ...   \n",
       "377825                   0.0         0.650979         0.079700   \n",
       "377826                   0.0         0.650979         0.079700   \n",
       "377827                   0.0         0.650979         0.079700   \n",
       "377828                   0.0         0.650979         0.079700   \n",
       "377829                   0.0         0.650979         0.079700   \n",
       "\n",
       "        \\TS_TE_CORE_AVG  \\TS_TE_EDGE_AVG  frame_idx  \n",
       "377466         6.540309         0.498035          0  \n",
       "377467         6.398234         0.494540          4  \n",
       "377468         6.256160         0.491044          8  \n",
       "377469         6.114085         0.487548         12  \n",
       "377470         5.972010         0.484053         16  \n",
       "...                 ...              ...        ...  \n",
       "377825         2.269500         0.758642       1436  \n",
       "377826         2.269500         0.758642       1440  \n",
       "377827         2.269500         0.758642       1444  \n",
       "377828         2.269500         0.758642       1448  \n",
       "377829         2.269500         0.758642       1452  \n",
       "\n",
       "[364 rows x 83 columns]"
      ]
     },
     "execution_count": 4,
     "metadata": {},
     "output_type": "execute_result"
    }
   ],
   "source": [
    "df_shot"
   ]
  },
  {
   "cell_type": "code",
   "execution_count": 5,
   "metadata": {},
   "outputs": [],
   "source": [
    "kstar_shot_list = pd.read_csv('./dataset/KSTAR_Disruption_Shot_List.csv', encoding = \"euc-kr\")\n",
    "video_shot_list = np.unique(kstar_shot_list.shot.values).tolist()"
   ]
  },
  {
   "cell_type": "code",
   "execution_count": 6,
   "metadata": {},
   "outputs": [],
   "source": [
    "kstar_shot_list\n",
    "\n",
    "tTQend = kstar_shot_list[kstar_shot_list.shot == shot].tTQend.values\n",
    "tftsrt = kstar_shot_list[kstar_shot_list.shot == shot].tftsrt.values\n",
    "tipminf = kstar_shot_list[kstar_shot_list.shot == shot].tipminf.values"
   ]
  },
  {
   "cell_type": "code",
   "execution_count": 7,
   "metadata": {},
   "outputs": [
    {
     "name": "stdout",
     "output_type": "stream",
     "text": [
      "numerical variables :  923\n",
      "video shot list :  1096\n"
     ]
    }
   ],
   "source": [
    "print(\"numerical variables : \", len(shot_list))\n",
    "print(\"video shot list : \", len(video_shot_list))"
   ]
  },
  {
   "cell_type": "code",
   "execution_count": 8,
   "metadata": {},
   "outputs": [],
   "source": [
    "df_shot = df_shot.dropna(axis = 1)"
   ]
  },
  {
   "cell_type": "code",
   "execution_count": 9,
   "metadata": {},
   "outputs": [],
   "source": [
    "t = df_shot.time\n",
    "ip = df_shot['\\\\ipmhd']\n",
    "kappa = df_shot['\\\\kappa']\n",
    "betap = df_shot['\\\\betap']\n",
    "betan = df_shot['\\\\betan']\n",
    "li = df_shot['\\\\li']\n",
    "Bc = df_shot['\\\\bcentr']\n",
    "q95 = df_shot['\\\\q95']\n",
    "tritop = df_shot['\\\\tritop']\n",
    "tribot = df_shot['\\\\tribot']\n",
    "W_tot = df_shot['\\\\WTOT_DLM03']"
   ]
  },
  {
   "cell_type": "code",
   "execution_count": 12,
   "metadata": {},
   "outputs": [
    {
     "data": {
      "image/png": "[encoded data removed]",
      "text/plain": [
       "<Figure size 432x288 with 1 Axes>"
      ]
     },
     "metadata": {
      "needs_background": "light"
     },
     "output_type": "display_data"
    }
   ],
   "source": [
    "import matplotlib.pyplot as plt\n",
    "\n",
    "plt.plot(t, ip, 'b', label = 'plasma current')\n",
    "plt.axvline(x = tftsrt, ymin = 0,  color = \"blue\", linestyle = \"dashed\", label = \"burn-up\")\n",
    "plt.axvline(x = tipminf, ymin = 0, color = \"green\", linestyle = \"dashed\", label = \"current quench\")\n",
    "plt.axvline(x = tTQend, ymin = 0, color = \"black\", linestyle = \"dashed\", label = \"thermal quench\")\n",
    "plt.xlabel('time(s)')\n",
    "plt.ylabel('current')\n",
    "plt.ylim([0, max(ip)])\n",
    "plt.legend()\n",
    "plt.show()"
   ]
  },
  {
   "cell_type": "code",
   "execution_count": 14,
   "metadata": {},
   "outputs": [
    {
     "data": {
      "image/png": "[encoded data removed]",
      "text/plain": [
       "<Figure size 432x288 with 1 Axes>"
      ]
     },
     "metadata": {
      "needs_background": "light"
     },
     "output_type": "display_data"
    }
   ],
   "source": [
    "import matplotlib.pyplot as plt\n",
    "\n",
    "plt.plot(t[0:], q95[0:], 'b', label = 'q95')\n",
    "plt.axvline(x = tftsrt, ymin = 0,  color = \"blue\", linestyle = \"dashed\", label = \"burn-up\")\n",
    "plt.axvline(x = tipminf, ymin = 0, color = \"green\", linestyle = \"dashed\", label = \"current quench\")\n",
    "plt.axvline(x = tTQend, ymin = 0, color = \"black\", linestyle = \"dashed\", label = \"thermal quench\")\n",
    "plt.xlabel('time(s)')\n",
    "plt.ylabel('q95')\n",
    "plt.legend()\n",
    "plt.show()"
   ]
  },
  {
   "cell_type": "code",
   "execution_count": 15,
   "metadata": {},
   "outputs": [
    {
     "data": {
      "image/png": "[encoded data removed]",
      "text/plain": [
       "<Figure size 432x288 with 1 Axes>"
      ]
     },
     "metadata": {
      "needs_background": "light"
     },
     "output_type": "display_data"
    }
   ],
   "source": [
    "import matplotlib.pyplot as plt\n",
    "\n",
    "plt.plot(t, betap, label = 'plasma beta')\n",
    "plt.axvline(x = tftsrt, ymin = 0,  color = \"blue\", linestyle = \"dashed\", label = \"burn-up\")\n",
    "plt.axvline(x = tipminf, ymin = 0, color = \"green\", linestyle = \"dashed\", label = \"current quench\")\n",
    "plt.axvline(x = tTQend, ymin = 0, color = \"black\", linestyle = \"dashed\", label = \"thermal quench\")\n",
    "plt.xlabel('time(s)')\n",
    "plt.ylabel('beta p')\n",
    "plt.legend()\n",
    "plt.show()"
   ]
  },
  {
   "cell_type": "code",
   "execution_count": 16,
   "metadata": {},
   "outputs": [
    {
     "data": {
      "image/png": "[encoded data removed]",
      "text/plain": [
       "<Figure size 432x288 with 1 Axes>"
      ]
     },
     "metadata": {
      "needs_background": "light"
     },
     "output_type": "display_data"
    }
   ],
   "source": [
    "plt.plot(t, betan, label = 'plasma beta normalized')\n",
    "plt.axvline(x = tftsrt, ymin = 0,  color = \"blue\", linestyle = \"dashed\", label = \"burn-up\")\n",
    "plt.axvline(x = tipminf, ymin = 0, color = \"green\", linestyle = \"dashed\", label = \"current quench\")\n",
    "plt.axvline(x = tTQend, ymin = 0, color = \"black\", linestyle = \"dashed\", label = \"thermal quench\")\n",
    "plt.xlabel('time(s)')\n",
    "plt.ylabel('beta n')\n",
    "plt.legend()\n",
    "plt.show()"
   ]
  },
  {
   "cell_type": "code",
   "execution_count": 17,
   "metadata": {},
   "outputs": [
    {
     "data": {
      "image/png": "[encoded data removed]",
      "text/plain": [
       "<Figure size 432x288 with 1 Axes>"
      ]
     },
     "metadata": {
      "needs_background": "light"
     },
     "output_type": "display_data"
    }
   ],
   "source": [
    "plt.plot(t, q95, label = 'safety-factor')\n",
    "plt.axvline(x = tftsrt, ymin = 0,  color = \"blue\", linestyle = \"dashed\", label = \"burn-up\")\n",
    "plt.axvline(x = tipminf, ymin = 0, color = \"green\", linestyle = \"dashed\", label = \"current quench\")\n",
    "plt.axvline(x = tTQend, ymin = 0, color = \"black\", linestyle = \"dashed\", label = \"thermal quench\")\n",
    "plt.xlabel('time(s)')\n",
    "plt.ylabel('beta p')\n",
    "plt.ylim([0,10])\n",
    "plt.legend()\n",
    "plt.show()"
   ]
  },
  {
   "cell_type": "code",
   "execution_count": 18,
   "metadata": {},
   "outputs": [
    {
     "data": {
      "image/png": "[encoded data removed]",
      "text/plain": [
       "<Figure size 432x288 with 1 Axes>"
      ]
     },
     "metadata": {
      "needs_background": "light"
     },
     "output_type": "display_data"
    }
   ],
   "source": [
    "plt.plot(t, kappa, label = 'kappa')\n",
    "plt.axvline(x = tftsrt, ymin = 0,  color = \"blue\", linestyle = \"dashed\", label = \"burn-up\")\n",
    "plt.axvline(x = tipminf, ymin = 0, color = \"green\", linestyle = \"dashed\", label = \"current quench\")\n",
    "plt.axvline(x = tTQend, ymin = 0, color = \"black\", linestyle = \"dashed\", label = \"thermal quench\")\n",
    "plt.xlabel('time(s)')\n",
    "plt.ylabel('kappa')\n",
    "plt.legend()\n",
    "plt.show()"
   ]
  },
  {
   "cell_type": "code",
   "execution_count": 19,
   "metadata": {},
   "outputs": [
    {
     "data": {
      "image/png": "[encoded data removed]",
      "text/plain": [
       "<Figure size 432x288 with 1 Axes>"
      ]
     },
     "metadata": {
      "needs_background": "light"
     },
     "output_type": "display_data"
    }
   ],
   "source": [
    "plt.plot(t, li, label = 'line density')\n",
    "plt.axvline(x = tftsrt, ymin = 0,  color = \"blue\", linestyle = \"dashed\", label = \"burn-up\")\n",
    "plt.axvline(x = tipminf, ymin = 0, color = \"green\", linestyle = \"dashed\", label = \"current quench\")\n",
    "plt.axvline(x = tTQend, ymin = 0, color = \"black\", linestyle = \"dashed\", label = \"thermal quench\")\n",
    "plt.xlabel('time(s)')\n",
    "plt.ylabel('line density')\n",
    "plt.legend()\n",
    "plt.show()"
   ]
  },
  {
   "cell_type": "code",
   "execution_count": 22,
   "metadata": {},
   "outputs": [
    {
     "data": {
      "image/png": "[encoded data removed]",
      "text/plain": [
       "<Figure size 432x288 with 1 Axes>"
      ]
     },
     "metadata": {
      "needs_background": "light"
     },
     "output_type": "display_data"
    }
   ],
   "source": [
    "plt.plot(t, -Bc, label = 'B-field center')\n",
    "plt.axvline(x = tftsrt, ymin = 0,  color = \"blue\", linestyle = \"dashed\", label = \"burn-up\")\n",
    "plt.axvline(x = tipminf, ymin = 0, color = \"green\", linestyle = \"dashed\", label = \"current quench\")\n",
    "plt.axvline(x = tTQend, ymin = 0, color = \"black\", linestyle = \"dashed\", label = \"thermal quench\")\n",
    "plt.xlabel('time(s)')\n",
    "plt.ylabel('B-field')\n",
    "plt.legend()\n",
    "plt.show()"
   ]
  },
  {
   "cell_type": "code",
   "execution_count": 18,
   "metadata": {},
   "outputs": [
    {
     "data": {
      "image/png": "[encoded data removed]",
      "text/plain": [
       "<Figure size 432x288 with 1 Axes>"
      ]
     },
     "metadata": {
      "needs_background": "light"
     },
     "output_type": "display_data"
    }
   ],
   "source": [
    "plt.plot(t, tritop, label = 'tritop')\n",
    "plt.axvline(x = tftsrt, ymin = 0,  color = \"blue\", linestyle = \"dashed\", label = \"burn-up\")\n",
    "plt.axvline(x = tipminf, ymin = 0, color = \"green\", linestyle = \"dashed\", label = \"current quench\")\n",
    "plt.axvline(x = tTQend, ymin = 0, color = \"black\", linestyle = \"dashed\", label = \"thermal quench\")\n",
    "plt.xlabel('time(s)')\n",
    "plt.ylabel('tritop')\n",
    "plt.legend()\n",
    "plt.show()"
   ]
  },
  {
   "cell_type": "code",
   "execution_count": 19,
   "metadata": {},
   "outputs": [
    {
     "data": {
      "image/png": "[encoded data removed]",
      "text/plain": [
       "<Figure size 432x288 with 1 Axes>"
      ]
     },
     "metadata": {
      "needs_background": "light"
     },
     "output_type": "display_data"
    }
   ],
   "source": [
    "plt.plot(t, tribot, label = 'tribot')\n",
    "plt.axvline(x = tftsrt, ymin = 0,  color = \"blue\", linestyle = \"dashed\", label = \"burn-up\")\n",
    "plt.axvline(x = tipminf, ymin = 0, color = \"green\", linestyle = \"dashed\", label = \"current quench\")\n",
    "plt.axvline(x = tTQend, ymin = 0, color = \"black\", linestyle = \"dashed\", label = \"thermal quench\")\n",
    "plt.xlabel('time(s)')\n",
    "plt.ylabel('tribot')\n",
    "plt.legend()\n",
    "plt.show()"
   ]
  },
  {
   "cell_type": "code",
   "execution_count": 20,
   "metadata": {},
   "outputs": [
    {
     "data": {
      "image/png": "[encoded data removed]",
      "text/plain": [
       "<Figure size 432x288 with 1 Axes>"
      ]
     },
     "metadata": {
      "needs_background": "light"
     },
     "output_type": "display_data"
    }
   ],
   "source": [
    "plt.plot(t, W_tot, label = 'W_tot')\n",
    "plt.axvline(x = tftsrt, ymin = 0,  color = \"blue\", linestyle = \"dashed\", label = \"burn-up\")\n",
    "plt.axvline(x = tipminf, ymin = 0, color = \"green\", linestyle = \"dashed\", label = \"current quench\")\n",
    "plt.axvline(x = tTQend, ymin = 0, color = \"black\", linestyle = \"dashed\", label = \"thermal quench\")\n",
    "plt.xlabel('time(s)')\n",
    "plt.ylabel('W_tot')\n",
    "plt.legend()\n",
    "plt.show()"
   ]
  },
  {
   "cell_type": "code",
   "execution_count": 21,
   "metadata": {},
   "outputs": [
    {
     "data": {
      "image/png": "[encoded data removed]",
      "text/plain": [
       "<Figure size 432x288 with 1 Axes>"
      ]
     },
     "metadata": {
      "needs_background": "light"
     },
     "output_type": "display_data"
    }
   ],
   "source": [
    "plt.plot(t[28:56], W_tot[28:56], label = 'W_tot')\n",
    "plt.axvline(x = tftsrt, ymin = 0,  color = \"blue\", linestyle = \"dashed\", label = \"burn-up\")\n",
    "plt.axvline(x = tipminf, ymin = 0, color = \"green\", linestyle = \"dashed\", label = \"current quench\")\n",
    "plt.axvline(x = tTQend, ymin = 0, color = \"black\", linestyle = \"dashed\", label = \"thermal quench\")\n",
    "plt.xlabel('time(s)')\n",
    "plt.ylabel('W_tot')\n",
    "plt.legend()\n",
    "plt.show()"
   ]
  },
  {
   "cell_type": "code",
   "execution_count": 22,
   "metadata": {},
   "outputs": [],
   "source": [
    "ts_te_core_cols = df_shot.columns.tolist()[18:32]\n",
    "ts_te_edge_cols = df_shot.columns.tolist()[32:44]\n",
    "ts_ne_core_cols = df_shot.columns.tolist()[44:58]\n",
    "ts_ne_edge_cols = df_shot.columns.tolist()[58:68]"
   ]
  },
  {
   "cell_type": "code",
   "execution_count": 23,
   "metadata": {},
   "outputs": [
    {
     "data": {
      "image/png": "[encoded data removed]",
      "text/plain": [
       "<Figure size 432x288 with 1 Axes>"
      ]
     },
     "metadata": {
      "needs_background": "light"
     },
     "output_type": "display_data"
    }
   ],
   "source": [
    "te_core = df_shot[ts_te_core_cols[-1]]\n",
    "plt.plot(t, te_core, label = 'electron Temperature')\n",
    "plt.axvline(x = tftsrt, ymin = 0,  color = \"blue\", linestyle = \"dashed\", label = \"burn-up\")\n",
    "plt.axvline(x = tipminf, ymin = 0, color = \"green\", linestyle = \"dashed\", label = \"current quench\")\n",
    "plt.axvline(x = tTQend, ymin = 0, color = \"black\", linestyle = \"dashed\", label = \"thermal quench\")\n",
    "plt.xlabel('time(s)')\n",
    "plt.ylabel('Te(eV)')\n",
    "plt.legend()\n",
    "plt.show()"
   ]
  },
  {
   "cell_type": "code",
   "execution_count": 26,
   "metadata": {},
   "outputs": [
    {
     "name": "stderr",
     "output_type": "stream",
     "text": [
      "100%|██████████| 620/620 [00:02<00:00, 211.95it/s]\n",
      "100%|██████████| 155/155 [00:00<00:00, 237.24it/s]\n",
      " 76%|███████▋  | 148/194 [01:12<00:22,  2.05it/s] \n"
     ]
    },
    {
     "ename": "KeyboardInterrupt",
     "evalue": "",
     "output_type": "error",
     "traceback": [
      "\u001b[0;31m---------------------------------------------------------------------------\u001b[0m",
      "\u001b[0;31mKeyboardInterrupt\u001b[0m                         Traceback (most recent call last)",
      "\u001b[1;32m/home/jinsukim/codes_for_study/research-predict-disruption/analysis_on_numerical_dataset.ipynb Cell 24\u001b[0m in \u001b[0;36m<cell line: 153>\u001b[0;34m()\u001b[0m\n\u001b[1;32m    <a href='vscode-notebook-cell://ssh-remote%2Bdiya_external/home/jinsukim/codes_for_study/research-predict-disruption/analysis_on_numerical_dataset.ipynb#X32sdnNjb2RlLXJlbW90ZQ%3D%3D?line=150'>151</a>\u001b[0m train_data \u001b[39m=\u001b[39m CustomDataset(ts_train, kstar_shot_list, seq_len \u001b[39m=\u001b[39m seq_len, cols \u001b[39m=\u001b[39m ts_cols, dist \u001b[39m=\u001b[39m \u001b[39m0\u001b[39m, dt \u001b[39m=\u001b[39m \u001b[39m1.0\u001b[39m \u001b[39m/\u001b[39m \u001b[39m210\u001b[39m \u001b[39m*\u001b[39m \u001b[39m4\u001b[39m)\n\u001b[1;32m    <a href='vscode-notebook-cell://ssh-remote%2Bdiya_external/home/jinsukim/codes_for_study/research-predict-disruption/analysis_on_numerical_dataset.ipynb#X32sdnNjb2RlLXJlbW90ZQ%3D%3D?line=151'>152</a>\u001b[0m valid_data \u001b[39m=\u001b[39m CustomDataset(ts_valid, kstar_shot_list, seq_len \u001b[39m=\u001b[39m seq_len, cols \u001b[39m=\u001b[39m ts_cols, dist \u001b[39m=\u001b[39m \u001b[39m0\u001b[39m, dt \u001b[39m=\u001b[39m \u001b[39m1.0\u001b[39m \u001b[39m/\u001b[39m \u001b[39m210\u001b[39m \u001b[39m*\u001b[39m \u001b[39m4\u001b[39m)\n\u001b[0;32m--> <a href='vscode-notebook-cell://ssh-remote%2Bdiya_external/home/jinsukim/codes_for_study/research-predict-disruption/analysis_on_numerical_dataset.ipynb#X32sdnNjb2RlLXJlbW90ZQ%3D%3D?line=152'>153</a>\u001b[0m test_data \u001b[39m=\u001b[39m CustomDataset(ts_test, kstar_shot_list, seq_len \u001b[39m=\u001b[39;49m seq_len, cols \u001b[39m=\u001b[39;49m ts_cols, dist \u001b[39m=\u001b[39;49m \u001b[39m0\u001b[39;49m, dt \u001b[39m=\u001b[39;49m \u001b[39m1.0\u001b[39;49m \u001b[39m/\u001b[39;49m \u001b[39m210\u001b[39;49m \u001b[39m*\u001b[39;49m \u001b[39m4\u001b[39;49m)\n\u001b[1;32m    <a href='vscode-notebook-cell://ssh-remote%2Bdiya_external/home/jinsukim/codes_for_study/research-predict-disruption/analysis_on_numerical_dataset.ipynb#X32sdnNjb2RlLXJlbW90ZQ%3D%3D?line=154'>155</a>\u001b[0m \u001b[39mfrom\u001b[39;00m \u001b[39mtorch\u001b[39;00m\u001b[39m.\u001b[39;00m\u001b[39mutils\u001b[39;00m\u001b[39m.\u001b[39;00m\u001b[39mdata\u001b[39;00m \u001b[39mimport\u001b[39;00m DataLoader\n\u001b[1;32m    <a href='vscode-notebook-cell://ssh-remote%2Bdiya_external/home/jinsukim/codes_for_study/research-predict-disruption/analysis_on_numerical_dataset.ipynb#X32sdnNjb2RlLXJlbW90ZQ%3D%3D?line=155'>156</a>\u001b[0m \u001b[39mfrom\u001b[39;00m \u001b[39msrc\u001b[39;00m\u001b[39m.\u001b[39;00m\u001b[39mutils\u001b[39;00m\u001b[39m.\u001b[39;00m\u001b[39msampler\u001b[39;00m \u001b[39mimport\u001b[39;00m ImbalancedDatasetSampler\n",
      "\u001b[1;32m/home/jinsukim/codes_for_study/research-predict-disruption/analysis_on_numerical_dataset.ipynb Cell 24\u001b[0m in \u001b[0;36mCustomDataset.__init__\u001b[0;34m(self, ts_data, disrupt_data, seq_len, cols, dist, dt)\u001b[0m\n\u001b[1;32m     <a href='vscode-notebook-cell://ssh-remote%2Bdiya_external/home/jinsukim/codes_for_study/research-predict-disruption/analysis_on_numerical_dataset.ipynb#X32sdnNjb2RlLXJlbW90ZQ%3D%3D?line=67'>68</a>\u001b[0m \u001b[39mself\u001b[39m\u001b[39m.\u001b[39mlabels \u001b[39m=\u001b[39m []\n\u001b[1;32m     <a href='vscode-notebook-cell://ssh-remote%2Bdiya_external/home/jinsukim/codes_for_study/research-predict-disruption/analysis_on_numerical_dataset.ipynb#X32sdnNjb2RlLXJlbW90ZQ%3D%3D?line=68'>69</a>\u001b[0m \u001b[39mself\u001b[39m\u001b[39m.\u001b[39mn_classes \u001b[39m=\u001b[39m \u001b[39m2\u001b[39m\n\u001b[0;32m---> <a href='vscode-notebook-cell://ssh-remote%2Bdiya_external/home/jinsukim/codes_for_study/research-predict-disruption/analysis_on_numerical_dataset.ipynb#X32sdnNjb2RlLXJlbW90ZQ%3D%3D?line=69'>70</a>\u001b[0m \u001b[39mself\u001b[39;49m\u001b[39m.\u001b[39;49m_generate_index()\n",
      "\u001b[1;32m/home/jinsukim/codes_for_study/research-predict-disruption/analysis_on_numerical_dataset.ipynb Cell 24\u001b[0m in \u001b[0;36mCustomDataset._generate_index\u001b[0;34m(self)\u001b[0m\n\u001b[1;32m     <a href='vscode-notebook-cell://ssh-remote%2Bdiya_external/home/jinsukim/codes_for_study/research-predict-disruption/analysis_on_numerical_dataset.ipynb#X32sdnNjb2RlLXJlbW90ZQ%3D%3D?line=89'>90</a>\u001b[0m \u001b[39mwhile\u001b[39;00m(idx \u001b[39m<\u001b[39m idx_last):\n\u001b[1;32m     <a href='vscode-notebook-cell://ssh-remote%2Bdiya_external/home/jinsukim/codes_for_study/research-predict-disruption/analysis_on_numerical_dataset.ipynb#X32sdnNjb2RlLXJlbW90ZQ%3D%3D?line=90'>91</a>\u001b[0m     row \u001b[39m=\u001b[39m df_shot\u001b[39m.\u001b[39miloc[idx]\n\u001b[0;32m---> <a href='vscode-notebook-cell://ssh-remote%2Bdiya_external/home/jinsukim/codes_for_study/research-predict-disruption/analysis_on_numerical_dataset.ipynb#X32sdnNjb2RlLXJlbW90ZQ%3D%3D?line=91'>92</a>\u001b[0m     t \u001b[39m=\u001b[39m row[\u001b[39m'\u001b[39;49m\u001b[39mtime\u001b[39;49m\u001b[39m'\u001b[39;49m]\n\u001b[1;32m     <a href='vscode-notebook-cell://ssh-remote%2Bdiya_external/home/jinsukim/codes_for_study/research-predict-disruption/analysis_on_numerical_dataset.ipynb#X32sdnNjb2RlLXJlbW90ZQ%3D%3D?line=93'>94</a>\u001b[0m     \u001b[39mif\u001b[39;00m idx_last \u001b[39m-\u001b[39m idx \u001b[39m-\u001b[39m \u001b[39mself\u001b[39m\u001b[39m.\u001b[39mseq_len \u001b[39m-\u001b[39m \u001b[39mself\u001b[39m\u001b[39m.\u001b[39mdist \u001b[39m<\u001b[39m \u001b[39m0\u001b[39m:\n\u001b[1;32m     <a href='vscode-notebook-cell://ssh-remote%2Bdiya_external/home/jinsukim/codes_for_study/research-predict-disruption/analysis_on_numerical_dataset.ipynb#X32sdnNjb2RlLXJlbW90ZQ%3D%3D?line=94'>95</a>\u001b[0m         \u001b[39mbreak\u001b[39;00m\n",
      "File \u001b[0;32m~/miniconda3/envs/research-env/lib/python3.9/site-packages/pandas/core/series.py:958\u001b[0m, in \u001b[0;36mSeries.__getitem__\u001b[0;34m(self, key)\u001b[0m\n\u001b[1;32m    955\u001b[0m     \u001b[39mreturn\u001b[39;00m \u001b[39mself\u001b[39m\u001b[39m.\u001b[39m_values[key]\n\u001b[1;32m    957\u001b[0m \u001b[39melif\u001b[39;00m key_is_scalar:\n\u001b[0;32m--> 958\u001b[0m     \u001b[39mreturn\u001b[39;00m \u001b[39mself\u001b[39;49m\u001b[39m.\u001b[39;49m_get_value(key)\n\u001b[1;32m    960\u001b[0m \u001b[39mif\u001b[39;00m is_hashable(key):\n\u001b[1;32m    961\u001b[0m     \u001b[39m# Otherwise index.get_value will raise InvalidIndexError\u001b[39;00m\n\u001b[1;32m    962\u001b[0m     \u001b[39mtry\u001b[39;00m:\n\u001b[1;32m    963\u001b[0m         \u001b[39m# For labels that don't resolve as scalars like tuples and frozensets\u001b[39;00m\n",
      "File \u001b[0;32m~/miniconda3/envs/research-env/lib/python3.9/site-packages/pandas/core/series.py:1070\u001b[0m, in \u001b[0;36mSeries._get_value\u001b[0;34m(self, label, takeable)\u001b[0m\n\u001b[1;32m   1068\u001b[0m \u001b[39m# Similar to Index.get_value, but we do not fall back to positional\u001b[39;00m\n\u001b[1;32m   1069\u001b[0m loc \u001b[39m=\u001b[39m \u001b[39mself\u001b[39m\u001b[39m.\u001b[39mindex\u001b[39m.\u001b[39mget_loc(label)\n\u001b[0;32m-> 1070\u001b[0m \u001b[39mreturn\u001b[39;00m \u001b[39mself\u001b[39;49m\u001b[39m.\u001b[39;49mindex\u001b[39m.\u001b[39;49m_get_values_for_loc(\u001b[39mself\u001b[39;49m, loc, label)\n",
      "File \u001b[0;32m~/miniconda3/envs/research-env/lib/python3.9/site-packages/pandas/core/indexes/base.py:5670\u001b[0m, in \u001b[0;36mIndex._get_values_for_loc\u001b[0;34m(self, series, loc, key)\u001b[0m\n\u001b[1;32m   5661\u001b[0m \u001b[39m\"\"\"\u001b[39;00m\n\u001b[1;32m   5662\u001b[0m \u001b[39mDo a positional lookup on the given Series, returning either a scalar\u001b[39;00m\n\u001b[1;32m   5663\u001b[0m \u001b[39mor a Series.\u001b[39;00m\n\u001b[0;32m   (...)\u001b[0m\n\u001b[1;32m   5667\u001b[0m \u001b[39mkey is included for MultiIndex compat.\u001b[39;00m\n\u001b[1;32m   5668\u001b[0m \u001b[39m\"\"\"\u001b[39;00m\n\u001b[1;32m   5669\u001b[0m \u001b[39mif\u001b[39;00m is_integer(loc):\n\u001b[0;32m-> 5670\u001b[0m     \u001b[39mreturn\u001b[39;00m series\u001b[39m.\u001b[39;49m_values[loc]\n\u001b[1;32m   5672\u001b[0m \u001b[39mreturn\u001b[39;00m series\u001b[39m.\u001b[39miloc[loc]\n",
      "\u001b[0;31mKeyboardInterrupt\u001b[0m: "
     ]
    }
   ],
   "source": [
    "import numpy as np\n",
    "import torch\n",
    "import torch.nn as nn\n",
    "\n",
    "df = pd.read_csv(\"./dataset/KSTAR_Disruption_ts_data_extend.csv\").reset_index()\n",
    "\n",
    "# nan interpolation\n",
    "df.interpolate(method = 'linear', limit_direction = 'forward')\n",
    "\n",
    "# columns for use\n",
    "ts_cols = [\n",
    "    '\\\\q95', '\\\\ipmhd', '\\\\kappa', \n",
    "    '\\\\tritop', '\\\\tribot','\\\\betap','\\\\betan',\n",
    "    '\\\\li', '\\\\WTOT_DLM03'\n",
    "]\n",
    "\n",
    "# float type\n",
    "for col in ts_cols:\n",
    "    df[col] = df[col].astype(np.float32)\n",
    "\n",
    "# train / valid / test data split\n",
    "from sklearn.model_selection import train_test_split\n",
    "shot_list = np.unique(df.shot.values)\n",
    "\n",
    "shot_train, shot_test = train_test_split(shot_list, test_size = 0.2, random_state = 42)\n",
    "shot_train, shot_valid = train_test_split(shot_train, test_size = 0.2, random_state = 42)\n",
    "\n",
    "df_train = pd.DataFrame()\n",
    "df_valid = pd.DataFrame()\n",
    "df_test = pd.DataFrame()\n",
    "\n",
    "for shot in shot_train:\n",
    "    df_train = pd.concat([df_train, df[df.shot == shot]], axis = 0)\n",
    "\n",
    "for shot in shot_valid:\n",
    "    df_valid = pd.concat([df_valid, df[df.shot == shot]], axis = 0)\n",
    "\n",
    "for shot in shot_test:\n",
    "    df_test = pd.concat([df_test, df[df.shot == shot]], axis = 0)\n",
    "\n",
    "from sklearn.preprocessing import RobustScaler, MinMaxScaler, StandardScaler\n",
    "scaler = RobustScaler()\n",
    "df_train[ts_cols] = scaler.fit_transform(df_train[ts_cols].values)\n",
    "df_valid[ts_cols] = scaler.transform(df_valid[ts_cols].values)\n",
    "df_test[ts_cols] = scaler.transform(df_test[ts_cols].values)\n",
    "\n",
    "# disruption info\n",
    "# kstar_shot_list = pd.read_csv('./dataset/KSTAR_Disruption_Shot_List_extend.csv', encoding = \"euc-kr\")\n",
    "kstar_shot_list = pd.read_csv('./dataset/KSTAR_Disruption_Shot_List.csv', encoding = \"euc-kr\")\n",
    "\n",
    "\n",
    "# shot list\n",
    "shot_list = np.unique(df.shot.values).tolist()\n",
    "\n",
    "from typing import Optional, List\n",
    "from tqdm.auto import tqdm\n",
    "\n",
    "class CustomDataset(torch.utils.data.Dataset):\n",
    "    def __init__(self, ts_data : pd.DataFrame, disrupt_data : pd.DataFrame, seq_len : int, cols : List, dist:int, dt : float):\n",
    "        self.ts_data = ts_data\n",
    "        self.disrupt_data = disrupt_data\n",
    "        self.seq_len = seq_len\n",
    "        self.dt = dt\n",
    "        self.cols = cols\n",
    "        self.dist = dist # distance\n",
    "\n",
    "        self.indices = []\n",
    "        self.labels = []\n",
    "        self.n_classes = 2\n",
    "        self._generate_index()\n",
    "\n",
    "    def _generate_index(self):\n",
    "        shot_list = np.unique(self.ts_data.shot.values).tolist()\n",
    "        df_disruption = self.disrupt_data\n",
    "\n",
    "        for shot in tqdm(shot_list):\n",
    "            tTQend = df_disruption[df_disruption.shot == shot].tTQend.values[0]\n",
    "            tftsrt = df_disruption[df_disruption.shot == shot].tftsrt.values[0]\n",
    "            tipminf = df_disruption[df_disruption.shot == shot].tipminf.values[0]\n",
    "\n",
    "            t_disrupt = tipminf\n",
    "\n",
    "            df_shot = self.ts_data[self.ts_data.shot == shot]\n",
    "            indices = []\n",
    "            labels = []\n",
    "\n",
    "            idx = int(tftsrt * self.dt)\n",
    "            idx_last = len(df_shot.index) - self.seq_len - self.dist\n",
    "\n",
    "            while(idx < idx_last):\n",
    "                row = df_shot.iloc[idx]\n",
    "                t = row['time']\n",
    "\n",
    "                if idx_last - idx - self.seq_len - self.dist < 0:\n",
    "                    break\n",
    "\n",
    "                if t >= tftsrt and t < t_disrupt - self.dt * (self.seq_len + self.dist):\n",
    "                    indx = df_shot.index.values[idx]\n",
    "                    indices.append(indx)\n",
    "                    labels.append(0)\n",
    "                    idx += self.seq_len\n",
    "\n",
    "                elif t > t_disrupt - self.dt * (self.seq_len + self.dist) and t <= t_disrupt:\n",
    "                    indx = df_shot.index.values[idx]\n",
    "                    indices.append(indx)\n",
    "                    labels.append(1)\n",
    "                    idx += self.seq_len\n",
    "                \n",
    "                elif t < tftsrt:\n",
    "                    idx += self.seq_len\n",
    "                \n",
    "                elif t > t_disrupt:\n",
    "                    break\n",
    "\n",
    "            self.indices.extend(indices)\n",
    "            self.labels.extend(labels)\n",
    "\n",
    "    def __getitem__(self, idx:int):\n",
    "        indx = self.indices[idx]\n",
    "        label = self.labels[idx]\n",
    "        label = np.array(label)\n",
    "        label = torch.from_numpy(label)\n",
    "        data = self.ts_data[self.cols].loc[indx:indx+self.seq_len - 1].values\n",
    "        data = torch.from_numpy(data).float()\n",
    "        return data, label\n",
    "\n",
    "    def __len__(self):\n",
    "        return len(self.indices)\n",
    "\n",
    "    def get_num_per_cls(self):\n",
    "        classes = np.unique(self.labels)\n",
    "        self.num_per_cls_dict = dict()\n",
    "\n",
    "        for cls in classes:\n",
    "            num = np.sum(np.where(self.labels == cls, 1, 0))\n",
    "            self.num_per_cls_dict[cls] = num\n",
    "         \n",
    "    def get_cls_num_list(self):\n",
    "        cls_num_list = []\n",
    "        for i in range(self.n_classes):\n",
    "            cls_num_list.append(self.num_per_cls_dict[i])\n",
    "        return cls_num_list\n",
    "\n",
    "from sklearn.model_selection import train_test_split\n",
    "ts_train = df_train\n",
    "ts_valid = df_valid\n",
    "ts_test = df_test\n",
    "seq_len = 21\n",
    "cols = ts_cols\n",
    "\n",
    "train_data = CustomDataset(ts_train, kstar_shot_list, seq_len = seq_len, cols = ts_cols, dist = 0, dt = 1.0 / 210 * 4)\n",
    "valid_data = CustomDataset(ts_valid, kstar_shot_list, seq_len = seq_len, cols = ts_cols, dist = 0, dt = 1.0 / 210 * 4)\n",
    "test_data = CustomDataset(ts_test, kstar_shot_list, seq_len = seq_len, cols = ts_cols, dist = 0, dt = 1.0 / 210 * 4)\n",
    "\n",
    "from torch.utils.data import DataLoader\n",
    "from src.utils.sampler import ImbalancedDatasetSampler\n",
    "\n",
    "batch_size = 128\n",
    "sampler = ImbalancedDatasetSampler(train_data)\n",
    "train_loader = DataLoader(train_data, batch_size = batch_size, num_workers = 4, sampler = sampler)\n",
    "valid_loader = DataLoader(valid_data, batch_size = batch_size, num_workers = 4, shuffle = True)\n",
    "test_loader = DataLoader(test_data, batch_size = batch_size, num_workers = 4, shuffle = True)\n",
    "\n",
    "sample_data, sample_target = next(iter(train_loader))\n",
    "print(\"sample_data : \", sample_data.size())\n",
    "print(\"sample_target : \", sample_target.size())"
   ]
  },
  {
   "cell_type": "code",
   "execution_count": 168,
   "metadata": {},
   "outputs": [
    {
     "data": {
      "image/png": "[encoded data removed]",
      "text/plain": [
       "<Figure size 432x288 with 1 Axes>"
      ]
     },
     "metadata": {
      "needs_background": "light"
     },
     "output_type": "display_data"
    }
   ],
   "source": [
    "import matplotlib.pyplot as plt\n",
    "plt.plot(sample_data[0,:,0].numpy(), label = 'col : 0')\n",
    "plt.plot(sample_data[0,:,1].numpy(), label = 'col : 1')\n",
    "plt.plot(sample_data[0,:,2].numpy(), label = 'col : 2')\n",
    "plt.plot(sample_data[0,:,3].numpy(), label = 'col : 3')\n",
    "plt.plot(sample_data[0,:,4].numpy(), label = 'col : 4')\n",
    "plt.plot(sample_data[0,:,5].numpy(), label = 'col : 5')\n",
    "plt.plot(sample_data[0,:,6].numpy(), label = 'col : 6')\n",
    "plt.plot(sample_data[0,:,7].numpy(), label = 'col : 7')\n",
    "plt.plot(sample_data[0,:,8].numpy(), label = 'col : 8')\n",
    "plt.legend()\n",
    "plt.show()"
   ]
  },
  {
   "cell_type": "code",
   "execution_count": 128,
   "metadata": {},
   "outputs": [
    {
     "name": "stdout",
     "output_type": "stream",
     "text": [
      "disruptive :  51\n",
      "non-disruptive :  1345\n"
     ]
    },
    {
     "name": "stderr",
     "output_type": "stream",
     "text": [
      "/home/jinsukim/miniconda3/envs/research-env/lib/python3.9/site-packages/seaborn/_decorators.py:36: FutureWarning: Pass the following variable as a keyword arg: x. From version 0.12, the only valid positional argument will be `data`, and passing other arguments without an explicit keyword will result in an error or misinterpretation.\n",
      "  warnings.warn(\n"
     ]
    },
    {
     "data": {
      "image/png": "[encoded data removed]",
      "text/plain": [
       "<Figure size 432x288 with 1 Axes>"
      ]
     },
     "metadata": {
      "needs_background": "light"
     },
     "output_type": "display_data"
    }
   ],
   "source": [
    "import seaborn as sns\n",
    "sns.countplot(train_data.labels)\n",
    "print(\"disruptive : \", np.sum(train_data.labels))\n",
    "print(\"non-disruptive : \", len(train_data.labels) - np.sum(train_data.labels))"
   ]
  },
  {
   "cell_type": "code",
   "execution_count": 170,
   "metadata": {},
   "outputs": [
    {
     "name": "stderr",
     "output_type": "stream",
     "text": [
      "training process:   2%|▏         | 1/64 [00:01<01:44,  1.66s/it]"
     ]
    },
    {
     "name": "stdout",
     "output_type": "stream",
     "text": [
      "epoch : 1, train loss : 4.496, valid loss : 1.151, train acc : 0.856, valid acc : 0.025, train f1 : 0.856, valid f1 : 0.032\n"
     ]
    },
    {
     "name": "stderr",
     "output_type": "stream",
     "text": [
      "training process:  14%|█▍        | 9/64 [00:13<01:25,  1.55s/it]"
     ]
    },
    {
     "name": "stdout",
     "output_type": "stream",
     "text": [
      "epoch : 9, train loss : 0.007, valid loss : 1.017, train acc : 1.000, valid acc : 0.859, train f1 : 1.000, valid f1 : 0.564\n"
     ]
    },
    {
     "name": "stderr",
     "output_type": "stream",
     "text": [
      "training process:  27%|██▋       | 17/64 [00:26<01:12,  1.55s/it]"
     ]
    },
    {
     "name": "stdout",
     "output_type": "stream",
     "text": [
      "epoch : 17, train loss : 0.002, valid loss : 1.140, train acc : 1.000, valid acc : 0.994, train f1 : 1.000, valid f1 : 0.933\n"
     ]
    },
    {
     "name": "stderr",
     "output_type": "stream",
     "text": [
      "training process:  39%|███▉      | 25/64 [00:38<01:00,  1.54s/it]"
     ]
    },
    {
     "name": "stdout",
     "output_type": "stream",
     "text": [
      "epoch : 25, train loss : 0.001, valid loss : 2.109, train acc : 0.999, valid acc : 0.990, train f1 : 0.999, valid f1 : 0.878\n"
     ]
    },
    {
     "name": "stderr",
     "output_type": "stream",
     "text": [
      "training process:  52%|█████▏    | 33/64 [00:50<00:46,  1.50s/it]"
     ]
    },
    {
     "name": "stdout",
     "output_type": "stream",
     "text": [
      "epoch : 33, train loss : 0.011, valid loss : 0.940, train acc : 0.997, valid acc : 0.990, train f1 : 0.997, valid f1 : 0.897\n"
     ]
    },
    {
     "name": "stderr",
     "output_type": "stream",
     "text": [
      "training process:  64%|██████▍   | 41/64 [01:02<00:35,  1.54s/it]"
     ]
    },
    {
     "name": "stdout",
     "output_type": "stream",
     "text": [
      "epoch : 41, train loss : 0.000, valid loss : 1.221, train acc : 1.000, valid acc : 0.994, train f1 : 1.000, valid f1 : 0.933\n"
     ]
    },
    {
     "name": "stderr",
     "output_type": "stream",
     "text": [
      "training process:  77%|███████▋  | 49/64 [01:14<00:22,  1.52s/it]"
     ]
    },
    {
     "name": "stdout",
     "output_type": "stream",
     "text": [
      "epoch : 49, train loss : 0.000, valid loss : 1.144, train acc : 1.000, valid acc : 0.892, train f1 : 1.000, valid f1 : 0.881\n"
     ]
    },
    {
     "name": "stderr",
     "output_type": "stream",
     "text": [
      "training process:  89%|████████▉ | 57/64 [01:27<00:10,  1.48s/it]"
     ]
    },
    {
     "name": "stdout",
     "output_type": "stream",
     "text": [
      "epoch : 57, train loss : 0.000, valid loss : 0.625, train acc : 1.000, valid acc : 0.994, train f1 : 1.000, valid f1 : 0.942\n"
     ]
    },
    {
     "name": "stderr",
     "output_type": "stream",
     "text": [
      "training process: 100%|██████████| 64/64 [01:38<00:00,  1.53s/it]"
     ]
    },
    {
     "name": "stdout",
     "output_type": "stream",
     "text": [
      "training process finished, best loss : 0.801 and best acc : 0.998, best f1 : 0.979, best epoch : 60\n"
     ]
    },
    {
     "name": "stderr",
     "output_type": "stream",
     "text": [
      "\n"
     ]
    }
   ],
   "source": [
    "import torch\n",
    "import torch.nn as nn\n",
    "import numpy as np\n",
    "from torch.autograd import Variable\n",
    "from torch.nn import functional as F\n",
    "from typing import List, Optional, Union, Tuple\n",
    "\n",
    "class ConvLSTM(nn.Module):\n",
    "    def __init__(\n",
    "        self, \n",
    "        seq_len : int = 21, \n",
    "        col_dim : int = 10, \n",
    "        conv_dim : int = 32, \n",
    "        conv_kernel : int = 3,\n",
    "        conv_stride : int = 1, \n",
    "        conv_padding : int = 1,\n",
    "        lstm_dim : int = 64, \n",
    "        n_classes : int = 2, \n",
    "        mlp_dim : int = 64,\n",
    "        ):\n",
    "        \n",
    "        super(ConvLSTM, self).__init__()\n",
    "        self.col_dim = col_dim\n",
    "        self.seq_len = seq_len\n",
    "        self.lstm_dim = lstm_dim\n",
    "\n",
    "        # spatio-conv encoder : analyze spatio-effect between variables\n",
    "        self.conv = nn.Sequential(\n",
    "            nn.Conv1d(in_channels = col_dim, out_channels = conv_dim, kernel_size = conv_kernel, stride = conv_stride, padding = conv_padding),\n",
    "            nn.BatchNorm1d(conv_dim), \n",
    "            nn.ReLU(),\n",
    "            nn.Conv1d(in_channels = conv_dim, out_channels = conv_dim, kernel_size = conv_kernel, stride = conv_stride, padding = conv_padding),\n",
    "            nn.BatchNorm1d(conv_dim), \n",
    "            nn.ReLU(),\n",
    "        )\n",
    "\n",
    "        lstm_input_dim = self.compute_conv1d_output_dim(self.compute_conv1d_output_dim(seq_len, conv_kernel, conv_stride, conv_padding, 1), conv_kernel, conv_stride, conv_padding, 1)\n",
    "\n",
    "        # temporl - lstm\n",
    "        self.lstm = nn.LSTM(lstm_input_dim, lstm_dim, bidirectional = True, batch_first = False)\n",
    "        self.w_s1 = nn.Linear(lstm_dim * 2, lstm_dim)\n",
    "        self.w_s2 = nn.Linear(lstm_dim, lstm_dim)\n",
    "\n",
    "        self.classifier = nn.Sequential(\n",
    "            nn.Linear(lstm_dim * 2, mlp_dim),\n",
    "            nn.BatchNorm1d(mlp_dim),\n",
    "            nn.ReLU(),\n",
    "            nn.Linear(mlp_dim, mlp_dim),\n",
    "            nn.BatchNorm1d(mlp_dim),\n",
    "            nn.ReLU(),\n",
    "            nn.Linear(mlp_dim, n_classes)\n",
    "        )\n",
    "    \n",
    "    def compute_conv1d_output_dim(self, input_dim : int, kernel_size : int = 3, stride : int = 1, padding : int = 1, dilation : int = 1):\n",
    "        return int((input_dim + 2 * padding - dilation * (kernel_size - 1) - 1) / stride + 1)\n",
    "\n",
    "    def attention(self, lstm_output : torch.Tensor)->torch.Tensor:\n",
    "        attn_weight_matrix = self.w_s2(torch.tanh(self.w_s1(lstm_output)))\n",
    "        attn_weight_matrix = F.softmax(attn_weight_matrix, dim = 2)\n",
    "        return attn_weight_matrix\n",
    "\n",
    "    def forward(self, x : torch.Tensor)->torch.Tensor:\n",
    "        # x : (batch, seq_len, col_dim)\n",
    "        x_conv = self.conv(x.permute(0,2,1))\n",
    "        h_0 = Variable(torch.zeros(2, x.size()[0], self.lstm_dim)).to(x.device)\n",
    "        c_0 = Variable(torch.zeros(2, x.size()[0], self.lstm_dim)).to(x.device)\n",
    "\n",
    "        lstm_output, (h_n,c_n) = self.lstm(x_conv.permute(1,0,2), (h_0, c_0))\n",
    "        lstm_output = lstm_output.permute(1,0,2)\n",
    "        att = self.attention(lstm_output)\n",
    "        hidden = torch.bmm(att.permute(0,2,1), lstm_output).mean(dim = 1)\n",
    "        hidden = hidden.view(hidden.size()[0], -1)\n",
    "        output = self.classifier(hidden)\n",
    "        return output\n",
    "\n",
    "seq_len = seq_len\n",
    "col_len = len(cols)\n",
    "batch_size = batch_size\n",
    "device = torch.device(\"cuda\" if torch.cuda.is_available() else \"cpu\")\n",
    "\n",
    "model = ConvLSTM(\n",
    "    seq_len = seq_len,\n",
    "    col_dim = col_len,\n",
    ")\n",
    "\n",
    "import torch\n",
    "import torch.nn\n",
    "import numpy as np\n",
    "import seaborn as sns\n",
    "import matplotlib.pyplot as plt\n",
    "from sklearn.metrics import confusion_matrix, classification_report, f1_score\n",
    "\n",
    "def train_per_epoch(\n",
    "    data_loader : torch.utils.data.DataLoader,\n",
    "    model : torch.nn.Module,\n",
    "    optimizer : torch.optim.Optimizer,\n",
    "    scheduler : Optional[torch.optim.lr_scheduler._LRScheduler],\n",
    "    loss_fn : torch.nn.Module,\n",
    "    device : str = \"cpu\",\n",
    "    max_norm_grad : Optional[float] = None\n",
    "    ):\n",
    "\n",
    "    model.train()\n",
    "    model.to(device)\n",
    "\n",
    "    train_loss = 0\n",
    "    train_acc = 0\n",
    "\n",
    "    total_pred = np.array([])\n",
    "    total_label = np.array([])\n",
    "\n",
    "    for batch_idx, (data, target) in enumerate(data_loader):\n",
    "        optimizer.zero_grad()\n",
    "        data = data.to(device)\n",
    "        target = target.to(device)\n",
    "        output = model(data)\n",
    "        loss = loss_fn(output, target)\n",
    "        loss.backward()\n",
    "\n",
    "        # use gradient clipping\n",
    "        if max_norm_grad:\n",
    "            torch.nn.utils.clip_grad_norm_(model.parameters(), max_norm_grad)\n",
    "\n",
    "        optimizer.step()\n",
    "\n",
    "        train_loss += loss.item()\n",
    "\n",
    "        pred = torch.nn.functional.softmax(output, dim = 1).max(1, keepdim = True)[1]\n",
    "        train_acc += pred.eq(target.view_as(pred)).sum().item() / data.size(0) \n",
    "    \n",
    "        total_pred = np.concatenate((total_pred, pred.cpu().numpy().reshape(-1,)))\n",
    "        total_label = np.concatenate((total_label, target.cpu().numpy().reshape(-1,)))\n",
    "        \n",
    "    if scheduler:\n",
    "        scheduler.step()\n",
    "\n",
    "    train_loss /= (batch_idx + 1)\n",
    "    train_acc /= (batch_idx + 1)\n",
    "\n",
    "    train_f1 = f1_score(total_label, total_pred, average = \"macro\")\n",
    "\n",
    "    return train_loss, train_acc, train_f1\n",
    "\n",
    "def valid_per_epoch(\n",
    "    data_loader : torch.utils.data.DataLoader,\n",
    "    model : torch.nn.Module,\n",
    "    optimizer : torch.optim.Optimizer,\n",
    "    loss_fn : torch.nn.Module,\n",
    "    device : str = \"cpu\",\n",
    "    ):\n",
    "\n",
    "    model.eval()\n",
    "    model.to(device)\n",
    "\n",
    "    valid_loss = 0\n",
    "    valid_acc = 0\n",
    "\n",
    "    total_pred = np.array([])\n",
    "    total_label = np.array([])\n",
    "\n",
    "    for batch_idx, (data, target) in enumerate(data_loader):\n",
    "        with torch.no_grad():\n",
    "            optimizer.zero_grad()\n",
    "            data = data.to(device)\n",
    "            target = target.to(device)\n",
    "            output = model(data)\n",
    "            loss = loss_fn(output, target)\n",
    "            valid_loss += loss.item()\n",
    "\n",
    "            pred = torch.nn.functional.softmax(output, dim = 1).max(1, keepdim = True)[1]\n",
    "            valid_acc += pred.eq(target.view_as(pred)).sum().item() / data.size(0) \n",
    "        \n",
    "            total_pred = np.concatenate((total_pred, pred.cpu().numpy().reshape(-1,)))\n",
    "            total_label = np.concatenate((total_label, target.cpu().numpy().reshape(-1,)))\n",
    "\n",
    "    valid_loss /= (batch_idx + 1)\n",
    "    valid_acc /= (batch_idx + 1)\n",
    "\n",
    "    valid_f1 = f1_score(total_label, total_pred, average = \"macro\")\n",
    "\n",
    "    return valid_loss, valid_acc, valid_f1\n",
    "\n",
    "\n",
    "def train(\n",
    "    train_loader : torch.utils.data.DataLoader, \n",
    "    valid_loader : Optional[torch.utils.data.DataLoader],\n",
    "    model : torch.nn.Module,\n",
    "    optimizer : torch.optim.Optimizer,\n",
    "    scheduler : Optional[torch.optim.lr_scheduler._LRScheduler],\n",
    "    loss_fn = None,\n",
    "    device : str = \"cpu\",\n",
    "    num_epoch : int = 64,\n",
    "    verbose : Optional[int] = 8,\n",
    "    save_best_dir : str = \"./weights/best.pt\",\n",
    "    save_last_dir : str = \"./weights/last.pt\",\n",
    "    max_norm_grad : Optional[float] = None,\n",
    "    criteria : str = \"f1_score\"\n",
    "    ):\n",
    "\n",
    "    train_loss_list = []\n",
    "    valid_loss_list = []\n",
    "    \n",
    "    train_acc_list = []\n",
    "    valid_acc_list = []\n",
    "\n",
    "    train_f1_list = []\n",
    "    valid_f1_list = []\n",
    "\n",
    "    best_acc = 0\n",
    "    best_epoch = 0\n",
    "    best_f1 = 0\n",
    "    best_loss = torch.inf\n",
    "\n",
    "    if loss_fn is None:\n",
    "        loss_fn = torch.nn.CrossEntropyLoss(reduction = 'mean')\n",
    "\n",
    "    for epoch in tqdm(range(num_epoch), desc = \"training process\"):\n",
    "\n",
    "        # training\n",
    "        train_loss, train_acc, train_f1 = train_per_epoch(\n",
    "            train_loader, \n",
    "            model,\n",
    "            optimizer,\n",
    "            scheduler,\n",
    "            loss_fn,\n",
    "            device,\n",
    "            max_norm_grad\n",
    "        )\n",
    "\n",
    "        train_loss_list.append(train_loss)\n",
    "        train_acc_list.append(train_acc)\n",
    "        train_f1_list.append(train_f1)\n",
    "\n",
    "        # validation\n",
    "        valid_loss, valid_acc, valid_f1 = valid_per_epoch(\n",
    "            valid_loader, \n",
    "            model,\n",
    "            optimizer,\n",
    "            loss_fn,\n",
    "            device \n",
    "        )\n",
    "        \n",
    "        valid_loss_list.append(valid_loss)\n",
    "        valid_acc_list.append(valid_acc)\n",
    "        valid_f1_list.append(valid_f1)\n",
    "\n",
    "        if verbose:\n",
    "            if epoch % verbose == 0:\n",
    "                print(\"epoch : {}, train loss : {:.3f}, valid loss : {:.3f}, train acc : {:.3f}, valid acc : {:.3f}, train f1 : {:.3f}, valid f1 : {:.3f}\".format(\n",
    "                    epoch+1, train_loss, valid_loss, train_acc, valid_acc, train_f1, valid_f1\n",
    "                ))\n",
    "\n",
    "        # save the best parameters\n",
    "        if criteria == \"acc\" and best_acc < valid_acc:\n",
    "            best_acc = valid_acc\n",
    "            best_f1 = valid_f1\n",
    "            best_loss = valid_loss\n",
    "            best_epoch  = epoch\n",
    "            torch.save(model.state_dict(), save_best_dir)\n",
    "\n",
    "        elif criteria == \"f1_score\" and best_f1 < valid_f1:\n",
    "            best_acc = valid_acc\n",
    "            best_f1 = valid_f1\n",
    "            best_loss = valid_loss\n",
    "            best_epoch  = epoch\n",
    "            torch.save(model.state_dict(), save_best_dir)\n",
    "\n",
    "        elif criteria == \"loss\" and best_loss > valid_loss:\n",
    "            best_acc = valid_acc\n",
    "            best_f1 = valid_f1\n",
    "            best_loss = valid_loss\n",
    "            best_epoch  = epoch\n",
    "            torch.save(model.state_dict(), save_best_dir)\n",
    "\n",
    "        # save the last parameters\n",
    "        torch.save(model.state_dict(), save_last_dir)\n",
    "\n",
    "    print(\"training process finished, best loss : {:.3f} and best acc : {:.3f}, best f1 : {:.3f}, best epoch : {}\".format(\n",
    "        best_loss, best_acc, best_f1, best_epoch\n",
    "    ))\n",
    "\n",
    "    return  train_loss_list, train_acc_list, train_f1_list,  valid_loss_list,  valid_acc_list, valid_f1_list\n",
    "\n",
    "\n",
    "device = torch.device(\"cuda\" if torch.cuda.is_available() else \"cpu\")\n",
    "lr = 1e-3\n",
    "\n",
    "from src.loss import FocalLoss\n",
    "train_data.get_num_per_cls()\n",
    "cls_num_list = train_data.get_cls_num_list()\n",
    "per_cls_weights = 1.0 / np.array(cls_num_list)\n",
    "per_cls_weights = per_cls_weights / np.sum(per_cls_weights)\n",
    "per_cls_weights = torch.FloatTensor(per_cls_weights)\n",
    "loss_fn = FocalLoss(per_cls_weights, gamma = 2)\n",
    "\n",
    "num_epoch = 64\n",
    "verbose = 8\n",
    "save_best_dir = \"./weights/ts_conv_lstm_best.pt\"\n",
    "save_last_dir = \"./weights/ts_conv_lstm_last.pt\"\n",
    "max_norm_grad = 1.0\n",
    "criteria = \"f1_score\"\n",
    "optimizer = torch.optim.AdamW(model.parameters(), lr = lr)\n",
    "\n",
    "model.to(device)\n",
    "\n",
    "train_loss, train_acc, train_f1, valid_loss, valid_acc, valid_f1 = train(\n",
    "    train_loader,\n",
    "    valid_loader,\n",
    "    model,\n",
    "    optimizer,\n",
    "    None,\n",
    "    loss_fn,\n",
    "    device,\n",
    "    num_epoch,\n",
    "    verbose,\n",
    "    save_best_dir,\n",
    "    save_last_dir,\n",
    "    max_norm_grad,\n",
    "    criteria\n",
    ")"
   ]
  },
  {
   "cell_type": "code",
   "execution_count": 2,
   "metadata": {},
   "outputs": [
    {
     "name": "stdout",
     "output_type": "stream",
     "text": [
      "############### device setup ###################\n",
      "torch device avaliable :  True\n",
      "torch current device :  0\n",
      "torch device num :  4\n"
     ]
    },
    {
     "name": "stderr",
     "output_type": "stream",
     "text": [
      "extract the null data: 100%|██████████| 190/190 [00:00<00:00, 584.91it/s]\n",
      "replace nan value: 100%|██████████| 183/183 [00:00<00:00, 226.79it/s]\n",
      "100%|██████████| 183/183 [00:01<00:00, 120.57it/s]\n"
     ]
    },
    {
     "name": "stdout",
     "output_type": "stream",
     "text": [
      "\n",
      "################# model summary #################\n",
      "\n",
      "-----------------------------------------------------------------------------------\n",
      "           Layer (type)                Input Shape         Param #     Tr. Param #\n",
      "===================================================================================\n",
      "           NoiseLayer-1                [2, 21, 14]               0               0\n",
      "               Linear-2                [2, 21, 14]           1,920           1,920\n",
      "   PositionalEncoding-3               [21, 2, 128]               0               0\n",
      "   TransformerEncoder-4     [21, 2, 128], [21, 21]       1,586,176       1,586,176\n",
      "               Linear-5                   [2, 128]          16,512          16,512\n",
      "          BatchNorm1d-6                   [2, 128]             256             256\n",
      "                 GELU-7                   [2, 128]               0               0\n",
      "               Linear-8                   [2, 128]             258             258\n",
      "===================================================================================\n",
      "Total params: 1,605,122\n",
      "Trainable params: 1,605,122\n",
      "Non-trainable params: 0\n",
      "Batch size: 2\n",
      "-----------------------------------------------------------------------------------\n"
     ]
    },
    {
     "data": {
      "text/plain": [
       "<All keys matched successfully>"
      ]
     },
     "execution_count": 2,
     "metadata": {},
     "output_type": "execute_result"
    }
   ],
   "source": [
    "import torch\n",
    "import os\n",
    "import numpy as np\n",
    "import pandas as pd\n",
    "import argparse\n",
    "from src.CustomDataset import DatasetFor0D\n",
    "from torch.utils.data import DataLoader\n",
    "from src.utils.sampler import ImbalancedDatasetSampler\n",
    "from src.utils.utility import preparing_0D_dataset, plot_learning_curve, generate_prob_curve_from_0D\n",
    "from src.visualization.visualize_latent_space import visualize_2D_latent_space, visualize_3D_latent_space\n",
    "from src.visualization.visualize_application import generate_real_time_experiment_0D\n",
    "from src.train import train, train_DRW\n",
    "from src.evaluate import evaluate\n",
    "from src.loss import FocalLoss, LDAMLoss\n",
    "from src.models.ts_transformer import TStransformer\n",
    "from src.feature_importance import compute_permute_feature_importance\n",
    "\n",
    "ts_cols = [\n",
    "    '\\\\q95', '\\\\ipmhd', '\\\\kappa', '\\\\tritop', '\\\\tribot',\n",
    "    '\\\\betap','\\\\betan','\\\\li', '\\\\WTOT_DLM03','\\\\ne_inter01', \n",
    "    '\\\\TS_NE_CORE_AVG', '\\\\TS_NE_EDGE_AVG', '\\\\TS_TE_CORE_AVG','\\\\TS_TE_EDGE_AVG'\n",
    "]\n",
    "\n",
    "# torch device state\n",
    "print(\"############### device setup ###################\")\n",
    "print(\"torch device avaliable : \", torch.cuda.is_available())\n",
    "print(\"torch current device : \", torch.cuda.current_device())\n",
    "print(\"torch device num : \", torch.cuda.device_count())\n",
    "\n",
    "# torch cuda initialize and clear cache\n",
    "torch.cuda.init()\n",
    "torch.cuda.empty_cache()\n",
    "\n",
    "\n",
    "\n",
    "gpu_num = 1\n",
    "tag = \"{}_clip_{}_dist_{}\".format(\"Transformer\", 21, 3)\n",
    "save_best_dir = \"./weights/{}_best.pt\".format(tag)\n",
    "\n",
    "# device allocation\n",
    "if(torch.cuda.device_count() >= 1):\n",
    "    device = \"cuda:\" + str(gpu_num)\n",
    "else:\n",
    "    device = 'cpu'\n",
    "    \n",
    "# dataset setup\n",
    "ts_train, ts_valid, ts_test, ts_scaler = preparing_0D_dataset(\"./dataset/KSTAR_Disruption_ts_data_extend.csv\", ts_cols = ts_cols, scaler = 'Robust')\n",
    "kstar_shot_list = pd.read_csv('./dataset/KSTAR_Disruption_Shot_List.csv', encoding = \"euc-kr\")\n",
    "\n",
    "test_data = DatasetFor0D(ts_test, kstar_shot_list, seq_len = 21, cols = ts_cols, dist = 3, dt = 4 * 1 / 210, scaler = ts_scaler)\n",
    "\n",
    "# define model\n",
    "model = TStransformer(\n",
    "    n_features=len(ts_cols),\n",
    "    feature_dims = 128,\n",
    "    max_len = 21,\n",
    "    n_layers = 8,\n",
    "    n_heads = 8,\n",
    "    dim_feedforward=512,\n",
    "    dropout = 0.25,\n",
    "    cls_dims = 128,\n",
    "    n_classes = 2\n",
    ")\n",
    "\n",
    "print(\"\\n################# model summary #################\\n\")\n",
    "model.summary()\n",
    "model.to(device)\n",
    "\n",
    "test_sampler = None\n",
    "test_loader = DataLoader(test_data, batch_size = 128, sampler=test_sampler, num_workers = 4, pin_memory=False)\n",
    "\n",
    "sample_data, sample_target = next(iter(test_loader))\n",
    "model.load_state_dict(torch.load(save_best_dir))"
   ]
  },
  {
   "cell_type": "code",
   "execution_count": 53,
   "metadata": {},
   "outputs": [],
   "source": [
    "model.load_state_dict(torch.load(save_best_dir))\n",
    "sample_output = model(sample_data.to(device))"
   ]
  },
  {
   "cell_type": "code",
   "execution_count": 54,
   "metadata": {},
   "outputs": [],
   "source": [
    "sample_pred = torch.nn.functional.softmax(sample_output, dim = 1)[:,0]"
   ]
  },
  {
   "cell_type": "code",
   "execution_count": 55,
   "metadata": {},
   "outputs": [
    {
     "name": "stdout",
     "output_type": "stream",
     "text": [
      "tensor(0.0333, device='cuda:1', grad_fn=<SelectBackward0>)\n",
      "tensor(1)\n"
     ]
    }
   ],
   "source": [
    "print(sample_pred[0])\n",
    "print(sample_target[0])"
   ]
  },
  {
   "cell_type": "code",
   "execution_count": 56,
   "metadata": {},
   "outputs": [
    {
     "data": {
      "text/plain": [
       "tensor([[3.3330e-02, 9.6667e-01],\n",
       "        [2.7145e-01, 7.2855e-01],\n",
       "        [3.0580e-01, 6.9420e-01],\n",
       "        [1.4346e-01, 8.5654e-01],\n",
       "        [2.8615e-01, 7.1385e-01],\n",
       "        [4.2439e-01, 5.7561e-01],\n",
       "        [1.9263e-01, 8.0737e-01],\n",
       "        [1.6274e-01, 8.3726e-01],\n",
       "        [3.7575e-01, 6.2425e-01],\n",
       "        [3.2592e-01, 6.7408e-01],\n",
       "        [7.5751e-01, 2.4249e-01],\n",
       "        [2.9122e-01, 7.0878e-01],\n",
       "        [9.8088e-01, 1.9118e-02],\n",
       "        [2.3990e-01, 7.6010e-01],\n",
       "        [9.7677e-01, 2.3230e-02],\n",
       "        [4.2855e-01, 5.7145e-01],\n",
       "        [2.3695e-01, 7.6305e-01],\n",
       "        [3.0075e-02, 9.6993e-01],\n",
       "        [3.8017e-02, 9.6198e-01],\n",
       "        [6.2215e-01, 3.7785e-01],\n",
       "        [2.4097e-01, 7.5903e-01],\n",
       "        [4.7639e-01, 5.2361e-01],\n",
       "        [7.8935e-01, 2.1065e-01],\n",
       "        [8.2676e-01, 1.7324e-01],\n",
       "        [1.5340e-01, 8.4660e-01],\n",
       "        [7.1431e-01, 2.8569e-01],\n",
       "        [9.0829e-01, 9.1709e-02],\n",
       "        [6.1467e-01, 3.8533e-01],\n",
       "        [7.9586e-02, 9.2041e-01],\n",
       "        [1.0423e-01, 8.9577e-01],\n",
       "        [2.5339e-01, 7.4661e-01],\n",
       "        [3.5607e-01, 6.4393e-01],\n",
       "        [2.7251e-01, 7.2749e-01],\n",
       "        [7.2251e-01, 2.7749e-01],\n",
       "        [8.8053e-01, 1.1947e-01],\n",
       "        [6.1381e-01, 3.8619e-01],\n",
       "        [7.3466e-01, 2.6534e-01],\n",
       "        [5.8678e-01, 4.1322e-01],\n",
       "        [2.3635e-01, 7.6365e-01],\n",
       "        [3.3934e-01, 6.6066e-01],\n",
       "        [3.1733e-01, 6.8267e-01],\n",
       "        [1.6532e-01, 8.3468e-01],\n",
       "        [1.8772e-01, 8.1228e-01],\n",
       "        [1.0079e-01, 8.9921e-01],\n",
       "        [5.5465e-01, 4.4535e-01],\n",
       "        [2.5928e-01, 7.4072e-01],\n",
       "        [7.6932e-01, 2.3068e-01],\n",
       "        [7.8384e-01, 2.1616e-01],\n",
       "        [8.3595e-01, 1.6405e-01],\n",
       "        [4.9920e-01, 5.0080e-01],\n",
       "        [3.1101e-01, 6.8899e-01],\n",
       "        [1.4908e-01, 8.5092e-01],\n",
       "        [4.6821e-01, 5.3179e-01],\n",
       "        [1.9364e-01, 8.0636e-01],\n",
       "        [2.5234e-01, 7.4766e-01],\n",
       "        [5.8664e-01, 4.1336e-01],\n",
       "        [2.6672e-01, 7.3328e-01],\n",
       "        [7.9615e-01, 2.0385e-01],\n",
       "        [3.0782e-01, 6.9218e-01],\n",
       "        [6.4045e-01, 3.5955e-01],\n",
       "        [6.4113e-01, 3.5887e-01],\n",
       "        [4.9871e-01, 5.0129e-01],\n",
       "        [4.5997e-01, 5.4003e-01],\n",
       "        [3.0823e-01, 6.9177e-01],\n",
       "        [9.2945e-02, 9.0706e-01],\n",
       "        [2.6841e-01, 7.3159e-01],\n",
       "        [9.0517e-01, 9.4830e-02],\n",
       "        [7.5460e-01, 2.4540e-01],\n",
       "        [5.5271e-01, 4.4729e-01],\n",
       "        [5.6851e-01, 4.3149e-01],\n",
       "        [7.6934e-01, 2.3066e-01],\n",
       "        [7.0877e-01, 2.9123e-01],\n",
       "        [4.0226e-01, 5.9774e-01],\n",
       "        [2.2984e-01, 7.7016e-01],\n",
       "        [3.8272e-02, 9.6173e-01],\n",
       "        [7.5445e-01, 2.4555e-01],\n",
       "        [9.6550e-02, 9.0345e-01],\n",
       "        [3.3140e-02, 9.6686e-01],\n",
       "        [9.9704e-01, 2.9571e-03],\n",
       "        [4.5294e-01, 5.4706e-01],\n",
       "        [8.8446e-01, 1.1554e-01],\n",
       "        [1.5990e-01, 8.4010e-01],\n",
       "        [9.9885e-02, 9.0012e-01],\n",
       "        [8.2336e-01, 1.7664e-01],\n",
       "        [9.4380e-01, 5.6199e-02],\n",
       "        [5.4639e-01, 4.5361e-01],\n",
       "        [9.9702e-01, 2.9782e-03],\n",
       "        [8.7812e-01, 1.2188e-01],\n",
       "        [8.3201e-01, 1.6799e-01],\n",
       "        [2.5053e-01, 7.4947e-01],\n",
       "        [2.5447e-01, 7.4553e-01],\n",
       "        [3.4139e-01, 6.5861e-01],\n",
       "        [1.6796e-01, 8.3204e-01],\n",
       "        [3.5500e-01, 6.4500e-01],\n",
       "        [7.9229e-01, 2.0771e-01],\n",
       "        [3.5541e-01, 6.4459e-01],\n",
       "        [3.8968e-01, 6.1032e-01],\n",
       "        [2.7286e-01, 7.2714e-01],\n",
       "        [6.8695e-01, 3.1305e-01],\n",
       "        [3.5927e-01, 6.4073e-01],\n",
       "        [1.2567e-01, 8.7433e-01],\n",
       "        [2.9159e-01, 7.0841e-01],\n",
       "        [3.8392e-01, 6.1608e-01],\n",
       "        [4.7972e-01, 5.2028e-01],\n",
       "        [6.1292e-01, 3.8708e-01],\n",
       "        [3.8020e-01, 6.1980e-01],\n",
       "        [6.5643e-01, 3.4357e-01],\n",
       "        [5.8996e-01, 4.1004e-01],\n",
       "        [2.9310e-01, 7.0690e-01],\n",
       "        [9.6123e-01, 3.8773e-02],\n",
       "        [9.9759e-01, 2.4078e-03],\n",
       "        [9.9394e-01, 6.0642e-03],\n",
       "        [9.9997e-01, 2.8899e-05],\n",
       "        [9.9972e-01, 2.7885e-04],\n",
       "        [9.9995e-01, 5.1756e-05],\n",
       "        [6.9187e-01, 3.0813e-01],\n",
       "        [7.5441e-01, 2.4559e-01],\n",
       "        [8.4263e-01, 1.5737e-01],\n",
       "        [7.4469e-01, 2.5531e-01],\n",
       "        [8.3631e-01, 1.6369e-01],\n",
       "        [4.0676e-01, 5.9324e-01],\n",
       "        [5.0234e-01, 4.9766e-01],\n",
       "        [5.3890e-01, 4.6110e-01],\n",
       "        [3.4158e-01, 6.5842e-01],\n",
       "        [2.9532e-01, 7.0468e-01],\n",
       "        [7.3037e-01, 2.6963e-01],\n",
       "        [8.2376e-01, 1.7624e-01],\n",
       "        [8.3345e-01, 1.6655e-01]], device='cuda:1', grad_fn=<SoftmaxBackward0>)"
      ]
     },
     "execution_count": 56,
     "metadata": {},
     "output_type": "execute_result"
    }
   ],
   "source": [
    "torch.nn.functional.softmax(sample_output, dim = 1)"
   ]
  },
  {
   "cell_type": "code",
   "execution_count": 57,
   "metadata": {},
   "outputs": [],
   "source": [
    "threshold = 0.5\n",
    "sample_pred = torch.logical_not((sample_pred > torch.FloatTensor([threshold]).to(device)))"
   ]
  },
  {
   "cell_type": "code",
   "execution_count": 58,
   "metadata": {},
   "outputs": [],
   "source": [
    "sample_acc = sample_pred.eq(sample_target.to(device).view_as(sample_pred)).sum().item()"
   ]
  },
  {
   "cell_type": "code",
   "execution_count": 59,
   "metadata": {},
   "outputs": [
    {
     "data": {
      "text/plain": [
       "torch.Size([128])"
      ]
     },
     "execution_count": 59,
     "metadata": {},
     "output_type": "execute_result"
    }
   ],
   "source": [
    "sample_pred.size()"
   ]
  },
  {
   "cell_type": "code",
   "execution_count": 60,
   "metadata": {},
   "outputs": [
    {
     "data": {
      "text/plain": [
       "tensor([ True,  True,  True,  True,  True,  True,  True,  True,  True,  True,\n",
       "        False,  True, False,  True, False,  True,  True,  True,  True, False,\n",
       "         True,  True, False, False,  True, False, False, False,  True,  True,\n",
       "         True,  True,  True, False, False, False, False, False,  True,  True,\n",
       "         True,  True,  True,  True, False,  True, False, False, False,  True,\n",
       "         True,  True,  True,  True,  True, False,  True, False,  True, False,\n",
       "        False,  True,  True,  True,  True,  True, False, False, False, False,\n",
       "        False, False,  True,  True,  True, False,  True,  True, False,  True,\n",
       "        False,  True,  True, False, False, False, False, False, False,  True,\n",
       "         True,  True,  True,  True, False,  True,  True,  True, False,  True,\n",
       "         True,  True,  True,  True, False,  True, False, False,  True, False,\n",
       "        False, False, False, False, False, False, False, False, False, False,\n",
       "         True, False, False,  True,  True, False, False, False],\n",
       "       device='cuda:1')"
      ]
     },
     "execution_count": 60,
     "metadata": {},
     "output_type": "execute_result"
    }
   ],
   "source": [
    "sample_pred"
   ]
  },
  {
   "cell_type": "code",
   "execution_count": 61,
   "metadata": {},
   "outputs": [],
   "source": [
    "sample_output = model(sample_data.to(device))\n",
    "sample_pred = torch.nn.functional.softmax(sample_output, dim = 1)[:,0]\n",
    "sample_pred = torch.logical_not((sample_pred > torch.FloatTensor([threshold]).to(device)))\n",
    "sample_pred2 = torch.nn.functional.softmax(sample_output, dim = 1).max(1, keepdim = True)[1]"
   ]
  },
  {
   "cell_type": "code",
   "execution_count": 62,
   "metadata": {},
   "outputs": [
    {
     "data": {
      "text/plain": [
       "tensor([True, True, True, True, True, True, True, True, True, True, True, True,\n",
       "        True, True, True, True, True, True, True, True, True, True, True, True,\n",
       "        True, True, True, True, True, True, True, True, True, True, True, True,\n",
       "        True, True, True, True, True, True, True, True, True, True, True, True,\n",
       "        True, True, True, True, True, True, True, True, True, True, True, True,\n",
       "        True, True, True, True, True, True, True, True, True, True, True, True,\n",
       "        True, True, True, True, True, True, True, True, True, True, True, True,\n",
       "        True, True, True, True, True, True, True, True, True, True, True, True,\n",
       "        True, True, True, True, True, True, True, True, True, True, True, True,\n",
       "        True, True, True, True, True, True, True, True, True, True, True, True,\n",
       "        True, True, True, True, True, True, True, True], device='cuda:1')"
      ]
     },
     "execution_count": 62,
     "metadata": {},
     "output_type": "execute_result"
    }
   ],
   "source": [
    "sample_pred.eq(sample_pred2.view_as(sample_pred))"
   ]
  },
  {
   "cell_type": "code",
   "execution_count": 71,
   "metadata": {},
   "outputs": [
    {
     "data": {
      "image/png": "[encoded data removed]",
      "text/plain": [
       "<Figure size 1080x720 with 2 Axes>"
      ]
     },
     "metadata": {
      "needs_background": "light"
     },
     "output_type": "display_data"
    }
   ],
   "source": [
    "sample_output = model(sample_data.to(device))\n",
    "sample_pred = torch.nn.functional.softmax(sample_output, dim = 1)[:,1]\n",
    "\n",
    "total_pred = sample_pred.detach().cpu().numpy()\n",
    "total_label = sample_target.detach().cpu().numpy()\n",
    "\n",
    "import matplotlib.pyplot as plt\n",
    "from sklearn.metrics import roc_auc_score, roc_curve, precision_recall_curve\n",
    "\n",
    "fig, axes = plt.subplots(1,2, sharex = False, figsize = (15, 10))\n",
    "\n",
    "lr_probs = total_pred\n",
    "total_pred = np.where(total_pred > threshold, 1, 0)\n",
    "\n",
    "# roc score\n",
    "ns_probs = [0 for _ in range(len(total_label))]\n",
    "\n",
    "ns_fpr, ns_tpr, a = roc_curve(total_label, ns_probs)\n",
    "lr_fpr, lr_tpr, b = roc_curve(total_label, lr_probs)\n",
    "\n",
    "axes[0].plot(ns_fpr, ns_tpr, linestyle = '--', label = 'Random')\n",
    "axes[0].plot(lr_fpr, lr_tpr, marker = '.', label = 'Model')\n",
    "axes[0].set_xlabel('False Positive Rate')\n",
    "axes[0].set_ylabel('True Positive Rate')\n",
    "\n",
    "lr_precision, lr_recall, _ = precision_recall_curve(total_label, lr_probs)\n",
    "axes[1].plot(lr_recall, lr_precision, marker = '.', label = 'Model')\n",
    "axes[1].set_xlabel(\"Recall\")\n",
    "axes[1].set_ylabel(\"Precision\")\n",
    "\n",
    "plt.show()"
   ]
  },
  {
   "cell_type": "code",
   "execution_count": 72,
   "metadata": {},
   "outputs": [
    {
     "data": {
      "text/plain": [
       "tensor([8.7772e-01, 5.8286e-01, 6.2971e-01, 9.1316e-01, 7.0616e-01, 7.7307e-01,\n",
       "        7.4006e-01, 7.9097e-01, 7.4741e-01, 6.7664e-01, 2.9829e-01, 6.8985e-01,\n",
       "        3.9003e-02, 8.4328e-01, 3.2686e-02, 1.5748e-01, 7.0816e-01, 9.7341e-01,\n",
       "        9.6672e-01, 5.4863e-01, 6.7438e-01, 5.8430e-01, 1.3438e-01, 3.5878e-02,\n",
       "        7.9626e-01, 8.4950e-01, 3.2526e-01, 6.4353e-01, 9.1462e-01, 9.3614e-01,\n",
       "        6.7378e-01, 6.3563e-01, 6.8179e-01, 2.9060e-01, 5.1740e-01, 6.4715e-01,\n",
       "        2.6179e-01, 1.3643e-01, 6.9071e-01, 6.5775e-01, 6.3516e-01, 7.1003e-01,\n",
       "        6.3132e-01, 8.8091e-01, 6.7657e-01, 8.7086e-01, 1.3271e-01, 6.4284e-02,\n",
       "        3.4695e-01, 5.8573e-01, 7.0409e-01, 9.5499e-01, 6.8744e-01, 5.8339e-01,\n",
       "        8.5768e-01, 5.1214e-01, 4.2498e-01, 2.8737e-01, 7.9002e-01, 6.0958e-01,\n",
       "        4.7895e-01, 2.3352e-01, 6.5462e-01, 8.1675e-01, 7.5292e-01, 6.2392e-01,\n",
       "        9.1192e-02, 4.8935e-01, 2.2695e-01, 9.9399e-02, 5.4663e-01, 1.7599e-01,\n",
       "        1.2764e-01, 8.8821e-01, 9.5018e-01, 5.6584e-02, 8.3706e-01, 9.2032e-01,\n",
       "        6.9370e-03, 6.9571e-01, 8.8740e-02, 7.9497e-01, 8.6715e-01, 2.1096e-01,\n",
       "        3.6106e-01, 4.6929e-01, 1.3750e-03, 2.2559e-01, 3.4682e-01, 6.1960e-01,\n",
       "        8.0715e-01, 7.0290e-01, 7.0630e-01, 8.0576e-01, 1.7430e-01, 7.3037e-01,\n",
       "        4.7935e-01, 7.2386e-01, 3.3889e-01, 6.4824e-01, 7.6333e-01, 5.7149e-01,\n",
       "        6.1872e-01, 6.5515e-01, 5.6786e-01, 6.6322e-01, 1.7426e-01, 7.2675e-01,\n",
       "        9.0107e-01, 1.3714e-02, 5.1573e-03, 1.3433e-02, 2.0449e-05, 1.7318e-04,\n",
       "        3.6661e-05, 6.5081e-01, 2.4484e-01, 1.1251e-01, 1.4313e-01, 2.6585e-01,\n",
       "        4.9219e-01, 4.3392e-01, 4.5933e-01, 3.3654e-01, 3.1275e-01, 1.9000e-01,\n",
       "        1.4441e-01, 1.1306e-01], device='cuda:1', grad_fn=<SelectBackward0>)"
      ]
     },
     "execution_count": 72,
     "metadata": {},
     "output_type": "execute_result"
    }
   ],
   "source": [
    "sample_pred"
   ]
  },
  {
   "cell_type": "code",
   "execution_count": 73,
   "metadata": {},
   "outputs": [
    {
     "data": {
      "text/plain": [
       "tensor([ True,  True,  True,  True,  True,  True,  True,  True,  True,  True,\n",
       "         True,  True, False,  True, False,  True,  True,  True,  True,  True,\n",
       "         True,  True,  True, False,  True,  True,  True,  True,  True,  True,\n",
       "         True,  True,  True,  True,  True,  True,  True,  True,  True,  True,\n",
       "         True,  True,  True,  True,  True,  True,  True, False,  True,  True,\n",
       "         True,  True,  True,  True,  True,  True,  True,  True,  True,  True,\n",
       "         True,  True,  True,  True,  True,  True, False,  True,  True, False,\n",
       "         True,  True,  True,  True,  True, False,  True,  True, False,  True,\n",
       "        False,  True,  True,  True,  True,  True,  True, False, False,  True,\n",
       "         True,  True,  True,  True,  True,  True,  True,  True,  True,  True,\n",
       "         True,  True,  True,  True,  True,  True,  True,  True,  True, False,\n",
       "        False, False,  True,  True,  True,  True,  True,  True,  True,  True,\n",
       "         True,  True,  True,  True,  True,  True,  True,  True],\n",
       "       device='cuda:1')"
      ]
     },
     "execution_count": 73,
     "metadata": {},
     "output_type": "execute_result"
    }
   ],
   "source": [
    "sample_target.to(device).eq((sample_pred > torch.FloatTensor([0.1]).to(device)))"
   ]
  },
  {
   "cell_type": "code",
   "execution_count": 93,
   "metadata": {},
   "outputs": [
    {
     "data": {
      "text/plain": [
       "Text(33.0, 0.5, 'Actual')"
      ]
     },
     "execution_count": 93,
     "metadata": {},
     "output_type": "execute_result"
    },
    {
     "data": {
      "image/png": "[encoded data removed]",
      "text/plain": [
       "<Figure size 432x288 with 2 Axes>"
      ]
     },
     "metadata": {
      "needs_background": "light"
     },
     "output_type": "display_data"
    }
   ],
   "source": [
    "import seaborn as sns\n",
    "from sklearn.metrics import confusion_matrix\n",
    "threshold = 0.9\n",
    "\n",
    "total_pred = sample_pred.detach().cpu().numpy()\n",
    "total_label = sample_target.detach().cpu().numpy()\n",
    "total_pred = np.where(total_pred > 1 - threshold, 1, 0)\n",
    "\n",
    "conf_mat = confusion_matrix(total_label, total_pred)\n",
    "s = sns.heatmap(\n",
    "    conf_mat, # conf_mat / np.sum(conf_mat),\n",
    "    annot = True,\n",
    "    fmt ='04d' ,# fmt = '.2f',\n",
    "    cmap = 'Blues',\n",
    "    xticklabels=[\"disruption\",\"normal\"],\n",
    "    yticklabels=[\"disruption\",\"normal\"],\n",
    ")\n",
    "\n",
    "s.set_xlabel(\"Prediction\")\n",
    "s.set_ylabel(\"Actual\")"
   ]
  }
 ],
 "metadata": {
  "kernelspec": {
   "display_name": "Python 3.9.7 ('research-env': conda)",
   "language": "python",
   "name": "python3"
  },
  "language_info": {
   "codemirror_mode": {
    "name": "ipython",
    "version": 3
   },
   "file_extension": ".py",
   "mimetype": "text/x-python",
   "name": "python",
   "nbconvert_exporter": "python",
   "pygments_lexer": "ipython3",
   "version": "3.9.7 (default, Sep 16 2021, 13:09:58) \n[GCC 7.5.0]"
  },
  "orig_nbformat": 4,
  "vscode": {
   "interpreter": {
    "hash": "13691d44a992e9eda53412410cd635bb66f9b6a1d0122e1b07e8626f6211bdec"
   }
  }
 },
 "nbformat": 4,
 "nbformat_minor": 2
}
