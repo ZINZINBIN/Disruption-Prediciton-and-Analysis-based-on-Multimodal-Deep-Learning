{
 "cells": [
  {
   "cell_type": "code",
   "execution_count": 1,
   "metadata": {},
   "outputs": [],
   "source": [
    "import pandas as pd\n",
    "\n",
    "# shot_list_sheet_1 = pd.read_excel(\"./dataset/KSTAR_Disruption_Shot_List.csv\", sheet_name = 'Sheet1')\n",
    "# shot_list_sheet_2 = pd.read_excel(\"./dataset/KSTAR_Disruption_Shot_List.csv\", sheet_name = 'Sheet2')\n",
    "short_list_sheet = pd.read_csv(\"./dataset/KSTAR_Disruption_Shot_List.csv\")"
   ]
  },
  {
   "cell_type": "code",
   "execution_count": 2,
   "metadata": {},
   "outputs": [
    {
     "data": {
      "text/html": [
       "<div>\n",
       "<style scoped>\n",
       "    .dataframe tbody tr th:only-of-type {\n",
       "        vertical-align: middle;\n",
       "    }\n",
       "\n",
       "    .dataframe tbody tr th {\n",
       "        vertical-align: top;\n",
       "    }\n",
       "\n",
       "    .dataframe thead th {\n",
       "        text-align: right;\n",
       "    }\n",
       "</style>\n",
       "<table border=\"1\" class=\"dataframe\">\n",
       "  <thead>\n",
       "    <tr style=\"text-align: right;\">\n",
       "      <th></th>\n",
       "      <th>shot</th>\n",
       "      <th>year</th>\n",
       "      <th>tftsrt</th>\n",
       "      <th>tipminf</th>\n",
       "      <th>tTQend</th>\n",
       "      <th>Isdata</th>\n",
       "    </tr>\n",
       "  </thead>\n",
       "  <tbody>\n",
       "    <tr>\n",
       "      <th>0</th>\n",
       "      <td>12350</td>\n",
       "      <td>2015</td>\n",
       "      <td>1.500</td>\n",
       "      <td>5.246</td>\n",
       "      <td>5.2248</td>\n",
       "      <td>NaN</td>\n",
       "    </tr>\n",
       "    <tr>\n",
       "      <th>1</th>\n",
       "      <td>12372</td>\n",
       "      <td>2015</td>\n",
       "      <td>0.700</td>\n",
       "      <td>3.818</td>\n",
       "      <td>3.8026</td>\n",
       "      <td>NaN</td>\n",
       "    </tr>\n",
       "    <tr>\n",
       "      <th>2</th>\n",
       "      <td>12415</td>\n",
       "      <td>2015</td>\n",
       "      <td>1.900</td>\n",
       "      <td>4.769</td>\n",
       "      <td>4.7450</td>\n",
       "      <td>NaN</td>\n",
       "    </tr>\n",
       "    <tr>\n",
       "      <th>3</th>\n",
       "      <td>12438</td>\n",
       "      <td>2015</td>\n",
       "      <td>1.100</td>\n",
       "      <td>3.702</td>\n",
       "      <td>3.6826</td>\n",
       "      <td>NaN</td>\n",
       "    </tr>\n",
       "    <tr>\n",
       "      <th>4</th>\n",
       "      <td>12481</td>\n",
       "      <td>2015</td>\n",
       "      <td>1.900</td>\n",
       "      <td>5.217</td>\n",
       "      <td>5.1923</td>\n",
       "      <td>NaN</td>\n",
       "    </tr>\n",
       "    <tr>\n",
       "      <th>...</th>\n",
       "      <td>...</td>\n",
       "      <td>...</td>\n",
       "      <td>...</td>\n",
       "      <td>...</td>\n",
       "      <td>...</td>\n",
       "      <td>...</td>\n",
       "    </tr>\n",
       "    <tr>\n",
       "      <th>1091</th>\n",
       "      <td>21730</td>\n",
       "      <td>2018</td>\n",
       "      <td>1.500</td>\n",
       "      <td>4.968</td>\n",
       "      <td>4.9490</td>\n",
       "      <td>NaN</td>\n",
       "    </tr>\n",
       "    <tr>\n",
       "      <th>1092</th>\n",
       "      <td>21731</td>\n",
       "      <td>2018</td>\n",
       "      <td>1.500</td>\n",
       "      <td>4.913</td>\n",
       "      <td>4.8950</td>\n",
       "      <td>NaN</td>\n",
       "    </tr>\n",
       "    <tr>\n",
       "      <th>1093</th>\n",
       "      <td>21735</td>\n",
       "      <td>2018</td>\n",
       "      <td>1.500</td>\n",
       "      <td>89.746</td>\n",
       "      <td>89.7320</td>\n",
       "      <td>NaN</td>\n",
       "    </tr>\n",
       "    <tr>\n",
       "      <th>1094</th>\n",
       "      <td>21747</td>\n",
       "      <td>2018</td>\n",
       "      <td>3.724</td>\n",
       "      <td>11.451</td>\n",
       "      <td>11.4190</td>\n",
       "      <td>NaN</td>\n",
       "    </tr>\n",
       "    <tr>\n",
       "      <th>1095</th>\n",
       "      <td>21757</td>\n",
       "      <td>2018</td>\n",
       "      <td>1.500</td>\n",
       "      <td>87.907</td>\n",
       "      <td>87.8940</td>\n",
       "      <td>NaN</td>\n",
       "    </tr>\n",
       "  </tbody>\n",
       "</table>\n",
       "<p>1096 rows × 6 columns</p>\n",
       "</div>"
      ],
      "text/plain": [
       "       shot  year  tftsrt  tipminf   tTQend Isdata\n",
       "0     12350  2015   1.500    5.246   5.2248    NaN\n",
       "1     12372  2015   0.700    3.818   3.8026    NaN\n",
       "2     12415  2015   1.900    4.769   4.7450    NaN\n",
       "3     12438  2015   1.100    3.702   3.6826    NaN\n",
       "4     12481  2015   1.900    5.217   5.1923    NaN\n",
       "...     ...   ...     ...      ...      ...    ...\n",
       "1091  21730  2018   1.500    4.968   4.9490    NaN\n",
       "1092  21731  2018   1.500    4.913   4.8950    NaN\n",
       "1093  21735  2018   1.500   89.746  89.7320    NaN\n",
       "1094  21747  2018   3.724   11.451  11.4190    NaN\n",
       "1095  21757  2018   1.500   87.907  87.8940    NaN\n",
       "\n",
       "[1096 rows x 6 columns]"
      ]
     },
     "execution_count": 2,
     "metadata": {},
     "output_type": "execute_result"
    }
   ],
   "source": [
    "short_list_sheet"
   ]
  },
  {
   "cell_type": "code",
   "execution_count": 3,
   "metadata": {},
   "outputs": [
    {
     "name": "stderr",
     "output_type": "stream",
     "text": [
      "/home/zinzinbin/.conda/envs/research-env/lib/python3.9/site-packages/tqdm/auto.py:22: TqdmWarning: IProgress not found. Please update jupyter and ipywidgets. See https://ipywidgets.readthedocs.io/en/stable/user_install.html\n",
      "  from .autonotebook import tqdm as notebook_tqdm\n"
     ]
    },
    {
     "name": "stdout",
     "output_type": "stream",
     "text": [
      "Number of train videos: 1240\n"
     ]
    }
   ],
   "source": [
    "\n",
    "from src.dataloader import VideoDataset\n",
    "from torch.utils.data import DataLoader\n",
    "\n",
    "batch_size = 4\n",
    "clip_len = 10\n",
    "train_data_dist10 = VideoDataset(dataset = \"fast_model_dataset\", split = \"train\", clip_len = clip_len, preprocess = False)\n",
    "train_loader_dist10 = DataLoader(train_data_dist10, batch_size = batch_size, shuffle = True, num_workers = 4)\n"
   ]
  },
  {
   "cell_type": "code",
   "execution_count": 4,
   "metadata": {},
   "outputs": [
    {
     "name": "stdout",
     "output_type": "stream",
     "text": [
      "sample_img :  torch.Size([3, 112, 112])\n"
     ]
    },
    {
     "ename": "ModuleNotFoundError",
     "evalue": "No module named 'src.utility'",
     "output_type": "error",
     "traceback": [
      "\u001b[0;31m---------------------------------------------------------------------------\u001b[0m",
      "\u001b[0;31mModuleNotFoundError\u001b[0m                       Traceback (most recent call last)",
      "\u001b[1;32m/home/zinzinbin/codes_for_study/fusion-plasma/research-predict-disruption/test.ipynb Cell 4'\u001b[0m in \u001b[0;36m<cell line: 6>\u001b[0;34m()\u001b[0m\n\u001b[1;32m      <a href='vscode-notebook-cell://ssh-remote%2Bdiya/home/zinzinbin/codes_for_study/fusion-plasma/research-predict-disruption/test.ipynb#ch0000003vscode-remote?line=1'>2</a>\u001b[0m sample_img \u001b[39m=\u001b[39m sample_data[\u001b[39m0\u001b[39m, :, \u001b[39m0\u001b[39m, :, :]\n\u001b[1;32m      <a href='vscode-notebook-cell://ssh-remote%2Bdiya/home/zinzinbin/codes_for_study/fusion-plasma/research-predict-disruption/test.ipynb#ch0000003vscode-remote?line=3'>4</a>\u001b[0m \u001b[39mprint\u001b[39m(\u001b[39m\"\u001b[39m\u001b[39msample_img : \u001b[39m\u001b[39m\"\u001b[39m, sample_img\u001b[39m.\u001b[39msize())\n\u001b[0;32m----> <a href='vscode-notebook-cell://ssh-remote%2Bdiya/home/zinzinbin/codes_for_study/fusion-plasma/research-predict-disruption/test.ipynb#ch0000003vscode-remote?line=5'>6</a>\u001b[0m \u001b[39mfrom\u001b[39;00m \u001b[39msrc\u001b[39;00m\u001b[39m.\u001b[39;00m\u001b[39mutility\u001b[39;00m \u001b[39mimport\u001b[39;00m show_frame\n\u001b[1;32m      <a href='vscode-notebook-cell://ssh-remote%2Bdiya/home/zinzinbin/codes_for_study/fusion-plasma/research-predict-disruption/test.ipynb#ch0000003vscode-remote?line=7'>8</a>\u001b[0m show_frame(sample_img)\n",
      "\u001b[0;31mModuleNotFoundError\u001b[0m: No module named 'src.utility'"
     ]
    }
   ],
   "source": [
    "sample_data, sample_label = next(iter(train_loader_dist10))\n",
    "sample_img = sample_data[0, :, 0, :, :]\n",
    "\n",
    "print(\"sample_img : \", sample_img.size())\n",
    "\n",
    "from src.utility import show_frame\n",
    "\n",
    "show_frame(sample_img)"
   ]
  },
  {
   "cell_type": "code",
   "execution_count": null,
   "metadata": {},
   "outputs": [
    {
     "name": "stderr",
     "output_type": "stream",
     "text": [
      "Clipping input data to the valid range for imshow with RGB data ([0..1] for floats or [0..255] for integers).\n"
     ]
    },
    {
     "data": {
      "image/png": "[encoded data removed]",
      "text/plain": [
       "<Figure size 432x288 with 1 Axes>"
      ]
     },
     "metadata": {
      "needs_background": "light"
     },
     "output_type": "display_data"
    },
    {
     "name": "stderr",
     "output_type": "stream",
     "text": [
      "Clipping input data to the valid range for imshow with RGB data ([0..1] for floats or [0..255] for integers).\n"
     ]
    },
    {
     "data": {
      "image/png": "[encoded data removed]",
      "text/plain": [
       "<Figure size 432x288 with 1 Axes>"
      ]
     },
     "metadata": {
      "needs_background": "light"
     },
     "output_type": "display_data"
    },
    {
     "name": "stderr",
     "output_type": "stream",
     "text": [
      "Clipping input data to the valid range for imshow with RGB data ([0..1] for floats or [0..255] for integers).\n"
     ]
    },
    {
     "data": {
      "image/png": "[encoded data removed]",
      "text/plain": [
       "<Figure size 432x288 with 1 Axes>"
      ]
     },
     "metadata": {
      "needs_background": "light"
     },
     "output_type": "display_data"
    }
   ],
   "source": [
    "for idx in range(sample_data.size(1)):\n",
    "    sample_img = sample_data[0, :, idx, :, :]\n",
    "    show_frame(sample_img)"
   ]
  },
  {
   "cell_type": "code",
   "execution_count": null,
   "metadata": {},
   "outputs": [
    {
     "name": "stdout",
     "output_type": "stream",
     "text": [
      "sample data :  torch.Size([4, 3, 10, 112, 112])\n",
      "sample target :  torch.Size([4])\n"
     ]
    }
   ],
   "source": [
    "sample_data, sample_target = next(iter(train_loader_dist10))\n",
    "print(\"sample data : \", sample_data.size())\n",
    "print(\"sample target : \", sample_target.size())"
   ]
  },
  {
   "cell_type": "code",
   "execution_count": null,
   "metadata": {},
   "outputs": [],
   "source": [
    "from src.model import VideoSpatioEncoder\n",
    "\n",
    "encoder = VideoSpatioEncoder(\n",
    "    input_shape  = (3, 8, 112, 112),\n",
    "    alpha  = 0.01,\n",
    ")"
   ]
  },
  {
   "cell_type": "code",
   "execution_count": null,
   "metadata": {},
   "outputs": [
    {
     "name": "stdout",
     "output_type": "stream",
     "text": [
      "sample_enc :  torch.Size([4, 8, 23040])\n"
     ]
    }
   ],
   "source": [
    "sample_enc = encoder(sample_data)\n",
    "print(\"sample_enc : \", sample_enc.size())"
   ]
  },
  {
   "cell_type": "code",
   "execution_count": null,
   "metadata": {},
   "outputs": [],
   "source": [
    "from src.transformer import SBERT\n",
    "sbert = SBERT(\n",
    "    num_features = sample_enc.size(-1),\n",
    "    hidden = 128,\n",
    "    n_layers = 4,\n",
    "    attn_heads = 8, \n",
    "    max_len  = 8\n",
    ")"
   ]
  },
  {
   "cell_type": "code",
   "execution_count": null,
   "metadata": {},
   "outputs": [],
   "source": [
    "import torch\n",
    "\n",
    "sample_doy = torch.tensor([[0,0,0,0,0,0,0,0],[0,0,0,0,0,0,0,0],[0,0,0,0,0,0,0,0],[0,0,0,0,0,0,0,0]])\n",
    "sample_mask = None\n",
    "\n",
    "sample_sbert_output = sbert(sample_enc, sample_doy, sample_mask)"
   ]
  },
  {
   "cell_type": "code",
   "execution_count": null,
   "metadata": {},
   "outputs": [
    {
     "name": "stdout",
     "output_type": "stream",
     "text": [
      "sbert output :  torch.Size([4, 8, 128])\n"
     ]
    }
   ],
   "source": [
    "print(\"sbert output : \", sample_sbert_output.size())"
   ]
  },
  {
   "cell_type": "code",
   "execution_count": null,
   "metadata": {},
   "outputs": [
    {
     "name": "stdout",
     "output_type": "stream",
     "text": [
      "sbert output :  torch.Size([4, 8, 128])\n"
     ]
    }
   ],
   "source": [
    "sample_doy = torch.IntTensor(list(map(int, range(1, 8 + 1)))).repeat(sample_enc.size(0), 1)\n",
    "sample_mask = None\n",
    "sample_sbert_output = sbert(sample_enc, sample_doy, sample_mask)\n",
    "print(\"sbert output : \", sample_sbert_output.size())"
   ]
  },
  {
   "cell_type": "code",
   "execution_count": null,
   "metadata": {},
   "outputs": [],
   "source": [
    "from src.model import SBERTDisruptionClassifier\n",
    "\n",
    "model = SBERTDisruptionClassifier(\n",
    "    spatio_encoder = encoder, \n",
    "    sbert = sbert, \n",
    "    mlp_hidden = 128, \n",
    "    num_classes = 2\n",
    ")"
   ]
  },
  {
   "cell_type": "code",
   "execution_count": null,
   "metadata": {},
   "outputs": [
    {
     "data": {
      "text/plain": [
       "23040"
      ]
     },
     "execution_count": 15,
     "metadata": {},
     "output_type": "execute_result"
    }
   ],
   "source": [
    "model.sbert.num_features"
   ]
  },
  {
   "cell_type": "code",
   "execution_count": null,
   "metadata": {},
   "outputs": [
    {
     "name": "stdout",
     "output_type": "stream",
     "text": [
      "torch.Size([4, 8, 23040])\n"
     ]
    }
   ],
   "source": [
    "step1 = model.spatio_encoder(sample_data)\n",
    "print(step1.size())"
   ]
  },
  {
   "cell_type": "code",
   "execution_count": null,
   "metadata": {},
   "outputs": [
    {
     "data": {
      "text/plain": [
       "MulticlassClassifier(\n",
       "  (pooling): MaxPool1d(kernel_size=8, stride=8, padding=0, dilation=1, ceil_mode=False)\n",
       "  (mlp): Sequential(\n",
       "    (0): Linear(in_features=128, out_features=128, bias=True)\n",
       "    (1): BatchNorm1d(128, eps=1e-05, momentum=0.1, affine=True, track_running_stats=True)\n",
       "    (2): LeakyReLU(negative_slope=0.01)\n",
       "    (3): Linear(in_features=128, out_features=2, bias=True)\n",
       "  )\n",
       ")"
      ]
     },
     "execution_count": 17,
     "metadata": {},
     "output_type": "execute_result"
    }
   ],
   "source": [
    "model.classifier"
   ]
  },
  {
   "cell_type": "code",
   "execution_count": null,
   "metadata": {},
   "outputs": [
    {
     "data": {
      "text/plain": [
       "tensor([[-0.3567, -0.0086],\n",
       "        [ 0.4533,  0.4578],\n",
       "        [-0.1101, -0.7663],\n",
       "        [-0.4707, -0.1685]], grad_fn=<AddmmBackward0>)"
      ]
     },
     "execution_count": 18,
     "metadata": {},
     "output_type": "execute_result"
    }
   ],
   "source": [
    "from src.transformer import MulticlassClassifier\n",
    "\n",
    "classifier = MulticlassClassifier(\n",
    "    enc_dims = 128,\n",
    "    hidden  = 128,\n",
    "    num_classes=2\n",
    ")\n",
    "\n",
    "classifier(sample_sbert_output)"
   ]
  },
  {
   "cell_type": "code",
   "execution_count": null,
   "metadata": {},
   "outputs": [
    {
     "data": {
      "text/plain": [
       "tensor([[ 0.0392, -0.2073],\n",
       "        [-0.5427,  0.1150],\n",
       "        [-0.5553, -0.2493],\n",
       "        [ 0.4135,  0.1297]], grad_fn=<AddmmBackward0>)"
      ]
     },
     "execution_count": 19,
     "metadata": {},
     "output_type": "execute_result"
    }
   ],
   "source": [
    "model.forward(sample_data)"
   ]
  },
  {
   "cell_type": "code",
   "execution_count": null,
   "metadata": {},
   "outputs": [],
   "source": [
    "from src.model import *\n",
    "\n",
    "r21p = R2Plus1DClassifier(\n",
    "        input_size  = (3, 8, 112, 112),\n",
    "        num_classes = 2, \n",
    "        layer_sizes = [2,2,2,2], \n",
    "        pretrained = False, \n",
    "        alpha = 0.01\n",
    ")\n",
    "\n",
    "video_encoder = VideoSpatioEncoder(\n",
    "    input_shape  = (3, 8, 112, 112),\n",
    "    alpha  = 0.01,\n",
    ")\n",
    "\n",
    "temporal_encoder = SBERT(\n",
    "    num_features = 18432,\n",
    "    hidden = 128,\n",
    "    n_layers = 4,\n",
    "    attn_heads = 8, \n",
    "    max_len  = 8\n",
    ")\n",
    "\n",
    "sbert_model = SBERTDisruptionClassifier(\n",
    "    spatio_encoder = video_encoder, \n",
    "    sbert = temporal_encoder, \n",
    "    mlp_hidden = 128, \n",
    "    num_classes = 2\n",
    ")"
   ]
  },
  {
   "cell_type": "code",
   "execution_count": null,
   "metadata": {},
   "outputs": [
    {
     "name": "stdout",
     "output_type": "stream",
     "text": [
      "-----------------------------------------------------------------------------------------------------------------------------------------------------------------------------------------------\n",
      "                                                                                                 Parent Layers             Layer (type)             Input Shape         Param #     Tr. Param #\n",
      "===============================================================================================================================================================================================\n",
      "                                                 R2Plus1DClassifier/R2Plus1DNet/SpatioTemporalConv/Conv3dBlock                 Conv3d-1     [1, 3, 8, 112, 112]           6,615           6,615\n",
      "                                                 R2Plus1DClassifier/R2Plus1DNet/SpatioTemporalConv/Conv3dBlock            BatchNorm3d-2      [1, 45, 8, 56, 56]              90              90\n",
      "                                                 R2Plus1DClassifier/R2Plus1DNet/SpatioTemporalConv/Conv3dBlock              LeakyReLU-3      [1, 45, 8, 56, 56]               0               0\n",
      "                                                 R2Plus1DClassifier/R2Plus1DNet/SpatioTemporalConv/Conv3dBlock                 Conv3d-4      [1, 45, 8, 56, 56]           8,640           8,640\n",
      "                                                 R2Plus1DClassifier/R2Plus1DNet/SpatioTemporalConv/Conv3dBlock            BatchNorm3d-5      [1, 64, 8, 56, 56]             128             128\n",
      "                                                 R2Plus1DClassifier/R2Plus1DNet/SpatioTemporalConv/Conv3dBlock              LeakyReLU-6      [1, 64, 8, 56, 56]               0               0\n",
      "   R2Plus1DClassifier/R2Plus1DNet/SpatioTemporalResLayer/SpatioTemporalResBlock/SpatioTemporalConv/Conv3dBlock                 Conv3d-7      [1, 64, 8, 56, 56]          82,944          82,944\n",
      "   R2Plus1DClassifier/R2Plus1DNet/SpatioTemporalResLayer/SpatioTemporalResBlock/SpatioTemporalConv/Conv3dBlock            BatchNorm3d-8     [1, 144, 8, 56, 56]             288             288\n",
      "   R2Plus1DClassifier/R2Plus1DNet/SpatioTemporalResLayer/SpatioTemporalResBlock/SpatioTemporalConv/Conv3dBlock              LeakyReLU-9     [1, 144, 8, 56, 56]               0               0\n",
      "   R2Plus1DClassifier/R2Plus1DNet/SpatioTemporalResLayer/SpatioTemporalResBlock/SpatioTemporalConv/Conv3dBlock                Conv3d-10     [1, 144, 8, 56, 56]          27,648          27,648\n",
      "   R2Plus1DClassifier/R2Plus1DNet/SpatioTemporalResLayer/SpatioTemporalResBlock/SpatioTemporalConv/Conv3dBlock           BatchNorm3d-11      [1, 64, 8, 56, 56]             128             128\n",
      "   R2Plus1DClassifier/R2Plus1DNet/SpatioTemporalResLayer/SpatioTemporalResBlock/SpatioTemporalConv/Conv3dBlock             LeakyReLU-12      [1, 64, 8, 56, 56]               0               0\n",
      "   R2Plus1DClassifier/R2Plus1DNet/SpatioTemporalResLayer/SpatioTemporalResBlock/SpatioTemporalConv/Conv3dBlock                Conv3d-13      [1, 64, 8, 56, 56]          82,944          82,944\n",
      "   R2Plus1DClassifier/R2Plus1DNet/SpatioTemporalResLayer/SpatioTemporalResBlock/SpatioTemporalConv/Conv3dBlock           BatchNorm3d-14     [1, 144, 8, 56, 56]             288             288\n",
      "   R2Plus1DClassifier/R2Plus1DNet/SpatioTemporalResLayer/SpatioTemporalResBlock/SpatioTemporalConv/Conv3dBlock             LeakyReLU-15     [1, 144, 8, 56, 56]               0               0\n",
      "   R2Plus1DClassifier/R2Plus1DNet/SpatioTemporalResLayer/SpatioTemporalResBlock/SpatioTemporalConv/Conv3dBlock                Conv3d-16     [1, 144, 8, 56, 56]          27,648          27,648\n",
      "   R2Plus1DClassifier/R2Plus1DNet/SpatioTemporalResLayer/SpatioTemporalResBlock/SpatioTemporalConv/Conv3dBlock           BatchNorm3d-17      [1, 64, 8, 56, 56]             128             128\n",
      "   R2Plus1DClassifier/R2Plus1DNet/SpatioTemporalResLayer/SpatioTemporalResBlock/SpatioTemporalConv/Conv3dBlock             LeakyReLU-18      [1, 64, 8, 56, 56]               0               0\n",
      "                                  R2Plus1DClassifier/R2Plus1DNet/SpatioTemporalResLayer/SpatioTemporalResBlock             LeakyReLU-19      [1, 64, 8, 56, 56]               0               0\n",
      "   R2Plus1DClassifier/R2Plus1DNet/SpatioTemporalResLayer/SpatioTemporalResBlock/SpatioTemporalConv/Conv3dBlock                Conv3d-20      [1, 64, 8, 56, 56]          82,944          82,944\n",
      "   R2Plus1DClassifier/R2Plus1DNet/SpatioTemporalResLayer/SpatioTemporalResBlock/SpatioTemporalConv/Conv3dBlock           BatchNorm3d-21     [1, 144, 8, 56, 56]             288             288\n",
      "   R2Plus1DClassifier/R2Plus1DNet/SpatioTemporalResLayer/SpatioTemporalResBlock/SpatioTemporalConv/Conv3dBlock             LeakyReLU-22     [1, 144, 8, 56, 56]               0               0\n",
      "   R2Plus1DClassifier/R2Plus1DNet/SpatioTemporalResLayer/SpatioTemporalResBlock/SpatioTemporalConv/Conv3dBlock                Conv3d-23     [1, 144, 8, 56, 56]          27,648          27,648\n",
      "   R2Plus1DClassifier/R2Plus1DNet/SpatioTemporalResLayer/SpatioTemporalResBlock/SpatioTemporalConv/Conv3dBlock           BatchNorm3d-24      [1, 64, 8, 56, 56]             128             128\n",
      "   R2Plus1DClassifier/R2Plus1DNet/SpatioTemporalResLayer/SpatioTemporalResBlock/SpatioTemporalConv/Conv3dBlock             LeakyReLU-25      [1, 64, 8, 56, 56]               0               0\n",
      "   R2Plus1DClassifier/R2Plus1DNet/SpatioTemporalResLayer/SpatioTemporalResBlock/SpatioTemporalConv/Conv3dBlock                Conv3d-26      [1, 64, 8, 56, 56]          82,944          82,944\n",
      "   R2Plus1DClassifier/R2Plus1DNet/SpatioTemporalResLayer/SpatioTemporalResBlock/SpatioTemporalConv/Conv3dBlock           BatchNorm3d-27     [1, 144, 8, 56, 56]             288             288\n",
      "   R2Plus1DClassifier/R2Plus1DNet/SpatioTemporalResLayer/SpatioTemporalResBlock/SpatioTemporalConv/Conv3dBlock             LeakyReLU-28     [1, 144, 8, 56, 56]               0               0\n",
      "   R2Plus1DClassifier/R2Plus1DNet/SpatioTemporalResLayer/SpatioTemporalResBlock/SpatioTemporalConv/Conv3dBlock                Conv3d-29     [1, 144, 8, 56, 56]          27,648          27,648\n",
      "   R2Plus1DClassifier/R2Plus1DNet/SpatioTemporalResLayer/SpatioTemporalResBlock/SpatioTemporalConv/Conv3dBlock           BatchNorm3d-30      [1, 64, 8, 56, 56]             128             128\n",
      "   R2Plus1DClassifier/R2Plus1DNet/SpatioTemporalResLayer/SpatioTemporalResBlock/SpatioTemporalConv/Conv3dBlock             LeakyReLU-31      [1, 64, 8, 56, 56]               0               0\n",
      "                                  R2Plus1DClassifier/R2Plus1DNet/SpatioTemporalResLayer/SpatioTemporalResBlock             LeakyReLU-32      [1, 64, 8, 56, 56]               0               0\n",
      "   R2Plus1DClassifier/R2Plus1DNet/SpatioTemporalResLayer/SpatioTemporalResBlock/SpatioTemporalConv/Conv3dBlock                Conv3d-33      [1, 64, 8, 56, 56]         132,480         132,480\n",
      "   R2Plus1DClassifier/R2Plus1DNet/SpatioTemporalResLayer/SpatioTemporalResBlock/SpatioTemporalConv/Conv3dBlock           BatchNorm3d-34     [1, 230, 8, 28, 28]             460             460\n",
      "   R2Plus1DClassifier/R2Plus1DNet/SpatioTemporalResLayer/SpatioTemporalResBlock/SpatioTemporalConv/Conv3dBlock             LeakyReLU-35     [1, 230, 8, 28, 28]               0               0\n",
      "   R2Plus1DClassifier/R2Plus1DNet/SpatioTemporalResLayer/SpatioTemporalResBlock/SpatioTemporalConv/Conv3dBlock                Conv3d-36     [1, 230, 8, 28, 28]          88,320          88,320\n",
      "   R2Plus1DClassifier/R2Plus1DNet/SpatioTemporalResLayer/SpatioTemporalResBlock/SpatioTemporalConv/Conv3dBlock           BatchNorm3d-37     [1, 128, 4, 28, 28]             256             256\n",
      "   R2Plus1DClassifier/R2Plus1DNet/SpatioTemporalResLayer/SpatioTemporalResBlock/SpatioTemporalConv/Conv3dBlock             LeakyReLU-38     [1, 128, 4, 28, 28]               0               0\n",
      "   R2Plus1DClassifier/R2Plus1DNet/SpatioTemporalResLayer/SpatioTemporalResBlock/SpatioTemporalConv/Conv3dBlock                Conv3d-39     [1, 128, 4, 28, 28]         331,776         331,776\n",
      "   R2Plus1DClassifier/R2Plus1DNet/SpatioTemporalResLayer/SpatioTemporalResBlock/SpatioTemporalConv/Conv3dBlock           BatchNorm3d-40     [1, 288, 4, 28, 28]             576             576\n",
      "   R2Plus1DClassifier/R2Plus1DNet/SpatioTemporalResLayer/SpatioTemporalResBlock/SpatioTemporalConv/Conv3dBlock             LeakyReLU-41     [1, 288, 4, 28, 28]               0               0\n",
      "   R2Plus1DClassifier/R2Plus1DNet/SpatioTemporalResLayer/SpatioTemporalResBlock/SpatioTemporalConv/Conv3dBlock                Conv3d-42     [1, 288, 4, 28, 28]         110,592         110,592\n",
      "   R2Plus1DClassifier/R2Plus1DNet/SpatioTemporalResLayer/SpatioTemporalResBlock/SpatioTemporalConv/Conv3dBlock           BatchNorm3d-43     [1, 128, 4, 28, 28]             256             256\n",
      "   R2Plus1DClassifier/R2Plus1DNet/SpatioTemporalResLayer/SpatioTemporalResBlock/SpatioTemporalConv/Conv3dBlock             LeakyReLU-44     [1, 128, 4, 28, 28]               0               0\n",
      "   R2Plus1DClassifier/R2Plus1DNet/SpatioTemporalResLayer/SpatioTemporalResBlock/SpatioTemporalConv/Conv3dBlock                Conv3d-45      [1, 64, 8, 56, 56]           2,688           2,688\n",
      "   R2Plus1DClassifier/R2Plus1DNet/SpatioTemporalResLayer/SpatioTemporalResBlock/SpatioTemporalConv/Conv3dBlock           BatchNorm3d-46      [1, 42, 8, 28, 28]              84              84\n",
      "   R2Plus1DClassifier/R2Plus1DNet/SpatioTemporalResLayer/SpatioTemporalResBlock/SpatioTemporalConv/Conv3dBlock             LeakyReLU-47      [1, 42, 8, 28, 28]               0               0\n",
      "   R2Plus1DClassifier/R2Plus1DNet/SpatioTemporalResLayer/SpatioTemporalResBlock/SpatioTemporalConv/Conv3dBlock                Conv3d-48      [1, 42, 8, 28, 28]           5,376           5,376\n",
      "   R2Plus1DClassifier/R2Plus1DNet/SpatioTemporalResLayer/SpatioTemporalResBlock/SpatioTemporalConv/Conv3dBlock           BatchNorm3d-49     [1, 128, 4, 28, 28]             256             256\n",
      "   R2Plus1DClassifier/R2Plus1DNet/SpatioTemporalResLayer/SpatioTemporalResBlock/SpatioTemporalConv/Conv3dBlock             LeakyReLU-50     [1, 128, 4, 28, 28]               0               0\n",
      "                                  R2Plus1DClassifier/R2Plus1DNet/SpatioTemporalResLayer/SpatioTemporalResBlock             LeakyReLU-51     [1, 128, 4, 28, 28]               0               0\n",
      "   R2Plus1DClassifier/R2Plus1DNet/SpatioTemporalResLayer/SpatioTemporalResBlock/SpatioTemporalConv/Conv3dBlock                Conv3d-52     [1, 128, 4, 28, 28]         331,776         331,776\n",
      "   R2Plus1DClassifier/R2Plus1DNet/SpatioTemporalResLayer/SpatioTemporalResBlock/SpatioTemporalConv/Conv3dBlock           BatchNorm3d-53     [1, 288, 4, 28, 28]             576             576\n",
      "   R2Plus1DClassifier/R2Plus1DNet/SpatioTemporalResLayer/SpatioTemporalResBlock/SpatioTemporalConv/Conv3dBlock             LeakyReLU-54     [1, 288, 4, 28, 28]               0               0\n",
      "   R2Plus1DClassifier/R2Plus1DNet/SpatioTemporalResLayer/SpatioTemporalResBlock/SpatioTemporalConv/Conv3dBlock                Conv3d-55     [1, 288, 4, 28, 28]         110,592         110,592\n",
      "   R2Plus1DClassifier/R2Plus1DNet/SpatioTemporalResLayer/SpatioTemporalResBlock/SpatioTemporalConv/Conv3dBlock           BatchNorm3d-56     [1, 128, 4, 28, 28]             256             256\n",
      "   R2Plus1DClassifier/R2Plus1DNet/SpatioTemporalResLayer/SpatioTemporalResBlock/SpatioTemporalConv/Conv3dBlock             LeakyReLU-57     [1, 128, 4, 28, 28]               0               0\n",
      "   R2Plus1DClassifier/R2Plus1DNet/SpatioTemporalResLayer/SpatioTemporalResBlock/SpatioTemporalConv/Conv3dBlock                Conv3d-58     [1, 128, 4, 28, 28]         331,776         331,776\n",
      "   R2Plus1DClassifier/R2Plus1DNet/SpatioTemporalResLayer/SpatioTemporalResBlock/SpatioTemporalConv/Conv3dBlock           BatchNorm3d-59     [1, 288, 4, 28, 28]             576             576\n",
      "   R2Plus1DClassifier/R2Plus1DNet/SpatioTemporalResLayer/SpatioTemporalResBlock/SpatioTemporalConv/Conv3dBlock             LeakyReLU-60     [1, 288, 4, 28, 28]               0               0\n",
      "   R2Plus1DClassifier/R2Plus1DNet/SpatioTemporalResLayer/SpatioTemporalResBlock/SpatioTemporalConv/Conv3dBlock                Conv3d-61     [1, 288, 4, 28, 28]         110,592         110,592\n",
      "   R2Plus1DClassifier/R2Plus1DNet/SpatioTemporalResLayer/SpatioTemporalResBlock/SpatioTemporalConv/Conv3dBlock           BatchNorm3d-62     [1, 128, 4, 28, 28]             256             256\n",
      "   R2Plus1DClassifier/R2Plus1DNet/SpatioTemporalResLayer/SpatioTemporalResBlock/SpatioTemporalConv/Conv3dBlock             LeakyReLU-63     [1, 128, 4, 28, 28]               0               0\n",
      "                                  R2Plus1DClassifier/R2Plus1DNet/SpatioTemporalResLayer/SpatioTemporalResBlock             LeakyReLU-64     [1, 128, 4, 28, 28]               0               0\n",
      "   R2Plus1DClassifier/R2Plus1DNet/SpatioTemporalResLayer/SpatioTemporalResBlock/SpatioTemporalConv/Conv3dBlock                Conv3d-65     [1, 128, 4, 28, 28]         529,920         529,920\n",
      "   R2Plus1DClassifier/R2Plus1DNet/SpatioTemporalResLayer/SpatioTemporalResBlock/SpatioTemporalConv/Conv3dBlock           BatchNorm3d-66     [1, 460, 4, 14, 14]             920             920\n",
      "   R2Plus1DClassifier/R2Plus1DNet/SpatioTemporalResLayer/SpatioTemporalResBlock/SpatioTemporalConv/Conv3dBlock             LeakyReLU-67     [1, 460, 4, 14, 14]               0               0\n",
      "   R2Plus1DClassifier/R2Plus1DNet/SpatioTemporalResLayer/SpatioTemporalResBlock/SpatioTemporalConv/Conv3dBlock                Conv3d-68     [1, 460, 4, 14, 14]         353,280         353,280\n",
      "   R2Plus1DClassifier/R2Plus1DNet/SpatioTemporalResLayer/SpatioTemporalResBlock/SpatioTemporalConv/Conv3dBlock           BatchNorm3d-69     [1, 256, 2, 14, 14]             512             512\n",
      "   R2Plus1DClassifier/R2Plus1DNet/SpatioTemporalResLayer/SpatioTemporalResBlock/SpatioTemporalConv/Conv3dBlock             LeakyReLU-70     [1, 256, 2, 14, 14]               0               0\n",
      "   R2Plus1DClassifier/R2Plus1DNet/SpatioTemporalResLayer/SpatioTemporalResBlock/SpatioTemporalConv/Conv3dBlock                Conv3d-71     [1, 256, 2, 14, 14]       1,327,104       1,327,104\n",
      "   R2Plus1DClassifier/R2Plus1DNet/SpatioTemporalResLayer/SpatioTemporalResBlock/SpatioTemporalConv/Conv3dBlock           BatchNorm3d-72     [1, 576, 2, 14, 14]           1,152           1,152\n",
      "   R2Plus1DClassifier/R2Plus1DNet/SpatioTemporalResLayer/SpatioTemporalResBlock/SpatioTemporalConv/Conv3dBlock             LeakyReLU-73     [1, 576, 2, 14, 14]               0               0\n",
      "   R2Plus1DClassifier/R2Plus1DNet/SpatioTemporalResLayer/SpatioTemporalResBlock/SpatioTemporalConv/Conv3dBlock                Conv3d-74     [1, 576, 2, 14, 14]         442,368         442,368\n",
      "   R2Plus1DClassifier/R2Plus1DNet/SpatioTemporalResLayer/SpatioTemporalResBlock/SpatioTemporalConv/Conv3dBlock           BatchNorm3d-75     [1, 256, 2, 14, 14]             512             512\n",
      "   R2Plus1DClassifier/R2Plus1DNet/SpatioTemporalResLayer/SpatioTemporalResBlock/SpatioTemporalConv/Conv3dBlock             LeakyReLU-76     [1, 256, 2, 14, 14]               0               0\n",
      "   R2Plus1DClassifier/R2Plus1DNet/SpatioTemporalResLayer/SpatioTemporalResBlock/SpatioTemporalConv/Conv3dBlock                Conv3d-77     [1, 128, 4, 28, 28]          10,880          10,880\n",
      "   R2Plus1DClassifier/R2Plus1DNet/SpatioTemporalResLayer/SpatioTemporalResBlock/SpatioTemporalConv/Conv3dBlock           BatchNorm3d-78      [1, 85, 4, 14, 14]             170             170\n",
      "   R2Plus1DClassifier/R2Plus1DNet/SpatioTemporalResLayer/SpatioTemporalResBlock/SpatioTemporalConv/Conv3dBlock             LeakyReLU-79      [1, 85, 4, 14, 14]               0               0\n",
      "   R2Plus1DClassifier/R2Plus1DNet/SpatioTemporalResLayer/SpatioTemporalResBlock/SpatioTemporalConv/Conv3dBlock                Conv3d-80      [1, 85, 4, 14, 14]          21,760          21,760\n",
      "   R2Plus1DClassifier/R2Plus1DNet/SpatioTemporalResLayer/SpatioTemporalResBlock/SpatioTemporalConv/Conv3dBlock           BatchNorm3d-81     [1, 256, 2, 14, 14]             512             512\n",
      "   R2Plus1DClassifier/R2Plus1DNet/SpatioTemporalResLayer/SpatioTemporalResBlock/SpatioTemporalConv/Conv3dBlock             LeakyReLU-82     [1, 256, 2, 14, 14]               0               0\n",
      "                                  R2Plus1DClassifier/R2Plus1DNet/SpatioTemporalResLayer/SpatioTemporalResBlock             LeakyReLU-83     [1, 256, 2, 14, 14]               0               0\n",
      "   R2Plus1DClassifier/R2Plus1DNet/SpatioTemporalResLayer/SpatioTemporalResBlock/SpatioTemporalConv/Conv3dBlock                Conv3d-84     [1, 256, 2, 14, 14]       1,327,104       1,327,104\n",
      "   R2Plus1DClassifier/R2Plus1DNet/SpatioTemporalResLayer/SpatioTemporalResBlock/SpatioTemporalConv/Conv3dBlock           BatchNorm3d-85     [1, 576, 2, 14, 14]           1,152           1,152\n",
      "   R2Plus1DClassifier/R2Plus1DNet/SpatioTemporalResLayer/SpatioTemporalResBlock/SpatioTemporalConv/Conv3dBlock             LeakyReLU-86     [1, 576, 2, 14, 14]               0               0\n",
      "   R2Plus1DClassifier/R2Plus1DNet/SpatioTemporalResLayer/SpatioTemporalResBlock/SpatioTemporalConv/Conv3dBlock                Conv3d-87     [1, 576, 2, 14, 14]         442,368         442,368\n",
      "   R2Plus1DClassifier/R2Plus1DNet/SpatioTemporalResLayer/SpatioTemporalResBlock/SpatioTemporalConv/Conv3dBlock           BatchNorm3d-88     [1, 256, 2, 14, 14]             512             512\n",
      "   R2Plus1DClassifier/R2Plus1DNet/SpatioTemporalResLayer/SpatioTemporalResBlock/SpatioTemporalConv/Conv3dBlock             LeakyReLU-89     [1, 256, 2, 14, 14]               0               0\n",
      "   R2Plus1DClassifier/R2Plus1DNet/SpatioTemporalResLayer/SpatioTemporalResBlock/SpatioTemporalConv/Conv3dBlock                Conv3d-90     [1, 256, 2, 14, 14]       1,327,104       1,327,104\n",
      "   R2Plus1DClassifier/R2Plus1DNet/SpatioTemporalResLayer/SpatioTemporalResBlock/SpatioTemporalConv/Conv3dBlock           BatchNorm3d-91     [1, 576, 2, 14, 14]           1,152           1,152\n",
      "   R2Plus1DClassifier/R2Plus1DNet/SpatioTemporalResLayer/SpatioTemporalResBlock/SpatioTemporalConv/Conv3dBlock             LeakyReLU-92     [1, 576, 2, 14, 14]               0               0\n",
      "   R2Plus1DClassifier/R2Plus1DNet/SpatioTemporalResLayer/SpatioTemporalResBlock/SpatioTemporalConv/Conv3dBlock                Conv3d-93     [1, 576, 2, 14, 14]         442,368         442,368\n",
      "   R2Plus1DClassifier/R2Plus1DNet/SpatioTemporalResLayer/SpatioTemporalResBlock/SpatioTemporalConv/Conv3dBlock           BatchNorm3d-94     [1, 256, 2, 14, 14]             512             512\n",
      "   R2Plus1DClassifier/R2Plus1DNet/SpatioTemporalResLayer/SpatioTemporalResBlock/SpatioTemporalConv/Conv3dBlock             LeakyReLU-95     [1, 256, 2, 14, 14]               0               0\n",
      "                                  R2Plus1DClassifier/R2Plus1DNet/SpatioTemporalResLayer/SpatioTemporalResBlock             LeakyReLU-96     [1, 256, 2, 14, 14]               0               0\n",
      "   R2Plus1DClassifier/R2Plus1DNet/SpatioTemporalResLayer/SpatioTemporalResBlock/SpatioTemporalConv/Conv3dBlock                Conv3d-97     [1, 256, 2, 14, 14]       2,121,984       2,121,984\n",
      "   R2Plus1DClassifier/R2Plus1DNet/SpatioTemporalResLayer/SpatioTemporalResBlock/SpatioTemporalConv/Conv3dBlock           BatchNorm3d-98       [1, 921, 2, 7, 7]           1,842           1,842\n",
      "   R2Plus1DClassifier/R2Plus1DNet/SpatioTemporalResLayer/SpatioTemporalResBlock/SpatioTemporalConv/Conv3dBlock             LeakyReLU-99       [1, 921, 2, 7, 7]               0               0\n",
      "   R2Plus1DClassifier/R2Plus1DNet/SpatioTemporalResLayer/SpatioTemporalResBlock/SpatioTemporalConv/Conv3dBlock               Conv3d-100       [1, 921, 2, 7, 7]       1,414,656       1,414,656\n",
      "   R2Plus1DClassifier/R2Plus1DNet/SpatioTemporalResLayer/SpatioTemporalResBlock/SpatioTemporalConv/Conv3dBlock          BatchNorm3d-101       [1, 512, 1, 7, 7]           1,024           1,024\n",
      "   R2Plus1DClassifier/R2Plus1DNet/SpatioTemporalResLayer/SpatioTemporalResBlock/SpatioTemporalConv/Conv3dBlock            LeakyReLU-102       [1, 512, 1, 7, 7]               0               0\n",
      "   R2Plus1DClassifier/R2Plus1DNet/SpatioTemporalResLayer/SpatioTemporalResBlock/SpatioTemporalConv/Conv3dBlock               Conv3d-103       [1, 512, 1, 7, 7]       5,308,416       5,308,416\n",
      "   R2Plus1DClassifier/R2Plus1DNet/SpatioTemporalResLayer/SpatioTemporalResBlock/SpatioTemporalConv/Conv3dBlock          BatchNorm3d-104      [1, 1152, 1, 7, 7]           2,304           2,304\n",
      "   R2Plus1DClassifier/R2Plus1DNet/SpatioTemporalResLayer/SpatioTemporalResBlock/SpatioTemporalConv/Conv3dBlock            LeakyReLU-105      [1, 1152, 1, 7, 7]               0               0\n",
      "   R2Plus1DClassifier/R2Plus1DNet/SpatioTemporalResLayer/SpatioTemporalResBlock/SpatioTemporalConv/Conv3dBlock               Conv3d-106      [1, 1152, 1, 7, 7]       1,769,472       1,769,472\n",
      "   R2Plus1DClassifier/R2Plus1DNet/SpatioTemporalResLayer/SpatioTemporalResBlock/SpatioTemporalConv/Conv3dBlock          BatchNorm3d-107       [1, 512, 1, 7, 7]           1,024           1,024\n",
      "   R2Plus1DClassifier/R2Plus1DNet/SpatioTemporalResLayer/SpatioTemporalResBlock/SpatioTemporalConv/Conv3dBlock            LeakyReLU-108       [1, 512, 1, 7, 7]               0               0\n",
      "   R2Plus1DClassifier/R2Plus1DNet/SpatioTemporalResLayer/SpatioTemporalResBlock/SpatioTemporalConv/Conv3dBlock               Conv3d-109     [1, 256, 2, 14, 14]          43,520          43,520\n",
      "   R2Plus1DClassifier/R2Plus1DNet/SpatioTemporalResLayer/SpatioTemporalResBlock/SpatioTemporalConv/Conv3dBlock          BatchNorm3d-110       [1, 170, 2, 7, 7]             340             340\n",
      "   R2Plus1DClassifier/R2Plus1DNet/SpatioTemporalResLayer/SpatioTemporalResBlock/SpatioTemporalConv/Conv3dBlock            LeakyReLU-111       [1, 170, 2, 7, 7]               0               0\n",
      "   R2Plus1DClassifier/R2Plus1DNet/SpatioTemporalResLayer/SpatioTemporalResBlock/SpatioTemporalConv/Conv3dBlock               Conv3d-112       [1, 170, 2, 7, 7]          87,040          87,040\n",
      "   R2Plus1DClassifier/R2Plus1DNet/SpatioTemporalResLayer/SpatioTemporalResBlock/SpatioTemporalConv/Conv3dBlock          BatchNorm3d-113       [1, 512, 1, 7, 7]           1,024           1,024\n",
      "   R2Plus1DClassifier/R2Plus1DNet/SpatioTemporalResLayer/SpatioTemporalResBlock/SpatioTemporalConv/Conv3dBlock            LeakyReLU-114       [1, 512, 1, 7, 7]               0               0\n",
      "                                  R2Plus1DClassifier/R2Plus1DNet/SpatioTemporalResLayer/SpatioTemporalResBlock            LeakyReLU-115       [1, 512, 1, 7, 7]               0               0\n",
      "   R2Plus1DClassifier/R2Plus1DNet/SpatioTemporalResLayer/SpatioTemporalResBlock/SpatioTemporalConv/Conv3dBlock               Conv3d-116       [1, 512, 1, 7, 7]       5,308,416       5,308,416\n",
      "   R2Plus1DClassifier/R2Plus1DNet/SpatioTemporalResLayer/SpatioTemporalResBlock/SpatioTemporalConv/Conv3dBlock          BatchNorm3d-117      [1, 1152, 1, 7, 7]           2,304           2,304\n",
      "   R2Plus1DClassifier/R2Plus1DNet/SpatioTemporalResLayer/SpatioTemporalResBlock/SpatioTemporalConv/Conv3dBlock            LeakyReLU-118      [1, 1152, 1, 7, 7]               0               0\n",
      "   R2Plus1DClassifier/R2Plus1DNet/SpatioTemporalResLayer/SpatioTemporalResBlock/SpatioTemporalConv/Conv3dBlock               Conv3d-119      [1, 1152, 1, 7, 7]       1,769,472       1,769,472\n",
      "   R2Plus1DClassifier/R2Plus1DNet/SpatioTemporalResLayer/SpatioTemporalResBlock/SpatioTemporalConv/Conv3dBlock          BatchNorm3d-120       [1, 512, 1, 7, 7]           1,024           1,024\n",
      "   R2Plus1DClassifier/R2Plus1DNet/SpatioTemporalResLayer/SpatioTemporalResBlock/SpatioTemporalConv/Conv3dBlock            LeakyReLU-121       [1, 512, 1, 7, 7]               0               0\n",
      "   R2Plus1DClassifier/R2Plus1DNet/SpatioTemporalResLayer/SpatioTemporalResBlock/SpatioTemporalConv/Conv3dBlock               Conv3d-122       [1, 512, 1, 7, 7]       5,308,416       5,308,416\n",
      "   R2Plus1DClassifier/R2Plus1DNet/SpatioTemporalResLayer/SpatioTemporalResBlock/SpatioTemporalConv/Conv3dBlock          BatchNorm3d-123      [1, 1152, 1, 7, 7]           2,304           2,304\n",
      "   R2Plus1DClassifier/R2Plus1DNet/SpatioTemporalResLayer/SpatioTemporalResBlock/SpatioTemporalConv/Conv3dBlock            LeakyReLU-124      [1, 1152, 1, 7, 7]               0               0\n",
      "   R2Plus1DClassifier/R2Plus1DNet/SpatioTemporalResLayer/SpatioTemporalResBlock/SpatioTemporalConv/Conv3dBlock               Conv3d-125      [1, 1152, 1, 7, 7]       1,769,472       1,769,472\n",
      "   R2Plus1DClassifier/R2Plus1DNet/SpatioTemporalResLayer/SpatioTemporalResBlock/SpatioTemporalConv/Conv3dBlock          BatchNorm3d-126       [1, 512, 1, 7, 7]           1,024           1,024\n",
      "   R2Plus1DClassifier/R2Plus1DNet/SpatioTemporalResLayer/SpatioTemporalResBlock/SpatioTemporalConv/Conv3dBlock            LeakyReLU-127       [1, 512, 1, 7, 7]               0               0\n",
      "                                  R2Plus1DClassifier/R2Plus1DNet/SpatioTemporalResLayer/SpatioTemporalResBlock            LeakyReLU-128       [1, 512, 1, 7, 7]               0               0\n",
      "                                                                                R2Plus1DClassifier/R2Plus1DNet    AdaptiveAvgPool3d-129       [1, 512, 1, 7, 7]               0               0\n",
      "                                                                                            R2Plus1DClassifier               Linear-130                [1, 512]          65,664          65,664\n",
      "                                                                                            R2Plus1DClassifier          BatchNorm1d-131                [1, 128]             256             256\n",
      "                                                                                            R2Plus1DClassifier            LeakyReLU-132                [1, 128]               0               0\n",
      "                                                                                            R2Plus1DClassifier               Linear-133                [1, 128]             258             258\n",
      "===============================================================================================================================================================================================\n",
      "Total params: 33,231,643\n",
      "Trainable params: 33,231,643\n",
      "Non-trainable params: 0\n",
      "-----------------------------------------------------------------------------------------------------------------------------------------------------------------------------------------------\n"
     ]
    }
   ],
   "source": [
    "r21p.summary()"
   ]
  },
  {
   "cell_type": "code",
   "execution_count": null,
   "metadata": {},
   "outputs": [
    {
     "name": "stdout",
     "output_type": "stream",
     "text": [
      "------------------------------------------------------------------------------------------------------------------------------------------------------------------------------------\n",
      "                                                              Parent Layers             Layer (type)                                     Input Shape         Param #     Tr. Param #\n",
      "====================================================================================================================================================================================\n",
      "    SBERTDisruptionClassifier/VideoSpatioEncoder/Conv3dResBlock/Conv3dBlock                 Conv3d-1                             [8, 3, 8, 112, 112]           1,728           1,728\n",
      "    SBERTDisruptionClassifier/VideoSpatioEncoder/Conv3dResBlock/Conv3dBlock            BatchNorm3d-2                              [8, 64, 8, 56, 56]             128             128\n",
      "    SBERTDisruptionClassifier/VideoSpatioEncoder/Conv3dResBlock/Conv3dBlock              LeakyReLU-3                              [8, 64, 8, 56, 56]               0               0\n",
      "                SBERTDisruptionClassifier/VideoSpatioEncoder/Conv3dResBlock                 Conv3d-4                              [8, 64, 8, 56, 56]          36,864          36,864\n",
      "                SBERTDisruptionClassifier/VideoSpatioEncoder/Conv3dResBlock            BatchNorm3d-5                              [8, 64, 8, 56, 56]             128             128\n",
      "    SBERTDisruptionClassifier/VideoSpatioEncoder/Conv3dResBlock/Conv3dBlock                 Conv3d-6                             [8, 3, 8, 112, 112]           1,728           1,728\n",
      "    SBERTDisruptionClassifier/VideoSpatioEncoder/Conv3dResBlock/Conv3dBlock            BatchNorm3d-7                              [8, 64, 8, 56, 56]             128             128\n",
      "    SBERTDisruptionClassifier/VideoSpatioEncoder/Conv3dResBlock/Conv3dBlock              LeakyReLU-8                              [8, 64, 8, 56, 56]               0               0\n",
      "                SBERTDisruptionClassifier/VideoSpatioEncoder/Conv3dResBlock              LeakyReLU-9                              [8, 64, 8, 56, 56]               0               0\n",
      "                               SBERTDisruptionClassifier/VideoSpatioEncoder             MaxPool3d-10                              [8, 64, 8, 56, 56]               0               0\n",
      "    SBERTDisruptionClassifier/VideoSpatioEncoder/Conv3dResBlock/Conv3dBlock                Conv3d-11                              [8, 64, 8, 54, 54]          73,728          73,728\n",
      "    SBERTDisruptionClassifier/VideoSpatioEncoder/Conv3dResBlock/Conv3dBlock           BatchNorm3d-12                             [8, 128, 8, 27, 27]             256             256\n",
      "    SBERTDisruptionClassifier/VideoSpatioEncoder/Conv3dResBlock/Conv3dBlock             LeakyReLU-13                             [8, 128, 8, 27, 27]               0               0\n",
      "                SBERTDisruptionClassifier/VideoSpatioEncoder/Conv3dResBlock                Conv3d-14                             [8, 128, 8, 27, 27]         147,456         147,456\n",
      "                SBERTDisruptionClassifier/VideoSpatioEncoder/Conv3dResBlock           BatchNorm3d-15                             [8, 128, 8, 27, 27]             256             256\n",
      "    SBERTDisruptionClassifier/VideoSpatioEncoder/Conv3dResBlock/Conv3dBlock                Conv3d-16                              [8, 64, 8, 54, 54]          73,728          73,728\n",
      "    SBERTDisruptionClassifier/VideoSpatioEncoder/Conv3dResBlock/Conv3dBlock           BatchNorm3d-17                             [8, 128, 8, 27, 27]             256             256\n",
      "    SBERTDisruptionClassifier/VideoSpatioEncoder/Conv3dResBlock/Conv3dBlock             LeakyReLU-18                             [8, 128, 8, 27, 27]               0               0\n",
      "                SBERTDisruptionClassifier/VideoSpatioEncoder/Conv3dResBlock             LeakyReLU-19                             [8, 128, 8, 27, 27]               0               0\n",
      "                               SBERTDisruptionClassifier/VideoSpatioEncoder             MaxPool3d-20                             [8, 128, 8, 27, 27]               0               0\n",
      "    SBERTDisruptionClassifier/VideoSpatioEncoder/Conv3dResBlock/Conv3dBlock                Conv3d-21                             [8, 128, 8, 25, 25]         294,912         294,912\n",
      "    SBERTDisruptionClassifier/VideoSpatioEncoder/Conv3dResBlock/Conv3dBlock           BatchNorm3d-22                             [8, 256, 8, 13, 13]             512             512\n",
      "    SBERTDisruptionClassifier/VideoSpatioEncoder/Conv3dResBlock/Conv3dBlock             LeakyReLU-23                             [8, 256, 8, 13, 13]               0               0\n",
      "                SBERTDisruptionClassifier/VideoSpatioEncoder/Conv3dResBlock                Conv3d-24                             [8, 256, 8, 13, 13]         589,824         589,824\n",
      "                SBERTDisruptionClassifier/VideoSpatioEncoder/Conv3dResBlock           BatchNorm3d-25                             [8, 256, 8, 13, 13]             512             512\n",
      "    SBERTDisruptionClassifier/VideoSpatioEncoder/Conv3dResBlock/Conv3dBlock                Conv3d-26                             [8, 128, 8, 25, 25]         294,912         294,912\n",
      "    SBERTDisruptionClassifier/VideoSpatioEncoder/Conv3dResBlock/Conv3dBlock           BatchNorm3d-27                             [8, 256, 8, 13, 13]             512             512\n",
      "    SBERTDisruptionClassifier/VideoSpatioEncoder/Conv3dResBlock/Conv3dBlock             LeakyReLU-28                             [8, 256, 8, 13, 13]               0               0\n",
      "                SBERTDisruptionClassifier/VideoSpatioEncoder/Conv3dResBlock             LeakyReLU-29                             [8, 256, 8, 13, 13]               0               0\n",
      "                               SBERTDisruptionClassifier/VideoSpatioEncoder             MaxPool3d-30                             [8, 256, 8, 13, 13]               0               0\n",
      "    SBERTDisruptionClassifier/VideoSpatioEncoder/Conv3dResBlock/Conv3dBlock                Conv3d-31                             [8, 256, 8, 11, 11]       1,179,648       1,179,648\n",
      "    SBERTDisruptionClassifier/VideoSpatioEncoder/Conv3dResBlock/Conv3dBlock           BatchNorm3d-32                               [8, 512, 8, 6, 6]           1,024           1,024\n",
      "    SBERTDisruptionClassifier/VideoSpatioEncoder/Conv3dResBlock/Conv3dBlock             LeakyReLU-33                               [8, 512, 8, 6, 6]               0               0\n",
      "                SBERTDisruptionClassifier/VideoSpatioEncoder/Conv3dResBlock                Conv3d-34                               [8, 512, 8, 6, 6]       2,359,296       2,359,296\n",
      "                SBERTDisruptionClassifier/VideoSpatioEncoder/Conv3dResBlock           BatchNorm3d-35                               [8, 512, 8, 6, 6]           1,024           1,024\n",
      "    SBERTDisruptionClassifier/VideoSpatioEncoder/Conv3dResBlock/Conv3dBlock                Conv3d-36                             [8, 256, 8, 11, 11]       1,179,648       1,179,648\n",
      "    SBERTDisruptionClassifier/VideoSpatioEncoder/Conv3dResBlock/Conv3dBlock           BatchNorm3d-37                               [8, 512, 8, 6, 6]           1,024           1,024\n",
      "    SBERTDisruptionClassifier/VideoSpatioEncoder/Conv3dResBlock/Conv3dBlock             LeakyReLU-38                               [8, 512, 8, 6, 6]               0               0\n",
      "                SBERTDisruptionClassifier/VideoSpatioEncoder/Conv3dResBlock             LeakyReLU-39                               [8, 512, 8, 6, 6]               0               0\n",
      "                              SBERTDisruptionClassifier/SBERT/BertEmbedding                Linear-40                                   [8, 8, 18432]       1,179,712       1,179,712\n",
      "                              SBERTDisruptionClassifier/SBERT/BertEmbedding    PositionalEncoding-41                                             [8]               0               0\n",
      "                              SBERTDisruptionClassifier/SBERT/BertEmbedding               Dropout-42                                     [8, 8, 128]               0               0\n",
      "        SBERTDisruptionClassifier/SBERT/TransformerBlock/SubLayerConnection             LayerNorm-43                                     [8, 8, 128]             256             256\n",
      "        SBERTDisruptionClassifier/SBERT/TransformerBlock/MultiHeadAttention                Linear-44                                     [8, 8, 128]          16,512          16,512\n",
      "        SBERTDisruptionClassifier/SBERT/TransformerBlock/MultiHeadAttention                Linear-45                                     [8, 8, 128]          16,512          16,512\n",
      "        SBERTDisruptionClassifier/SBERT/TransformerBlock/MultiHeadAttention                Linear-46                                     [8, 8, 128]          16,512          16,512\n",
      "        SBERTDisruptionClassifier/SBERT/TransformerBlock/MultiHeadAttention             Attention-47     [8, 8, 8, 16], [8, 8, 8, 16], [8, 8, 8, 16]               0               0\n",
      "        SBERTDisruptionClassifier/SBERT/TransformerBlock/MultiHeadAttention               Dropout-48                                    [8, 8, 8, 8]               0               0\n",
      "        SBERTDisruptionClassifier/SBERT/TransformerBlock/MultiHeadAttention                Linear-49                                     [8, 8, 128]          16,512          16,512\n",
      "        SBERTDisruptionClassifier/SBERT/TransformerBlock/SubLayerConnection               Dropout-50                                     [8, 8, 128]               0               0\n",
      "        SBERTDisruptionClassifier/SBERT/TransformerBlock/SubLayerConnection             LayerNorm-51                                     [8, 8, 128]             256             256\n",
      "   SBERTDisruptionClassifier/SBERT/TransformerBlock/PositionWiseFeedForward                Linear-52                                     [8, 8, 128]          66,048          66,048\n",
      "   SBERTDisruptionClassifier/SBERT/TransformerBlock/PositionWiseFeedForward                  GELU-53                                     [8, 8, 512]               0               0\n",
      "   SBERTDisruptionClassifier/SBERT/TransformerBlock/PositionWiseFeedForward               Dropout-54                                     [8, 8, 512]               0               0\n",
      "   SBERTDisruptionClassifier/SBERT/TransformerBlock/PositionWiseFeedForward                Linear-55                                     [8, 8, 512]          65,664          65,664\n",
      "        SBERTDisruptionClassifier/SBERT/TransformerBlock/SubLayerConnection               Dropout-56                                     [8, 8, 128]               0               0\n",
      "                           SBERTDisruptionClassifier/SBERT/TransformerBlock               Dropout-57                                     [8, 8, 128]               0               0\n",
      "        SBERTDisruptionClassifier/SBERT/TransformerBlock/SubLayerConnection             LayerNorm-58                                     [8, 8, 128]             256             256\n",
      "        SBERTDisruptionClassifier/SBERT/TransformerBlock/MultiHeadAttention                Linear-59                                     [8, 8, 128]          16,512          16,512\n",
      "        SBERTDisruptionClassifier/SBERT/TransformerBlock/MultiHeadAttention                Linear-60                                     [8, 8, 128]          16,512          16,512\n",
      "        SBERTDisruptionClassifier/SBERT/TransformerBlock/MultiHeadAttention                Linear-61                                     [8, 8, 128]          16,512          16,512\n",
      "        SBERTDisruptionClassifier/SBERT/TransformerBlock/MultiHeadAttention             Attention-62     [8, 8, 8, 16], [8, 8, 8, 16], [8, 8, 8, 16]               0               0\n",
      "        SBERTDisruptionClassifier/SBERT/TransformerBlock/MultiHeadAttention               Dropout-63                                    [8, 8, 8, 8]               0               0\n",
      "        SBERTDisruptionClassifier/SBERT/TransformerBlock/MultiHeadAttention                Linear-64                                     [8, 8, 128]          16,512          16,512\n",
      "        SBERTDisruptionClassifier/SBERT/TransformerBlock/SubLayerConnection               Dropout-65                                     [8, 8, 128]               0               0\n",
      "        SBERTDisruptionClassifier/SBERT/TransformerBlock/SubLayerConnection             LayerNorm-66                                     [8, 8, 128]             256             256\n",
      "   SBERTDisruptionClassifier/SBERT/TransformerBlock/PositionWiseFeedForward                Linear-67                                     [8, 8, 128]          66,048          66,048\n",
      "   SBERTDisruptionClassifier/SBERT/TransformerBlock/PositionWiseFeedForward                  GELU-68                                     [8, 8, 512]               0               0\n",
      "   SBERTDisruptionClassifier/SBERT/TransformerBlock/PositionWiseFeedForward               Dropout-69                                     [8, 8, 512]               0               0\n",
      "   SBERTDisruptionClassifier/SBERT/TransformerBlock/PositionWiseFeedForward                Linear-70                                     [8, 8, 512]          65,664          65,664\n",
      "        SBERTDisruptionClassifier/SBERT/TransformerBlock/SubLayerConnection               Dropout-71                                     [8, 8, 128]               0               0\n",
      "                           SBERTDisruptionClassifier/SBERT/TransformerBlock               Dropout-72                                     [8, 8, 128]               0               0\n",
      "        SBERTDisruptionClassifier/SBERT/TransformerBlock/SubLayerConnection             LayerNorm-73                                     [8, 8, 128]             256             256\n",
      "        SBERTDisruptionClassifier/SBERT/TransformerBlock/MultiHeadAttention                Linear-74                                     [8, 8, 128]          16,512          16,512\n",
      "        SBERTDisruptionClassifier/SBERT/TransformerBlock/MultiHeadAttention                Linear-75                                     [8, 8, 128]          16,512          16,512\n",
      "        SBERTDisruptionClassifier/SBERT/TransformerBlock/MultiHeadAttention                Linear-76                                     [8, 8, 128]          16,512          16,512\n",
      "        SBERTDisruptionClassifier/SBERT/TransformerBlock/MultiHeadAttention             Attention-77     [8, 8, 8, 16], [8, 8, 8, 16], [8, 8, 8, 16]               0               0\n",
      "        SBERTDisruptionClassifier/SBERT/TransformerBlock/MultiHeadAttention               Dropout-78                                    [8, 8, 8, 8]               0               0\n",
      "        SBERTDisruptionClassifier/SBERT/TransformerBlock/MultiHeadAttention                Linear-79                                     [8, 8, 128]          16,512          16,512\n",
      "        SBERTDisruptionClassifier/SBERT/TransformerBlock/SubLayerConnection               Dropout-80                                     [8, 8, 128]               0               0\n",
      "        SBERTDisruptionClassifier/SBERT/TransformerBlock/SubLayerConnection             LayerNorm-81                                     [8, 8, 128]             256             256\n",
      "   SBERTDisruptionClassifier/SBERT/TransformerBlock/PositionWiseFeedForward                Linear-82                                     [8, 8, 128]          66,048          66,048\n",
      "   SBERTDisruptionClassifier/SBERT/TransformerBlock/PositionWiseFeedForward                  GELU-83                                     [8, 8, 512]               0               0\n",
      "   SBERTDisruptionClassifier/SBERT/TransformerBlock/PositionWiseFeedForward               Dropout-84                                     [8, 8, 512]               0               0\n",
      "   SBERTDisruptionClassifier/SBERT/TransformerBlock/PositionWiseFeedForward                Linear-85                                     [8, 8, 512]          65,664          65,664\n",
      "        SBERTDisruptionClassifier/SBERT/TransformerBlock/SubLayerConnection               Dropout-86                                     [8, 8, 128]               0               0\n",
      "                           SBERTDisruptionClassifier/SBERT/TransformerBlock               Dropout-87                                     [8, 8, 128]               0               0\n",
      "        SBERTDisruptionClassifier/SBERT/TransformerBlock/SubLayerConnection             LayerNorm-88                                     [8, 8, 128]             256             256\n",
      "        SBERTDisruptionClassifier/SBERT/TransformerBlock/MultiHeadAttention                Linear-89                                     [8, 8, 128]          16,512          16,512\n",
      "        SBERTDisruptionClassifier/SBERT/TransformerBlock/MultiHeadAttention                Linear-90                                     [8, 8, 128]          16,512          16,512\n",
      "        SBERTDisruptionClassifier/SBERT/TransformerBlock/MultiHeadAttention                Linear-91                                     [8, 8, 128]          16,512          16,512\n",
      "        SBERTDisruptionClassifier/SBERT/TransformerBlock/MultiHeadAttention             Attention-92     [8, 8, 8, 16], [8, 8, 8, 16], [8, 8, 8, 16]               0               0\n",
      "        SBERTDisruptionClassifier/SBERT/TransformerBlock/MultiHeadAttention               Dropout-93                                    [8, 8, 8, 8]               0               0\n",
      "        SBERTDisruptionClassifier/SBERT/TransformerBlock/MultiHeadAttention                Linear-94                                     [8, 8, 128]          16,512          16,512\n",
      "        SBERTDisruptionClassifier/SBERT/TransformerBlock/SubLayerConnection               Dropout-95                                     [8, 8, 128]               0               0\n",
      "        SBERTDisruptionClassifier/SBERT/TransformerBlock/SubLayerConnection             LayerNorm-96                                     [8, 8, 128]             256             256\n",
      "   SBERTDisruptionClassifier/SBERT/TransformerBlock/PositionWiseFeedForward                Linear-97                                     [8, 8, 128]          66,048          66,048\n",
      "   SBERTDisruptionClassifier/SBERT/TransformerBlock/PositionWiseFeedForward                  GELU-98                                     [8, 8, 512]               0               0\n",
      "   SBERTDisruptionClassifier/SBERT/TransformerBlock/PositionWiseFeedForward               Dropout-99                                     [8, 8, 512]               0               0\n",
      "   SBERTDisruptionClassifier/SBERT/TransformerBlock/PositionWiseFeedForward               Linear-100                                     [8, 8, 512]          65,664          65,664\n",
      "        SBERTDisruptionClassifier/SBERT/TransformerBlock/SubLayerConnection              Dropout-101                                     [8, 8, 128]               0               0\n",
      "                           SBERTDisruptionClassifier/SBERT/TransformerBlock              Dropout-102                                     [8, 8, 128]               0               0\n",
      "                             SBERTDisruptionClassifier/MulticlassClassifier            MaxPool1d-103                                     [8, 128, 8]               0               0\n",
      "                             SBERTDisruptionClassifier/MulticlassClassifier               Linear-104                                        [8, 128]          16,512          16,512\n",
      "                             SBERTDisruptionClassifier/MulticlassClassifier          BatchNorm1d-105                                        [8, 128]             256             256\n",
      "                             SBERTDisruptionClassifier/MulticlassClassifier            LeakyReLU-106                                        [8, 128]               0               0\n",
      "                             SBERTDisruptionClassifier/MulticlassClassifier               Linear-107                                        [8, 128]             258             258\n",
      "====================================================================================================================================================================================\n",
      "Total params: 8,229,058\n",
      "Trainable params: 8,229,058\n",
      "Non-trainable params: 0\n",
      "------------------------------------------------------------------------------------------------------------------------------------------------------------------------------------\n"
     ]
    }
   ],
   "source": [
    "sbert_model.summary()"
   ]
  },
  {
   "cell_type": "code",
   "execution_count": null,
   "metadata": {},
   "outputs": [
    {
     "name": "stdout",
     "output_type": "stream",
     "text": [
      "------------------------------------------------------------------------------------------------------------------\n",
      "                          Parent Layers       Layer (type)             Input Shape         Param #     Tr. Param #\n",
      "==================================================================================================================\n",
      "                SlowFastEncoder/FastNet           Conv3d-1     [8, 3, 8, 112, 112]           2,368           2,368\n",
      "                SlowFastEncoder/FastNet      BatchNorm3d-2      [8, 16, 8, 56, 56]              32              32\n",
      "                SlowFastEncoder/FastNet             ReLU-3      [8, 16, 8, 56, 56]               0               0\n",
      "                SlowFastEncoder/FastNet        MaxPool3d-4      [8, 16, 8, 56, 56]               0               0\n",
      "                SlowFastEncoder/FastNet           Conv3d-5      [8, 16, 8, 28, 28]           1,536           1,536\n",
      "   SlowFastEncoder/FastNet/Bottleneck3D           Conv3d-6      [8, 16, 8, 28, 28]             768             768\n",
      "   SlowFastEncoder/FastNet/Bottleneck3D      BatchNorm3d-7      [8, 16, 8, 28, 28]              32              32\n",
      "   SlowFastEncoder/FastNet/Bottleneck3D             ReLU-8      [8, 16, 8, 28, 28]               0               0\n",
      "   SlowFastEncoder/FastNet/Bottleneck3D           Conv3d-9      [8, 16, 8, 28, 28]           2,304           2,304\n",
      "   SlowFastEncoder/FastNet/Bottleneck3D     BatchNorm3d-10      [8, 16, 8, 28, 28]              32              32\n",
      "   SlowFastEncoder/FastNet/Bottleneck3D          Conv3d-11      [8, 16, 8, 28, 28]           1,024           1,024\n",
      "   SlowFastEncoder/FastNet/Bottleneck3D     BatchNorm3d-12      [8, 64, 8, 28, 28]             128             128\n",
      "   SlowFastEncoder/FastNet/Bottleneck3D          Conv3d-13      [8, 16, 8, 28, 28]           1,024           1,024\n",
      "   SlowFastEncoder/FastNet/Bottleneck3D     BatchNorm3d-14      [8, 64, 8, 28, 28]             128             128\n",
      "                SlowFastEncoder/FastNet          Conv3d-15      [8, 64, 8, 28, 28]          24,576          24,576\n",
      "   SlowFastEncoder/FastNet/Bottleneck3D          Conv3d-16      [8, 64, 8, 28, 28]           6,144           6,144\n",
      "   SlowFastEncoder/FastNet/Bottleneck3D     BatchNorm3d-17      [8, 32, 8, 28, 28]              64              64\n",
      "   SlowFastEncoder/FastNet/Bottleneck3D            ReLU-18      [8, 32, 8, 28, 28]               0               0\n",
      "   SlowFastEncoder/FastNet/Bottleneck3D          Conv3d-19      [8, 32, 8, 28, 28]           9,216           9,216\n",
      "   SlowFastEncoder/FastNet/Bottleneck3D     BatchNorm3d-20      [8, 32, 8, 14, 14]              64              64\n",
      "   SlowFastEncoder/FastNet/Bottleneck3D          Conv3d-21      [8, 32, 8, 14, 14]           4,096           4,096\n",
      "   SlowFastEncoder/FastNet/Bottleneck3D     BatchNorm3d-22     [8, 128, 8, 14, 14]             256             256\n",
      "   SlowFastEncoder/FastNet/Bottleneck3D          Conv3d-23      [8, 64, 8, 28, 28]           8,192           8,192\n",
      "   SlowFastEncoder/FastNet/Bottleneck3D     BatchNorm3d-24     [8, 128, 8, 14, 14]             256             256\n",
      "   SlowFastEncoder/FastNet/Bottleneck3D          Conv3d-25     [8, 128, 8, 14, 14]          12,288          12,288\n",
      "   SlowFastEncoder/FastNet/Bottleneck3D     BatchNorm3d-26      [8, 32, 8, 14, 14]              64              64\n",
      "   SlowFastEncoder/FastNet/Bottleneck3D            ReLU-27      [8, 32, 8, 14, 14]               0               0\n",
      "   SlowFastEncoder/FastNet/Bottleneck3D          Conv3d-28      [8, 32, 8, 14, 14]           9,216           9,216\n",
      "   SlowFastEncoder/FastNet/Bottleneck3D     BatchNorm3d-29      [8, 32, 8, 14, 14]              64              64\n",
      "   SlowFastEncoder/FastNet/Bottleneck3D          Conv3d-30      [8, 32, 8, 14, 14]           4,096           4,096\n",
      "   SlowFastEncoder/FastNet/Bottleneck3D     BatchNorm3d-31     [8, 128, 8, 14, 14]             256             256\n",
      "                SlowFastEncoder/FastNet          Conv3d-32     [8, 128, 8, 14, 14]          98,304          98,304\n",
      "   SlowFastEncoder/FastNet/Bottleneck3D          Conv3d-33     [8, 128, 8, 14, 14]          24,576          24,576\n",
      "   SlowFastEncoder/FastNet/Bottleneck3D     BatchNorm3d-34      [8, 64, 8, 14, 14]             128             128\n",
      "   SlowFastEncoder/FastNet/Bottleneck3D            ReLU-35      [8, 64, 8, 14, 14]               0               0\n",
      "   SlowFastEncoder/FastNet/Bottleneck3D          Conv3d-36      [8, 64, 8, 14, 14]          36,864          36,864\n",
      "   SlowFastEncoder/FastNet/Bottleneck3D     BatchNorm3d-37        [8, 64, 8, 7, 7]             128             128\n",
      "   SlowFastEncoder/FastNet/Bottleneck3D          Conv3d-38        [8, 64, 8, 7, 7]          16,384          16,384\n",
      "   SlowFastEncoder/FastNet/Bottleneck3D     BatchNorm3d-39       [8, 256, 8, 7, 7]             512             512\n",
      "   SlowFastEncoder/FastNet/Bottleneck3D          Conv3d-40     [8, 128, 8, 14, 14]          32,768          32,768\n",
      "   SlowFastEncoder/FastNet/Bottleneck3D     BatchNorm3d-41       [8, 256, 8, 7, 7]             512             512\n",
      "   SlowFastEncoder/FastNet/Bottleneck3D          Conv3d-42       [8, 256, 8, 7, 7]          49,152          49,152\n",
      "   SlowFastEncoder/FastNet/Bottleneck3D     BatchNorm3d-43        [8, 64, 8, 7, 7]             128             128\n",
      "   SlowFastEncoder/FastNet/Bottleneck3D            ReLU-44        [8, 64, 8, 7, 7]               0               0\n",
      "   SlowFastEncoder/FastNet/Bottleneck3D          Conv3d-45        [8, 64, 8, 7, 7]          36,864          36,864\n",
      "   SlowFastEncoder/FastNet/Bottleneck3D     BatchNorm3d-46        [8, 64, 8, 7, 7]             128             128\n",
      "   SlowFastEncoder/FastNet/Bottleneck3D          Conv3d-47        [8, 64, 8, 7, 7]          16,384          16,384\n",
      "   SlowFastEncoder/FastNet/Bottleneck3D     BatchNorm3d-48       [8, 256, 8, 7, 7]             512             512\n",
      "                SlowFastEncoder/FastNet          Conv3d-49       [8, 256, 8, 7, 7]         393,216         393,216\n",
      "   SlowFastEncoder/FastNet/Bottleneck3D          Conv3d-50       [8, 256, 8, 7, 7]          98,304          98,304\n",
      "   SlowFastEncoder/FastNet/Bottleneck3D     BatchNorm3d-51       [8, 128, 8, 7, 7]             256             256\n",
      "   SlowFastEncoder/FastNet/Bottleneck3D            ReLU-52       [8, 128, 8, 7, 7]               0               0\n",
      "   SlowFastEncoder/FastNet/Bottleneck3D          Conv3d-53       [8, 128, 8, 7, 7]         147,456         147,456\n",
      "   SlowFastEncoder/FastNet/Bottleneck3D     BatchNorm3d-54       [8, 128, 8, 4, 4]             256             256\n",
      "   SlowFastEncoder/FastNet/Bottleneck3D          Conv3d-55       [8, 128, 8, 4, 4]          65,536          65,536\n",
      "   SlowFastEncoder/FastNet/Bottleneck3D     BatchNorm3d-56       [8, 512, 8, 4, 4]           1,024           1,024\n",
      "   SlowFastEncoder/FastNet/Bottleneck3D          Conv3d-57       [8, 256, 8, 7, 7]         131,072         131,072\n",
      "   SlowFastEncoder/FastNet/Bottleneck3D     BatchNorm3d-58       [8, 512, 8, 4, 4]           1,024           1,024\n",
      "                SlowFastEncoder/SlowNet          Conv3d-59     [8, 3, 2, 112, 112]           9,472           9,472\n",
      "                SlowFastEncoder/SlowNet     BatchNorm3d-60      [8, 64, 2, 56, 56]             128             128\n",
      "                SlowFastEncoder/SlowNet            ReLU-61      [8, 64, 2, 56, 56]               0               0\n",
      "                SlowFastEncoder/SlowNet       MaxPool3d-62      [8, 64, 2, 56, 56]               0               0\n",
      "   SlowFastEncoder/SlowNet/Bottleneck3D          Conv3d-63      [8, 80, 2, 28, 28]           5,120           5,120\n",
      "   SlowFastEncoder/SlowNet/Bottleneck3D     BatchNorm3d-64      [8, 64, 2, 28, 28]             128             128\n",
      "   SlowFastEncoder/SlowNet/Bottleneck3D            ReLU-65      [8, 64, 2, 28, 28]               0               0\n",
      "   SlowFastEncoder/SlowNet/Bottleneck3D          Conv3d-66      [8, 64, 2, 28, 28]          36,864          36,864\n",
      "   SlowFastEncoder/SlowNet/Bottleneck3D     BatchNorm3d-67      [8, 64, 2, 28, 28]             128             128\n",
      "   SlowFastEncoder/SlowNet/Bottleneck3D          Conv3d-68      [8, 64, 2, 28, 28]          16,384          16,384\n",
      "   SlowFastEncoder/SlowNet/Bottleneck3D     BatchNorm3d-69     [8, 256, 2, 28, 28]             512             512\n",
      "   SlowFastEncoder/SlowNet/Bottleneck3D          Conv3d-70      [8, 80, 2, 28, 28]          20,480          20,480\n",
      "   SlowFastEncoder/SlowNet/Bottleneck3D     BatchNorm3d-71     [8, 256, 2, 28, 28]             512             512\n",
      "   SlowFastEncoder/SlowNet/Bottleneck3D          Conv3d-72     [8, 320, 2, 28, 28]          40,960          40,960\n",
      "   SlowFastEncoder/SlowNet/Bottleneck3D     BatchNorm3d-73     [8, 128, 2, 28, 28]             256             256\n",
      "   SlowFastEncoder/SlowNet/Bottleneck3D            ReLU-74     [8, 128, 2, 28, 28]               0               0\n",
      "   SlowFastEncoder/SlowNet/Bottleneck3D          Conv3d-75     [8, 128, 2, 28, 28]         147,456         147,456\n",
      "   SlowFastEncoder/SlowNet/Bottleneck3D     BatchNorm3d-76     [8, 128, 2, 14, 14]             256             256\n",
      "   SlowFastEncoder/SlowNet/Bottleneck3D          Conv3d-77     [8, 128, 2, 14, 14]          65,536          65,536\n",
      "   SlowFastEncoder/SlowNet/Bottleneck3D     BatchNorm3d-78     [8, 512, 2, 14, 14]           1,024           1,024\n",
      "   SlowFastEncoder/SlowNet/Bottleneck3D          Conv3d-79     [8, 320, 2, 28, 28]         163,840         163,840\n",
      "   SlowFastEncoder/SlowNet/Bottleneck3D     BatchNorm3d-80     [8, 512, 2, 14, 14]           1,024           1,024\n",
      "   SlowFastEncoder/SlowNet/Bottleneck3D          Conv3d-81     [8, 512, 2, 14, 14]          65,536          65,536\n",
      "   SlowFastEncoder/SlowNet/Bottleneck3D     BatchNorm3d-82     [8, 128, 2, 14, 14]             256             256\n",
      "   SlowFastEncoder/SlowNet/Bottleneck3D            ReLU-83     [8, 128, 2, 14, 14]               0               0\n",
      "   SlowFastEncoder/SlowNet/Bottleneck3D          Conv3d-84     [8, 128, 2, 14, 14]         147,456         147,456\n",
      "   SlowFastEncoder/SlowNet/Bottleneck3D     BatchNorm3d-85     [8, 128, 2, 14, 14]             256             256\n",
      "   SlowFastEncoder/SlowNet/Bottleneck3D          Conv3d-86     [8, 128, 2, 14, 14]          65,536          65,536\n",
      "   SlowFastEncoder/SlowNet/Bottleneck3D     BatchNorm3d-87     [8, 512, 2, 14, 14]           1,024           1,024\n",
      "   SlowFastEncoder/SlowNet/Bottleneck3D          Conv3d-88     [8, 640, 2, 14, 14]         491,520         491,520\n",
      "   SlowFastEncoder/SlowNet/Bottleneck3D     BatchNorm3d-89     [8, 256, 2, 14, 14]             512             512\n",
      "   SlowFastEncoder/SlowNet/Bottleneck3D            ReLU-90     [8, 256, 2, 14, 14]               0               0\n",
      "   SlowFastEncoder/SlowNet/Bottleneck3D          Conv3d-91     [8, 256, 2, 14, 14]         589,824         589,824\n",
      "   SlowFastEncoder/SlowNet/Bottleneck3D     BatchNorm3d-92       [8, 256, 2, 7, 7]             512             512\n",
      "   SlowFastEncoder/SlowNet/Bottleneck3D          Conv3d-93       [8, 256, 2, 7, 7]         262,144         262,144\n",
      "   SlowFastEncoder/SlowNet/Bottleneck3D     BatchNorm3d-94      [8, 1024, 2, 7, 7]           2,048           2,048\n",
      "   SlowFastEncoder/SlowNet/Bottleneck3D          Conv3d-95     [8, 640, 2, 14, 14]         655,360         655,360\n",
      "   SlowFastEncoder/SlowNet/Bottleneck3D     BatchNorm3d-96      [8, 1024, 2, 7, 7]           2,048           2,048\n",
      "   SlowFastEncoder/SlowNet/Bottleneck3D          Conv3d-97      [8, 1024, 2, 7, 7]         786,432         786,432\n",
      "   SlowFastEncoder/SlowNet/Bottleneck3D     BatchNorm3d-98       [8, 256, 2, 7, 7]             512             512\n",
      "   SlowFastEncoder/SlowNet/Bottleneck3D            ReLU-99       [8, 256, 2, 7, 7]               0               0\n",
      "   SlowFastEncoder/SlowNet/Bottleneck3D         Conv3d-100       [8, 256, 2, 7, 7]         589,824         589,824\n",
      "   SlowFastEncoder/SlowNet/Bottleneck3D    BatchNorm3d-101       [8, 256, 2, 7, 7]             512             512\n",
      "   SlowFastEncoder/SlowNet/Bottleneck3D         Conv3d-102       [8, 256, 2, 7, 7]         262,144         262,144\n",
      "   SlowFastEncoder/SlowNet/Bottleneck3D    BatchNorm3d-103      [8, 1024, 2, 7, 7]           2,048           2,048\n",
      "   SlowFastEncoder/SlowNet/Bottleneck3D         Conv3d-104      [8, 1280, 2, 7, 7]       1,966,080       1,966,080\n",
      "   SlowFastEncoder/SlowNet/Bottleneck3D    BatchNorm3d-105       [8, 512, 2, 7, 7]           1,024           1,024\n",
      "   SlowFastEncoder/SlowNet/Bottleneck3D           ReLU-106       [8, 512, 2, 7, 7]               0               0\n",
      "   SlowFastEncoder/SlowNet/Bottleneck3D         Conv3d-107       [8, 512, 2, 7, 7]       2,359,296       2,359,296\n",
      "   SlowFastEncoder/SlowNet/Bottleneck3D    BatchNorm3d-108       [8, 512, 2, 4, 4]           1,024           1,024\n",
      "   SlowFastEncoder/SlowNet/Bottleneck3D         Conv3d-109       [8, 512, 2, 4, 4]       1,048,576       1,048,576\n",
      "   SlowFastEncoder/SlowNet/Bottleneck3D    BatchNorm3d-110      [8, 2048, 2, 4, 4]           4,096           4,096\n",
      "   SlowFastEncoder/SlowNet/Bottleneck3D         Conv3d-111      [8, 1280, 2, 7, 7]       2,621,440       2,621,440\n",
      "   SlowFastEncoder/SlowNet/Bottleneck3D    BatchNorm3d-112      [8, 2048, 2, 4, 4]           4,096           4,096\n",
      "                        SlowFastEncoder        Dropout-113               [8, 2560]               0               0\n",
      "==================================================================================================================\n",
      "Total params: 13,680,928\n",
      "Trainable params: 13,680,928\n",
      "Non-trainable params: 0\n",
      "------------------------------------------------------------------------------------------------------------------\n"
     ]
    }
   ],
   "source": [
    "from src.model import SlowFastEncoder\n",
    "from src.resnet import Bottleneck3D\n",
    "\n",
    "slowfast = SlowFastEncoder(\n",
    "    input_shape = (3,8,112,112),\n",
    "    block = Bottleneck3D,\n",
    "    layers = [1,2,2,1],\n",
    "    alpha = 4,\n",
    "    p = 0.5\n",
    ")\n",
    "\n",
    "slowfast.summary()"
   ]
  },
  {
   "cell_type": "code",
   "execution_count": null,
   "metadata": {},
   "outputs": [],
   "source": [
    "import torch.multiprocessing as mp\n",
    "import torch.distributed as dist\n",
    "from torch.nn.parallel import DistributedDataParallel as DDP\n",
    "from torch.utils.data import Dataset, DataLoader\n",
    "from torch.utils.data.distributed import DistributedSampler\n",
    "\n",
    "num_replicas = 2\n",
    "rank = 1\n",
    "num_workers = 4\n",
    "train_sampler = DistributedSampler(train_data_dist10, num_replicas=num_replicas, rank = rank, shuffle = True)\n",
    "train_loader_distributed = DataLoader(train_data_dist10, batch_size, sampler = train_sampler, num_workers = num_workers, pin_memory=True)"
   ]
  },
  {
   "cell_type": "code",
   "execution_count": null,
   "metadata": {},
   "outputs": [],
   "source": [
    "sample_x, sample_y = next(iter(train_loader_distributed))"
   ]
  },
  {
   "cell_type": "code",
   "execution_count": null,
   "metadata": {},
   "outputs": [
    {
     "data": {
      "text/plain": [
       "1"
      ]
     },
     "execution_count": 40,
     "metadata": {},
     "output_type": "execute_result"
    }
   ],
   "source": [
    "train_sampler.rank"
   ]
  },
  {
   "cell_type": "code",
   "execution_count": null,
   "metadata": {},
   "outputs": [
    {
     "data": {
      "text/plain": [
       "'/home/zinzinbin/codes_for_study/fusion-plasma/research-predict-disruption'"
      ]
     },
     "execution_count": 5,
     "metadata": {},
     "output_type": "execute_result"
    }
   ],
   "source": [
    "os.getcwd()"
   ]
  },
  {
   "cell_type": "code",
   "execution_count": null,
   "metadata": {},
   "outputs": [],
   "source": [
    "import os\n",
    "import numpy as np\n",
    "\n",
    "label = []\n",
    "\n",
    "path = \"./dataset/dur0.2_dis100/\"\n",
    "\n",
    "dir_list = os.listdir(path)\n",
    "num = 2\n",
    "for i in dir_list[-2:] :\n",
    "    file_list = os.listdir(path+i)\n",
    "    for file_name in file_list :\n",
    "        full_filename = path + \"{}/{}\".format(i, file_name)\n",
    "        label.append(\"{} {}\\n\".format(full_filename, num))\n",
    "    num -= 1"
   ]
  },
  {
   "cell_type": "code",
   "execution_count": null,
   "metadata": {},
   "outputs": [],
   "source": [
    "import random\n",
    "\n",
    "label = []\n",
    "num = 0\n",
    "\n",
    "nomal_path = path + \"nomal\"\n",
    "dis_path = path + \"disruption\"\n",
    "\n",
    "dis_list = os.listdir(dis_path)\n",
    "\n",
    "for file_name in dis_list :\n",
    "    full_filename = \"{}/{}\".format(dis_path, file_name)\n",
    "    label.append(\"{} {}\\n\".format(full_filename, num))\n",
    "num+= 1\n",
    "\n",
    "\n",
    "nom_list = os.listdir(nomal_path)\n",
    "ran_nom = random.sample(nom_list, len(dis_list))\n",
    "\n",
    "for file_name in ran_nom :\n",
    "    full_filename = \"{}/{}\".format(nomal_path, file_name)\n",
    "    label.append(\"{} {}\\n\".format(full_filename, num))"
   ]
  },
  {
   "cell_type": "code",
   "execution_count": null,
   "metadata": {},
   "outputs": [
    {
     "data": {
      "text/plain": [
       "(4388, 79, 79, 158)"
      ]
     },
     "execution_count": 10,
     "metadata": {},
     "output_type": "execute_result"
    }
   ],
   "source": [
    "len(nom_list), len(dis_list), len(ran_nom), len(label)"
   ]
  },
  {
   "cell_type": "code",
   "execution_count": null,
   "metadata": {},
   "outputs": [],
   "source": [
    "f = open(\"label.txt\", 'w')\n",
    "for i in label:\n",
    "    data = i\n",
    "    f.write(data)\n",
    "f.close()"
   ]
  },
  {
   "cell_type": "code",
   "execution_count": null,
   "metadata": {},
   "outputs": [],
   "source": [
    "val_size = 0.1\n",
    "\n",
    "val_num = int(len(dis_list)*val_size)\n",
    "train_num = len(dis_list) - val_num\n",
    "\n",
    "dis_train_list = np.random.choice(dis_list, train_num, replace=False)\n",
    "diff_dis_train = np.setdiff1d(dis_list, dis_train_list)\n",
    "dis_val_list = np.random.choice(diff_dis_train, val_num, replace=False)"
   ]
  },
  {
   "cell_type": "code",
   "execution_count": null,
   "metadata": {},
   "outputs": [
    {
     "data": {
      "text/plain": [
       "(72, 7)"
      ]
     },
     "execution_count": 13,
     "metadata": {},
     "output_type": "execute_result"
    }
   ],
   "source": [
    "len(dis_train_list), len(dis_val_list)"
   ]
  },
  {
   "cell_type": "code",
   "execution_count": null,
   "metadata": {},
   "outputs": [
    {
     "data": {
      "text/plain": [
       "['disruption', 'borderline', 'nomal']"
      ]
     },
     "execution_count": 14,
     "metadata": {},
     "output_type": "execute_result"
    }
   ],
   "source": [
    "dir_list"
   ]
  },
  {
   "cell_type": "code",
   "execution_count": null,
   "metadata": {},
   "outputs": [],
   "source": [
    "import random\n",
    "\n",
    "train_label = []\n",
    "val_label = []\n",
    "label = 1\n",
    "\n",
    "train_num = 0\n",
    "val_num = 0\n",
    "\n",
    "nomal_dirname = 'nomal'\n",
    "dis_dirname = 'disruption'\n",
    "\n",
    "nomal_path = path+nomal_dirname\n",
    "dis_path = path+dis_dirname\n",
    "\n",
    "dis_list = os.listdir(dis_path)\n",
    "\n",
    "val_size = 0.1\n",
    "\n",
    "val_num = int(len(dis_list)*val_size)\n",
    "train_num = len(dis_list) - val_num\n",
    "\n",
    "dis_train_list = np.random.choice(dis_list, train_num, replace=False)\n",
    "diff_dis_train = np.setdiff1d(dis_list, dis_train_list)\n",
    "dis_val_list = np.random.choice(diff_dis_train, val_num, replace=False)\n",
    "\n",
    "# train label\n",
    "for file_name in dis_train_list:\n",
    "    full_filename = \"{}/{}\".format(dis_dirname, file_name)\n",
    "    train_label.append(\"{} {}\\n\".format(full_filename, label))\n",
    "\n",
    "# val label \n",
    "for file_name in dis_val_list:\n",
    "    full_filename = \"{}/{}\".format(dis_dirname, file_name)\n",
    "    val_label.append(\"{} {}\\n\".format(full_filename, label))\n",
    "\n",
    "label -= 1\n",
    "    \n",
    "nom_list = os.listdir(nomal_path)\n",
    "nom_train_list = np.random.choice(nom_list, train_num, replace=False)\n",
    "diff_nom_train = np.setdiff1d(nom_list, nom_train_list)\n",
    "nom_val_list = np.random.choice(diff_nom_train, val_num, replace=False)\n",
    "\n",
    "for file_name in nom_train_list :\n",
    "    full_filename = \"{}/{}\".format(nomal_dirname, file_name)\n",
    "    train_label.append(\"{} {}\\n\".format(full_filename, label))\n",
    "    \n",
    "for file_name in nom_val_list :\n",
    "    full_filename = \"{}/{}\".format(nomal_dirname, file_name)\n",
    "    val_label.append(\"{} {}\\n\".format(full_filename, label))\n",
    "    \n",
    "random.shuffle(train_label)\n",
    "random.shuffle(val_label)"
   ]
  },
  {
   "cell_type": "code",
   "execution_count": null,
   "metadata": {},
   "outputs": [],
   "source": [
    "f = open(\"./dataset/train.txt\", 'w')\n",
    "for i in train_label:\n",
    "    data = i\n",
    "    f.write(data)\n",
    "f.close()\n",
    "\n",
    "f = open(\"./dataset/val_list.txt\", 'w')\n",
    "for i in val_label:\n",
    "    data = i\n",
    "    f.write(data)\n",
    "f.close()"
   ]
  },
  {
   "cell_type": "code",
   "execution_count": null,
   "metadata": {},
   "outputs": [],
   "source": [
    "f = open(\"./dataset/test_list.txt\", 'w')\n",
    "for i in train_label[:round(len(val_label)/2)]:\n",
    "    data = i\n",
    "    f.write(data)\n",
    "f.close()"
   ]
  },
  {
   "cell_type": "code",
   "execution_count": 5,
   "metadata": {},
   "outputs": [
    {
     "name": "stdout",
     "output_type": "stream",
     "text": [
      "Number of train videos: 2951\n"
     ]
    }
   ],
   "source": [
    "from src.dataloader import VideoDataset\n",
    "from torch.utils.data import DataLoader\n",
    "\n",
    "batch_size = 4\n",
    "clip_len = 42\n",
    "train_data_dist21 = VideoDataset(dataset = \"dur0.2_dis21\", split = \"train\", clip_len = clip_len, preprocess = False)\n",
    "train_loader_dist21 = DataLoader(train_data_dist21, batch_size = batch_size, shuffle = True, num_workers = 4)\n"
   ]
  },
  {
   "cell_type": "code",
   "execution_count": 7,
   "metadata": {},
   "outputs": [
    {
     "name": "stderr",
     "output_type": "stream",
     "text": [
      "Clipping input data to the valid range for imshow with RGB data ([0..1] for floats or [0..255] for integers).\n"
     ]
    },
    {
     "name": "stdout",
     "output_type": "stream",
     "text": [
      "sample_img :  torch.Size([3, 112, 112])\n",
      "sample label :  tensor([1, 1, 1, 1])\n"
     ]
    },
    {
     "data": {
      "image/png": "[encoded data removed]",
      "text/plain": [
       "<Figure size 432x288 with 1 Axes>"
      ]
     },
     "metadata": {
      "needs_background": "light"
     },
     "output_type": "display_data"
    }
   ],
   "source": [
    "sample_data, sample_label = next(iter(train_loader_dist21))\n",
    "sample_img = sample_data[0, :, 0, :, :]\n",
    "\n",
    "print(\"sample_img : \", sample_img.size())\n",
    "print(\"sample label : \", sample_label)\n",
    "\n",
    "from src.utils.utility import show_frame\n",
    "\n",
    "show_frame(sample_img)"
   ]
  },
  {
   "cell_type": "code",
   "execution_count": 8,
   "metadata": {},
   "outputs": [],
   "source": [
    "import logging\n",
    "logger = logging.getLogger(__name__)"
   ]
  },
  {
   "cell_type": "code",
   "execution_count": null,
   "metadata": {},
   "outputs": [],
   "source": []
  }
 ],
 "metadata": {
  "interpreter": {
   "hash": "b7bc8097f24747f72629445db54bed151603a8d63744e142002cb75630cca553"
  },
  "kernelspec": {
   "display_name": "Python 3.9.7 ('research-env': conda)",
   "language": "python",
   "name": "python3"
  },
  "language_info": {
   "codemirror_mode": {
    "name": "ipython",
    "version": 3
   },
   "file_extension": ".py",
   "mimetype": "text/x-python",
   "name": "python",
   "nbconvert_exporter": "python",
   "pygments_lexer": "ipython3",
   "version": "3.9.7"
  },
  "orig_nbformat": 4
 },
 "nbformat": 4,
 "nbformat_minor": 2
}
