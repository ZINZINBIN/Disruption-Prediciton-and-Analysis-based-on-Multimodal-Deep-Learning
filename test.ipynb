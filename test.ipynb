{
 "cells": [
  {
   "cell_type": "code",
   "execution_count": 1,
   "metadata": {},
   "outputs": [],
   "source": [
    "import os\n",
    "import pandas as pd\n",
    "new_shot_df = pd.read_csv(\"./dataset/KSTAR_Disruption_Shot_List_extend.csv\", encoding = \"euc-kr\")"
   ]
  },
  {
   "cell_type": "code",
   "execution_count": 2,
   "metadata": {},
   "outputs": [
    {
     "data": {
      "text/html": [
       "<div>\n",
       "<style scoped>\n",
       "    .dataframe tbody tr th:only-of-type {\n",
       "        vertical-align: middle;\n",
       "    }\n",
       "\n",
       "    .dataframe tbody tr th {\n",
       "        vertical-align: top;\n",
       "    }\n",
       "\n",
       "    .dataframe thead th {\n",
       "        text-align: right;\n",
       "    }\n",
       "</style>\n",
       "<table border=\"1\" class=\"dataframe\">\n",
       "  <thead>\n",
       "    <tr style=\"text-align: right;\">\n",
       "      <th></th>\n",
       "      <th>shot</th>\n",
       "      <th>year</th>\n",
       "      <th>tftsrt</th>\n",
       "      <th>tipminf</th>\n",
       "      <th>tTQend</th>\n",
       "      <th>dt</th>\n",
       "      <th>frame_cutoff</th>\n",
       "      <th>frame_tTQend</th>\n",
       "      <th>frame_tipminf</th>\n",
       "    </tr>\n",
       "  </thead>\n",
       "  <tbody>\n",
       "    <tr>\n",
       "      <th>0</th>\n",
       "      <td>21273</td>\n",
       "      <td>2018</td>\n",
       "      <td>2.996</td>\n",
       "      <td>5.535</td>\n",
       "      <td>5.514</td>\n",
       "      <td>0.021</td>\n",
       "      <td>1165</td>\n",
       "      <td>1160</td>\n",
       "      <td>1164</td>\n",
       "    </tr>\n",
       "    <tr>\n",
       "      <th>1</th>\n",
       "      <td>21274</td>\n",
       "      <td>2018</td>\n",
       "      <td>2.996</td>\n",
       "      <td>10.056</td>\n",
       "      <td>10.038</td>\n",
       "      <td>0.018</td>\n",
       "      <td>2104</td>\n",
       "      <td>2100</td>\n",
       "      <td>2103</td>\n",
       "    </tr>\n",
       "    <tr>\n",
       "      <th>2</th>\n",
       "      <td>21310</td>\n",
       "      <td>2018</td>\n",
       "      <td>1.500</td>\n",
       "      <td>5.368</td>\n",
       "      <td>5.342</td>\n",
       "      <td>0.026</td>\n",
       "      <td>1131</td>\n",
       "      <td>1125</td>\n",
       "      <td>1130</td>\n",
       "    </tr>\n",
       "    <tr>\n",
       "      <th>3</th>\n",
       "      <td>21315</td>\n",
       "      <td>2018</td>\n",
       "      <td>1.500</td>\n",
       "      <td>7.804</td>\n",
       "      <td>7.782</td>\n",
       "      <td>0.022</td>\n",
       "      <td>1636</td>\n",
       "      <td>1631</td>\n",
       "      <td>1635</td>\n",
       "    </tr>\n",
       "    <tr>\n",
       "      <th>4</th>\n",
       "      <td>21317</td>\n",
       "      <td>2018</td>\n",
       "      <td>1.500</td>\n",
       "      <td>9.460</td>\n",
       "      <td>9.438</td>\n",
       "      <td>0.022</td>\n",
       "      <td>1980</td>\n",
       "      <td>1975</td>\n",
       "      <td>1979</td>\n",
       "    </tr>\n",
       "  </tbody>\n",
       "</table>\n",
       "</div>"
      ],
      "text/plain": [
       "    shot  year  tftsrt  tipminf  tTQend     dt  frame_cutoff  frame_tTQend  \\\n",
       "0  21273  2018   2.996    5.535   5.514  0.021          1165          1160   \n",
       "1  21274  2018   2.996   10.056  10.038  0.018          2104          2100   \n",
       "2  21310  2018   1.500    5.368   5.342  0.026          1131          1125   \n",
       "3  21315  2018   1.500    7.804   7.782  0.022          1636          1631   \n",
       "4  21317  2018   1.500    9.460   9.438  0.022          1980          1975   \n",
       "\n",
       "   frame_tipminf  \n",
       "0           1164  \n",
       "1           2103  \n",
       "2           1130  \n",
       "3           1635  \n",
       "4           1979  "
      ]
     },
     "execution_count": 2,
     "metadata": {},
     "output_type": "execute_result"
    }
   ],
   "source": [
    "new_shot_df.head()"
   ]
  },
  {
   "cell_type": "code",
   "execution_count": 3,
   "metadata": {},
   "outputs": [
    {
     "data": {
      "text/plain": [
       "' \\n\\n'"
      ]
     },
     "execution_count": 3,
     "metadata": {},
     "output_type": "execute_result"
    }
   ],
   "source": [
    "import pytesseract\n",
    "from PIL import Image\n",
    "pytesseract.image_to_string(Image.open('./dataset/dur21_dis0/test/disruption/21325_1369_1390/0000.jpg'))\n"
   ]
  },
  {
   "cell_type": "code",
   "execution_count": 66,
   "metadata": {},
   "outputs": [
    {
     "name": "stderr",
     "output_type": "stream",
     "text": [
      "1it [00:00,  2.35it/s]"
     ]
    },
    {
     "name": "stdout",
     "output_type": "stream",
     "text": [
      "fps : am\n",
      "\n",
      " and time : a:aa:aa:aa\n",
      "\n",
      "\n"
     ]
    },
    {
     "name": "stderr",
     "output_type": "stream",
     "text": [
      "\n"
     ]
    }
   ],
   "source": [
    "from tqdm.auto import tqdm\n",
    "import matplotlib.pyplot as plt\n",
    "import cv2\n",
    "from src.utils.utility import crop, normalize\n",
    "from tqdm.auto import tqdm\n",
    "import gc\n",
    "import numpy as np\n",
    "from PIL import Image\n",
    "import pytesseract\n",
    "import time\n",
    "\n",
    "resize_height = 96\n",
    "resize_width = 768\n",
    "fps = 210\n",
    "eps = 0.075\n",
    "\n",
    "def check_cutoff(frame : np.ndarray, thres : float = eps):\n",
    "    mean = np.mean(frame)\n",
    "    if mean < thres:\n",
    "        return True\n",
    "    else:\n",
    "        return False\n",
    "\n",
    "def norm(img : np.ndarray):\n",
    "    img = img.astype(np.float32)\n",
    "    img /= 255.\n",
    "    return img\n",
    "\n",
    "for _, row in tqdm(new_shot_df.iloc[0:1].iterrows()):\n",
    "    shot_num = row['shot']\n",
    "    tftsrt = row['tftsrt']\n",
    "\n",
    "    frame_cutoff = row['frame_cutoff']\n",
    "    frame_srt = int(tftsrt * fps + 0.1 * fps)\n",
    "    \n",
    "    video_dir = os.path.join(\"./dataset/raw_videos/raw_videos/\", \"%06dtv01.avi\"%shot_num)\n",
    "\n",
    "    if not os.path.exists(video_dir):\n",
    "        video_dir = os.path.join(\"./dataset/raw_videos/raw_videos/\", \"%06dtv02.avi\"%shot_num)\n",
    "\n",
    "    capture = cv2.VideoCapture(video_dir)\n",
    "    frame_count = int(capture.get(cv2.CAP_PROP_FRAME_COUNT))\n",
    "    frame_width = int(capture.get(cv2.CAP_PROP_FRAME_WIDTH))\n",
    "    frame_height = int(capture.get(cv2.CAP_PROP_FRAME_HEIGHT))\n",
    "\n",
    "    count = 0\n",
    "    channels = 3\n",
    "    retaining = True\n",
    "\n",
    "    start_time = time.time()\n",
    "\n",
    "    while (count < frame_count and retaining):\n",
    "        retaining, frame = capture.read()\n",
    "\n",
    "        if count > frame_srt and count == frame_cutoff:\n",
    "            break\n",
    "\n",
    "        if frame is None:\n",
    "            frame = np.zeros((resize_width, resize_height, channels))\n",
    "\n",
    "        frame = cv2.cvtColor(frame, cv2.COLOR_BGR2GRAY)\n",
    "        frame = cv2.threshold(frame, 0, 255, cv2.THRESH_BINARY + cv2.THRESH_OTSU)[1]\n",
    "        hsv = cv2.cvtColor(frame, cv2.COLOR_BGR2HSV)\n",
    "        lower = np.array([0, 0, 0])\n",
    "        upper = np.array([100, 175, 110])\n",
    "        mask = cv2.inRange(hsv, lower, upper)\n",
    "        frame = 255 - mask\n",
    "\n",
    "        # image for fps\n",
    "        img_fps = frame[:int(0.1 * frame_height), int(0.4 * frame_width):int(0.6 * frame_width)]\n",
    "        \n",
    "        # image for time\n",
    "        img_time = frame[:int(0.1 * frame_height), int(0.6 * frame_width):int(0.9 * frame_width)]\n",
    "        \n",
    "        count += 1\n",
    "        config = '--oem 3 --psm 12'\n",
    "        # config = 'digits'\n",
    "        fps = pytesseract.image_to_string(img_fps, lang = 'eng', config = config)\n",
    "        t = pytesseract.image_to_string(img_time, lang = 'eng', config = config)\n",
    "        print(\"fps : {} and time : {}\".format(fps, t))\n",
    "        break\n",
    "\n",
    "    capture.release()"
   ]
  },
  {
   "cell_type": "code",
   "execution_count": 19,
   "metadata": {},
   "outputs": [
    {
     "name": "stdout",
     "output_type": "stream",
     "text": [
      "video :  ./dataset/raw_videos/raw_videos/021274tv01.avi\n",
      "Frame width: 640\n",
      "Frame height: 640\n",
      "Frame count: 2730\n",
      "FPS: 5.0\n"
     ]
    }
   ],
   "source": [
    "row = new_shot_df.iloc[1]\n",
    "shot_num = row['shot']\n",
    "video_dir = os.path.join(\"./dataset/raw_videos/raw_videos/\", \"%06dtv01.avi\"%shot_num)\n",
    "cap = cv2.VideoCapture(video_dir)\n",
    "print(\"video : \", video_dir)\n",
    "print('Frame width:', int(cap.get(cv2.CAP_PROP_FRAME_WIDTH)))\n",
    "print('Frame height:', int(cap.get(cv2.CAP_PROP_FRAME_HEIGHT)))\n",
    "print('Frame count:', int(cap.get(cv2.CAP_PROP_FRAME_COUNT)))\n",
    "\n",
    "fps = cap.get(cv2.CAP_PROP_FPS)\n",
    "print('FPS:', fps)"
   ]
  },
  {
   "cell_type": "code",
   "execution_count": 64,
   "metadata": {},
   "outputs": [
    {
     "data": {
      "text/plain": [
       "<matplotlib.image.AxesImage at 0x7fa63c9717c0>"
      ]
     },
     "execution_count": 64,
     "metadata": {},
     "output_type": "execute_result"
    },
    {
     "data": {
      "image/png": "[encoded data removed]",
      "text/plain": [
       "<Figure size 864x432 with 1 Axes>"
      ]
     },
     "metadata": {
      "needs_background": "light"
     },
     "output_type": "display_data"
    }
   ],
   "source": [
    "import matplotlib.pyplot as plt\n",
    "plt.figure(figsize = (12,6))\n",
    "plt.imshow(img_fps)"
   ]
  },
  {
   "cell_type": "code",
   "execution_count": 59,
   "metadata": {},
   "outputs": [
    {
     "data": {
      "text/plain": [
       "<matplotlib.image.AxesImage at 0x7fa637f6e100>"
      ]
     },
     "execution_count": 59,
     "metadata": {},
     "output_type": "execute_result"
    },
    {
     "data": {
      "image/png": "[encoded data removed]",
      "text/plain": [
       "<Figure size 864x432 with 1 Axes>"
      ]
     },
     "metadata": {
      "needs_background": "light"
     },
     "output_type": "display_data"
    }
   ],
   "source": [
    "import matplotlib.pyplot as plt\n",
    "plt.figure(figsize = (12,6))\n",
    "plt.imshow(img_time)"
   ]
  },
  {
   "cell_type": "code",
   "execution_count": 60,
   "metadata": {},
   "outputs": [
    {
     "data": {
      "text/plain": [
       "<matplotlib.image.AxesImage at 0x7fa5a85cde50>"
      ]
     },
     "execution_count": 60,
     "metadata": {},
     "output_type": "execute_result"
    },
    {
     "data": {
      "image/png": "[encoded data removed]",
      "text/plain": [
       "<Figure size 864x432 with 1 Axes>"
      ]
     },
     "metadata": {
      "needs_background": "light"
     },
     "output_type": "display_data"
    }
   ],
   "source": [
    "import matplotlib.pyplot as plt\n",
    "plt.figure(figsize = (12,6))\n",
    "plt.imshow(frame, cmap = 'gray')"
   ]
  }
 ],
 "metadata": {
  "kernelspec": {
   "display_name": "Python 3.9.7 ('research-env': conda)",
   "language": "python",
   "name": "python3"
  },
  "language_info": {
   "codemirror_mode": {
    "name": "ipython",
    "version": 3
   },
   "file_extension": ".py",
   "mimetype": "text/x-python",
   "name": "python",
   "nbconvert_exporter": "python",
   "pygments_lexer": "ipython3",
   "version": "3.9.7"
  },
  "orig_nbformat": 4,
  "vscode": {
   "interpreter": {
    "hash": "13691d44a992e9eda53412410cd635bb66f9b6a1d0122e1b07e8626f6211bdec"
   }
  }
 },
 "nbformat": 4,
 "nbformat_minor": 2
}
