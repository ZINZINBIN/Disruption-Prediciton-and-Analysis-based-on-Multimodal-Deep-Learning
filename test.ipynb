{
 "cells": [
  {
   "cell_type": "code",
   "execution_count": 1,
   "metadata": {},
   "outputs": [],
   "source": [
    "import pandas as pd\n",
    "\n",
    "# shot_list_sheet_1 = pd.read_excel(\"./dataset/KSTAR_Disruption_Shot_List.csv\", sheet_name = 'Sheet1')\n",
    "# shot_list_sheet_2 = pd.read_excel(\"./dataset/KSTAR_Disruption_Shot_List.csv\", sheet_name = 'Sheet2')\n",
    "short_list_sheet = pd.read_csv(\"./dataset/KSTAR_Disruption_Shot_List.csv\")"
   ]
  },
  {
   "cell_type": "code",
   "execution_count": 2,
   "metadata": {},
   "outputs": [
    {
     "data": {
      "text/html": [
       "<div>\n",
       "<style scoped>\n",
       "    .dataframe tbody tr th:only-of-type {\n",
       "        vertical-align: middle;\n",
       "    }\n",
       "\n",
       "    .dataframe tbody tr th {\n",
       "        vertical-align: top;\n",
       "    }\n",
       "\n",
       "    .dataframe thead th {\n",
       "        text-align: right;\n",
       "    }\n",
       "</style>\n",
       "<table border=\"1\" class=\"dataframe\">\n",
       "  <thead>\n",
       "    <tr style=\"text-align: right;\">\n",
       "      <th></th>\n",
       "      <th>shot</th>\n",
       "      <th>year</th>\n",
       "      <th>tftsrt</th>\n",
       "      <th>tipminf</th>\n",
       "      <th>tTQend</th>\n",
       "      <th>Isdata</th>\n",
       "    </tr>\n",
       "  </thead>\n",
       "  <tbody>\n",
       "    <tr>\n",
       "      <th>0</th>\n",
       "      <td>12350</td>\n",
       "      <td>2015</td>\n",
       "      <td>1.500</td>\n",
       "      <td>5.246</td>\n",
       "      <td>5.2248</td>\n",
       "      <td>NaN</td>\n",
       "    </tr>\n",
       "    <tr>\n",
       "      <th>1</th>\n",
       "      <td>12372</td>\n",
       "      <td>2015</td>\n",
       "      <td>0.700</td>\n",
       "      <td>3.818</td>\n",
       "      <td>3.8026</td>\n",
       "      <td>NaN</td>\n",
       "    </tr>\n",
       "    <tr>\n",
       "      <th>2</th>\n",
       "      <td>12415</td>\n",
       "      <td>2015</td>\n",
       "      <td>1.900</td>\n",
       "      <td>4.769</td>\n",
       "      <td>4.7450</td>\n",
       "      <td>NaN</td>\n",
       "    </tr>\n",
       "    <tr>\n",
       "      <th>3</th>\n",
       "      <td>12438</td>\n",
       "      <td>2015</td>\n",
       "      <td>1.100</td>\n",
       "      <td>3.702</td>\n",
       "      <td>3.6826</td>\n",
       "      <td>NaN</td>\n",
       "    </tr>\n",
       "    <tr>\n",
       "      <th>4</th>\n",
       "      <td>12481</td>\n",
       "      <td>2015</td>\n",
       "      <td>1.900</td>\n",
       "      <td>5.217</td>\n",
       "      <td>5.1923</td>\n",
       "      <td>NaN</td>\n",
       "    </tr>\n",
       "    <tr>\n",
       "      <th>...</th>\n",
       "      <td>...</td>\n",
       "      <td>...</td>\n",
       "      <td>...</td>\n",
       "      <td>...</td>\n",
       "      <td>...</td>\n",
       "      <td>...</td>\n",
       "    </tr>\n",
       "    <tr>\n",
       "      <th>1091</th>\n",
       "      <td>21730</td>\n",
       "      <td>2018</td>\n",
       "      <td>1.500</td>\n",
       "      <td>4.968</td>\n",
       "      <td>4.9490</td>\n",
       "      <td>NaN</td>\n",
       "    </tr>\n",
       "    <tr>\n",
       "      <th>1092</th>\n",
       "      <td>21731</td>\n",
       "      <td>2018</td>\n",
       "      <td>1.500</td>\n",
       "      <td>4.913</td>\n",
       "      <td>4.8950</td>\n",
       "      <td>NaN</td>\n",
       "    </tr>\n",
       "    <tr>\n",
       "      <th>1093</th>\n",
       "      <td>21735</td>\n",
       "      <td>2018</td>\n",
       "      <td>1.500</td>\n",
       "      <td>89.746</td>\n",
       "      <td>89.7320</td>\n",
       "      <td>NaN</td>\n",
       "    </tr>\n",
       "    <tr>\n",
       "      <th>1094</th>\n",
       "      <td>21747</td>\n",
       "      <td>2018</td>\n",
       "      <td>3.724</td>\n",
       "      <td>11.451</td>\n",
       "      <td>11.4190</td>\n",
       "      <td>NaN</td>\n",
       "    </tr>\n",
       "    <tr>\n",
       "      <th>1095</th>\n",
       "      <td>21757</td>\n",
       "      <td>2018</td>\n",
       "      <td>1.500</td>\n",
       "      <td>87.907</td>\n",
       "      <td>87.8940</td>\n",
       "      <td>NaN</td>\n",
       "    </tr>\n",
       "  </tbody>\n",
       "</table>\n",
       "<p>1096 rows × 6 columns</p>\n",
       "</div>"
      ],
      "text/plain": [
       "       shot  year  tftsrt  tipminf   tTQend Isdata\n",
       "0     12350  2015   1.500    5.246   5.2248    NaN\n",
       "1     12372  2015   0.700    3.818   3.8026    NaN\n",
       "2     12415  2015   1.900    4.769   4.7450    NaN\n",
       "3     12438  2015   1.100    3.702   3.6826    NaN\n",
       "4     12481  2015   1.900    5.217   5.1923    NaN\n",
       "...     ...   ...     ...      ...      ...    ...\n",
       "1091  21730  2018   1.500    4.968   4.9490    NaN\n",
       "1092  21731  2018   1.500    4.913   4.8950    NaN\n",
       "1093  21735  2018   1.500   89.746  89.7320    NaN\n",
       "1094  21747  2018   3.724   11.451  11.4190    NaN\n",
       "1095  21757  2018   1.500   87.907  87.8940    NaN\n",
       "\n",
       "[1096 rows x 6 columns]"
      ]
     },
     "execution_count": 2,
     "metadata": {},
     "output_type": "execute_result"
    }
   ],
   "source": [
    "short_list_sheet"
   ]
  },
  {
   "cell_type": "code",
   "execution_count": 3,
   "metadata": {},
   "outputs": [
    {
     "name": "stderr",
     "output_type": "stream",
     "text": [
      "/home/zinzinbin/.conda/envs/research-env/lib/python3.9/site-packages/tqdm/auto.py:22: TqdmWarning: IProgress not found. Please update jupyter and ipywidgets. See https://ipywidgets.readthedocs.io/en/stable/user_install.html\n",
      "  from .autonotebook import tqdm as notebook_tqdm\n"
     ]
    },
    {
     "name": "stdout",
     "output_type": "stream",
     "text": [
      "Number of train videos: 1240\n"
     ]
    }
   ],
   "source": [
    "\n",
    "from src.dataloader import VideoDataset\n",
    "from torch.utils.data import DataLoader\n",
    "\n",
    "batch_size = 4\n",
    "clip_len = 10\n",
    "train_data_dist10 = VideoDataset(dataset = \"fast_model_dataset\", split = \"train\", clip_len = clip_len, preprocess = False)\n",
    "train_loader_dist10 = DataLoader(train_data_dist10, batch_size = batch_size, shuffle = True, num_workers = 4)\n"
   ]
  },
  {
   "cell_type": "code",
   "execution_count": 4,
   "metadata": {},
   "outputs": [
    {
     "name": "stdout",
     "output_type": "stream",
     "text": [
      "sample_img :  torch.Size([3, 112, 112])\n"
     ]
    },
    {
     "name": "stderr",
     "output_type": "stream",
     "text": [
      "/home/zinzinbin/.conda/envs/research-env/lib/python3.9/site-packages/torchvision/transforms/_functional_video.py:5: UserWarning: The _functional_video module is deprecated. Please use the functional module instead.\n",
      "  warnings.warn(\n",
      "/home/zinzinbin/.conda/envs/research-env/lib/python3.9/site-packages/torchvision/transforms/_transforms_video.py:25: UserWarning: The _transforms_video module is deprecated. Please use the transforms module instead.\n",
      "  warnings.warn(\n",
      "Clipping input data to the valid range for imshow with RGB data ([0..1] for floats or [0..255] for integers).\n"
     ]
    },
    {
     "data": {
      "image/png": "[encoded data removed]",
      "text/plain": [
       "<Figure size 432x288 with 1 Axes>"
      ]
     },
     "metadata": {
      "needs_background": "light"
     },
     "output_type": "display_data"
    }
   ],
   "source": [
    "sample_data, sample_label = next(iter(train_loader_dist10))\n",
    "sample_img = sample_data[0, :, 0, :, :]\n",
    "\n",
    "print(\"sample_img : \", sample_img.size())\n",
    "\n",
    "from src.utility import show_frame\n",
    "\n",
    "show_frame(sample_img)"
   ]
  },
  {
   "cell_type": "code",
   "execution_count": 5,
   "metadata": {},
   "outputs": [
    {
     "name": "stderr",
     "output_type": "stream",
     "text": [
      "Clipping input data to the valid range for imshow with RGB data ([0..1] for floats or [0..255] for integers).\n"
     ]
    },
    {
     "data": {
      "image/png": "[encoded data removed]",
      "text/plain": [
       "<Figure size 432x288 with 1 Axes>"
      ]
     },
     "metadata": {
      "needs_background": "light"
     },
     "output_type": "display_data"
    },
    {
     "name": "stderr",
     "output_type": "stream",
     "text": [
      "Clipping input data to the valid range for imshow with RGB data ([0..1] for floats or [0..255] for integers).\n"
     ]
    },
    {
     "data": {
      "image/png": "[encoded data removed]",
      "text/plain": [
       "<Figure size 432x288 with 1 Axes>"
      ]
     },
     "metadata": {
      "needs_background": "light"
     },
     "output_type": "display_data"
    },
    {
     "name": "stderr",
     "output_type": "stream",
     "text": [
      "Clipping input data to the valid range for imshow with RGB data ([0..1] for floats or [0..255] for integers).\n"
     ]
    },
    {
     "data": {
      "image/png": "[encoded data removed]",
      "text/plain": [
       "<Figure size 432x288 with 1 Axes>"
      ]
     },
     "metadata": {
      "needs_background": "light"
     },
     "output_type": "display_data"
    }
   ],
   "source": [
    "for idx in range(sample_data.size(1)):\n",
    "    sample_img = sample_data[0, :, idx, :, :]\n",
    "    show_frame(sample_img)"
   ]
  },
  {
   "cell_type": "code",
   "execution_count": 6,
   "metadata": {},
   "outputs": [
    {
     "name": "stdout",
     "output_type": "stream",
     "text": [
      "sample data :  torch.Size([4, 3, 10, 112, 112])\n",
      "sample target :  torch.Size([4])\n"
     ]
    }
   ],
   "source": [
    "sample_data, sample_target = next(iter(train_loader_dist10))\n",
    "print(\"sample data : \", sample_data.size())\n",
    "print(\"sample target : \", sample_target.size())"
   ]
  },
  {
   "cell_type": "code",
   "execution_count": 7,
   "metadata": {},
   "outputs": [],
   "source": [
    "from src.model import VideoSpatioEncoder\n",
    "\n",
    "encoder = VideoSpatioEncoder(\n",
    "    input_shape  = (3, 8, 112, 112),\n",
    "    alpha  = 0.01,\n",
    ")"
   ]
  },
  {
   "cell_type": "code",
   "execution_count": 8,
   "metadata": {},
   "outputs": [
    {
     "name": "stdout",
     "output_type": "stream",
     "text": [
      "sample_enc :  torch.Size([4, 8, 23040])\n"
     ]
    }
   ],
   "source": [
    "sample_enc = encoder(sample_data)\n",
    "print(\"sample_enc : \", sample_enc.size())"
   ]
  },
  {
   "cell_type": "code",
   "execution_count": 9,
   "metadata": {},
   "outputs": [],
   "source": [
    "from src.transformer import SBERT\n",
    "sbert = SBERT(\n",
    "    num_features = sample_enc.size(-1),\n",
    "    hidden = 128,\n",
    "    n_layers = 4,\n",
    "    attn_heads = 8, \n",
    "    max_len  = 8\n",
    ")"
   ]
  },
  {
   "cell_type": "code",
   "execution_count": 10,
   "metadata": {},
   "outputs": [],
   "source": [
    "import torch\n",
    "\n",
    "sample_doy = torch.tensor([[0,0,0,0,0,0,0,0],[0,0,0,0,0,0,0,0],[0,0,0,0,0,0,0,0],[0,0,0,0,0,0,0,0]])\n",
    "sample_mask = None\n",
    "\n",
    "sample_sbert_output = sbert(sample_enc, sample_doy, sample_mask)"
   ]
  },
  {
   "cell_type": "code",
   "execution_count": 11,
   "metadata": {},
   "outputs": [
    {
     "name": "stdout",
     "output_type": "stream",
     "text": [
      "sbert output :  torch.Size([4, 8, 128])\n"
     ]
    }
   ],
   "source": [
    "print(\"sbert output : \", sample_sbert_output.size())"
   ]
  },
  {
   "cell_type": "code",
   "execution_count": 12,
   "metadata": {},
   "outputs": [
    {
     "name": "stdout",
     "output_type": "stream",
     "text": [
      "sbert output :  torch.Size([4, 8, 128])\n"
     ]
    }
   ],
   "source": [
    "sample_doy = torch.IntTensor(list(map(int, range(1, 8 + 1)))).repeat(sample_enc.size(0), 1)\n",
    "sample_mask = None\n",
    "sample_sbert_output = sbert(sample_enc, sample_doy, sample_mask)\n",
    "print(\"sbert output : \", sample_sbert_output.size())"
   ]
  },
  {
   "cell_type": "code",
   "execution_count": 13,
   "metadata": {},
   "outputs": [],
   "source": [
    "from src.model import SBERTDisruptionClassifier\n",
    "\n",
    "model = SBERTDisruptionClassifier(\n",
    "    spatio_encoder = encoder, \n",
    "    sbert = sbert, \n",
    "    mlp_hidden = 128, \n",
    "    num_classes = 2\n",
    ")"
   ]
  },
  {
   "cell_type": "code",
   "execution_count": 14,
   "metadata": {},
   "outputs": [
    {
     "data": {
      "text/plain": [
       "23040"
      ]
     },
     "execution_count": 14,
     "metadata": {},
     "output_type": "execute_result"
    }
   ],
   "source": [
    "model.sbert.num_features"
   ]
  },
  {
   "cell_type": "code",
   "execution_count": 15,
   "metadata": {},
   "outputs": [
    {
     "name": "stdout",
     "output_type": "stream",
     "text": [
      "torch.Size([4, 8, 23040])\n"
     ]
    }
   ],
   "source": [
    "step1 = model.spatio_encoder(sample_data)\n",
    "print(step1.size())"
   ]
  },
  {
   "cell_type": "code",
   "execution_count": 16,
   "metadata": {},
   "outputs": [
    {
     "data": {
      "text/plain": [
       "MulticlassClassifier(\n",
       "  (pooling): MaxPool1d(kernel_size=8, stride=8, padding=0, dilation=1, ceil_mode=False)\n",
       "  (mlp): Sequential(\n",
       "    (0): Linear(in_features=128, out_features=128, bias=True)\n",
       "    (1): BatchNorm1d(128, eps=1e-05, momentum=0.1, affine=True, track_running_stats=True)\n",
       "    (2): LeakyReLU(negative_slope=0.01)\n",
       "    (3): Linear(in_features=128, out_features=2, bias=True)\n",
       "  )\n",
       ")"
      ]
     },
     "execution_count": 16,
     "metadata": {},
     "output_type": "execute_result"
    }
   ],
   "source": [
    "model.classifier"
   ]
  },
  {
   "cell_type": "code",
   "execution_count": 17,
   "metadata": {},
   "outputs": [
    {
     "data": {
      "text/plain": [
       "tensor([[ 0.0036,  0.5933],\n",
       "        [-0.2116,  0.9344],\n",
       "        [-0.1304, -0.2191],\n",
       "        [ 0.0081,  0.3001]], grad_fn=<AddmmBackward0>)"
      ]
     },
     "execution_count": 17,
     "metadata": {},
     "output_type": "execute_result"
    }
   ],
   "source": [
    "from src.transformer import MulticlassClassifier\n",
    "\n",
    "classifier = MulticlassClassifier(\n",
    "    enc_dims = 128,\n",
    "    hidden  = 128,\n",
    "    num_classes=2\n",
    ")\n",
    "\n",
    "classifier(sample_sbert_output)"
   ]
  },
  {
   "cell_type": "code",
   "execution_count": 18,
   "metadata": {},
   "outputs": [
    {
     "data": {
      "text/plain": [
       "tensor([[-5.5793e-04,  9.1915e-01],\n",
       "        [ 2.2302e-01,  5.6655e-01],\n",
       "        [ 1.5748e-01,  2.8444e-01],\n",
       "        [-4.5031e-01, -1.0393e-01]], grad_fn=<AddmmBackward0>)"
      ]
     },
     "execution_count": 18,
     "metadata": {},
     "output_type": "execute_result"
    }
   ],
   "source": [
    "model.forward(sample_data)"
   ]
  },
  {
   "cell_type": "code",
   "execution_count": 19,
   "metadata": {},
   "outputs": [
    {
     "ename": "TypeError",
     "evalue": "__init__() got an unexpected keyword argument 'STN_conv_channels'",
     "output_type": "error",
     "traceback": [
      "\u001b[0;31m---------------------------------------------------------------------------\u001b[0m",
      "\u001b[0;31mTypeError\u001b[0m                                 Traceback (most recent call last)",
      "\u001b[1;32m/home/zinzinbin/codes_for_study/fusion-plasma/research-predict-disruption/test.ipynb Cell 19'\u001b[0m in \u001b[0;36m<cell line: 11>\u001b[0;34m()\u001b[0m\n\u001b[1;32m      <a href='vscode-notebook-cell://ssh-remote%2Bdiya/home/zinzinbin/codes_for_study/fusion-plasma/research-predict-disruption/test.ipynb#ch0000019vscode-remote?line=0'>1</a>\u001b[0m \u001b[39mfrom\u001b[39;00m \u001b[39msrc\u001b[39;00m\u001b[39m.\u001b[39;00m\u001b[39mmodel\u001b[39;00m \u001b[39mimport\u001b[39;00m \u001b[39m*\u001b[39m\n\u001b[1;32m      <a href='vscode-notebook-cell://ssh-remote%2Bdiya/home/zinzinbin/codes_for_study/fusion-plasma/research-predict-disruption/test.ipynb#ch0000019vscode-remote?line=2'>3</a>\u001b[0m r21p \u001b[39m=\u001b[39m R2Plus1DClassifier(\n\u001b[1;32m      <a href='vscode-notebook-cell://ssh-remote%2Bdiya/home/zinzinbin/codes_for_study/fusion-plasma/research-predict-disruption/test.ipynb#ch0000019vscode-remote?line=3'>4</a>\u001b[0m         input_size  \u001b[39m=\u001b[39m (\u001b[39m3\u001b[39m, \u001b[39m8\u001b[39m, \u001b[39m112\u001b[39m, \u001b[39m112\u001b[39m),\n\u001b[1;32m      <a href='vscode-notebook-cell://ssh-remote%2Bdiya/home/zinzinbin/codes_for_study/fusion-plasma/research-predict-disruption/test.ipynb#ch0000019vscode-remote?line=4'>5</a>\u001b[0m         num_classes \u001b[39m=\u001b[39m \u001b[39m2\u001b[39m, \n\u001b[0;32m   (...)\u001b[0m\n\u001b[1;32m      <a href='vscode-notebook-cell://ssh-remote%2Bdiya/home/zinzinbin/codes_for_study/fusion-plasma/research-predict-disruption/test.ipynb#ch0000019vscode-remote?line=7'>8</a>\u001b[0m         alpha \u001b[39m=\u001b[39m \u001b[39m0.01\u001b[39m\n\u001b[1;32m      <a href='vscode-notebook-cell://ssh-remote%2Bdiya/home/zinzinbin/codes_for_study/fusion-plasma/research-predict-disruption/test.ipynb#ch0000019vscode-remote?line=8'>9</a>\u001b[0m )\n\u001b[0;32m---> <a href='vscode-notebook-cell://ssh-remote%2Bdiya/home/zinzinbin/codes_for_study/fusion-plasma/research-predict-disruption/test.ipynb#ch0000019vscode-remote?line=10'>11</a>\u001b[0m video_encoder \u001b[39m=\u001b[39m VideoSpatioEncoder(\n\u001b[1;32m     <a href='vscode-notebook-cell://ssh-remote%2Bdiya/home/zinzinbin/codes_for_study/fusion-plasma/research-predict-disruption/test.ipynb#ch0000019vscode-remote?line=11'>12</a>\u001b[0m     input_shape  \u001b[39m=\u001b[39;49m (\u001b[39m3\u001b[39;49m, \u001b[39m8\u001b[39;49m, \u001b[39m112\u001b[39;49m, \u001b[39m112\u001b[39;49m),\n\u001b[1;32m     <a href='vscode-notebook-cell://ssh-remote%2Bdiya/home/zinzinbin/codes_for_study/fusion-plasma/research-predict-disruption/test.ipynb#ch0000019vscode-remote?line=12'>13</a>\u001b[0m     STN_conv_channels  \u001b[39m=\u001b[39;49m [\u001b[39m3\u001b[39;49m, \u001b[39m16\u001b[39;49m, \u001b[39m32\u001b[39;49m], \n\u001b[1;32m     <a href='vscode-notebook-cell://ssh-remote%2Bdiya/home/zinzinbin/codes_for_study/fusion-plasma/research-predict-disruption/test.ipynb#ch0000019vscode-remote?line=13'>14</a>\u001b[0m     STN_conv_kernels  \u001b[39m=\u001b[39;49m [\u001b[39m8\u001b[39;49m, \u001b[39m4\u001b[39;49m],\n\u001b[1;32m     <a href='vscode-notebook-cell://ssh-remote%2Bdiya/home/zinzinbin/codes_for_study/fusion-plasma/research-predict-disruption/test.ipynb#ch0000019vscode-remote?line=14'>15</a>\u001b[0m     STN_conv_strides  \u001b[39m=\u001b[39;49m [\u001b[39m1\u001b[39;49m, \u001b[39m1\u001b[39;49m],\n\u001b[1;32m     <a href='vscode-notebook-cell://ssh-remote%2Bdiya/home/zinzinbin/codes_for_study/fusion-plasma/research-predict-disruption/test.ipynb#ch0000019vscode-remote?line=15'>16</a>\u001b[0m     STN_conv_paddings  \u001b[39m=\u001b[39;49m [\u001b[39m0\u001b[39;49m, \u001b[39m0\u001b[39;49m],\n\u001b[1;32m     <a href='vscode-notebook-cell://ssh-remote%2Bdiya/home/zinzinbin/codes_for_study/fusion-plasma/research-predict-disruption/test.ipynb#ch0000019vscode-remote?line=16'>17</a>\u001b[0m     STN_pool_strides  \u001b[39m=\u001b[39;49m  [\u001b[39m2\u001b[39;49m, \u001b[39m2\u001b[39;49m],\n\u001b[1;32m     <a href='vscode-notebook-cell://ssh-remote%2Bdiya/home/zinzinbin/codes_for_study/fusion-plasma/research-predict-disruption/test.ipynb#ch0000019vscode-remote?line=17'>18</a>\u001b[0m     STN_pool_kernels  \u001b[39m=\u001b[39;49m [\u001b[39m2\u001b[39;49m, \u001b[39m2\u001b[39;49m],\n\u001b[1;32m     <a href='vscode-notebook-cell://ssh-remote%2Bdiya/home/zinzinbin/codes_for_study/fusion-plasma/research-predict-disruption/test.ipynb#ch0000019vscode-remote?line=18'>19</a>\u001b[0m     alpha  \u001b[39m=\u001b[39;49m \u001b[39m0.01\u001b[39;49m,\n\u001b[1;32m     <a href='vscode-notebook-cell://ssh-remote%2Bdiya/home/zinzinbin/codes_for_study/fusion-plasma/research-predict-disruption/test.ipynb#ch0000019vscode-remote?line=19'>20</a>\u001b[0m     STN_theta_dim \u001b[39m=\u001b[39;49m \u001b[39m64\u001b[39;49m\n\u001b[1;32m     <a href='vscode-notebook-cell://ssh-remote%2Bdiya/home/zinzinbin/codes_for_study/fusion-plasma/research-predict-disruption/test.ipynb#ch0000019vscode-remote?line=20'>21</a>\u001b[0m )\n\u001b[1;32m     <a href='vscode-notebook-cell://ssh-remote%2Bdiya/home/zinzinbin/codes_for_study/fusion-plasma/research-predict-disruption/test.ipynb#ch0000019vscode-remote?line=22'>23</a>\u001b[0m temporal_encoder \u001b[39m=\u001b[39m SBERT(\n\u001b[1;32m     <a href='vscode-notebook-cell://ssh-remote%2Bdiya/home/zinzinbin/codes_for_study/fusion-plasma/research-predict-disruption/test.ipynb#ch0000019vscode-remote?line=23'>24</a>\u001b[0m     num_features \u001b[39m=\u001b[39m \u001b[39m18432\u001b[39m,\n\u001b[1;32m     <a href='vscode-notebook-cell://ssh-remote%2Bdiya/home/zinzinbin/codes_for_study/fusion-plasma/research-predict-disruption/test.ipynb#ch0000019vscode-remote?line=24'>25</a>\u001b[0m     hidden \u001b[39m=\u001b[39m \u001b[39m128\u001b[39m,\n\u001b[0;32m   (...)\u001b[0m\n\u001b[1;32m     <a href='vscode-notebook-cell://ssh-remote%2Bdiya/home/zinzinbin/codes_for_study/fusion-plasma/research-predict-disruption/test.ipynb#ch0000019vscode-remote?line=27'>28</a>\u001b[0m     max_len  \u001b[39m=\u001b[39m \u001b[39m8\u001b[39m\n\u001b[1;32m     <a href='vscode-notebook-cell://ssh-remote%2Bdiya/home/zinzinbin/codes_for_study/fusion-plasma/research-predict-disruption/test.ipynb#ch0000019vscode-remote?line=28'>29</a>\u001b[0m )\n\u001b[1;32m     <a href='vscode-notebook-cell://ssh-remote%2Bdiya/home/zinzinbin/codes_for_study/fusion-plasma/research-predict-disruption/test.ipynb#ch0000019vscode-remote?line=30'>31</a>\u001b[0m sbert_model \u001b[39m=\u001b[39m SBERTDisruptionClassifier(\n\u001b[1;32m     <a href='vscode-notebook-cell://ssh-remote%2Bdiya/home/zinzinbin/codes_for_study/fusion-plasma/research-predict-disruption/test.ipynb#ch0000019vscode-remote?line=31'>32</a>\u001b[0m     spatio_encoder \u001b[39m=\u001b[39m video_encoder, \n\u001b[1;32m     <a href='vscode-notebook-cell://ssh-remote%2Bdiya/home/zinzinbin/codes_for_study/fusion-plasma/research-predict-disruption/test.ipynb#ch0000019vscode-remote?line=32'>33</a>\u001b[0m     sbert \u001b[39m=\u001b[39m temporal_encoder, \n\u001b[1;32m     <a href='vscode-notebook-cell://ssh-remote%2Bdiya/home/zinzinbin/codes_for_study/fusion-plasma/research-predict-disruption/test.ipynb#ch0000019vscode-remote?line=33'>34</a>\u001b[0m     mlp_hidden \u001b[39m=\u001b[39m \u001b[39m128\u001b[39m, \n\u001b[1;32m     <a href='vscode-notebook-cell://ssh-remote%2Bdiya/home/zinzinbin/codes_for_study/fusion-plasma/research-predict-disruption/test.ipynb#ch0000019vscode-remote?line=34'>35</a>\u001b[0m     num_classes \u001b[39m=\u001b[39m \u001b[39m2\u001b[39m\n\u001b[1;32m     <a href='vscode-notebook-cell://ssh-remote%2Bdiya/home/zinzinbin/codes_for_study/fusion-plasma/research-predict-disruption/test.ipynb#ch0000019vscode-remote?line=35'>36</a>\u001b[0m )\n",
      "\u001b[0;31mTypeError\u001b[0m: __init__() got an unexpected keyword argument 'STN_conv_channels'"
     ]
    }
   ],
   "source": [
    "from src.model import *\n",
    "\n",
    "r21p = R2Plus1DClassifier(\n",
    "        input_size  = (3, 8, 112, 112),\n",
    "        num_classes = 2, \n",
    "        layer_sizes = [2,2,2,2], \n",
    "        pretrained = False, \n",
    "        alpha = 0.01\n",
    ")\n",
    "\n",
    "video_encoder = VideoSpatioEncoder(\n",
    "    input_shape  = (3, 8, 112, 112),\n",
    "    alpha  = 0.01,\n",
    ")\n",
    "\n",
    "temporal_encoder = SBERT(\n",
    "    num_features = 18432,\n",
    "    hidden = 128,\n",
    "    n_layers = 4,\n",
    "    attn_heads = 8, \n",
    "    max_len  = 8\n",
    ")\n",
    "\n",
    "sbert_model = SBERTDisruptionClassifier(\n",
    "    spatio_encoder = video_encoder, \n",
    "    sbert = temporal_encoder, \n",
    "    mlp_hidden = 128, \n",
    "    num_classes = 2\n",
    ")"
   ]
  },
  {
   "cell_type": "code",
   "execution_count": null,
   "metadata": {},
   "outputs": [
    {
     "name": "stdout",
     "output_type": "stream",
     "text": [
      "-----------------------------------------------------------------------------------------------------------------------------------------------------------------------------------------------\n",
      "                                                                                                 Parent Layers             Layer (type)             Input Shape         Param #     Tr. Param #\n",
      "===============================================================================================================================================================================================\n",
      "                                                 R2Plus1DClassifier/R2Plus1DNet/SpatioTemporalConv/Conv3dBlock                 Conv3d-1     [1, 3, 8, 112, 112]           6,615           6,615\n",
      "                                                 R2Plus1DClassifier/R2Plus1DNet/SpatioTemporalConv/Conv3dBlock            BatchNorm3d-2      [1, 45, 8, 56, 56]              90              90\n",
      "                                                 R2Plus1DClassifier/R2Plus1DNet/SpatioTemporalConv/Conv3dBlock              LeakyReLU-3      [1, 45, 8, 56, 56]               0               0\n",
      "                                                 R2Plus1DClassifier/R2Plus1DNet/SpatioTemporalConv/Conv3dBlock                 Conv3d-4      [1, 45, 8, 56, 56]           8,640           8,640\n",
      "                                                 R2Plus1DClassifier/R2Plus1DNet/SpatioTemporalConv/Conv3dBlock            BatchNorm3d-5      [1, 64, 8, 56, 56]             128             128\n",
      "                                                 R2Plus1DClassifier/R2Plus1DNet/SpatioTemporalConv/Conv3dBlock              LeakyReLU-6      [1, 64, 8, 56, 56]               0               0\n",
      "   R2Plus1DClassifier/R2Plus1DNet/SpatioTemporalResLayer/SpatioTemporalResBlock/SpatioTemporalConv/Conv3dBlock                 Conv3d-7      [1, 64, 8, 56, 56]          82,944          82,944\n",
      "   R2Plus1DClassifier/R2Plus1DNet/SpatioTemporalResLayer/SpatioTemporalResBlock/SpatioTemporalConv/Conv3dBlock            BatchNorm3d-8     [1, 144, 8, 56, 56]             288             288\n",
      "   R2Plus1DClassifier/R2Plus1DNet/SpatioTemporalResLayer/SpatioTemporalResBlock/SpatioTemporalConv/Conv3dBlock              LeakyReLU-9     [1, 144, 8, 56, 56]               0               0\n",
      "   R2Plus1DClassifier/R2Plus1DNet/SpatioTemporalResLayer/SpatioTemporalResBlock/SpatioTemporalConv/Conv3dBlock                Conv3d-10     [1, 144, 8, 56, 56]          27,648          27,648\n",
      "   R2Plus1DClassifier/R2Plus1DNet/SpatioTemporalResLayer/SpatioTemporalResBlock/SpatioTemporalConv/Conv3dBlock           BatchNorm3d-11      [1, 64, 8, 56, 56]             128             128\n",
      "   R2Plus1DClassifier/R2Plus1DNet/SpatioTemporalResLayer/SpatioTemporalResBlock/SpatioTemporalConv/Conv3dBlock             LeakyReLU-12      [1, 64, 8, 56, 56]               0               0\n",
      "   R2Plus1DClassifier/R2Plus1DNet/SpatioTemporalResLayer/SpatioTemporalResBlock/SpatioTemporalConv/Conv3dBlock                Conv3d-13      [1, 64, 8, 56, 56]          82,944          82,944\n",
      "   R2Plus1DClassifier/R2Plus1DNet/SpatioTemporalResLayer/SpatioTemporalResBlock/SpatioTemporalConv/Conv3dBlock           BatchNorm3d-14     [1, 144, 8, 56, 56]             288             288\n",
      "   R2Plus1DClassifier/R2Plus1DNet/SpatioTemporalResLayer/SpatioTemporalResBlock/SpatioTemporalConv/Conv3dBlock             LeakyReLU-15     [1, 144, 8, 56, 56]               0               0\n",
      "   R2Plus1DClassifier/R2Plus1DNet/SpatioTemporalResLayer/SpatioTemporalResBlock/SpatioTemporalConv/Conv3dBlock                Conv3d-16     [1, 144, 8, 56, 56]          27,648          27,648\n",
      "   R2Plus1DClassifier/R2Plus1DNet/SpatioTemporalResLayer/SpatioTemporalResBlock/SpatioTemporalConv/Conv3dBlock           BatchNorm3d-17      [1, 64, 8, 56, 56]             128             128\n",
      "   R2Plus1DClassifier/R2Plus1DNet/SpatioTemporalResLayer/SpatioTemporalResBlock/SpatioTemporalConv/Conv3dBlock             LeakyReLU-18      [1, 64, 8, 56, 56]               0               0\n",
      "                                  R2Plus1DClassifier/R2Plus1DNet/SpatioTemporalResLayer/SpatioTemporalResBlock             LeakyReLU-19      [1, 64, 8, 56, 56]               0               0\n",
      "   R2Plus1DClassifier/R2Plus1DNet/SpatioTemporalResLayer/SpatioTemporalResBlock/SpatioTemporalConv/Conv3dBlock                Conv3d-20      [1, 64, 8, 56, 56]          82,944          82,944\n",
      "   R2Plus1DClassifier/R2Plus1DNet/SpatioTemporalResLayer/SpatioTemporalResBlock/SpatioTemporalConv/Conv3dBlock           BatchNorm3d-21     [1, 144, 8, 56, 56]             288             288\n",
      "   R2Plus1DClassifier/R2Plus1DNet/SpatioTemporalResLayer/SpatioTemporalResBlock/SpatioTemporalConv/Conv3dBlock             LeakyReLU-22     [1, 144, 8, 56, 56]               0               0\n",
      "   R2Plus1DClassifier/R2Plus1DNet/SpatioTemporalResLayer/SpatioTemporalResBlock/SpatioTemporalConv/Conv3dBlock                Conv3d-23     [1, 144, 8, 56, 56]          27,648          27,648\n",
      "   R2Plus1DClassifier/R2Plus1DNet/SpatioTemporalResLayer/SpatioTemporalResBlock/SpatioTemporalConv/Conv3dBlock           BatchNorm3d-24      [1, 64, 8, 56, 56]             128             128\n",
      "   R2Plus1DClassifier/R2Plus1DNet/SpatioTemporalResLayer/SpatioTemporalResBlock/SpatioTemporalConv/Conv3dBlock             LeakyReLU-25      [1, 64, 8, 56, 56]               0               0\n",
      "   R2Plus1DClassifier/R2Plus1DNet/SpatioTemporalResLayer/SpatioTemporalResBlock/SpatioTemporalConv/Conv3dBlock                Conv3d-26      [1, 64, 8, 56, 56]          82,944          82,944\n",
      "   R2Plus1DClassifier/R2Plus1DNet/SpatioTemporalResLayer/SpatioTemporalResBlock/SpatioTemporalConv/Conv3dBlock           BatchNorm3d-27     [1, 144, 8, 56, 56]             288             288\n",
      "   R2Plus1DClassifier/R2Plus1DNet/SpatioTemporalResLayer/SpatioTemporalResBlock/SpatioTemporalConv/Conv3dBlock             LeakyReLU-28     [1, 144, 8, 56, 56]               0               0\n",
      "   R2Plus1DClassifier/R2Plus1DNet/SpatioTemporalResLayer/SpatioTemporalResBlock/SpatioTemporalConv/Conv3dBlock                Conv3d-29     [1, 144, 8, 56, 56]          27,648          27,648\n",
      "   R2Plus1DClassifier/R2Plus1DNet/SpatioTemporalResLayer/SpatioTemporalResBlock/SpatioTemporalConv/Conv3dBlock           BatchNorm3d-30      [1, 64, 8, 56, 56]             128             128\n",
      "   R2Plus1DClassifier/R2Plus1DNet/SpatioTemporalResLayer/SpatioTemporalResBlock/SpatioTemporalConv/Conv3dBlock             LeakyReLU-31      [1, 64, 8, 56, 56]               0               0\n",
      "                                  R2Plus1DClassifier/R2Plus1DNet/SpatioTemporalResLayer/SpatioTemporalResBlock             LeakyReLU-32      [1, 64, 8, 56, 56]               0               0\n",
      "   R2Plus1DClassifier/R2Plus1DNet/SpatioTemporalResLayer/SpatioTemporalResBlock/SpatioTemporalConv/Conv3dBlock                Conv3d-33      [1, 64, 8, 56, 56]         132,480         132,480\n",
      "   R2Plus1DClassifier/R2Plus1DNet/SpatioTemporalResLayer/SpatioTemporalResBlock/SpatioTemporalConv/Conv3dBlock           BatchNorm3d-34     [1, 230, 8, 28, 28]             460             460\n",
      "   R2Plus1DClassifier/R2Plus1DNet/SpatioTemporalResLayer/SpatioTemporalResBlock/SpatioTemporalConv/Conv3dBlock             LeakyReLU-35     [1, 230, 8, 28, 28]               0               0\n",
      "   R2Plus1DClassifier/R2Plus1DNet/SpatioTemporalResLayer/SpatioTemporalResBlock/SpatioTemporalConv/Conv3dBlock                Conv3d-36     [1, 230, 8, 28, 28]          88,320          88,320\n",
      "   R2Plus1DClassifier/R2Plus1DNet/SpatioTemporalResLayer/SpatioTemporalResBlock/SpatioTemporalConv/Conv3dBlock           BatchNorm3d-37     [1, 128, 4, 28, 28]             256             256\n",
      "   R2Plus1DClassifier/R2Plus1DNet/SpatioTemporalResLayer/SpatioTemporalResBlock/SpatioTemporalConv/Conv3dBlock             LeakyReLU-38     [1, 128, 4, 28, 28]               0               0\n",
      "   R2Plus1DClassifier/R2Plus1DNet/SpatioTemporalResLayer/SpatioTemporalResBlock/SpatioTemporalConv/Conv3dBlock                Conv3d-39     [1, 128, 4, 28, 28]         331,776         331,776\n",
      "   R2Plus1DClassifier/R2Plus1DNet/SpatioTemporalResLayer/SpatioTemporalResBlock/SpatioTemporalConv/Conv3dBlock           BatchNorm3d-40     [1, 288, 4, 28, 28]             576             576\n",
      "   R2Plus1DClassifier/R2Plus1DNet/SpatioTemporalResLayer/SpatioTemporalResBlock/SpatioTemporalConv/Conv3dBlock             LeakyReLU-41     [1, 288, 4, 28, 28]               0               0\n",
      "   R2Plus1DClassifier/R2Plus1DNet/SpatioTemporalResLayer/SpatioTemporalResBlock/SpatioTemporalConv/Conv3dBlock                Conv3d-42     [1, 288, 4, 28, 28]         110,592         110,592\n",
      "   R2Plus1DClassifier/R2Plus1DNet/SpatioTemporalResLayer/SpatioTemporalResBlock/SpatioTemporalConv/Conv3dBlock           BatchNorm3d-43     [1, 128, 4, 28, 28]             256             256\n",
      "   R2Plus1DClassifier/R2Plus1DNet/SpatioTemporalResLayer/SpatioTemporalResBlock/SpatioTemporalConv/Conv3dBlock             LeakyReLU-44     [1, 128, 4, 28, 28]               0               0\n",
      "   R2Plus1DClassifier/R2Plus1DNet/SpatioTemporalResLayer/SpatioTemporalResBlock/SpatioTemporalConv/Conv3dBlock                Conv3d-45      [1, 64, 8, 56, 56]           2,688           2,688\n",
      "   R2Plus1DClassifier/R2Plus1DNet/SpatioTemporalResLayer/SpatioTemporalResBlock/SpatioTemporalConv/Conv3dBlock           BatchNorm3d-46      [1, 42, 8, 28, 28]              84              84\n",
      "   R2Plus1DClassifier/R2Plus1DNet/SpatioTemporalResLayer/SpatioTemporalResBlock/SpatioTemporalConv/Conv3dBlock             LeakyReLU-47      [1, 42, 8, 28, 28]               0               0\n",
      "   R2Plus1DClassifier/R2Plus1DNet/SpatioTemporalResLayer/SpatioTemporalResBlock/SpatioTemporalConv/Conv3dBlock                Conv3d-48      [1, 42, 8, 28, 28]           5,376           5,376\n",
      "   R2Plus1DClassifier/R2Plus1DNet/SpatioTemporalResLayer/SpatioTemporalResBlock/SpatioTemporalConv/Conv3dBlock           BatchNorm3d-49     [1, 128, 4, 28, 28]             256             256\n",
      "   R2Plus1DClassifier/R2Plus1DNet/SpatioTemporalResLayer/SpatioTemporalResBlock/SpatioTemporalConv/Conv3dBlock             LeakyReLU-50     [1, 128, 4, 28, 28]               0               0\n",
      "                                  R2Plus1DClassifier/R2Plus1DNet/SpatioTemporalResLayer/SpatioTemporalResBlock             LeakyReLU-51     [1, 128, 4, 28, 28]               0               0\n",
      "   R2Plus1DClassifier/R2Plus1DNet/SpatioTemporalResLayer/SpatioTemporalResBlock/SpatioTemporalConv/Conv3dBlock                Conv3d-52     [1, 128, 4, 28, 28]         331,776         331,776\n",
      "   R2Plus1DClassifier/R2Plus1DNet/SpatioTemporalResLayer/SpatioTemporalResBlock/SpatioTemporalConv/Conv3dBlock           BatchNorm3d-53     [1, 288, 4, 28, 28]             576             576\n",
      "   R2Plus1DClassifier/R2Plus1DNet/SpatioTemporalResLayer/SpatioTemporalResBlock/SpatioTemporalConv/Conv3dBlock             LeakyReLU-54     [1, 288, 4, 28, 28]               0               0\n",
      "   R2Plus1DClassifier/R2Plus1DNet/SpatioTemporalResLayer/SpatioTemporalResBlock/SpatioTemporalConv/Conv3dBlock                Conv3d-55     [1, 288, 4, 28, 28]         110,592         110,592\n",
      "   R2Plus1DClassifier/R2Plus1DNet/SpatioTemporalResLayer/SpatioTemporalResBlock/SpatioTemporalConv/Conv3dBlock           BatchNorm3d-56     [1, 128, 4, 28, 28]             256             256\n",
      "   R2Plus1DClassifier/R2Plus1DNet/SpatioTemporalResLayer/SpatioTemporalResBlock/SpatioTemporalConv/Conv3dBlock             LeakyReLU-57     [1, 128, 4, 28, 28]               0               0\n",
      "   R2Plus1DClassifier/R2Plus1DNet/SpatioTemporalResLayer/SpatioTemporalResBlock/SpatioTemporalConv/Conv3dBlock                Conv3d-58     [1, 128, 4, 28, 28]         331,776         331,776\n",
      "   R2Plus1DClassifier/R2Plus1DNet/SpatioTemporalResLayer/SpatioTemporalResBlock/SpatioTemporalConv/Conv3dBlock           BatchNorm3d-59     [1, 288, 4, 28, 28]             576             576\n",
      "   R2Plus1DClassifier/R2Plus1DNet/SpatioTemporalResLayer/SpatioTemporalResBlock/SpatioTemporalConv/Conv3dBlock             LeakyReLU-60     [1, 288, 4, 28, 28]               0               0\n",
      "   R2Plus1DClassifier/R2Plus1DNet/SpatioTemporalResLayer/SpatioTemporalResBlock/SpatioTemporalConv/Conv3dBlock                Conv3d-61     [1, 288, 4, 28, 28]         110,592         110,592\n",
      "   R2Plus1DClassifier/R2Plus1DNet/SpatioTemporalResLayer/SpatioTemporalResBlock/SpatioTemporalConv/Conv3dBlock           BatchNorm3d-62     [1, 128, 4, 28, 28]             256             256\n",
      "   R2Plus1DClassifier/R2Plus1DNet/SpatioTemporalResLayer/SpatioTemporalResBlock/SpatioTemporalConv/Conv3dBlock             LeakyReLU-63     [1, 128, 4, 28, 28]               0               0\n",
      "                                  R2Plus1DClassifier/R2Plus1DNet/SpatioTemporalResLayer/SpatioTemporalResBlock             LeakyReLU-64     [1, 128, 4, 28, 28]               0               0\n",
      "   R2Plus1DClassifier/R2Plus1DNet/SpatioTemporalResLayer/SpatioTemporalResBlock/SpatioTemporalConv/Conv3dBlock                Conv3d-65     [1, 128, 4, 28, 28]         529,920         529,920\n",
      "   R2Plus1DClassifier/R2Plus1DNet/SpatioTemporalResLayer/SpatioTemporalResBlock/SpatioTemporalConv/Conv3dBlock           BatchNorm3d-66     [1, 460, 4, 14, 14]             920             920\n",
      "   R2Plus1DClassifier/R2Plus1DNet/SpatioTemporalResLayer/SpatioTemporalResBlock/SpatioTemporalConv/Conv3dBlock             LeakyReLU-67     [1, 460, 4, 14, 14]               0               0\n",
      "   R2Plus1DClassifier/R2Plus1DNet/SpatioTemporalResLayer/SpatioTemporalResBlock/SpatioTemporalConv/Conv3dBlock                Conv3d-68     [1, 460, 4, 14, 14]         353,280         353,280\n",
      "   R2Plus1DClassifier/R2Plus1DNet/SpatioTemporalResLayer/SpatioTemporalResBlock/SpatioTemporalConv/Conv3dBlock           BatchNorm3d-69     [1, 256, 2, 14, 14]             512             512\n",
      "   R2Plus1DClassifier/R2Plus1DNet/SpatioTemporalResLayer/SpatioTemporalResBlock/SpatioTemporalConv/Conv3dBlock             LeakyReLU-70     [1, 256, 2, 14, 14]               0               0\n",
      "   R2Plus1DClassifier/R2Plus1DNet/SpatioTemporalResLayer/SpatioTemporalResBlock/SpatioTemporalConv/Conv3dBlock                Conv3d-71     [1, 256, 2, 14, 14]       1,327,104       1,327,104\n",
      "   R2Plus1DClassifier/R2Plus1DNet/SpatioTemporalResLayer/SpatioTemporalResBlock/SpatioTemporalConv/Conv3dBlock           BatchNorm3d-72     [1, 576, 2, 14, 14]           1,152           1,152\n",
      "   R2Plus1DClassifier/R2Plus1DNet/SpatioTemporalResLayer/SpatioTemporalResBlock/SpatioTemporalConv/Conv3dBlock             LeakyReLU-73     [1, 576, 2, 14, 14]               0               0\n",
      "   R2Plus1DClassifier/R2Plus1DNet/SpatioTemporalResLayer/SpatioTemporalResBlock/SpatioTemporalConv/Conv3dBlock                Conv3d-74     [1, 576, 2, 14, 14]         442,368         442,368\n",
      "   R2Plus1DClassifier/R2Plus1DNet/SpatioTemporalResLayer/SpatioTemporalResBlock/SpatioTemporalConv/Conv3dBlock           BatchNorm3d-75     [1, 256, 2, 14, 14]             512             512\n",
      "   R2Plus1DClassifier/R2Plus1DNet/SpatioTemporalResLayer/SpatioTemporalResBlock/SpatioTemporalConv/Conv3dBlock             LeakyReLU-76     [1, 256, 2, 14, 14]               0               0\n",
      "   R2Plus1DClassifier/R2Plus1DNet/SpatioTemporalResLayer/SpatioTemporalResBlock/SpatioTemporalConv/Conv3dBlock                Conv3d-77     [1, 128, 4, 28, 28]          10,880          10,880\n",
      "   R2Plus1DClassifier/R2Plus1DNet/SpatioTemporalResLayer/SpatioTemporalResBlock/SpatioTemporalConv/Conv3dBlock           BatchNorm3d-78      [1, 85, 4, 14, 14]             170             170\n",
      "   R2Plus1DClassifier/R2Plus1DNet/SpatioTemporalResLayer/SpatioTemporalResBlock/SpatioTemporalConv/Conv3dBlock             LeakyReLU-79      [1, 85, 4, 14, 14]               0               0\n",
      "   R2Plus1DClassifier/R2Plus1DNet/SpatioTemporalResLayer/SpatioTemporalResBlock/SpatioTemporalConv/Conv3dBlock                Conv3d-80      [1, 85, 4, 14, 14]          21,760          21,760\n",
      "   R2Plus1DClassifier/R2Plus1DNet/SpatioTemporalResLayer/SpatioTemporalResBlock/SpatioTemporalConv/Conv3dBlock           BatchNorm3d-81     [1, 256, 2, 14, 14]             512             512\n",
      "   R2Plus1DClassifier/R2Plus1DNet/SpatioTemporalResLayer/SpatioTemporalResBlock/SpatioTemporalConv/Conv3dBlock             LeakyReLU-82     [1, 256, 2, 14, 14]               0               0\n",
      "                                  R2Plus1DClassifier/R2Plus1DNet/SpatioTemporalResLayer/SpatioTemporalResBlock             LeakyReLU-83     [1, 256, 2, 14, 14]               0               0\n",
      "   R2Plus1DClassifier/R2Plus1DNet/SpatioTemporalResLayer/SpatioTemporalResBlock/SpatioTemporalConv/Conv3dBlock                Conv3d-84     [1, 256, 2, 14, 14]       1,327,104       1,327,104\n",
      "   R2Plus1DClassifier/R2Plus1DNet/SpatioTemporalResLayer/SpatioTemporalResBlock/SpatioTemporalConv/Conv3dBlock           BatchNorm3d-85     [1, 576, 2, 14, 14]           1,152           1,152\n",
      "   R2Plus1DClassifier/R2Plus1DNet/SpatioTemporalResLayer/SpatioTemporalResBlock/SpatioTemporalConv/Conv3dBlock             LeakyReLU-86     [1, 576, 2, 14, 14]               0               0\n",
      "   R2Plus1DClassifier/R2Plus1DNet/SpatioTemporalResLayer/SpatioTemporalResBlock/SpatioTemporalConv/Conv3dBlock                Conv3d-87     [1, 576, 2, 14, 14]         442,368         442,368\n",
      "   R2Plus1DClassifier/R2Plus1DNet/SpatioTemporalResLayer/SpatioTemporalResBlock/SpatioTemporalConv/Conv3dBlock           BatchNorm3d-88     [1, 256, 2, 14, 14]             512             512\n",
      "   R2Plus1DClassifier/R2Plus1DNet/SpatioTemporalResLayer/SpatioTemporalResBlock/SpatioTemporalConv/Conv3dBlock             LeakyReLU-89     [1, 256, 2, 14, 14]               0               0\n",
      "   R2Plus1DClassifier/R2Plus1DNet/SpatioTemporalResLayer/SpatioTemporalResBlock/SpatioTemporalConv/Conv3dBlock                Conv3d-90     [1, 256, 2, 14, 14]       1,327,104       1,327,104\n",
      "   R2Plus1DClassifier/R2Plus1DNet/SpatioTemporalResLayer/SpatioTemporalResBlock/SpatioTemporalConv/Conv3dBlock           BatchNorm3d-91     [1, 576, 2, 14, 14]           1,152           1,152\n",
      "   R2Plus1DClassifier/R2Plus1DNet/SpatioTemporalResLayer/SpatioTemporalResBlock/SpatioTemporalConv/Conv3dBlock             LeakyReLU-92     [1, 576, 2, 14, 14]               0               0\n",
      "   R2Plus1DClassifier/R2Plus1DNet/SpatioTemporalResLayer/SpatioTemporalResBlock/SpatioTemporalConv/Conv3dBlock                Conv3d-93     [1, 576, 2, 14, 14]         442,368         442,368\n",
      "   R2Plus1DClassifier/R2Plus1DNet/SpatioTemporalResLayer/SpatioTemporalResBlock/SpatioTemporalConv/Conv3dBlock           BatchNorm3d-94     [1, 256, 2, 14, 14]             512             512\n",
      "   R2Plus1DClassifier/R2Plus1DNet/SpatioTemporalResLayer/SpatioTemporalResBlock/SpatioTemporalConv/Conv3dBlock             LeakyReLU-95     [1, 256, 2, 14, 14]               0               0\n",
      "                                  R2Plus1DClassifier/R2Plus1DNet/SpatioTemporalResLayer/SpatioTemporalResBlock             LeakyReLU-96     [1, 256, 2, 14, 14]               0               0\n",
      "   R2Plus1DClassifier/R2Plus1DNet/SpatioTemporalResLayer/SpatioTemporalResBlock/SpatioTemporalConv/Conv3dBlock                Conv3d-97     [1, 256, 2, 14, 14]       2,121,984       2,121,984\n",
      "   R2Plus1DClassifier/R2Plus1DNet/SpatioTemporalResLayer/SpatioTemporalResBlock/SpatioTemporalConv/Conv3dBlock           BatchNorm3d-98       [1, 921, 2, 7, 7]           1,842           1,842\n",
      "   R2Plus1DClassifier/R2Plus1DNet/SpatioTemporalResLayer/SpatioTemporalResBlock/SpatioTemporalConv/Conv3dBlock             LeakyReLU-99       [1, 921, 2, 7, 7]               0               0\n",
      "   R2Plus1DClassifier/R2Plus1DNet/SpatioTemporalResLayer/SpatioTemporalResBlock/SpatioTemporalConv/Conv3dBlock               Conv3d-100       [1, 921, 2, 7, 7]       1,414,656       1,414,656\n",
      "   R2Plus1DClassifier/R2Plus1DNet/SpatioTemporalResLayer/SpatioTemporalResBlock/SpatioTemporalConv/Conv3dBlock          BatchNorm3d-101       [1, 512, 1, 7, 7]           1,024           1,024\n",
      "   R2Plus1DClassifier/R2Plus1DNet/SpatioTemporalResLayer/SpatioTemporalResBlock/SpatioTemporalConv/Conv3dBlock            LeakyReLU-102       [1, 512, 1, 7, 7]               0               0\n",
      "   R2Plus1DClassifier/R2Plus1DNet/SpatioTemporalResLayer/SpatioTemporalResBlock/SpatioTemporalConv/Conv3dBlock               Conv3d-103       [1, 512, 1, 7, 7]       5,308,416       5,308,416\n",
      "   R2Plus1DClassifier/R2Plus1DNet/SpatioTemporalResLayer/SpatioTemporalResBlock/SpatioTemporalConv/Conv3dBlock          BatchNorm3d-104      [1, 1152, 1, 7, 7]           2,304           2,304\n",
      "   R2Plus1DClassifier/R2Plus1DNet/SpatioTemporalResLayer/SpatioTemporalResBlock/SpatioTemporalConv/Conv3dBlock            LeakyReLU-105      [1, 1152, 1, 7, 7]               0               0\n",
      "   R2Plus1DClassifier/R2Plus1DNet/SpatioTemporalResLayer/SpatioTemporalResBlock/SpatioTemporalConv/Conv3dBlock               Conv3d-106      [1, 1152, 1, 7, 7]       1,769,472       1,769,472\n",
      "   R2Plus1DClassifier/R2Plus1DNet/SpatioTemporalResLayer/SpatioTemporalResBlock/SpatioTemporalConv/Conv3dBlock          BatchNorm3d-107       [1, 512, 1, 7, 7]           1,024           1,024\n",
      "   R2Plus1DClassifier/R2Plus1DNet/SpatioTemporalResLayer/SpatioTemporalResBlock/SpatioTemporalConv/Conv3dBlock            LeakyReLU-108       [1, 512, 1, 7, 7]               0               0\n",
      "   R2Plus1DClassifier/R2Plus1DNet/SpatioTemporalResLayer/SpatioTemporalResBlock/SpatioTemporalConv/Conv3dBlock               Conv3d-109     [1, 256, 2, 14, 14]          43,520          43,520\n",
      "   R2Plus1DClassifier/R2Plus1DNet/SpatioTemporalResLayer/SpatioTemporalResBlock/SpatioTemporalConv/Conv3dBlock          BatchNorm3d-110       [1, 170, 2, 7, 7]             340             340\n",
      "   R2Plus1DClassifier/R2Plus1DNet/SpatioTemporalResLayer/SpatioTemporalResBlock/SpatioTemporalConv/Conv3dBlock            LeakyReLU-111       [1, 170, 2, 7, 7]               0               0\n",
      "   R2Plus1DClassifier/R2Plus1DNet/SpatioTemporalResLayer/SpatioTemporalResBlock/SpatioTemporalConv/Conv3dBlock               Conv3d-112       [1, 170, 2, 7, 7]          87,040          87,040\n",
      "   R2Plus1DClassifier/R2Plus1DNet/SpatioTemporalResLayer/SpatioTemporalResBlock/SpatioTemporalConv/Conv3dBlock          BatchNorm3d-113       [1, 512, 1, 7, 7]           1,024           1,024\n",
      "   R2Plus1DClassifier/R2Plus1DNet/SpatioTemporalResLayer/SpatioTemporalResBlock/SpatioTemporalConv/Conv3dBlock            LeakyReLU-114       [1, 512, 1, 7, 7]               0               0\n",
      "                                  R2Plus1DClassifier/R2Plus1DNet/SpatioTemporalResLayer/SpatioTemporalResBlock            LeakyReLU-115       [1, 512, 1, 7, 7]               0               0\n",
      "   R2Plus1DClassifier/R2Plus1DNet/SpatioTemporalResLayer/SpatioTemporalResBlock/SpatioTemporalConv/Conv3dBlock               Conv3d-116       [1, 512, 1, 7, 7]       5,308,416       5,308,416\n",
      "   R2Plus1DClassifier/R2Plus1DNet/SpatioTemporalResLayer/SpatioTemporalResBlock/SpatioTemporalConv/Conv3dBlock          BatchNorm3d-117      [1, 1152, 1, 7, 7]           2,304           2,304\n",
      "   R2Plus1DClassifier/R2Plus1DNet/SpatioTemporalResLayer/SpatioTemporalResBlock/SpatioTemporalConv/Conv3dBlock            LeakyReLU-118      [1, 1152, 1, 7, 7]               0               0\n",
      "   R2Plus1DClassifier/R2Plus1DNet/SpatioTemporalResLayer/SpatioTemporalResBlock/SpatioTemporalConv/Conv3dBlock               Conv3d-119      [1, 1152, 1, 7, 7]       1,769,472       1,769,472\n",
      "   R2Plus1DClassifier/R2Plus1DNet/SpatioTemporalResLayer/SpatioTemporalResBlock/SpatioTemporalConv/Conv3dBlock          BatchNorm3d-120       [1, 512, 1, 7, 7]           1,024           1,024\n",
      "   R2Plus1DClassifier/R2Plus1DNet/SpatioTemporalResLayer/SpatioTemporalResBlock/SpatioTemporalConv/Conv3dBlock            LeakyReLU-121       [1, 512, 1, 7, 7]               0               0\n",
      "   R2Plus1DClassifier/R2Plus1DNet/SpatioTemporalResLayer/SpatioTemporalResBlock/SpatioTemporalConv/Conv3dBlock               Conv3d-122       [1, 512, 1, 7, 7]       5,308,416       5,308,416\n",
      "   R2Plus1DClassifier/R2Plus1DNet/SpatioTemporalResLayer/SpatioTemporalResBlock/SpatioTemporalConv/Conv3dBlock          BatchNorm3d-123      [1, 1152, 1, 7, 7]           2,304           2,304\n",
      "   R2Plus1DClassifier/R2Plus1DNet/SpatioTemporalResLayer/SpatioTemporalResBlock/SpatioTemporalConv/Conv3dBlock            LeakyReLU-124      [1, 1152, 1, 7, 7]               0               0\n",
      "   R2Plus1DClassifier/R2Plus1DNet/SpatioTemporalResLayer/SpatioTemporalResBlock/SpatioTemporalConv/Conv3dBlock               Conv3d-125      [1, 1152, 1, 7, 7]       1,769,472       1,769,472\n",
      "   R2Plus1DClassifier/R2Plus1DNet/SpatioTemporalResLayer/SpatioTemporalResBlock/SpatioTemporalConv/Conv3dBlock          BatchNorm3d-126       [1, 512, 1, 7, 7]           1,024           1,024\n",
      "   R2Plus1DClassifier/R2Plus1DNet/SpatioTemporalResLayer/SpatioTemporalResBlock/SpatioTemporalConv/Conv3dBlock            LeakyReLU-127       [1, 512, 1, 7, 7]               0               0\n",
      "                                  R2Plus1DClassifier/R2Plus1DNet/SpatioTemporalResLayer/SpatioTemporalResBlock            LeakyReLU-128       [1, 512, 1, 7, 7]               0               0\n",
      "                                                                                R2Plus1DClassifier/R2Plus1DNet    AdaptiveAvgPool3d-129       [1, 512, 1, 7, 7]               0               0\n",
      "                                                                                            R2Plus1DClassifier               Linear-130                [1, 512]          65,664          65,664\n",
      "                                                                                            R2Plus1DClassifier          BatchNorm1d-131                [1, 128]             256             256\n",
      "                                                                                            R2Plus1DClassifier            LeakyReLU-132                [1, 128]               0               0\n",
      "                                                                                            R2Plus1DClassifier               Linear-133                [1, 128]             258             258\n",
      "===============================================================================================================================================================================================\n",
      "Total params: 33,231,643\n",
      "Trainable params: 33,231,643\n",
      "Non-trainable params: 0\n",
      "-----------------------------------------------------------------------------------------------------------------------------------------------------------------------------------------------\n"
     ]
    }
   ],
   "source": [
    "r21p.summary()"
   ]
  },
  {
   "cell_type": "code",
   "execution_count": null,
   "metadata": {},
   "outputs": [
    {
     "name": "stdout",
     "output_type": "stream",
     "text": [
      "------------------------------------------------------------------------------------------------------------------------------------------------------------------------------------\n",
      "                                                              Parent Layers             Layer (type)                                     Input Shape         Param #     Tr. Param #\n",
      "====================================================================================================================================================================================\n",
      "    SBERTDisruptionClassifier/VideoSpatioEncoder/Conv3dResBlock/Conv3dBlock                 Conv3d-1                             [8, 3, 8, 112, 112]           1,728           1,728\n",
      "    SBERTDisruptionClassifier/VideoSpatioEncoder/Conv3dResBlock/Conv3dBlock            BatchNorm3d-2                              [8, 64, 8, 56, 56]             128             128\n",
      "    SBERTDisruptionClassifier/VideoSpatioEncoder/Conv3dResBlock/Conv3dBlock              LeakyReLU-3                              [8, 64, 8, 56, 56]               0               0\n",
      "                SBERTDisruptionClassifier/VideoSpatioEncoder/Conv3dResBlock                 Conv3d-4                              [8, 64, 8, 56, 56]          36,864          36,864\n",
      "                SBERTDisruptionClassifier/VideoSpatioEncoder/Conv3dResBlock            BatchNorm3d-5                              [8, 64, 8, 56, 56]             128             128\n",
      "    SBERTDisruptionClassifier/VideoSpatioEncoder/Conv3dResBlock/Conv3dBlock                 Conv3d-6                             [8, 3, 8, 112, 112]           1,728           1,728\n",
      "    SBERTDisruptionClassifier/VideoSpatioEncoder/Conv3dResBlock/Conv3dBlock            BatchNorm3d-7                              [8, 64, 8, 56, 56]             128             128\n",
      "    SBERTDisruptionClassifier/VideoSpatioEncoder/Conv3dResBlock/Conv3dBlock              LeakyReLU-8                              [8, 64, 8, 56, 56]               0               0\n",
      "                SBERTDisruptionClassifier/VideoSpatioEncoder/Conv3dResBlock              LeakyReLU-9                              [8, 64, 8, 56, 56]               0               0\n",
      "                               SBERTDisruptionClassifier/VideoSpatioEncoder             MaxPool3d-10                              [8, 64, 8, 56, 56]               0               0\n",
      "    SBERTDisruptionClassifier/VideoSpatioEncoder/Conv3dResBlock/Conv3dBlock                Conv3d-11                              [8, 64, 8, 54, 54]          73,728          73,728\n",
      "    SBERTDisruptionClassifier/VideoSpatioEncoder/Conv3dResBlock/Conv3dBlock           BatchNorm3d-12                             [8, 128, 8, 27, 27]             256             256\n",
      "    SBERTDisruptionClassifier/VideoSpatioEncoder/Conv3dResBlock/Conv3dBlock             LeakyReLU-13                             [8, 128, 8, 27, 27]               0               0\n",
      "                SBERTDisruptionClassifier/VideoSpatioEncoder/Conv3dResBlock                Conv3d-14                             [8, 128, 8, 27, 27]         147,456         147,456\n",
      "                SBERTDisruptionClassifier/VideoSpatioEncoder/Conv3dResBlock           BatchNorm3d-15                             [8, 128, 8, 27, 27]             256             256\n",
      "    SBERTDisruptionClassifier/VideoSpatioEncoder/Conv3dResBlock/Conv3dBlock                Conv3d-16                              [8, 64, 8, 54, 54]          73,728          73,728\n",
      "    SBERTDisruptionClassifier/VideoSpatioEncoder/Conv3dResBlock/Conv3dBlock           BatchNorm3d-17                             [8, 128, 8, 27, 27]             256             256\n",
      "    SBERTDisruptionClassifier/VideoSpatioEncoder/Conv3dResBlock/Conv3dBlock             LeakyReLU-18                             [8, 128, 8, 27, 27]               0               0\n",
      "                SBERTDisruptionClassifier/VideoSpatioEncoder/Conv3dResBlock             LeakyReLU-19                             [8, 128, 8, 27, 27]               0               0\n",
      "                               SBERTDisruptionClassifier/VideoSpatioEncoder             MaxPool3d-20                             [8, 128, 8, 27, 27]               0               0\n",
      "    SBERTDisruptionClassifier/VideoSpatioEncoder/Conv3dResBlock/Conv3dBlock                Conv3d-21                             [8, 128, 8, 25, 25]         294,912         294,912\n",
      "    SBERTDisruptionClassifier/VideoSpatioEncoder/Conv3dResBlock/Conv3dBlock           BatchNorm3d-22                             [8, 256, 8, 13, 13]             512             512\n",
      "    SBERTDisruptionClassifier/VideoSpatioEncoder/Conv3dResBlock/Conv3dBlock             LeakyReLU-23                             [8, 256, 8, 13, 13]               0               0\n",
      "                SBERTDisruptionClassifier/VideoSpatioEncoder/Conv3dResBlock                Conv3d-24                             [8, 256, 8, 13, 13]         589,824         589,824\n",
      "                SBERTDisruptionClassifier/VideoSpatioEncoder/Conv3dResBlock           BatchNorm3d-25                             [8, 256, 8, 13, 13]             512             512\n",
      "    SBERTDisruptionClassifier/VideoSpatioEncoder/Conv3dResBlock/Conv3dBlock                Conv3d-26                             [8, 128, 8, 25, 25]         294,912         294,912\n",
      "    SBERTDisruptionClassifier/VideoSpatioEncoder/Conv3dResBlock/Conv3dBlock           BatchNorm3d-27                             [8, 256, 8, 13, 13]             512             512\n",
      "    SBERTDisruptionClassifier/VideoSpatioEncoder/Conv3dResBlock/Conv3dBlock             LeakyReLU-28                             [8, 256, 8, 13, 13]               0               0\n",
      "                SBERTDisruptionClassifier/VideoSpatioEncoder/Conv3dResBlock             LeakyReLU-29                             [8, 256, 8, 13, 13]               0               0\n",
      "                               SBERTDisruptionClassifier/VideoSpatioEncoder             MaxPool3d-30                             [8, 256, 8, 13, 13]               0               0\n",
      "    SBERTDisruptionClassifier/VideoSpatioEncoder/Conv3dResBlock/Conv3dBlock                Conv3d-31                             [8, 256, 8, 11, 11]       1,179,648       1,179,648\n",
      "    SBERTDisruptionClassifier/VideoSpatioEncoder/Conv3dResBlock/Conv3dBlock           BatchNorm3d-32                               [8, 512, 8, 6, 6]           1,024           1,024\n",
      "    SBERTDisruptionClassifier/VideoSpatioEncoder/Conv3dResBlock/Conv3dBlock             LeakyReLU-33                               [8, 512, 8, 6, 6]               0               0\n",
      "                SBERTDisruptionClassifier/VideoSpatioEncoder/Conv3dResBlock                Conv3d-34                               [8, 512, 8, 6, 6]       2,359,296       2,359,296\n",
      "                SBERTDisruptionClassifier/VideoSpatioEncoder/Conv3dResBlock           BatchNorm3d-35                               [8, 512, 8, 6, 6]           1,024           1,024\n",
      "    SBERTDisruptionClassifier/VideoSpatioEncoder/Conv3dResBlock/Conv3dBlock                Conv3d-36                             [8, 256, 8, 11, 11]       1,179,648       1,179,648\n",
      "    SBERTDisruptionClassifier/VideoSpatioEncoder/Conv3dResBlock/Conv3dBlock           BatchNorm3d-37                               [8, 512, 8, 6, 6]           1,024           1,024\n",
      "    SBERTDisruptionClassifier/VideoSpatioEncoder/Conv3dResBlock/Conv3dBlock             LeakyReLU-38                               [8, 512, 8, 6, 6]               0               0\n",
      "                SBERTDisruptionClassifier/VideoSpatioEncoder/Conv3dResBlock             LeakyReLU-39                               [8, 512, 8, 6, 6]               0               0\n",
      "                              SBERTDisruptionClassifier/SBERT/BertEmbedding                Linear-40                                   [8, 8, 18432]       1,179,712       1,179,712\n",
      "                              SBERTDisruptionClassifier/SBERT/BertEmbedding    PositionalEncoding-41                                             [8]               0               0\n",
      "                              SBERTDisruptionClassifier/SBERT/BertEmbedding               Dropout-42                                     [8, 8, 128]               0               0\n",
      "        SBERTDisruptionClassifier/SBERT/TransformerBlock/SubLayerConnection             LayerNorm-43                                     [8, 8, 128]             256             256\n",
      "        SBERTDisruptionClassifier/SBERT/TransformerBlock/MultiHeadAttention                Linear-44                                     [8, 8, 128]          16,512          16,512\n",
      "        SBERTDisruptionClassifier/SBERT/TransformerBlock/MultiHeadAttention                Linear-45                                     [8, 8, 128]          16,512          16,512\n",
      "        SBERTDisruptionClassifier/SBERT/TransformerBlock/MultiHeadAttention                Linear-46                                     [8, 8, 128]          16,512          16,512\n",
      "        SBERTDisruptionClassifier/SBERT/TransformerBlock/MultiHeadAttention             Attention-47     [8, 8, 8, 16], [8, 8, 8, 16], [8, 8, 8, 16]               0               0\n",
      "        SBERTDisruptionClassifier/SBERT/TransformerBlock/MultiHeadAttention               Dropout-48                                    [8, 8, 8, 8]               0               0\n",
      "        SBERTDisruptionClassifier/SBERT/TransformerBlock/MultiHeadAttention                Linear-49                                     [8, 8, 128]          16,512          16,512\n",
      "        SBERTDisruptionClassifier/SBERT/TransformerBlock/SubLayerConnection               Dropout-50                                     [8, 8, 128]               0               0\n",
      "        SBERTDisruptionClassifier/SBERT/TransformerBlock/SubLayerConnection             LayerNorm-51                                     [8, 8, 128]             256             256\n",
      "   SBERTDisruptionClassifier/SBERT/TransformerBlock/PositionWiseFeedForward                Linear-52                                     [8, 8, 128]          66,048          66,048\n",
      "   SBERTDisruptionClassifier/SBERT/TransformerBlock/PositionWiseFeedForward                  GELU-53                                     [8, 8, 512]               0               0\n",
      "   SBERTDisruptionClassifier/SBERT/TransformerBlock/PositionWiseFeedForward               Dropout-54                                     [8, 8, 512]               0               0\n",
      "   SBERTDisruptionClassifier/SBERT/TransformerBlock/PositionWiseFeedForward                Linear-55                                     [8, 8, 512]          65,664          65,664\n",
      "        SBERTDisruptionClassifier/SBERT/TransformerBlock/SubLayerConnection               Dropout-56                                     [8, 8, 128]               0               0\n",
      "                           SBERTDisruptionClassifier/SBERT/TransformerBlock               Dropout-57                                     [8, 8, 128]               0               0\n",
      "        SBERTDisruptionClassifier/SBERT/TransformerBlock/SubLayerConnection             LayerNorm-58                                     [8, 8, 128]             256             256\n",
      "        SBERTDisruptionClassifier/SBERT/TransformerBlock/MultiHeadAttention                Linear-59                                     [8, 8, 128]          16,512          16,512\n",
      "        SBERTDisruptionClassifier/SBERT/TransformerBlock/MultiHeadAttention                Linear-60                                     [8, 8, 128]          16,512          16,512\n",
      "        SBERTDisruptionClassifier/SBERT/TransformerBlock/MultiHeadAttention                Linear-61                                     [8, 8, 128]          16,512          16,512\n",
      "        SBERTDisruptionClassifier/SBERT/TransformerBlock/MultiHeadAttention             Attention-62     [8, 8, 8, 16], [8, 8, 8, 16], [8, 8, 8, 16]               0               0\n",
      "        SBERTDisruptionClassifier/SBERT/TransformerBlock/MultiHeadAttention               Dropout-63                                    [8, 8, 8, 8]               0               0\n",
      "        SBERTDisruptionClassifier/SBERT/TransformerBlock/MultiHeadAttention                Linear-64                                     [8, 8, 128]          16,512          16,512\n",
      "        SBERTDisruptionClassifier/SBERT/TransformerBlock/SubLayerConnection               Dropout-65                                     [8, 8, 128]               0               0\n",
      "        SBERTDisruptionClassifier/SBERT/TransformerBlock/SubLayerConnection             LayerNorm-66                                     [8, 8, 128]             256             256\n",
      "   SBERTDisruptionClassifier/SBERT/TransformerBlock/PositionWiseFeedForward                Linear-67                                     [8, 8, 128]          66,048          66,048\n",
      "   SBERTDisruptionClassifier/SBERT/TransformerBlock/PositionWiseFeedForward                  GELU-68                                     [8, 8, 512]               0               0\n",
      "   SBERTDisruptionClassifier/SBERT/TransformerBlock/PositionWiseFeedForward               Dropout-69                                     [8, 8, 512]               0               0\n",
      "   SBERTDisruptionClassifier/SBERT/TransformerBlock/PositionWiseFeedForward                Linear-70                                     [8, 8, 512]          65,664          65,664\n",
      "        SBERTDisruptionClassifier/SBERT/TransformerBlock/SubLayerConnection               Dropout-71                                     [8, 8, 128]               0               0\n",
      "                           SBERTDisruptionClassifier/SBERT/TransformerBlock               Dropout-72                                     [8, 8, 128]               0               0\n",
      "        SBERTDisruptionClassifier/SBERT/TransformerBlock/SubLayerConnection             LayerNorm-73                                     [8, 8, 128]             256             256\n",
      "        SBERTDisruptionClassifier/SBERT/TransformerBlock/MultiHeadAttention                Linear-74                                     [8, 8, 128]          16,512          16,512\n",
      "        SBERTDisruptionClassifier/SBERT/TransformerBlock/MultiHeadAttention                Linear-75                                     [8, 8, 128]          16,512          16,512\n",
      "        SBERTDisruptionClassifier/SBERT/TransformerBlock/MultiHeadAttention                Linear-76                                     [8, 8, 128]          16,512          16,512\n",
      "        SBERTDisruptionClassifier/SBERT/TransformerBlock/MultiHeadAttention             Attention-77     [8, 8, 8, 16], [8, 8, 8, 16], [8, 8, 8, 16]               0               0\n",
      "        SBERTDisruptionClassifier/SBERT/TransformerBlock/MultiHeadAttention               Dropout-78                                    [8, 8, 8, 8]               0               0\n",
      "        SBERTDisruptionClassifier/SBERT/TransformerBlock/MultiHeadAttention                Linear-79                                     [8, 8, 128]          16,512          16,512\n",
      "        SBERTDisruptionClassifier/SBERT/TransformerBlock/SubLayerConnection               Dropout-80                                     [8, 8, 128]               0               0\n",
      "        SBERTDisruptionClassifier/SBERT/TransformerBlock/SubLayerConnection             LayerNorm-81                                     [8, 8, 128]             256             256\n",
      "   SBERTDisruptionClassifier/SBERT/TransformerBlock/PositionWiseFeedForward                Linear-82                                     [8, 8, 128]          66,048          66,048\n",
      "   SBERTDisruptionClassifier/SBERT/TransformerBlock/PositionWiseFeedForward                  GELU-83                                     [8, 8, 512]               0               0\n",
      "   SBERTDisruptionClassifier/SBERT/TransformerBlock/PositionWiseFeedForward               Dropout-84                                     [8, 8, 512]               0               0\n",
      "   SBERTDisruptionClassifier/SBERT/TransformerBlock/PositionWiseFeedForward                Linear-85                                     [8, 8, 512]          65,664          65,664\n",
      "        SBERTDisruptionClassifier/SBERT/TransformerBlock/SubLayerConnection               Dropout-86                                     [8, 8, 128]               0               0\n",
      "                           SBERTDisruptionClassifier/SBERT/TransformerBlock               Dropout-87                                     [8, 8, 128]               0               0\n",
      "        SBERTDisruptionClassifier/SBERT/TransformerBlock/SubLayerConnection             LayerNorm-88                                     [8, 8, 128]             256             256\n",
      "        SBERTDisruptionClassifier/SBERT/TransformerBlock/MultiHeadAttention                Linear-89                                     [8, 8, 128]          16,512          16,512\n",
      "        SBERTDisruptionClassifier/SBERT/TransformerBlock/MultiHeadAttention                Linear-90                                     [8, 8, 128]          16,512          16,512\n",
      "        SBERTDisruptionClassifier/SBERT/TransformerBlock/MultiHeadAttention                Linear-91                                     [8, 8, 128]          16,512          16,512\n",
      "        SBERTDisruptionClassifier/SBERT/TransformerBlock/MultiHeadAttention             Attention-92     [8, 8, 8, 16], [8, 8, 8, 16], [8, 8, 8, 16]               0               0\n",
      "        SBERTDisruptionClassifier/SBERT/TransformerBlock/MultiHeadAttention               Dropout-93                                    [8, 8, 8, 8]               0               0\n",
      "        SBERTDisruptionClassifier/SBERT/TransformerBlock/MultiHeadAttention                Linear-94                                     [8, 8, 128]          16,512          16,512\n",
      "        SBERTDisruptionClassifier/SBERT/TransformerBlock/SubLayerConnection               Dropout-95                                     [8, 8, 128]               0               0\n",
      "        SBERTDisruptionClassifier/SBERT/TransformerBlock/SubLayerConnection             LayerNorm-96                                     [8, 8, 128]             256             256\n",
      "   SBERTDisruptionClassifier/SBERT/TransformerBlock/PositionWiseFeedForward                Linear-97                                     [8, 8, 128]          66,048          66,048\n",
      "   SBERTDisruptionClassifier/SBERT/TransformerBlock/PositionWiseFeedForward                  GELU-98                                     [8, 8, 512]               0               0\n",
      "   SBERTDisruptionClassifier/SBERT/TransformerBlock/PositionWiseFeedForward               Dropout-99                                     [8, 8, 512]               0               0\n",
      "   SBERTDisruptionClassifier/SBERT/TransformerBlock/PositionWiseFeedForward               Linear-100                                     [8, 8, 512]          65,664          65,664\n",
      "        SBERTDisruptionClassifier/SBERT/TransformerBlock/SubLayerConnection              Dropout-101                                     [8, 8, 128]               0               0\n",
      "                           SBERTDisruptionClassifier/SBERT/TransformerBlock              Dropout-102                                     [8, 8, 128]               0               0\n",
      "                             SBERTDisruptionClassifier/MulticlassClassifier            MaxPool1d-103                                     [8, 128, 8]               0               0\n",
      "                             SBERTDisruptionClassifier/MulticlassClassifier               Linear-104                                        [8, 128]          16,512          16,512\n",
      "                             SBERTDisruptionClassifier/MulticlassClassifier          BatchNorm1d-105                                        [8, 128]             256             256\n",
      "                             SBERTDisruptionClassifier/MulticlassClassifier            LeakyReLU-106                                        [8, 128]               0               0\n",
      "                             SBERTDisruptionClassifier/MulticlassClassifier               Linear-107                                        [8, 128]             258             258\n",
      "====================================================================================================================================================================================\n",
      "Total params: 8,229,058\n",
      "Trainable params: 8,229,058\n",
      "Non-trainable params: 0\n",
      "------------------------------------------------------------------------------------------------------------------------------------------------------------------------------------\n"
     ]
    }
   ],
   "source": [
    "sbert_model.summary()"
   ]
  },
  {
   "cell_type": "code",
   "execution_count": 20,
   "metadata": {},
   "outputs": [
    {
     "ename": "AttributeError",
     "evalue": "type object 'Bottleneck3D' has no attribute 'expansion'",
     "output_type": "error",
     "traceback": [
      "\u001b[0;31m---------------------------------------------------------------------------\u001b[0m",
      "\u001b[0;31mAttributeError\u001b[0m                            Traceback (most recent call last)",
      "\u001b[1;32m/home/zinzinbin/codes_for_study/fusion-plasma/research-predict-disruption/test.ipynb Cell 22'\u001b[0m in \u001b[0;36m<cell line: 3>\u001b[0;34m()\u001b[0m\n\u001b[1;32m      <a href='vscode-notebook-cell://ssh-remote%2Bdiya/home/zinzinbin/codes_for_study/fusion-plasma/research-predict-disruption/test.ipynb#ch0000021vscode-remote?line=0'>1</a>\u001b[0m \u001b[39mfrom\u001b[39;00m \u001b[39msrc\u001b[39;00m\u001b[39m.\u001b[39;00m\u001b[39mmodel\u001b[39;00m \u001b[39mimport\u001b[39;00m VideoSpatialEncoder\n\u001b[0;32m----> <a href='vscode-notebook-cell://ssh-remote%2Bdiya/home/zinzinbin/codes_for_study/fusion-plasma/research-predict-disruption/test.ipynb#ch0000021vscode-remote?line=2'>3</a>\u001b[0m encoder \u001b[39m=\u001b[39m VideoSpatialEncoder(\n\u001b[1;32m      <a href='vscode-notebook-cell://ssh-remote%2Bdiya/home/zinzinbin/codes_for_study/fusion-plasma/research-predict-disruption/test.ipynb#ch0000021vscode-remote?line=3'>4</a>\u001b[0m     input_shape \u001b[39m=\u001b[39;49m (\u001b[39m3\u001b[39;49m, \u001b[39m10\u001b[39;49m, \u001b[39m112\u001b[39;49m, \u001b[39m112\u001b[39;49m),\n\u001b[1;32m      <a href='vscode-notebook-cell://ssh-remote%2Bdiya/home/zinzinbin/codes_for_study/fusion-plasma/research-predict-disruption/test.ipynb#ch0000021vscode-remote?line=4'>5</a>\u001b[0m )\n",
      "File \u001b[0;32m~/codes_for_study/fusion-plasma/research-predict-disruption/src/model.py:207\u001b[0m, in \u001b[0;36mVideoSpatialEncoder.__init__\u001b[0;34m(self, input_shape, args_slownet, args_fastnet, p)\u001b[0m\n\u001b[1;32m    <a href='file:///home/zinzinbin/codes_for_study/fusion-plasma/research-predict-disruption/src/model.py?line=204'>205</a>\u001b[0m     \u001b[39mself\u001b[39m\u001b[39m.\u001b[39mslownet \u001b[39m=\u001b[39m resnet50_s(\u001b[39m*\u001b[39m\u001b[39m*\u001b[39margs_slownet)\n\u001b[1;32m    <a href='file:///home/zinzinbin/codes_for_study/fusion-plasma/research-predict-disruption/src/model.py?line=205'>206</a>\u001b[0m \u001b[39melse\u001b[39;00m:\n\u001b[0;32m--> <a href='file:///home/zinzinbin/codes_for_study/fusion-plasma/research-predict-disruption/src/model.py?line=206'>207</a>\u001b[0m     \u001b[39mself\u001b[39m\u001b[39m.\u001b[39mslownet \u001b[39m=\u001b[39m resnet50_s(\n\u001b[1;32m    <a href='file:///home/zinzinbin/codes_for_study/fusion-plasma/research-predict-disruption/src/model.py?line=207'>208</a>\u001b[0m         in_channels \u001b[39m=\u001b[39;49m \u001b[39m3\u001b[39;49m,\n\u001b[1;32m    <a href='file:///home/zinzinbin/codes_for_study/fusion-plasma/research-predict-disruption/src/model.py?line=208'>209</a>\u001b[0m         num_classes \u001b[39m=\u001b[39;49m \u001b[39m2\u001b[39;49m,\n\u001b[1;32m    <a href='file:///home/zinzinbin/codes_for_study/fusion-plasma/research-predict-disruption/src/model.py?line=209'>210</a>\u001b[0m         alpha \u001b[39m=\u001b[39;49m \u001b[39m4\u001b[39;49m,\n\u001b[1;32m    <a href='file:///home/zinzinbin/codes_for_study/fusion-plasma/research-predict-disruption/src/model.py?line=210'>211</a>\u001b[0m         slow \u001b[39m=\u001b[39;49m \u001b[39m1\u001b[39;49m,\n\u001b[1;32m    <a href='file:///home/zinzinbin/codes_for_study/fusion-plasma/research-predict-disruption/src/model.py?line=211'>212</a>\u001b[0m         t2s_mul \u001b[39m=\u001b[39;49m \u001b[39m2\u001b[39;49m\n\u001b[1;32m    <a href='file:///home/zinzinbin/codes_for_study/fusion-plasma/research-predict-disruption/src/model.py?line=212'>213</a>\u001b[0m     )\n\u001b[1;32m    <a href='file:///home/zinzinbin/codes_for_study/fusion-plasma/research-predict-disruption/src/model.py?line=214'>215</a>\u001b[0m \u001b[39mif\u001b[39;00m args_fastnet \u001b[39mis\u001b[39;00m \u001b[39mnot\u001b[39;00m \u001b[39mNone\u001b[39;00m:\n\u001b[1;32m    <a href='file:///home/zinzinbin/codes_for_study/fusion-plasma/research-predict-disruption/src/model.py?line=215'>216</a>\u001b[0m     \u001b[39mself\u001b[39m\u001b[39m.\u001b[39mfastnet \u001b[39m=\u001b[39m resnet50_f(\u001b[39m*\u001b[39m\u001b[39m*\u001b[39margs_fastnet)\n",
      "File \u001b[0;32m~/codes_for_study/fusion-plasma/research-predict-disruption/src/slowfast.py:38\u001b[0m, in \u001b[0;36mresnet50_s\u001b[0;34m(**kwargs)\u001b[0m\n\u001b[1;32m     <a href='file:///home/zinzinbin/codes_for_study/fusion-plasma/research-predict-disruption/src/slowfast.py?line=36'>37</a>\u001b[0m \u001b[39mdef\u001b[39;00m \u001b[39mresnet50_s\u001b[39m(\u001b[39m*\u001b[39m\u001b[39m*\u001b[39mkwargs):\n\u001b[0;32m---> <a href='file:///home/zinzinbin/codes_for_study/fusion-plasma/research-predict-disruption/src/slowfast.py?line=37'>38</a>\u001b[0m     model \u001b[39m=\u001b[39m SlowNet(Bottleneck3D, [\u001b[39m3\u001b[39;49m,\u001b[39m4\u001b[39;49m,\u001b[39m6\u001b[39;49m,\u001b[39m3\u001b[39;49m], \u001b[39m*\u001b[39;49m\u001b[39m*\u001b[39;49mkwargs)\n\u001b[1;32m     <a href='file:///home/zinzinbin/codes_for_study/fusion-plasma/research-predict-disruption/src/slowfast.py?line=38'>39</a>\u001b[0m     \u001b[39mreturn\u001b[39;00m model\n",
      "File \u001b[0;32m~/codes_for_study/fusion-plasma/research-predict-disruption/src/slowfast.py:14\u001b[0m, in \u001b[0;36mSlowNet.__init__\u001b[0;34m(self, blocks, layers, **kwargs)\u001b[0m\n\u001b[1;32m     <a href='file:///home/zinzinbin/codes_for_study/fusion-plasma/research-predict-disruption/src/slowfast.py?line=12'>13</a>\u001b[0m \u001b[39mdef\u001b[39;00m \u001b[39m__init__\u001b[39m(\u001b[39mself\u001b[39m, blocks, layers, \u001b[39m*\u001b[39m\u001b[39m*\u001b[39mkwargs):\n\u001b[0;32m---> <a href='file:///home/zinzinbin/codes_for_study/fusion-plasma/research-predict-disruption/src/slowfast.py?line=13'>14</a>\u001b[0m     \u001b[39msuper\u001b[39;49m(SlowNet, \u001b[39mself\u001b[39;49m)\u001b[39m.\u001b[39;49m\u001b[39m__init__\u001b[39;49m(blocks, layers, \u001b[39m*\u001b[39;49m\u001b[39m*\u001b[39;49mkwargs)\n\u001b[1;32m     <a href='file:///home/zinzinbin/codes_for_study/fusion-plasma/research-predict-disruption/src/slowfast.py?line=14'>15</a>\u001b[0m     \u001b[39mself\u001b[39m\u001b[39m.\u001b[39minit_params()\n",
      "File \u001b[0;32m~/codes_for_study/fusion-plasma/research-predict-disruption/src/resnet.py:105\u001b[0m, in \u001b[0;36mResNet3D.__init__\u001b[0;34m(self, block, layers, **kwargs)\u001b[0m\n\u001b[1;32m    <a href='file:///home/zinzinbin/codes_for_study/fusion-plasma/research-predict-disruption/src/resnet.py?line=102'>103</a>\u001b[0m \u001b[39mself\u001b[39m\u001b[39m.\u001b[39mrelu \u001b[39m=\u001b[39m nn\u001b[39m.\u001b[39mReLU(inplace\u001b[39m=\u001b[39m\u001b[39mTrue\u001b[39;00m)\n\u001b[1;32m    <a href='file:///home/zinzinbin/codes_for_study/fusion-plasma/research-predict-disruption/src/resnet.py?line=103'>104</a>\u001b[0m \u001b[39mself\u001b[39m\u001b[39m.\u001b[39mmaxpool \u001b[39m=\u001b[39m nn\u001b[39m.\u001b[39mMaxPool3d(kernel_size\u001b[39m=\u001b[39m(\u001b[39m1\u001b[39m, \u001b[39m3\u001b[39m, \u001b[39m3\u001b[39m), stride\u001b[39m=\u001b[39m(\u001b[39m1\u001b[39m, \u001b[39m2\u001b[39m, \u001b[39m2\u001b[39m), padding\u001b[39m=\u001b[39m(\u001b[39m0\u001b[39m, \u001b[39m1\u001b[39m, \u001b[39m1\u001b[39m))\n\u001b[0;32m--> <a href='file:///home/zinzinbin/codes_for_study/fusion-plasma/research-predict-disruption/src/resnet.py?line=104'>105</a>\u001b[0m \u001b[39mself\u001b[39m\u001b[39m.\u001b[39mlayer1 \u001b[39m=\u001b[39m \u001b[39mself\u001b[39;49m\u001b[39m.\u001b[39;49m_make_layer(block, \u001b[39m64\u001b[39;49m\u001b[39m/\u001b[39;49m\u001b[39m/\u001b[39;49m(\u001b[39m1\u001b[39;49m \u001b[39mif\u001b[39;49;00m \u001b[39mself\u001b[39;49m\u001b[39m.\u001b[39;49mslow \u001b[39melse\u001b[39;49;00m \u001b[39mself\u001b[39;49m\u001b[39m.\u001b[39;49malpha), layers[\u001b[39m0\u001b[39;49m],\n\u001b[1;32m    <a href='file:///home/zinzinbin/codes_for_study/fusion-plasma/research-predict-disruption/src/resnet.py?line=105'>106</a>\u001b[0m                                head_conv\u001b[39m=\u001b[39;49m\u001b[39m1\u001b[39;49m \u001b[39mif\u001b[39;49;00m \u001b[39mself\u001b[39;49m\u001b[39m.\u001b[39;49mslow \u001b[39melse\u001b[39;49;00m \u001b[39m3\u001b[39;49m)\n\u001b[1;32m    <a href='file:///home/zinzinbin/codes_for_study/fusion-plasma/research-predict-disruption/src/resnet.py?line=106'>107</a>\u001b[0m \u001b[39mself\u001b[39m\u001b[39m.\u001b[39mlayer2 \u001b[39m=\u001b[39m \u001b[39mself\u001b[39m\u001b[39m.\u001b[39m_make_layer(block, \u001b[39m128\u001b[39m\u001b[39m/\u001b[39m\u001b[39m/\u001b[39m(\u001b[39m1\u001b[39m \u001b[39mif\u001b[39;00m \u001b[39mself\u001b[39m\u001b[39m.\u001b[39mslow \u001b[39melse\u001b[39;00m \u001b[39mself\u001b[39m\u001b[39m.\u001b[39malpha), layers[\u001b[39m1\u001b[39m], stride\u001b[39m=\u001b[39m\u001b[39m2\u001b[39m,\n\u001b[1;32m    <a href='file:///home/zinzinbin/codes_for_study/fusion-plasma/research-predict-disruption/src/resnet.py?line=107'>108</a>\u001b[0m                                head_conv\u001b[39m=\u001b[39m\u001b[39m1\u001b[39m \u001b[39mif\u001b[39;00m \u001b[39mself\u001b[39m\u001b[39m.\u001b[39mslow \u001b[39melse\u001b[39;00m \u001b[39m3\u001b[39m)\n\u001b[1;32m    <a href='file:///home/zinzinbin/codes_for_study/fusion-plasma/research-predict-disruption/src/resnet.py?line=108'>109</a>\u001b[0m \u001b[39mself\u001b[39m\u001b[39m.\u001b[39mlayer3 \u001b[39m=\u001b[39m \u001b[39mself\u001b[39m\u001b[39m.\u001b[39m_make_layer(block, \u001b[39m256\u001b[39m\u001b[39m/\u001b[39m\u001b[39m/\u001b[39m(\u001b[39m1\u001b[39m \u001b[39mif\u001b[39;00m \u001b[39mself\u001b[39m\u001b[39m.\u001b[39mslow \u001b[39melse\u001b[39;00m \u001b[39mself\u001b[39m\u001b[39m.\u001b[39malpha), layers[\u001b[39m2\u001b[39m], stride\u001b[39m=\u001b[39m\u001b[39m2\u001b[39m,\n\u001b[1;32m    <a href='file:///home/zinzinbin/codes_for_study/fusion-plasma/research-predict-disruption/src/resnet.py?line=109'>110</a>\u001b[0m                                head_conv\u001b[39m=\u001b[39m\u001b[39m3\u001b[39m)\n",
      "File \u001b[0;32m~/codes_for_study/fusion-plasma/research-predict-disruption/src/resnet.py:135\u001b[0m, in \u001b[0;36mResNet3D._make_layer\u001b[0;34m(self, block, planes, blocks, stride, head_conv)\u001b[0m\n\u001b[1;32m    <a href='file:///home/zinzinbin/codes_for_study/fusion-plasma/research-predict-disruption/src/resnet.py?line=132'>133</a>\u001b[0m \u001b[39mdef\u001b[39;00m \u001b[39m_make_layer\u001b[39m(\u001b[39mself\u001b[39m, block, planes, blocks, stride\u001b[39m=\u001b[39m\u001b[39m1\u001b[39m, head_conv\u001b[39m=\u001b[39m\u001b[39m1\u001b[39m):\n\u001b[1;32m    <a href='file:///home/zinzinbin/codes_for_study/fusion-plasma/research-predict-disruption/src/resnet.py?line=133'>134</a>\u001b[0m     downsample \u001b[39m=\u001b[39m \u001b[39mNone\u001b[39;00m\n\u001b[0;32m--> <a href='file:///home/zinzinbin/codes_for_study/fusion-plasma/research-predict-disruption/src/resnet.py?line=134'>135</a>\u001b[0m     \u001b[39mif\u001b[39;00m stride \u001b[39m!=\u001b[39m \u001b[39m1\u001b[39m \u001b[39mor\u001b[39;00m \u001b[39mself\u001b[39m\u001b[39m.\u001b[39minplanes \u001b[39m!=\u001b[39m planes \u001b[39m*\u001b[39m block\u001b[39m.\u001b[39;49mexpansion:\n\u001b[1;32m    <a href='file:///home/zinzinbin/codes_for_study/fusion-plasma/research-predict-disruption/src/resnet.py?line=135'>136</a>\u001b[0m         downsample \u001b[39m=\u001b[39m nn\u001b[39m.\u001b[39mSequential(\n\u001b[1;32m    <a href='file:///home/zinzinbin/codes_for_study/fusion-plasma/research-predict-disruption/src/resnet.py?line=136'>137</a>\u001b[0m             nn\u001b[39m.\u001b[39mConv3d(\n\u001b[1;32m    <a href='file:///home/zinzinbin/codes_for_study/fusion-plasma/research-predict-disruption/src/resnet.py?line=137'>138</a>\u001b[0m                 \u001b[39mself\u001b[39m\u001b[39m.\u001b[39minplanes,\n\u001b[0;32m   (...)\u001b[0m\n\u001b[1;32m    <a href='file:///home/zinzinbin/codes_for_study/fusion-plasma/research-predict-disruption/src/resnet.py?line=140'>141</a>\u001b[0m                 stride\u001b[39m=\u001b[39m(\u001b[39m1\u001b[39m, stride, stride),\n\u001b[1;32m    <a href='file:///home/zinzinbin/codes_for_study/fusion-plasma/research-predict-disruption/src/resnet.py?line=141'>142</a>\u001b[0m                 bias\u001b[39m=\u001b[39m\u001b[39mFalse\u001b[39;00m), nn\u001b[39m.\u001b[39mBatchNorm3d(planes \u001b[39m*\u001b[39m block\u001b[39m.\u001b[39mexpansion))\n\u001b[1;32m    <a href='file:///home/zinzinbin/codes_for_study/fusion-plasma/research-predict-disruption/src/resnet.py?line=143'>144</a>\u001b[0m     layers \u001b[39m=\u001b[39m \u001b[39mlist\u001b[39m()\n",
      "\u001b[0;31mAttributeError\u001b[0m: type object 'Bottleneck3D' has no attribute 'expansion'"
     ]
    }
   ],
   "source": [
    "from src.model import VideoSpatialEncoder\n",
    "\n",
    "encoder = VideoSpatialEncoder(\n",
    "    input_shape = (3, 10, 112, 112),\n",
    ")"
   ]
  },
  {
   "cell_type": "code",
   "execution_count": null,
   "metadata": {},
   "outputs": [],
   "source": []
  }
 ],
 "metadata": {
  "interpreter": {
   "hash": "b7bc8097f24747f72629445db54bed151603a8d63744e142002cb75630cca553"
  },
  "kernelspec": {
   "display_name": "Python 3.9.7 ('research-env': conda)",
   "language": "python",
   "name": "python3"
  },
  "language_info": {
   "codemirror_mode": {
    "name": "ipython",
    "version": 3
   },
   "file_extension": ".py",
   "mimetype": "text/x-python",
   "name": "python",
   "nbconvert_exporter": "python",
   "pygments_lexer": "ipython3",
   "version": "3.9.7"
  },
  "orig_nbformat": 4
 },
 "nbformat": 4,
 "nbformat_minor": 2
}
